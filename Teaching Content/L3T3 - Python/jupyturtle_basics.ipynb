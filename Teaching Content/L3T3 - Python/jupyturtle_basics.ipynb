{
 "cells": [
  {
   "cell_type": "code",
   "execution_count": 17,
   "id": "7d9e7a0c",
   "metadata": {},
   "outputs": [
    {
     "name": "stdout",
     "output_type": "stream",
     "text": [
      "Requirement already satisfied: jupyturtle in ./.venv/lib/python3.13/site-packages (2024.4.1)\n",
      "Requirement already satisfied: ipython>=8 in ./.venv/lib/python3.13/site-packages (from jupyturtle) (9.5.0)\n",
      "Requirement already satisfied: jupyter in ./.venv/lib/python3.13/site-packages (from jupyturtle) (1.1.1)\n",
      "Requirement already satisfied: pytest in ./.venv/lib/python3.13/site-packages (from jupyturtle) (8.4.2)\n",
      "Requirement already satisfied: decorator in ./.venv/lib/python3.13/site-packages (from ipython>=8->jupyturtle) (5.2.1)\n",
      "Requirement already satisfied: ipython-pygments-lexers in ./.venv/lib/python3.13/site-packages (from ipython>=8->jupyturtle) (1.1.1)\n",
      "Requirement already satisfied: jedi>=0.16 in ./.venv/lib/python3.13/site-packages (from ipython>=8->jupyturtle) (0.19.2)\n",
      "Requirement already satisfied: matplotlib-inline in ./.venv/lib/python3.13/site-packages (from ipython>=8->jupyturtle) (0.1.7)\n",
      "Requirement already satisfied: pexpect>4.3 in ./.venv/lib/python3.13/site-packages (from ipython>=8->jupyturtle) (4.9.0)\n",
      "Requirement already satisfied: prompt_toolkit<3.1.0,>=3.0.41 in ./.venv/lib/python3.13/site-packages (from ipython>=8->jupyturtle) (3.0.52)\n",
      "Requirement already satisfied: pygments>=2.4.0 in ./.venv/lib/python3.13/site-packages (from ipython>=8->jupyturtle) (2.19.2)\n",
      "Requirement already satisfied: stack_data in ./.venv/lib/python3.13/site-packages (from ipython>=8->jupyturtle) (0.6.3)\n",
      "Requirement already satisfied: traitlets>=5.13.0 in ./.venv/lib/python3.13/site-packages (from ipython>=8->jupyturtle) (5.14.3)\n",
      "Requirement already satisfied: wcwidth in ./.venv/lib/python3.13/site-packages (from prompt_toolkit<3.1.0,>=3.0.41->ipython>=8->jupyturtle) (0.2.13)\n",
      "Requirement already satisfied: parso<0.9.0,>=0.8.4 in ./.venv/lib/python3.13/site-packages (from jedi>=0.16->ipython>=8->jupyturtle) (0.8.5)\n",
      "Requirement already satisfied: ptyprocess>=0.5 in ./.venv/lib/python3.13/site-packages (from pexpect>4.3->ipython>=8->jupyturtle) (0.7.0)\n",
      "Requirement already satisfied: notebook in ./.venv/lib/python3.13/site-packages (from jupyter->jupyturtle) (7.4.5)\n",
      "Requirement already satisfied: jupyter-console in ./.venv/lib/python3.13/site-packages (from jupyter->jupyturtle) (6.6.3)\n",
      "Requirement already satisfied: nbconvert in ./.venv/lib/python3.13/site-packages (from jupyter->jupyturtle) (7.16.6)\n",
      "Requirement already satisfied: ipykernel in ./.venv/lib/python3.13/site-packages (from jupyter->jupyturtle) (6.30.1)\n",
      "Requirement already satisfied: ipywidgets in ./.venv/lib/python3.13/site-packages (from jupyter->jupyturtle) (8.1.7)\n",
      "Requirement already satisfied: jupyterlab in ./.venv/lib/python3.13/site-packages (from jupyter->jupyturtle) (4.4.7)\n",
      "Requirement already satisfied: appnope>=0.1.2 in ./.venv/lib/python3.13/site-packages (from ipykernel->jupyter->jupyturtle) (0.1.4)\n",
      "Requirement already satisfied: comm>=0.1.1 in ./.venv/lib/python3.13/site-packages (from ipykernel->jupyter->jupyturtle) (0.2.3)\n",
      "Requirement already satisfied: debugpy>=1.6.5 in ./.venv/lib/python3.13/site-packages (from ipykernel->jupyter->jupyturtle) (1.8.16)\n",
      "Requirement already satisfied: jupyter-client>=8.0.0 in ./.venv/lib/python3.13/site-packages (from ipykernel->jupyter->jupyturtle) (8.6.3)\n",
      "Requirement already satisfied: jupyter-core!=5.0.*,>=4.12 in ./.venv/lib/python3.13/site-packages (from ipykernel->jupyter->jupyturtle) (5.8.1)\n",
      "Requirement already satisfied: nest-asyncio>=1.4 in ./.venv/lib/python3.13/site-packages (from ipykernel->jupyter->jupyturtle) (1.6.0)\n",
      "Requirement already satisfied: packaging>=22 in ./.venv/lib/python3.13/site-packages (from ipykernel->jupyter->jupyturtle) (25.0)\n",
      "Requirement already satisfied: psutil>=5.7 in ./.venv/lib/python3.13/site-packages (from ipykernel->jupyter->jupyturtle) (7.0.0)\n",
      "Requirement already satisfied: pyzmq>=25 in ./.venv/lib/python3.13/site-packages (from ipykernel->jupyter->jupyturtle) (27.1.0)\n",
      "Requirement already satisfied: tornado>=6.2 in ./.venv/lib/python3.13/site-packages (from ipykernel->jupyter->jupyturtle) (6.5.2)\n",
      "Requirement already satisfied: python-dateutil>=2.8.2 in ./.venv/lib/python3.13/site-packages (from jupyter-client>=8.0.0->ipykernel->jupyter->jupyturtle) (2.9.0.post0)\n",
      "Requirement already satisfied: platformdirs>=2.5 in ./.venv/lib/python3.13/site-packages (from jupyter-core!=5.0.*,>=4.12->ipykernel->jupyter->jupyturtle) (4.4.0)\n",
      "Requirement already satisfied: six>=1.5 in ./.venv/lib/python3.13/site-packages (from python-dateutil>=2.8.2->jupyter-client>=8.0.0->ipykernel->jupyter->jupyturtle) (1.17.0)\n",
      "Requirement already satisfied: widgetsnbextension~=4.0.14 in ./.venv/lib/python3.13/site-packages (from ipywidgets->jupyter->jupyturtle) (4.0.14)\n",
      "Requirement already satisfied: jupyterlab_widgets~=3.0.15 in ./.venv/lib/python3.13/site-packages (from ipywidgets->jupyter->jupyturtle) (3.0.15)\n",
      "Requirement already satisfied: async-lru>=1.0.0 in ./.venv/lib/python3.13/site-packages (from jupyterlab->jupyter->jupyturtle) (2.0.5)\n",
      "Requirement already satisfied: httpx<1,>=0.25.0 in ./.venv/lib/python3.13/site-packages (from jupyterlab->jupyter->jupyturtle) (0.28.1)\n",
      "Requirement already satisfied: jinja2>=3.0.3 in ./.venv/lib/python3.13/site-packages (from jupyterlab->jupyter->jupyturtle) (3.1.6)\n",
      "Requirement already satisfied: jupyter-lsp>=2.0.0 in ./.venv/lib/python3.13/site-packages (from jupyterlab->jupyter->jupyturtle) (2.3.0)\n",
      "Requirement already satisfied: jupyter-server<3,>=2.4.0 in ./.venv/lib/python3.13/site-packages (from jupyterlab->jupyter->jupyturtle) (2.17.0)\n",
      "Requirement already satisfied: jupyterlab-server<3,>=2.27.1 in ./.venv/lib/python3.13/site-packages (from jupyterlab->jupyter->jupyturtle) (2.27.3)\n",
      "Requirement already satisfied: notebook-shim>=0.2 in ./.venv/lib/python3.13/site-packages (from jupyterlab->jupyter->jupyturtle) (0.2.4)\n",
      "Requirement already satisfied: setuptools>=41.1.0 in ./.venv/lib/python3.13/site-packages (from jupyterlab->jupyter->jupyturtle) (80.9.0)\n",
      "Requirement already satisfied: anyio in ./.venv/lib/python3.13/site-packages (from httpx<1,>=0.25.0->jupyterlab->jupyter->jupyturtle) (4.10.0)\n",
      "Requirement already satisfied: certifi in ./.venv/lib/python3.13/site-packages (from httpx<1,>=0.25.0->jupyterlab->jupyter->jupyturtle) (2025.8.3)\n",
      "Requirement already satisfied: httpcore==1.* in ./.venv/lib/python3.13/site-packages (from httpx<1,>=0.25.0->jupyterlab->jupyter->jupyturtle) (1.0.9)\n",
      "Requirement already satisfied: idna in ./.venv/lib/python3.13/site-packages (from httpx<1,>=0.25.0->jupyterlab->jupyter->jupyturtle) (3.10)\n",
      "Requirement already satisfied: h11>=0.16 in ./.venv/lib/python3.13/site-packages (from httpcore==1.*->httpx<1,>=0.25.0->jupyterlab->jupyter->jupyturtle) (0.16.0)\n",
      "Requirement already satisfied: argon2-cffi>=21.1 in ./.venv/lib/python3.13/site-packages (from jupyter-server<3,>=2.4.0->jupyterlab->jupyter->jupyturtle) (25.1.0)\n",
      "Requirement already satisfied: jupyter-events>=0.11.0 in ./.venv/lib/python3.13/site-packages (from jupyter-server<3,>=2.4.0->jupyterlab->jupyter->jupyturtle) (0.12.0)\n",
      "Requirement already satisfied: jupyter-server-terminals>=0.4.4 in ./.venv/lib/python3.13/site-packages (from jupyter-server<3,>=2.4.0->jupyterlab->jupyter->jupyturtle) (0.5.3)\n",
      "Requirement already satisfied: nbformat>=5.3.0 in ./.venv/lib/python3.13/site-packages (from jupyter-server<3,>=2.4.0->jupyterlab->jupyter->jupyturtle) (5.10.4)\n",
      "Requirement already satisfied: prometheus-client>=0.9 in ./.venv/lib/python3.13/site-packages (from jupyter-server<3,>=2.4.0->jupyterlab->jupyter->jupyturtle) (0.22.1)\n",
      "Requirement already satisfied: send2trash>=1.8.2 in ./.venv/lib/python3.13/site-packages (from jupyter-server<3,>=2.4.0->jupyterlab->jupyter->jupyturtle) (1.8.3)\n",
      "Requirement already satisfied: terminado>=0.8.3 in ./.venv/lib/python3.13/site-packages (from jupyter-server<3,>=2.4.0->jupyterlab->jupyter->jupyturtle) (0.18.1)\n",
      "Requirement already satisfied: websocket-client>=1.7 in ./.venv/lib/python3.13/site-packages (from jupyter-server<3,>=2.4.0->jupyterlab->jupyter->jupyturtle) (1.8.0)\n",
      "Requirement already satisfied: babel>=2.10 in ./.venv/lib/python3.13/site-packages (from jupyterlab-server<3,>=2.27.1->jupyterlab->jupyter->jupyturtle) (2.17.0)\n",
      "Requirement already satisfied: json5>=0.9.0 in ./.venv/lib/python3.13/site-packages (from jupyterlab-server<3,>=2.27.1->jupyterlab->jupyter->jupyturtle) (0.12.1)\n",
      "Requirement already satisfied: jsonschema>=4.18.0 in ./.venv/lib/python3.13/site-packages (from jupyterlab-server<3,>=2.27.1->jupyterlab->jupyter->jupyturtle) (4.25.1)\n",
      "Requirement already satisfied: requests>=2.31 in ./.venv/lib/python3.13/site-packages (from jupyterlab-server<3,>=2.27.1->jupyterlab->jupyter->jupyturtle) (2.32.5)\n",
      "Requirement already satisfied: sniffio>=1.1 in ./.venv/lib/python3.13/site-packages (from anyio->httpx<1,>=0.25.0->jupyterlab->jupyter->jupyturtle) (1.3.1)\n",
      "Requirement already satisfied: argon2-cffi-bindings in ./.venv/lib/python3.13/site-packages (from argon2-cffi>=21.1->jupyter-server<3,>=2.4.0->jupyterlab->jupyter->jupyturtle) (25.1.0)\n",
      "Requirement already satisfied: MarkupSafe>=2.0 in ./.venv/lib/python3.13/site-packages (from jinja2>=3.0.3->jupyterlab->jupyter->jupyturtle) (3.0.2)\n",
      "Requirement already satisfied: attrs>=22.2.0 in ./.venv/lib/python3.13/site-packages (from jsonschema>=4.18.0->jupyterlab-server<3,>=2.27.1->jupyterlab->jupyter->jupyturtle) (25.3.0)\n",
      "Requirement already satisfied: jsonschema-specifications>=2023.03.6 in ./.venv/lib/python3.13/site-packages (from jsonschema>=4.18.0->jupyterlab-server<3,>=2.27.1->jupyterlab->jupyter->jupyturtle) (2025.9.1)\n",
      "Requirement already satisfied: referencing>=0.28.4 in ./.venv/lib/python3.13/site-packages (from jsonschema>=4.18.0->jupyterlab-server<3,>=2.27.1->jupyterlab->jupyter->jupyturtle) (0.36.2)\n",
      "Requirement already satisfied: rpds-py>=0.7.1 in ./.venv/lib/python3.13/site-packages (from jsonschema>=4.18.0->jupyterlab-server<3,>=2.27.1->jupyterlab->jupyter->jupyturtle) (0.27.1)\n",
      "Requirement already satisfied: python-json-logger>=2.0.4 in ./.venv/lib/python3.13/site-packages (from jupyter-events>=0.11.0->jupyter-server<3,>=2.4.0->jupyterlab->jupyter->jupyturtle) (3.3.0)\n",
      "Requirement already satisfied: pyyaml>=5.3 in ./.venv/lib/python3.13/site-packages (from jupyter-events>=0.11.0->jupyter-server<3,>=2.4.0->jupyterlab->jupyter->jupyturtle) (6.0.2)\n",
      "Requirement already satisfied: rfc3339-validator in ./.venv/lib/python3.13/site-packages (from jupyter-events>=0.11.0->jupyter-server<3,>=2.4.0->jupyterlab->jupyter->jupyturtle) (0.1.4)\n",
      "Requirement already satisfied: rfc3986-validator>=0.1.1 in ./.venv/lib/python3.13/site-packages (from jupyter-events>=0.11.0->jupyter-server<3,>=2.4.0->jupyterlab->jupyter->jupyturtle) (0.1.1)\n",
      "Requirement already satisfied: fqdn in ./.venv/lib/python3.13/site-packages (from jsonschema[format-nongpl]>=4.18.0->jupyter-events>=0.11.0->jupyter-server<3,>=2.4.0->jupyterlab->jupyter->jupyturtle) (1.5.1)\n",
      "Requirement already satisfied: isoduration in ./.venv/lib/python3.13/site-packages (from jsonschema[format-nongpl]>=4.18.0->jupyter-events>=0.11.0->jupyter-server<3,>=2.4.0->jupyterlab->jupyter->jupyturtle) (20.11.0)\n",
      "Requirement already satisfied: jsonpointer>1.13 in ./.venv/lib/python3.13/site-packages (from jsonschema[format-nongpl]>=4.18.0->jupyter-events>=0.11.0->jupyter-server<3,>=2.4.0->jupyterlab->jupyter->jupyturtle) (3.0.0)\n",
      "Requirement already satisfied: rfc3987-syntax>=1.1.0 in ./.venv/lib/python3.13/site-packages (from jsonschema[format-nongpl]>=4.18.0->jupyter-events>=0.11.0->jupyter-server<3,>=2.4.0->jupyterlab->jupyter->jupyturtle) (1.1.0)\n",
      "Requirement already satisfied: uri-template in ./.venv/lib/python3.13/site-packages (from jsonschema[format-nongpl]>=4.18.0->jupyter-events>=0.11.0->jupyter-server<3,>=2.4.0->jupyterlab->jupyter->jupyturtle) (1.3.0)\n",
      "Requirement already satisfied: webcolors>=24.6.0 in ./.venv/lib/python3.13/site-packages (from jsonschema[format-nongpl]>=4.18.0->jupyter-events>=0.11.0->jupyter-server<3,>=2.4.0->jupyterlab->jupyter->jupyturtle) (24.11.1)\n",
      "Requirement already satisfied: beautifulsoup4 in ./.venv/lib/python3.13/site-packages (from nbconvert->jupyter->jupyturtle) (4.13.5)\n",
      "Requirement already satisfied: bleach!=5.0.0 in ./.venv/lib/python3.13/site-packages (from bleach[css]!=5.0.0->nbconvert->jupyter->jupyturtle) (6.2.0)\n",
      "Requirement already satisfied: defusedxml in ./.venv/lib/python3.13/site-packages (from nbconvert->jupyter->jupyturtle) (0.7.1)\n",
      "Requirement already satisfied: jupyterlab-pygments in ./.venv/lib/python3.13/site-packages (from nbconvert->jupyter->jupyturtle) (0.3.0)\n",
      "Requirement already satisfied: mistune<4,>=2.0.3 in ./.venv/lib/python3.13/site-packages (from nbconvert->jupyter->jupyturtle) (3.1.4)\n",
      "Requirement already satisfied: nbclient>=0.5.0 in ./.venv/lib/python3.13/site-packages (from nbconvert->jupyter->jupyturtle) (0.10.2)\n",
      "Requirement already satisfied: pandocfilters>=1.4.1 in ./.venv/lib/python3.13/site-packages (from nbconvert->jupyter->jupyturtle) (1.5.1)\n",
      "Requirement already satisfied: webencodings in ./.venv/lib/python3.13/site-packages (from bleach!=5.0.0->bleach[css]!=5.0.0->nbconvert->jupyter->jupyturtle) (0.5.1)\n",
      "Requirement already satisfied: tinycss2<1.5,>=1.1.0 in ./.venv/lib/python3.13/site-packages (from bleach[css]!=5.0.0->nbconvert->jupyter->jupyturtle) (1.4.0)\n",
      "Requirement already satisfied: fastjsonschema>=2.15 in ./.venv/lib/python3.13/site-packages (from nbformat>=5.3.0->jupyter-server<3,>=2.4.0->jupyterlab->jupyter->jupyturtle) (2.21.2)\n",
      "Requirement already satisfied: charset_normalizer<4,>=2 in ./.venv/lib/python3.13/site-packages (from requests>=2.31->jupyterlab-server<3,>=2.27.1->jupyterlab->jupyter->jupyturtle) (3.4.3)\n",
      "Requirement already satisfied: urllib3<3,>=1.21.1 in ./.venv/lib/python3.13/site-packages (from requests>=2.31->jupyterlab-server<3,>=2.27.1->jupyterlab->jupyter->jupyturtle) (2.5.0)\n",
      "Requirement already satisfied: lark>=1.2.2 in ./.venv/lib/python3.13/site-packages (from rfc3987-syntax>=1.1.0->jsonschema[format-nongpl]>=4.18.0->jupyter-events>=0.11.0->jupyter-server<3,>=2.4.0->jupyterlab->jupyter->jupyturtle) (1.2.2)\n",
      "Requirement already satisfied: cffi>=1.0.1 in ./.venv/lib/python3.13/site-packages (from argon2-cffi-bindings->argon2-cffi>=21.1->jupyter-server<3,>=2.4.0->jupyterlab->jupyter->jupyturtle) (2.0.0)\n",
      "Requirement already satisfied: pycparser in ./.venv/lib/python3.13/site-packages (from cffi>=1.0.1->argon2-cffi-bindings->argon2-cffi>=21.1->jupyter-server<3,>=2.4.0->jupyterlab->jupyter->jupyturtle) (2.23)\n",
      "Requirement already satisfied: soupsieve>1.2 in ./.venv/lib/python3.13/site-packages (from beautifulsoup4->nbconvert->jupyter->jupyturtle) (2.8)\n",
      "Requirement already satisfied: typing-extensions>=4.0.0 in ./.venv/lib/python3.13/site-packages (from beautifulsoup4->nbconvert->jupyter->jupyturtle) (4.15.0)\n",
      "Requirement already satisfied: arrow>=0.15.0 in ./.venv/lib/python3.13/site-packages (from isoduration->jsonschema[format-nongpl]>=4.18.0->jupyter-events>=0.11.0->jupyter-server<3,>=2.4.0->jupyterlab->jupyter->jupyturtle) (1.3.0)\n",
      "Requirement already satisfied: types-python-dateutil>=2.8.10 in ./.venv/lib/python3.13/site-packages (from arrow>=0.15.0->isoduration->jsonschema[format-nongpl]>=4.18.0->jupyter-events>=0.11.0->jupyter-server<3,>=2.4.0->jupyterlab->jupyter->jupyturtle) (2.9.0.20250822)\n",
      "Requirement already satisfied: iniconfig>=1 in ./.venv/lib/python3.13/site-packages (from pytest->jupyturtle) (2.1.0)\n",
      "Requirement already satisfied: pluggy<2,>=1.5 in ./.venv/lib/python3.13/site-packages (from pytest->jupyturtle) (1.6.0)\n",
      "Requirement already satisfied: executing>=1.2.0 in ./.venv/lib/python3.13/site-packages (from stack_data->ipython>=8->jupyturtle) (2.2.1)\n",
      "Requirement already satisfied: asttokens>=2.1.0 in ./.venv/lib/python3.13/site-packages (from stack_data->ipython>=8->jupyturtle) (3.0.0)\n",
      "Requirement already satisfied: pure-eval in ./.venv/lib/python3.13/site-packages (from stack_data->ipython>=8->jupyturtle) (0.2.3)\n",
      "Note: you may need to restart the kernel to use updated packages.\n"
     ]
    }
   ],
   "source": [
    "pip install jupyturtle"
   ]
  },
  {
   "cell_type": "code",
   "execution_count": 18,
   "id": "59c9ac40",
   "metadata": {},
   "outputs": [],
   "source": [
    "from jupyturtle import make_turtle, forward, left, right, back, set_color, draw, hide, set_width, pen_up, pen_down"
   ]
  },
  {
   "cell_type": "code",
   "execution_count": 19,
   "id": "f6fd39e5",
   "metadata": {},
   "outputs": [
    {
     "data": {
      "text/html": [
       "<svg width=\"300\" height=\"150\" style=\"fill:none; stroke-linecap:round;\">\n",
       "    <rect width=\"100%\" height=\"100%\" fill=\"#F3F3F7\" />\n",
       "\n",
       "\n",
       "<path stroke=\"#663399\" stroke-width=\"2\" d=\"M 150,75 200,75 200,25 150,25 150,75\" />'\n",
       "\n",
       "<g transform=\"rotate(-90.0,150.0,75.0) translate(150.0, 75.0)\">\n",
       "    <circle stroke=\"#63A375\" stroke-width=\"2\" fill=\"transparent\" r=\"5.5\" cx=\"0\" cy=\"0\"/>\n",
       "    <polygon points=\"0,12 2,9 -2,9\" style=\"fill:#63A375;stroke:#63A375;stroke-width:2\"/>\n",
       "</g>\n",
       "\n",
       "</svg>"
      ],
      "text/plain": [
       "<IPython.core.display.HTML object>"
      ]
     },
     "metadata": {},
     "output_type": "display_data"
    }
   ],
   "source": [
    "#Canvas is 300x150 pixels\n",
    "#Turtle starts at (150, 75)\n",
    "\n",
    "#square\n",
    "make_turtle()\n",
    "for i in range(4):\n",
    "    forward(50)\n",
    "    left(90)"
   ]
  },
  {
   "cell_type": "code",
   "execution_count": 20,
   "id": "0aeff85d",
   "metadata": {},
   "outputs": [
    {
     "data": {
      "text/html": [
       "<svg width=\"300\" height=\"150\" style=\"fill:none; stroke-linecap:round;\">\n",
       "    <rect width=\"100%\" height=\"100%\" fill=\"#F3F3F7\" />\n",
       "\n",
       "\n",
       "<path stroke=\"#663399\" stroke-width=\"2\" d=\"M 150,75 200,75 175,31.7 150,75\" />'\n",
       "\n",
       "<g transform=\"rotate(-90.0,150.0,75.0) translate(150.0, 75.0)\">\n",
       "    <circle stroke=\"#63A375\" stroke-width=\"2\" fill=\"transparent\" r=\"5.5\" cx=\"0\" cy=\"0\"/>\n",
       "    <polygon points=\"0,12 2,9 -2,9\" style=\"fill:#63A375;stroke:#63A375;stroke-width:2\"/>\n",
       "</g>\n",
       "\n",
       "</svg>"
      ],
      "text/plain": [
       "<IPython.core.display.HTML object>"
      ]
     },
     "metadata": {},
     "output_type": "display_data"
    }
   ],
   "source": [
    "#triangle\n",
    "make_turtle()\n",
    "for i in range(3):\n",
    "    forward(50)\n",
    "    left(120)"
   ]
  },
  {
   "cell_type": "code",
   "execution_count": 21,
   "id": "7d7d6112",
   "metadata": {},
   "outputs": [
    {
     "data": {
      "text/html": [
       "<svg width=\"300\" height=\"150\" style=\"fill:none; stroke-linecap:round;\">\n",
       "    <rect width=\"100%\" height=\"100%\" fill=\"#F3F3F7\" />\n",
       "\n",
       "\n",
       "<path stroke=\"#663399\" stroke-width=\"2\" d=\"M 150,75 195,75 208.9,32.2 172.5,5.8 136.1,32.2 150,75\" />'\n",
       "\n",
       "<g transform=\"rotate(-90.0,150.0,75.0) translate(150.0, 75.0)\">\n",
       "    <circle stroke=\"#63A375\" stroke-width=\"2\" fill=\"transparent\" r=\"5.5\" cx=\"0\" cy=\"0\"/>\n",
       "    <polygon points=\"0,12 2,9 -2,9\" style=\"fill:#63A375;stroke:#63A375;stroke-width:2\"/>\n",
       "</g>\n",
       "\n",
       "</svg>"
      ],
      "text/plain": [
       "<IPython.core.display.HTML object>"
      ]
     },
     "metadata": {},
     "output_type": "display_data"
    }
   ],
   "source": [
    "#pentagon\n",
    "make_turtle()\n",
    "for i in range(5):\n",
    "    forward(45)\n",
    "    left(72)"
   ]
  },
  {
   "cell_type": "code",
   "execution_count": 22,
   "id": "0ff1d43a",
   "metadata": {},
   "outputs": [
    {
     "data": {
      "text/html": [
       "<svg width=\"300\" height=\"150\" style=\"fill:none; stroke-linecap:round;\">\n",
       "    <rect width=\"100%\" height=\"100%\" fill=\"#F3F3F7\" />\n",
       "\n",
       "\n",
       "<path stroke=\"#663399\" stroke-width=\"2\" d=\"M 150,75 151,75 152,74.9 153,74.8 154,74.6 154.9,74.4 155.9,74.1 156.8,73.7 157.7,73.3 158.6,72.8 159.4,72.3 160.3,71.7 161,71 161.8,70.3 162.4,69.6 163.1,68.8 163.7,68 164.2,67.2 164.7,66.3 165.1,65.4 165.5,64.5 165.8,63.5 166,62.6 166.2,61.6 166.3,60.6 166.4,59.6 166.4,58.6 166.3,57.6 166.2,56.6 166,55.6 165.8,54.6 165.5,53.7 165.1,52.8 164.7,51.9 164.2,51 163.7,50.1 163.1,49.3 162.4,48.6 161.8,47.8 161,47.1 160.3,46.5 159.4,45.9 158.6,45.4 157.7,44.9 156.8,44.5 155.9,44.1 154.9,43.8 154,43.6 153,43.4 152,43.2 151,43.2 150,43.2 149,43.2 148,43.4 147,43.6 146.1,43.8 145.1,44.1 144.2,44.5 143.3,44.9 142.4,45.4 141.6,45.9 140.7,46.5 140,47.1 139.2,47.8 138.6,48.6 137.9,49.3 137.3,50.1 136.8,51 136.3,51.9 135.9,52.8 135.5,53.7 135.2,54.6 135,55.6 134.8,56.6 134.7,57.6 134.6,58.6 134.6,59.6 134.7,60.6 134.8,61.6 135,62.6 135.2,63.5 135.5,64.5 135.9,65.4 136.3,66.3 136.8,67.2 137.3,68 137.9,68.8 138.6,69.6 139.2,70.3 140,71 140.7,71.7 141.6,72.3 142.4,72.8 143.3,73.3 144.2,73.7 145.1,74.1 146.1,74.4 147,74.6 148,74.8 149,74.9 150,75\" />'\n",
       "\n",
       "<g transform=\"rotate(270.0,150.0,75.0) translate(150.0, 75.0)\">\n",
       "    <circle stroke=\"#63A375\" stroke-width=\"2\" fill=\"transparent\" r=\"5.5\" cx=\"0\" cy=\"0\"/>\n",
       "    <polygon points=\"0,12 2,9 -2,9\" style=\"fill:#63A375;stroke:#63A375;stroke-width:2\"/>\n",
       "</g>\n",
       "\n",
       "</svg>"
      ],
      "text/plain": [
       "<IPython.core.display.HTML object>"
      ]
     },
     "metadata": {},
     "output_type": "display_data"
    }
   ],
   "source": [
    "def polygon(n, length):\n",
    "    \"\"\"\"n is number of sides\n",
    "    length is the length of each side\n",
    "    \"\"\"\n",
    "    angle = 360 / n\n",
    "    for i in range(n):\n",
    "        forward(length)\n",
    "        left(angle)\n",
    "\n",
    "make_turtle(delay=0.02)\n",
    "polygon(n=100, length=1)"
   ]
  },
  {
   "cell_type": "markdown",
   "id": "baf9b6ed",
   "metadata": {},
   "source": [
    "Write your name in jupyturtle!"
   ]
  },
  {
   "cell_type": "code",
   "execution_count": 23,
   "id": "e9c13480",
   "metadata": {},
   "outputs": [
    {
     "data": {
      "text/html": [
       "<svg width=\"300\" height=\"150\" style=\"fill:none; stroke-linecap:round;\">\n",
       "    <rect width=\"100%\" height=\"100%\" fill=\"#F3F3F7\" />\n",
       "\n",
       "\n",
       "<path stroke=\"#663399\" stroke-width=\"2\" d=\"M 150,75 156.3,75 162.4,73.7 168.2,71.1 173.3,67.4 177.5,62.8 180.6,57.3 182.5,51.4 183.2,45.1 182.5,38.9 180.6,32.9 177.5,27.4 173.3,22.8 168.2,19.1 162.4,16.5 156.3,15.2 150,15.2 143.9,16.5 138.1,19.1 133,22.8 128.8,27.4 125.7,32.9 123.7,38.9 123.1,45.1 123.7,51.4 125.7,57.3 128.8,62.8 133,67.4 138.1,71.1 143.9,73.7 150,75\" />'\n",
       "\n",
       "<g transform=\"rotate(-90.0,150.0,75.0) translate(150.0, 75.0)\">\n",
       "    <circle stroke=\"#63A375\" stroke-width=\"2\" fill=\"transparent\" r=\"5.5\" cx=\"0\" cy=\"0\"/>\n",
       "    <polygon points=\"0,12 2,9 -2,9\" style=\"fill:#63A375;stroke:#63A375;stroke-width:2\"/>\n",
       "</g>\n",
       "\n",
       "</svg>"
      ],
      "text/plain": [
       "<IPython.core.display.HTML object>"
      ]
     },
     "metadata": {},
     "output_type": "display_data"
    }
   ],
   "source": [
    "import math\n",
    "\n",
    "#area of a circle = pi * r^2\n",
    "#circumference = 2pi *r  OR pi * d\n",
    "\n",
    "def circle(radius):\n",
    "    circumference = 2 * math.pi * radius\n",
    "    n = 30 #how precise our circle is\n",
    "    length = circumference / n\n",
    "    polygon(n, length)\n",
    "\n",
    "make_turtle(delay = 0.02)\n",
    "circle(30)"
   ]
  },
  {
   "cell_type": "code",
   "execution_count": 24,
   "id": "850a67d4",
   "metadata": {},
   "outputs": [
    {
     "data": {
      "text/html": [
       "<svg width=\"300\" height=\"150\" style=\"fill:none; stroke-linecap:round;\">\n",
       "    <rect width=\"100%\" height=\"100%\" fill=\"#F3F3F7\" />\n",
       "\n",
       "\n",
       "<path stroke=\"#663399\" stroke-width=\"2\" d=\"M 150,75 156.3,75 162.4,73.7 168.2,71.1 173.3,67.4 177.5,62.8 180.6,57.3 182.5,51.4 183.2,45.1 182.5,38.9 180.6,32.9 177.5,27.4 173.3,22.8 168.2,19.1 162.4,16.5 156.3,15.2 150,15.2 143.9,16.5 138.1,19.1 133,22.8 128.8,27.4 125.7,32.9 123.7,38.9 123.1,45.1 123.7,51.4 125.7,57.3 128.8,62.8 133,67.4 138.1,71.1 143.9,73.7 150,75\" />'\n",
       "\n",
       "<g transform=\"rotate(-90.0,150.0,75.0) translate(150.0, 75.0)\">\n",
       "    <circle stroke=\"#63A375\" stroke-width=\"2\" fill=\"transparent\" r=\"5.5\" cx=\"0\" cy=\"0\"/>\n",
       "    <polygon points=\"0,12 2,9 -2,9\" style=\"fill:#63A375;stroke:#63A375;stroke-width:2\"/>\n",
       "</g>\n",
       "\n",
       "</svg>"
      ],
      "text/plain": [
       "<IPython.core.display.HTML object>"
      ]
     },
     "metadata": {},
     "output_type": "display_data"
    }
   ],
   "source": [
    "def polyline(n, length, angle):\n",
    "    for i in range(n):\n",
    "        forward(length)\n",
    "        left(angle)\n",
    "\n",
    "def arc(radius, angle):\n",
    "    arc_length = 2 * math.pi * radius * angle / 360\n",
    "    n = 30\n",
    "    length = arc_length / n\n",
    "    step_angle = angle / n\n",
    "    polyline(n, length, step_angle)\n",
    "\n",
    "def circle(radius):\n",
    "    arc(radius, 360)\n",
    "\n",
    "make_turtle(delay = 0.02)\n",
    "arc(30, 360)"
   ]
  },
  {
   "cell_type": "code",
   "execution_count": 25,
   "id": "f81f3fe3",
   "metadata": {},
   "outputs": [
    {
     "data": {
      "text/html": [
       "<svg width=\"300\" height=\"150\" style=\"fill:none; stroke-linecap:round;\">\n",
       "    <rect width=\"100%\" height=\"100%\" fill=\"#F3F3F7\" />\n",
       "\n",
       "\n",
       "<path stroke=\"#663399\" stroke-width=\"2\" d=\"M 150,75 156.3,75 162.4,73.7 168.2,71.1 173.3,67.4 177.5,62.8 180.6,57.3 182.5,51.4 183.2,45.1 182.5,38.9 180.6,32.9 177.5,27.4 173.3,22.8 168.2,19.1 162.4,16.5 156.3,15.2 150,15.2 143.9,16.5 138.1,19.1 133,22.8 128.8,27.4 125.7,32.9 123.7,38.9 123.1,45.1 123.7,51.4 125.7,57.3 128.8,62.8 133,67.4 138.1,71.1 143.9,73.7 150,75 156.2,74.2 162.2,72.1 167.5,68.8 172.1,64.5 175.6,59.3 178,53.5 179.2,47.3 179,41 177.5,34.9 174.8,29.3 171,24.3 166.2,20.2 160.7,17.2 154.7,15.4 148.4,14.9 142.2,15.7 136.3,17.8 130.9,21.1 126.4,25.4 122.8,30.6 120.4,36.4 119.3,42.6 119.4,48.9 120.9,55 123.6,60.7 127.4,65.6 132.2,69.7 137.7,72.7 143.7,74.5 150,75 156.1,73.4 161.7,70.5 166.6,66.6 170.5,61.7 173.4,56.1 175,50 175.3,43.7 174.3,37.5 172.1,31.7 168.7,26.4 164.2,22 158.9,18.5 153.1,16.3 146.9,15.3 140.6,15.6 134.5,17.3 128.9,20.1 124,24.1 120.1,28.9 117.2,34.5 115.6,40.6 115.3,46.9 116.3,53.1 118.5,59 121.9,64.2 126.4,68.7 131.7,72.1 137.5,74.3 143.7,75.3 150,75 155.8,72.6 161,69 165.3,64.5 168.6,59.1 170.7,53.2 171.5,47 171,40.7 169.2,34.7 166.2,29.2 162.2,24.4 157.2,20.6 151.5,17.9 145.4,16.4 139.1,16.2 132.9,17.4 127.1,19.8 121.9,23.3 117.6,27.9 114.3,33.2 112.2,39.2 111.4,45.4 111.9,51.7 113.7,57.7 116.7,63.2 120.8,68 125.8,71.8 131.4,74.5 137.5,76 143.8,76.1 150,75 155.4,71.9 160.1,67.7 163.8,62.6 166.4,56.8 167.7,50.7 167.7,44.4 166.4,38.3 163.8,32.5 160.1,27.4 155.4,23.2 150,20.1 144,18.1 137.8,17.5 131.5,18.1 125.6,20.1 120.1,23.2 115.4,27.4 111.7,32.5 109.2,38.3 107.9,44.4 107.9,50.7 109.2,56.8 111.7,62.6 115.4,67.7 120.1,71.9 125.6,75 131.5,76.9 137.8,77.6 144,76.9 150,75 155,71.2 159.1,66.4 162.1,60.9 163.8,54.9 164.3,48.6 163.5,42.4 161.4,36.4 158.1,31.1 153.8,26.5 148.6,23 142.8,20.6 136.7,19.4 130.4,19.6 124.3,21 118.6,23.7 113.6,27.6 109.5,32.4 106.5,37.9 104.7,43.9 104.3,50.2 105.1,56.4 107.2,62.3 110.5,67.7 114.8,72.2 120,75.8 125.8,78.2 131.9,79.3 138.2,79.2 144.3,77.7 150,75 154.4,70.6 157.9,65.3 160.1,59.4 161.1,53.2 160.8,46.9 159.1,40.9 156.3,35.3 152.3,30.4 147.5,26.4 141.9,23.6 135.8,22 129.5,21.6 123.3,22.6 117.4,24.9 112.2,28.3 107.7,32.7 104.3,38 102.1,43.9 101.1,50.1 101.4,56.3 103,62.4 105.9,68 109.8,72.9 114.7,76.8 120.3,79.7 126.4,81.3 132.7,81.7 138.9,80.7 144.7,78.4 150,75 153.8,70 156.5,64.3 158,58.2 158.2,52 157,45.8 154.6,40 151.1,34.8 146.5,30.5 141.1,27.2 135.2,25.1 129,24.3 122.7,24.8 116.7,26.5 111.2,29.5 106.4,33.6 102.6,38.6 99.9,44.3 98.4,50.4 98.2,56.7 99.4,62.8 101.8,68.7 105.3,73.8 109.9,78.2 115.3,81.4 121.2,83.5 127.4,84.4 133.7,83.9 139.7,82.1 145.2,79.1 150,75 153.1,69.6 155.1,63.6 155.7,57.3 155.1,51.1 153.1,45.1 150,39.7 145.8,35 140.7,31.3 135,28.8 128.8,27.4 122.5,27.4 116.4,28.8 110.7,31.3 105.6,35 101.4,39.7 98.2,45.1 96.3,51.1 95.6,57.3 96.3,63.6 98.2,69.6 101.4,75 105.6,79.7 110.7,83.4 116.4,85.9 122.5,87.2 128.8,87.2 135,85.9 140.7,83.4 145.8,79.7 150,75 152.4,69.2 153.5,63 153.4,56.7 151.9,50.6 149.2,45 145.4,40 140.6,35.9 135.1,32.9 129.1,31.1 122.8,30.6 116.6,31.4 110.6,33.5 105.3,36.8 100.7,41.1 97.2,46.3 94.8,52.1 93.6,58.3 93.8,64.6 95.3,70.7 98,76.4 101.8,81.3 106.6,85.4 112.1,88.4 118.1,90.2 124.4,90.7 130.6,89.9 136.5,87.8 141.9,84.5 146.4,80.2 150,75 151.6,68.9 152,62.7 151,56.5 148.7,50.6 145.3,45.3 140.9,40.9 135.6,37.5 129.7,35.2 123.5,34.2 117.2,34.5 111.2,36.2 105.6,39 100.7,43 96.7,47.9 93.9,53.5 92.3,59.5 91.9,65.8 92.9,72 95.2,77.9 98.6,83.1 103,87.6 108.3,91 114.2,93.3 120.4,94.2 126.6,93.9 132.7,92.3 138.3,89.4 143.2,85.5 147.1,80.6 150,75 150.8,68.8 150.3,62.5 148.5,56.5 145.5,51 141.5,46.2 136.5,42.4 130.8,39.7 124.7,38.2 118.4,38 112.2,39.2 106.4,41.6 101.3,45.1 96.9,49.7 93.6,55 91.6,61 90.7,67.2 91.2,73.5 93,79.5 96,85 100.1,89.8 105.1,93.6 110.7,96.3 116.9,97.8 123.1,97.9 129.3,96.8 135.1,94.4 140.3,90.8 144.6,86.3 147.9,80.9 150,75 150,68.7 148.7,62.6 146.1,56.8 142.4,51.7 137.8,47.5 132.3,44.4 126.4,42.5 120.1,41.8 113.9,42.5 107.9,44.4 102.4,47.5 97.8,51.7 94.1,56.8 91.5,62.6 90.2,68.7 90.2,75 91.5,81.1 94.1,86.9 97.8,92 102.4,96.2 107.9,99.3 113.9,101.3 120.1,101.9 126.4,101.3 132.3,99.3 137.8,96.2 142.4,92 146.1,86.9 148.7,81.1 150,75 149.2,68.8 147.1,62.8 143.8,57.5 139.5,52.9 134.3,49.4 128.5,47 122.3,45.8 116,46 109.9,47.5 104.3,50.2 99.3,54 95.2,58.8 92.2,64.3 90.4,70.3 89.9,76.6 90.7,82.8 92.8,88.7 96.1,94.1 100.4,98.6 105.6,102.2 111.4,104.6 117.6,105.7 123.9,105.6 130,104.1 135.7,101.4 140.6,97.6 144.7,92.8 147.7,87.3 149.5,81.3 150,75 148.4,68.9 145.5,63.3 141.6,58.4 136.7,54.5 131.1,51.6 125,50 118.7,49.7 112.5,50.7 106.7,52.9 101.4,56.3 97,60.8 93.5,66.1 91.3,71.9 90.3,78.1 90.6,84.4 92.3,90.5 95.1,96.1 99.1,101 103.9,104.9 109.5,107.8 115.6,109.4 121.9,109.7 128.1,108.7 134,106.5 139.2,103.1 143.7,98.6 147.1,93.3 149.3,87.5 150.3,81.3 150,75 147.6,69.2 144,64 139.5,59.7 134.1,56.4 128.2,54.3 122,53.5 115.7,54 109.7,55.8 104.2,58.8 99.4,62.8 95.6,67.8 92.9,73.5 91.4,79.6 91.2,85.9 92.4,92.1 94.8,97.9 98.3,103.1 102.9,107.4 108.2,110.7 114.2,112.8 120.4,113.6 126.7,113.1 132.7,111.3 138.2,108.3 143,104.2 146.8,99.2 149.5,93.6 151,87.5 151.1,81.2 150,75 146.9,69.6 142.7,64.9 137.6,61.2 131.8,58.6 125.7,57.3 119.4,57.3 113.3,58.6 107.5,61.2 102.4,64.9 98.2,69.6 95.1,75 93.1,81 92.5,87.2 93.1,93.5 95.1,99.4 98.2,104.9 102.4,109.6 107.5,113.3 113.3,115.8 119.4,117.1 125.7,117.1 131.8,115.8 137.6,113.3 142.7,109.6 146.9,104.9 150,99.4 151.9,93.5 152.6,87.2 151.9,81 150,75 146.2,70 141.4,65.9 135.9,62.9 129.9,61.2 123.6,60.7 117.4,61.5 111.4,63.6 106.1,66.9 101.5,71.2 98,76.4 95.6,82.2 94.4,88.3 94.6,94.6 96,100.7 98.7,106.4 102.6,111.4 107.4,115.5 112.9,118.5 118.9,120.3 125.2,120.7 131.4,119.9 137.3,117.8 142.7,114.5 147.2,110.2 150.8,105 153.2,99.2 154.3,93.1 154.2,86.8 152.7,80.7 150,75 145.6,70.6 140.3,67.1 134.4,64.9 128.2,63.9 121.9,64.2 115.9,65.9 110.3,68.7 105.4,72.7 101.4,77.5 98.6,83.1 97,89.2 96.6,95.5 97.6,101.7 99.9,107.6 103.3,112.8 107.7,117.3 113,120.7 118.9,122.9 125.1,123.9 131.3,123.6 137.4,122 143,119.1 147.9,115.2 151.8,110.3 154.7,104.7 156.3,98.6 156.7,92.3 155.7,86.1 153.4,80.3 150,75 145,71.2 139.3,68.5 133.2,67 127,66.8 120.8,68 115,70.4 109.8,73.9 105.5,78.5 102.2,83.9 100.1,89.8 99.3,96 99.8,102.3 101.5,108.3 104.5,113.8 108.6,118.6 113.6,122.4 119.3,125.1 125.4,126.6 131.7,126.8 137.8,125.6 143.7,123.2 148.8,119.7 153.2,115.1 156.4,109.7 158.5,103.8 159.4,97.6 158.9,91.3 157.1,85.3 154.1,79.8 150,75 144.6,71.9 138.6,69.9 132.3,69.3 126.1,69.9 120.1,71.9 114.7,75 110,79.2 106.3,84.3 103.8,90 102.4,96.2 102.4,102.5 103.8,108.6 106.3,114.3 110,119.4 114.7,123.6 120.1,126.8 126.1,128.7 132.3,129.4 138.6,128.7 144.6,126.8 150,123.6 154.7,119.4 158.4,114.3 160.9,108.6 162.2,102.5 162.2,96.2 160.9,90 158.4,84.3 154.7,79.2 150,75 144.2,72.6 138,71.5 131.7,71.6 125.6,73.1 120,75.8 115,79.6 110.9,84.4 107.9,89.9 106.1,95.9 105.6,102.2 106.4,108.4 108.5,114.4 111.8,119.7 116.1,124.3 121.3,127.8 127.1,130.2 133.3,131.4 139.6,131.2 145.7,129.7 151.4,127 156.3,123.2 160.4,118.4 163.4,112.9 165.2,106.9 165.7,100.6 164.9,94.4 162.8,88.5 159.5,83.1 155.2,78.6 150,75 143.9,73.4 137.7,73 131.5,74 125.6,76.3 120.3,79.7 115.9,84.1 112.5,89.4 110.2,95.3 109.2,101.5 109.5,107.8 111.2,113.8 114,119.4 118,124.3 122.9,128.3 128.5,131.1 134.5,132.7 140.8,133.1 147,132.1 152.9,129.8 158.1,126.4 162.6,122 166,116.7 168.3,110.8 169.2,104.6 168.9,98.4 167.3,92.3 164.4,86.7 160.5,81.8 155.6,77.9 150,75 143.8,74.2 137.5,74.7 131.5,76.5 126,79.5 121.2,83.5 117.4,88.5 114.7,94.2 113.2,100.3 113,106.6 114.2,112.8 116.6,118.6 120.1,123.7 124.7,128.1 130,131.4 136,133.4 142.2,134.3 148.5,133.8 154.5,132 160,129 164.8,124.9 168.6,119.9 171.3,114.3 172.8,108.1 172.9,101.9 171.8,95.7 169.4,89.9 165.8,84.7 161.3,80.4 155.9,77.1 150,75 143.7,75 137.6,76.3 131.8,78.9 126.7,82.6 122.5,87.2 119.4,92.7 117.5,98.6 116.8,104.9 117.5,111.1 119.4,117.1 122.5,122.6 126.7,127.2 131.8,130.9 137.6,133.5 143.7,134.8 150,134.8 156.1,133.5 161.9,130.9 167,127.2 171.2,122.6 174.3,117.1 176.3,111.1 176.9,104.9 176.3,98.6 174.3,92.7 171.2,87.2 167,82.6 161.9,78.9 156.1,76.3 150,75 143.8,75.8 137.8,77.9 132.5,81.2 127.9,85.5 124.4,90.7 122,96.5 120.8,102.7 121,109 122.5,115.1 125.2,120.7 129,125.7 133.8,129.8 139.3,132.8 145.3,134.6 151.6,135.1 157.8,134.3 163.7,132.2 169.1,128.9 173.6,124.6 177.2,119.4 179.6,113.6 180.7,107.4 180.6,101.1 179.1,95 176.4,89.3 172.6,84.4 167.8,80.3 162.3,77.3 156.3,75.5 150,75 143.9,76.6 138.3,79.5 133.4,83.4 129.5,88.3 126.6,93.9 125,100 124.7,106.3 125.7,112.5 127.9,118.3 131.3,123.6 135.8,128 141.1,131.5 146.9,133.7 153.1,134.7 159.4,134.4 165.5,132.7 171.1,129.9 176,125.9 179.9,121.1 182.8,115.5 184.4,109.4 184.7,103.1 183.7,96.9 181.5,91 178.1,85.8 173.6,81.3 168.3,77.9 162.5,75.7 156.3,74.7 150,75 144.2,77.4 139,81 134.7,85.5 131.4,90.9 129.3,96.8 128.5,103 129,109.3 130.8,115.3 133.8,120.8 137.8,125.6 142.8,129.4 148.5,132.1 154.6,133.6 160.9,133.8 167.1,132.6 172.9,130.2 178.1,126.7 182.4,122.1 185.7,116.8 187.8,110.8 188.6,104.6 188.1,98.3 186.3,92.3 183.3,86.8 179.2,82 174.2,78.2 168.6,75.5 162.5,74 156.2,73.9 150,75 144.6,78.1 139.9,82.3 136.2,87.4 133.6,93.2 132.3,99.3 132.3,105.6 133.6,111.7 136.2,117.5 139.9,122.6 144.6,126.8 150,129.9 156,131.9 162.2,132.5 168.5,131.9 174.4,129.9 179.9,126.8 184.6,122.6 188.3,117.5 190.8,111.7 192.1,105.6 192.1,99.3 190.8,93.2 188.3,87.4 184.6,82.3 179.9,78.1 174.4,75 168.5,73.1 162.2,72.4 156,73.1 150,75 145,78.8 140.9,83.6 137.9,89.1 136.2,95.1 135.7,101.4 136.5,107.6 138.6,113.6 141.9,118.9 146.2,123.5 151.4,127 157.2,129.4 163.3,130.6 169.6,130.4 175.7,129 181.4,126.3 186.4,122.4 190.5,117.6 193.5,112.1 195.3,106.1 195.7,99.8 194.9,93.6 192.8,87.7 189.5,82.3 185.2,77.8 180,74.2 174.2,71.8 168.1,70.7 161.8,70.8 155.7,72.3 150,75 145.6,79.4 142.1,84.7 139.9,90.6 138.9,96.8 139.2,103.1 140.9,109.1 143.7,114.7 147.7,119.6 152.5,123.6 158.1,126.4 164.2,128 170.5,128.4 176.7,127.4 182.6,125.1 187.8,121.7 192.3,117.3 195.7,112 197.9,106.1 198.9,99.9 198.6,93.7 197,87.6 194.1,82 190.2,77.1 185.3,73.2 179.7,70.3 173.6,68.7 167.3,68.3 161.1,69.3 155.3,71.6 150,75 146.2,80 143.5,85.7 142,91.8 141.8,98 143,104.2 145.4,110 148.9,115.2 153.5,119.5 158.9,122.8 164.8,124.9 171,125.7 177.3,125.2 183.3,123.5 188.8,120.5 193.6,116.4 197.4,111.4 200.1,105.7 201.6,99.6 201.8,93.3 200.6,87.2 198.2,81.3 194.7,76.2 190.1,71.8 184.7,68.6 178.8,66.5 172.6,65.6 166.3,66.1 160.3,67.9 154.8,70.9 150,75 146.9,80.4 144.9,86.4 144.3,92.7 144.9,98.9 146.9,104.9 150,110.3 154.2,115 159.3,118.7 165,121.2 171.2,122.6 177.5,122.6 183.6,121.2 189.3,118.7 194.4,115 198.6,110.3 201.8,104.9 203.7,98.9 204.4,92.7 203.7,86.4 201.8,80.4 198.6,75 194.4,70.3 189.3,66.6 183.6,64.1 177.5,62.8 171.2,62.8 165,64.1 159.3,66.6 154.2,70.3 150,75 147.6,80.8 146.5,87 146.6,93.3 148.1,99.4 150.8,105 154.6,110 159.4,114.1 164.9,117.1 170.9,118.9 177.2,119.4 183.4,118.6 189.4,116.5 194.7,113.2 199.3,108.9 202.8,103.7 205.2,97.9 206.4,91.7 206.2,85.4 204.7,79.3 202,73.6 198.2,68.7 193.4,64.6 187.9,61.6 181.9,59.8 175.6,59.3 169.4,60.1 163.5,62.2 158.1,65.5 153.6,69.8 150,75 148.4,81.1 148,87.3 149,93.5 151.3,99.4 154.7,104.7 159.1,109.1 164.4,112.5 170.3,114.8 176.5,115.8 182.8,115.5 188.8,113.8 194.4,111 199.3,107 203.3,102.1 206.1,96.5 207.7,90.5 208.1,84.2 207.1,78 204.8,72.1 201.4,66.9 197,62.4 191.7,59 185.8,56.7 179.6,55.8 173.4,56.1 167.3,57.7 161.7,60.6 156.8,64.5 152.9,69.4 150,75 149.2,81.2 149.7,87.5 151.5,93.5 154.5,99 158.5,103.8 163.5,107.6 169.2,110.3 175.3,111.8 181.6,112 187.8,110.8 193.6,108.4 198.7,104.9 203.1,100.3 206.4,95 208.4,89 209.3,82.8 208.8,76.5 207,70.5 204,65 199.9,60.2 194.9,56.4 189.3,53.7 183.1,52.2 176.9,52.1 170.7,53.2 164.9,55.6 159.7,59.2 155.4,63.7 152.1,69.1 150,75 150,81.3 151.3,87.4 153.9,93.2 157.6,98.3 162.2,102.5 167.7,105.6 173.6,107.5 179.9,108.2 186.1,107.5 192.1,105.6 197.6,102.5 202.2,98.3 205.9,93.2 208.5,87.4 209.8,81.3 209.8,75 208.5,68.9 205.9,63.1 202.2,58 197.6,53.8 192.1,50.7 186.1,48.7 179.9,48.1 173.6,48.7 167.7,50.7 162.2,53.8 157.6,58 153.9,63.1 151.3,68.9 150,75 150.8,81.2 152.9,87.2 156.2,92.5 160.5,97.1 165.7,100.6 171.5,103 177.7,104.2 184,104 190.1,102.5 195.7,99.8 200.7,96 204.8,91.2 207.8,85.7 209.6,79.7 210.1,73.4 209.3,67.2 207.2,61.3 203.9,55.9 199.6,51.4 194.4,47.8 188.6,45.4 182.4,44.3 176.1,44.4 170,45.9 164.3,48.6 159.4,52.4 155.3,57.2 152.3,62.7 150.5,68.7 150,75 151.6,81.1 154.5,86.7 158.4,91.6 163.3,95.5 168.9,98.4 175,100 181.3,100.3 187.5,99.3 193.3,97.1 198.6,93.7 203,89.2 206.5,83.9 208.7,78.1 209.7,71.9 209.4,65.6 207.7,59.5 204.9,53.9 200.9,49 196.1,45.1 190.5,42.2 184.4,40.6 178.1,40.3 171.9,41.3 166,43.5 160.8,46.9 156.3,51.4 152.9,56.7 150.7,62.5 149.7,68.7 150,75 152.4,80.8 156,86 160.5,90.3 165.9,93.6 171.8,95.7 178,96.5 184.3,96 190.3,94.2 195.8,91.2 200.6,87.2 204.4,82.2 207.1,76.5 208.6,70.4 208.8,64.1 207.6,57.9 205.2,52.1 201.7,46.9 197.1,42.6 191.8,39.3 185.8,37.2 179.6,36.4 173.3,36.9 167.3,38.7 161.8,41.7 157,45.8 153.2,50.8 150.5,56.4 149,62.5 148.9,68.8 150,75 153.1,80.4 157.3,85.1 162.4,88.8 168.2,91.4 174.3,92.7 180.6,92.7 186.7,91.4 192.5,88.8 197.6,85.1 201.8,80.4 204.9,75 206.9,69 207.5,62.8 206.9,56.5 204.9,50.6 201.8,45.1 197.6,40.4 192.5,36.7 186.7,34.2 180.6,32.9 174.3,32.9 168.2,34.2 162.4,36.7 157.3,40.4 153.1,45.1 150,50.6 148.1,56.5 147.4,62.8 148.1,69 150,75 153.8,80 158.6,84.1 164.1,87.1 170.1,88.8 176.4,89.3 182.6,88.5 188.6,86.4 193.9,83.1 198.5,78.8 202,73.6 204.4,67.8 205.6,61.7 205.4,55.4 204,49.3 201.3,43.6 197.4,38.6 192.6,34.5 187.1,31.5 181.1,29.7 174.8,29.3 168.6,30.1 162.7,32.2 157.3,35.5 152.8,39.8 149.2,45 146.8,50.8 145.7,56.9 145.8,63.2 147.3,69.3 150,75 154.4,79.4 159.7,82.9 165.6,85.1 171.8,86.1 178.1,85.8 184.1,84.1 189.7,81.3 194.6,77.3 198.6,72.5 201.4,66.9 203,60.8 203.4,54.5 202.4,48.3 200.1,42.4 196.7,37.2 192.3,32.7 187,29.3 181.1,27.1 174.9,26.1 168.7,26.4 162.6,28 157,30.9 152.1,34.8 148.2,39.7 145.3,45.3 143.7,51.4 143.3,57.7 144.3,63.9 146.6,69.7 150,75 155,78.8 160.7,81.5 166.8,83 173,83.2 179.2,82 185,79.6 190.2,76.1 194.5,71.5 197.8,66.1 199.9,60.2 200.7,54 200.2,47.7 198.5,41.7 195.5,36.2 191.4,31.4 186.4,27.6 180.7,24.9 174.6,23.4 168.3,23.2 162.2,24.4 156.3,26.8 151.2,30.3 146.8,34.9 143.6,40.3 141.5,46.2 140.6,52.4 141.1,58.7 142.9,64.7 145.9,70.2 150,75 155.4,78.1 161.4,80.1 167.7,80.7 173.9,80.1 179.9,78.1 185.3,75 190,70.8 193.7,65.7 196.2,60 197.6,53.8 197.6,47.5 196.2,41.4 193.7,35.7 190,30.6 185.3,26.4 179.9,23.2 173.9,21.3 167.7,20.6 161.4,21.3 155.4,23.2 150,26.4 145.3,30.6 141.6,35.7 139.1,41.4 137.8,47.5 137.8,53.8 139.1,60 141.6,65.7 145.3,70.8 150,75 155.8,77.4 162,78.5 168.3,78.4 174.4,76.9 180,74.2 185,70.4 189.1,65.6 192.1,60.1 193.9,54.1 194.4,47.8 193.6,41.6 191.5,35.6 188.2,30.3 183.9,25.7 178.7,22.2 172.9,19.8 166.7,18.6 160.4,18.8 154.3,20.3 148.6,23 143.7,26.8 139.6,31.6 136.6,37.1 134.8,43.1 134.3,49.4 135.1,55.6 137.2,61.5 140.5,66.9 144.8,71.4 150,75 156.1,76.6 162.3,77 168.5,76 174.4,73.7 179.7,70.3 184.1,65.9 187.5,60.6 189.8,54.7 190.8,48.5 190.5,42.2 188.8,36.2 186,30.6 182,25.7 177.1,21.7 171.5,18.9 165.5,17.3 159.2,16.9 153,17.9 147.1,20.2 141.9,23.6 137.4,28 134,33.3 131.7,39.2 130.8,45.4 131.1,51.6 132.7,57.7 135.6,63.3 139.5,68.2 144.4,72.1 150,75 156.2,75.8 162.5,75.3 168.5,73.5 174,70.5 178.8,66.5 182.6,61.5 185.3,55.8 186.8,49.7 187,43.4 185.8,37.2 183.4,31.4 179.9,26.3 175.3,21.9 170,18.6 164,16.6 157.8,15.7 151.5,16.2 145.5,18 140,21 135.2,25.1 131.4,30.1 128.7,35.7 127.2,41.9 127.1,48.1 128.2,54.3 130.6,60.1 134.2,65.3 138.7,69.6 144.1,72.9 150,75\" />'\n",
       "\n",
       "<g transform=\"rotate(-90.0,150.0,75.0) translate(150.0, 75.0)\">\n",
       "    <circle stroke=\"#63A375\" stroke-width=\"2\" fill=\"transparent\" r=\"5.5\" cx=\"0\" cy=\"0\"/>\n",
       "    <polygon points=\"0,12 2,9 -2,9\" style=\"fill:#63A375;stroke:#63A375;stroke-width:2\"/>\n",
       "</g>\n",
       "\n",
       "</svg>"
      ],
      "text/plain": [
       "<IPython.core.display.HTML object>"
      ]
     },
     "metadata": {},
     "output_type": "display_data"
    }
   ],
   "source": [
    "#multi circle\n",
    "make_turtle(delay = 0.001)\n",
    "\n",
    "#range * left must equal 360 in order to make a full circle\n",
    "for i in range(48):\n",
    "    circle(30)\n",
    "    left(7.5)"
   ]
  },
  {
   "cell_type": "code",
   "execution_count": 26,
   "id": "1274c1b3",
   "metadata": {},
   "outputs": [
    {
     "data": {
      "text/html": [
       "<svg width=\"300\" height=\"150\" style=\"fill:none; stroke-linecap:round;\">\n",
       "    <rect width=\"100%\" height=\"100%\" fill=\"#F3F3F7\" />\n",
       "\n",
       "\n",
       "<path stroke=\"#663399\" stroke-width=\"2\" d=\"M 150,75 159,75 167.6,72.2 174.8,66.9 180.1,59.6 182.9,51.1 182.9,42.1 180.1,33.5 174.8,26.2 167.6,21 159,18.2 150,18.2 141.4,21 134.2,26.2 128.9,33.5 126.1,42.1 126.1,51.1 128.9,59.6 134.2,66.9 141.4,72.2 150,75 152.9,75 155.7,74.9 158.5,74.7 161.4,74.3 164.2,73.8 167,73.3 169.7,72.6 172.5,71.8 175.2,70.9 177.8,69.8 180.5,68.7 183,67.5 185.5,66.1 188,64.7 190.4,63.2 192.7,61.5 195,59.8 197.2,58 199.3,56.1 201.4,54.1 203.3,52 205.2,49.9 207,47.6 208.7,45.3 210.2,43 211.7,40.5 213.1,38.1 214.4,35.5 215.6,32.9 216.7,30.3 217.4,28.3 217.7,26.2 217.6,24.2 217,22.1 216,20.3 214.7,18.7 213,17.4 211.1,16.5 209.1,16 207,15.9 204.9,16.3 203,17 201.3,18.2 199.8,19.7 198.7,21.5 198,23.5 197.7,25.5 197.8,27.6 198.4,29.6 199.4,31.5 200.7,33.1 202.4,34.4 204.3,35.3 206.3,35.8 208.4,35.9 210.5,35.5 212.4,34.7 214.1,33.6 215.6,32.1 216.7,30.3\" />'\n",
       "\n",
       "<g transform=\"rotate(200.0,216.7,30.3) translate(216.7, 30.3)\">\n",
       "    <circle stroke=\"#63A375\" stroke-width=\"2\" fill=\"transparent\" r=\"5.5\" cx=\"0\" cy=\"0\"/>\n",
       "    <polygon points=\"0,12 2,9 -2,9\" style=\"fill:#63A375;stroke:#63A375;stroke-width:2\"/>\n",
       "</g>\n",
       "\n",
       "</svg>"
      ],
      "text/plain": [
       "<IPython.core.display.HTML object>"
      ]
     },
     "metadata": {},
     "output_type": "display_data"
    }
   ],
   "source": [
    "#perfect snail\n",
    "make_turtle(delay = 0.02)\n",
    "polygon(n=20, length=9)\n",
    "arc(radius=70, angle=70)\n",
    "circle(radius=10)"
   ]
  },
  {
   "cell_type": "code",
   "execution_count": 27,
   "id": "25a70096",
   "metadata": {},
   "outputs": [
    {
     "data": {
      "text/html": [
       "<svg width=\"300\" height=\"150\" style=\"fill:none; stroke-linecap:round;\">\n",
       "    <rect width=\"100%\" height=\"100%\" fill=\"#F3F3F7\" />\n",
       "\n",
       "\n",
       "<path stroke=\"blue\" stroke-width=\"10\" d=\"M 150,75 180,75\" />'\n",
       "\n",
       "<path stroke=\"lightblue\" stroke-width=\"10\" d=\"M 180,75 195,49\" />'\n",
       "\n",
       "<path stroke=\"black\" stroke-width=\"10\" d=\"M 195,49 180,23\" />'\n",
       "\n",
       "<path stroke=\"skyblue\" stroke-width=\"10\" d=\"M 180,23 150,23\" />'\n",
       "\n",
       "<path stroke=\"navy\" stroke-width=\"10\" d=\"M 150,23 135,49\" />'\n",
       "\n",
       "<path stroke=\"indigo\" stroke-width=\"10\" d=\"M 135,49 150,75\" />'\n",
       "\n",
       "<g transform=\"rotate(-90.0,150.0,75.0) translate(150.0, 75.0)\">\n",
       "    <circle stroke=\"#63A375\" stroke-width=\"2\" fill=\"transparent\" r=\"5.5\" cx=\"0\" cy=\"0\"/>\n",
       "    <polygon points=\"0,12 2,9 -2,9\" style=\"fill:#63A375;stroke:#63A375;stroke-width:2\"/>\n",
       "</g>\n",
       "\n",
       "</svg>"
      ],
      "text/plain": [
       "<IPython.core.display.HTML object>"
      ]
     },
     "metadata": {},
     "output_type": "display_data"
    }
   ],
   "source": [
    "make_turtle(delay=0.02)\n",
    "\n",
    "colors = 'blue lightblue black skyblue navy indigo'.split()\n",
    "set_width(10)\n",
    "for col in colors:\n",
    "    set_color(col)\n",
    "    forward(30)\n",
    "    left(360 / len(colors))\n"
   ]
  },
  {
   "cell_type": "code",
   "execution_count": 28,
   "id": "d053896b",
   "metadata": {},
   "outputs": [
    {
     "data": {
      "text/html": [
       "<svg width=\"300\" height=\"150\" style=\"fill:none; stroke-linecap:round;\">\n",
       "    <rect width=\"100%\" height=\"100%\" fill=\"#F3F3F7\" />\n",
       "\n",
       "\n",
       "<path stroke=\"brown\" stroke-width=\"2\" d=\"M 150,75 150.1,75 150.1,75 150.2,75 150.2,75 150.3,75 150.3,75 150.4,75 150.5,75 150.5,75 150.6,75 150.6,75 150.7,75 150.8,74.9 150.8,74.9 150.9,74.9 150.9,74.9 151,74.9 151,74.9 151.1,74.9 151.2,74.9 151.2,74.9 151.3,74.8 151.3,74.8 151.4,74.8 151.4,74.8 151.5,74.8 151.5,74.8 151.6,74.7 151.7,74.7 151.7,74.7 151.8,74.7 151.8,74.7 151.9,74.6 152,74.6 152,74.6 152.1,74.6 152.2,74.5 152.2,74.5 152.3,74.5 152.4,74.4 152.4,74.4 152.5,74.4 152.5,74.3 152.6,74.3 152.7,74.3 152.7,74.2 152.8,74.2 152.8,74.2 152.9,74.1 153,74.1 153,74.1 153.1,74 153.1,74 153.2,73.9 153.2,73.9 153.3,73.9 153.4,73.8 153.4,73.8 153.5,73.7 153.5,73.7 153.6,73.6 153.6,73.6 153.7,73.5 153.8,73.5 153.8,73.4 153.9,73.4 153.9,73.3 154,73.2 154.1,73.2 154.1,73.1 154.2,73.1 154.2,73 154.3,72.9 154.3,72.9 154.4,72.8 154.4,72.8 154.5,72.7 154.5,72.6 154.6,72.6 154.6,72.5 154.7,72.4 154.7,72.4 154.8,72.3 154.8,72.2 154.9,72.2 154.9,72.1 155,72 155,72 155.1,71.9 155.1,71.8 155.1,71.7 155.2,71.7 155.2,71.6 155.3,71.5 155.3,71.4 155.4,71.3 155.4,71.2 155.4,71.2 155.5,71.1 155.5,71 155.6,70.9 155.6,70.8 155.6,70.7 155.7,70.7 155.7,70.6 155.7,70.5 155.8,70.4 155.8,70.3 155.8,70.2 155.8,70.1 155.9,70 155.9,69.9 155.9,69.9 155.9,69.8 156,69.7 156,69.6 156,69.5 156,69.4 156,69.3 156.1,69.2 156.1,69.1 156.1,69 156.1,68.9 156.1,68.8 156.1,68.7 156.2,68.6 156.2,68.5 156.2,68.4 156.2,68.3 156.2,68.2 156.2,68.1 156.2,68 156.2,67.9 156.2,67.8 156.2,67.7 156.2,67.6 156.2,67.4 156.2,67.3 156.2,67.2 156.2,67.1 156.2,67 156.2,66.9 156.2,66.8 156.2,66.7 156.2,66.6 156.1,66.5 156.1,66.4 156.1,66.3 156.1,66.2 156.1,66.1 156.1,66 156,65.9 156,65.7 156,65.6 156,65.5 155.9,65.4 155.9,65.3 155.9,65.2 155.9,65.1 155.8,65 155.8,64.8 155.7,64.7 155.7,64.6 155.7,64.5 155.6,64.4 155.6,64.3 155.6,64.2 155.5,64.1 155.5,64 155.4,63.9 155.4,63.8 155.3,63.7 155.3,63.5 155.2,63.4 155.2,63.3 155.1,63.2 155.1,63.1 155,63 155,62.9 154.9,62.8 154.8,62.7 154.8,62.6 154.7,62.5 154.6,62.4 154.6,62.3 154.5,62.2 154.4,62.1 154.4,62 154.3,61.9 154.2,61.7 154.1,61.6 154.1,61.5 154,61.4 153.9,61.3 153.8,61.2 153.7,61.1 153.7,61.1 153.6,61 153.5,60.9 153.4,60.8 153.3,60.7 153.2,60.6 153.1,60.5 153,60.4 152.9,60.3 152.9,60.2 152.8,60.1 152.7,60 152.6,60 152.5,59.9 152.4,59.8 152.3,59.7 152.1,59.6 152,59.5 151.9,59.4 151.8,59.4 151.7,59.3 151.6,59.2 151.5,59.1 151.4,59 151.2,59 151.1,58.9 151,58.8 150.9,58.7 150.8,58.7 150.6,58.6 150.5,58.5 150.4,58.5 150.3,58.4 150.2,58.3 150,58.3 149.9,58.2 149.8,58.2 149.6,58.1 149.5,58 149.4,58 149.3,57.9 149.1,57.9 149,57.8 148.9,57.8 148.7,57.7 148.6,57.7 148.4,57.6 148.3,57.6 148.2,57.5 148,57.5 147.9,57.4 147.7,57.4 147.6,57.4 147.4,57.3 147.3,57.3 147.1,57.3 147,57.2 146.8,57.2 146.7,57.2 146.5,57.2 146.4,57.1 146.2,57.1 146.1,57.1 145.9,57.1 145.8,57 145.6,57 145.5,57 145.3,57 145.2,57 145,57 144.9,57 144.7,57 144.6,57 144.4,57 144.3,57 144.1,57 143.9,57 143.8,57 143.6,57 143.5,57 143.3,57 143.1,57 143,57 142.8,57.1 142.6,57.1 142.5,57.1 142.3,57.1 142.2,57.1 142,57.2 141.8,57.2 141.7,57.2 141.5,57.3 141.4,57.3 141.2,57.3 141,57.4 140.9,57.4 140.7,57.4 140.6,57.5 140.4,57.5 140.3,57.6 140.1,57.6 139.9,57.7 139.8,57.7 139.6,57.8 139.5,57.8 139.3,57.9 139.2,58 139,58 138.8,58.1 138.7,58.2 138.5,58.2 138.3,58.3 138.2,58.4 138,58.5 137.9,58.5 137.7,58.6 137.6,58.7 137.4,58.8 137.3,58.9 137.1,59 137,59.1 136.8,59.1 136.7,59.2 136.5,59.3 136.4,59.4 136.2,59.5 136.1,59.6 135.9,59.7 135.8,59.8 135.7,59.9 135.5,60 135.4,60.1 135.2,60.3 135.1,60.4 135,60.5 134.8,60.6 134.7,60.7 134.6,60.9 134.4,61 134.3,61.1 134.1,61.2 134,61.4 133.9,61.5 133.8,61.6 133.6,61.8 133.5,61.9 133.4,62 133.3,62.2 133.1,62.3 133,62.5 132.9,62.6 132.8,62.8 132.7,62.9 132.5,63 132.4,63.2 132.3,63.3 132.2,63.5 132.1,63.7 132,63.8 131.9,64 131.8,64.1 131.7,64.3 131.6,64.4 131.5,64.6 131.4,64.8 131.3,64.9 131.2,65.1 131.1,65.3 131,65.5 131,65.6 130.9,65.8 130.8,66 130.7,66.2 130.6,66.4 130.5,66.5 130.5,66.7 130.4,66.9 130.3,67.1 130.2,67.3 130.2,67.5 130.1,67.6 130.1,67.8 130,68 129.9,68.2 129.9,68.4 129.8,68.6 129.8,68.8 129.7,69 129.7,69.2 129.6,69.4 129.6,69.6 129.5,69.7 129.5,69.9 129.5,70.1 129.4,70.3 129.4,70.5 129.4,70.8 129.3,71 129.3,71.2 129.3,71.4 129.3,71.6 129.2,71.8 129.2,72 129.2,72.2 129.2,72.4 129.2,72.6 129.2,72.8 129.2,73 129.2,73.3 129.2,73.5 129.2,73.7 129.2,73.9 129.2,74.1 129.2,74.3 129.2,74.5 129.2,74.7 129.2,74.9 129.3,75.1 129.3,75.3 129.3,75.6 129.3,75.8 129.4,76 129.4,76.2 129.4,76.4 129.5,76.6 129.5,76.8 129.6,77 129.6,77.3 129.6,77.5 129.7,77.7 129.8,77.9 129.8,78.1 129.9,78.3 129.9,78.5 130,78.8 130.1,79 130.1,79.2 130.2,79.4 130.3,79.6 130.3,79.8 130.4,80 130.5,80.2 130.6,80.4 130.7,80.6 130.8,80.8 130.8,81 130.9,81.2 131,81.4 131.1,81.6 131.2,81.8 131.3,82 131.4,82.2 131.5,82.4 131.7,82.6 131.8,82.8 131.9,83 132,83.2 132.1,83.4 132.3,83.6 132.4,83.8 132.5,84 132.6,84.2 132.8,84.4 132.9,84.5 133.1,84.7 133.2,84.9 133.3,85.1 133.5,85.3 133.6,85.5 133.8,85.6 133.9,85.8 134.1,86 134.2,86.2 134.4,86.3 134.6,86.5 134.7,86.7 134.9,86.8 135.1,87 135.2,87.2 135.4,87.3 135.6,87.5 135.7,87.6 135.9,87.8 136.1,87.9 136.3,88.1 136.5,88.3 136.7,88.4 136.8,88.6 137,88.7 137.2,88.9 137.4,89 137.6,89.1 137.8,89.3 138,89.4 138.2,89.5 138.4,89.7 138.7,89.8 138.9,89.9 139.1,90.1 139.3,90.2 139.5,90.3 139.7,90.4 139.9,90.5 140.1,90.6 140.4,90.8 140.6,90.9 140.8,91 141,91.1 141.2,91.2 141.5,91.3 141.7,91.4 141.9,91.5 142.2,91.5 142.4,91.6 142.6,91.7 142.9,91.8 143.1,91.9 143.3,92 143.6,92 143.8,92.1 144.1,92.2 144.3,92.3 144.6,92.3 144.8,92.4 145.1,92.4 145.3,92.5 145.6,92.5 145.8,92.6 146.1,92.6 146.3,92.7 146.6,92.7 146.8,92.8 147.1,92.8 147.3,92.8 147.6,92.9 147.9,92.9 148.1,92.9 148.4,92.9 148.6,93 148.9,93 149.1,93 149.4,93 149.6,93 149.9,93 150.2,93 150.4,93 150.7,93 151,93 151.2,93 151.5,93 151.8,92.9 152,92.9 152.3,92.9 152.6,92.9 152.8,92.8 153.1,92.8 153.4,92.8 153.6,92.7 153.9,92.7 154.2,92.6 154.4,92.6 154.7,92.5 154.9,92.5 155.2,92.4 155.5,92.3 155.7,92.3 156,92.2 156.2,92.1 156.5,92.1 156.8,92 157,91.9 157.3,91.8 157.5,91.7 157.8,91.7 158,91.6 158.3,91.5 158.6,91.4 158.8,91.3 159.1,91.2 159.3,91 159.6,90.9 159.8,90.8 160.1,90.7 160.3,90.6 160.6,90.4 160.8,90.3 161.1,90.2 161.3,90 161.6,89.9 161.8,89.8 162.1,89.6 162.3,89.5 162.5,89.3 162.8,89.2 163,89 163.2,88.9 163.5,88.7 163.7,88.6 163.9,88.4 164.1,88.2 164.4,88.1 164.6,87.9 164.8,87.7 165,87.5 165.2,87.3 165.5,87.2 165.7,87 165.9,86.8 166.1,86.6 166.3,86.4 166.5,86.2 166.7,86 166.9,85.8 167.1,85.6 167.3,85.3 167.5,85.1 167.7,84.9 167.9,84.7 168.1,84.5 168.3,84.2 168.5,84 168.7,83.8 168.8,83.6 169,83.3 169.2,83.1 169.4,82.9 169.5,82.6 169.7,82.4 169.9,82.1 170,81.9 170.2,81.7 170.3,81.4 170.5,81.2 170.6,80.9 170.8,80.7 170.9,80.4 171.1,80.1 171.2,79.9 171.4,79.6 171.5,79.3 171.6,79 171.8,78.8 171.9,78.5 172,78.2 172.1,77.9 172.2,77.7 172.4,77.4 172.5,77.1 172.6,76.8 172.7,76.5 172.8,76.2 172.9,76 173,75.7 173.1,75.4 173.1,75.1 173.2,74.8 173.3,74.5 173.4,74.2 173.5,73.9 173.5,73.6 173.6,73.3 173.7,73 173.7,72.7 173.8,72.4 173.8,72.1 173.9,71.8 173.9,71.5 174,71.2 174,70.9 174,70.6 174.1,70.3 174.1,70 174.1,69.6 174.2,69.3 174.2,69 174.2,68.7 174.2,68.4 174.2,68.1 174.2,67.8 174.2,67.4 174.2,67.1 174.2,66.8 174.2,66.5 174.2,66.2 174.2,65.9 174.1,65.6 174.1,65.3 174.1,64.9 174,64.6 174,64.3 174,64 173.9,63.7 173.9,63.4 173.8,63.1 173.8,62.7 173.7,62.4 173.6,62.1 173.6,61.8 173.5,61.5 173.4,61.2 173.4,60.8 173.3,60.5 173.2,60.2 173.1,59.9 173,59.6 172.9,59.3 172.8,59 172.7,58.7 172.6,58.3 172.5,58 172.4,57.7 172.2,57.4 172.1,57.1 172,56.8 171.9,56.5 171.7,56.2 171.6,55.9 171.5,55.6 171.3,55.4 171.2,55.1 171,54.8 170.9,54.5 170.7,54.2 170.6,53.9 170.4,53.6 170.2,53.3 170,53 169.9,52.8 169.7,52.5 169.5,52.2 169.3,51.9 169.1,51.6 168.9,51.4 168.7,51.1 168.5,50.8 168.3,50.5 168.1,50.3 167.9,50 167.7,49.8 167.5,49.5 167.2,49.2 167,49 166.8,48.7 166.6,48.5 166.3,48.2 166.1,48 165.9,47.8 165.6,47.5 165.4,47.3 165.1,47.1 164.9,46.8 164.6,46.6 164.4,46.4 164.1,46.2 163.9,45.9 163.6,45.7 163.3,45.5 163,45.3 162.8,45.1 162.5,44.9 162.2,44.7 161.9,44.5 161.6,44.3 161.3,44.1 161,43.9 160.8,43.7 160.5,43.5 160.2,43.3 159.9,43.1 159.6,43 159.2,42.8 158.9,42.6 158.6,42.5 158.3,42.3 158,42.1 157.7,42 157.4,41.8 157.1,41.7 156.7,41.6 156.4,41.4 156.1,41.3 155.8,41.1 155.5,41 155.1,40.9 154.8,40.8 154.5,40.7 154.1,40.5 153.8,40.4 153.4,40.3 153.1,40.2 152.7,40.1 152.4,40 152,39.9 151.7,39.8 151.3,39.8 151,39.7 150.6,39.6 150.3,39.5 149.9,39.5 149.6,39.4 149.2,39.3 148.9,39.3 148.5,39.2 148.1,39.2 147.8,39.2 147.4,39.1 147.1,39.1 146.7,39.1 146.3,39 146,39 145.6,39 145.3,39 144.9,39 144.5,39 144.2,39 143.8,39 143.4,39 143,39 142.7,39 142.3,39 141.9,39.1 141.6,39.1 141.2,39.1 140.8,39.2 140.5,39.2 140.1,39.3 139.7,39.3 139.3,39.4 139,39.4 138.6,39.5 138.2,39.6 137.9,39.6 137.5,39.7 137.2,39.8 136.8,39.9 136.4,40 136.1,40.1 135.7,40.2 135.4,40.3 135,40.4 134.6,40.5 134.3,40.6 133.9,40.7 133.6,40.8 133.2,41 132.9,41.1 132.5,41.2 132.1,41.4 131.8,41.5 131.4,41.7 131.1,41.8 130.7,42 130.4,42.2 130,42.3 129.7,42.5 129.4,42.7 129,42.9 128.7,43 128.4,43.2 128,43.4 127.7,43.6 127.4,43.8 127,44 126.7,44.2 126.4,44.4 126.1,44.7 125.8,44.9 125.4,45.1 125.1,45.3 124.8,45.6 124.5,45.8 124.2,46 123.9,46.3 123.6,46.5 123.3,46.8 123,47 122.7,47.3 122.4,47.5 122.1,47.8 121.9,48.1 121.6,48.4 121.3,48.6 121,48.9 120.7,49.2 120.5,49.5 120.2,49.8 119.9,50.1 119.7,50.4 119.4,50.7 119.2,51 118.9,51.3 118.7,51.6 118.4,51.9 118.2,52.2 117.9,52.5 117.7,52.9 117.5,53.2 117.3,53.5 117,53.8 116.8,54.2 116.6,54.5 116.4,54.8 116.2,55.2 116,55.5 115.8,55.9 115.6,56.2 115.4,56.6 115.2,56.9 115,57.3 114.8,57.7 114.6,58 114.5,58.4 114.3,58.8 114.1,59.1 114,59.5 113.8,59.9 113.7,60.3 113.5,60.6 113.4,61 113.2,61.4 113.1,61.8 113,62.2 112.8,62.6 112.7,63 112.6,63.3 112.5,63.7 112.4,64.1 112.3,64.5 112.2,64.9 112.1,65.3 112,65.7 111.9,66.1 111.8,66.5 111.8,66.9 111.7,67.3 111.6,67.7 111.6,68.1 111.5,68.6 111.4,69 111.4,69.4 111.3,69.8 111.3,70.2 111.3,70.6 111.2,71.1 111.2,71.5 111.2,71.9 111.2,72.3 111.2,72.7 111.2,73.2 111.2,73.6 111.2,74 111.2,74.4 111.2,74.8 111.2,75.2 111.2,75.7 111.3,76.1 111.3,76.5 111.3,76.9 111.4,77.3 111.4,77.8 111.5,78.2 111.6,78.6 111.6,79 111.7,79.4 111.8,79.8 111.8,80.3 111.9,80.7 112,81.1 112.1,81.5 112.2,81.9 112.3,82.4 112.4,82.8 112.5,83.2 112.7,83.6 112.8,84 112.9,84.4 113,84.8 113.2,85.2 113.3,85.6 113.5,86.1 113.6,86.5 113.8,86.9 113.9,87.3 114.1,87.7 114.3,88 114.4,88.4 114.6,88.8 114.8,89.2 115,89.6 115.2,90 115.4,90.4 115.6,90.8 115.8,91.1 116,91.5 116.2,91.9 116.5,92.3 116.7,92.6 116.9,93 117.2,93.4 117.4,93.8 117.6,94.1 117.9,94.5 118.2,94.9 118.4,95.2 118.7,95.6 118.9,95.9 119.2,96.3 119.5,96.6 119.8,97 120.1,97.3 120.3,97.6 120.6,98 120.9,98.3 121.2,98.6 121.5,98.9 121.8,99.3 122.2,99.6 122.5,99.9 122.8,100.2 123.1,100.5 123.4,100.8 123.8,101.1 124.1,101.4 124.4,101.7 124.8,102 125.1,102.2 125.5,102.5 125.8,102.8 126.2,103.1 126.6,103.4 126.9,103.6 127.3,103.9 127.7,104.1 128.1,104.4 128.4,104.6 128.8,104.9 129.2,105.1 129.6,105.4 130,105.6 130.4,105.8 130.8,106 131.2,106.3 131.6,106.5 132,106.7 132.4,106.9 132.8,107.1 133.2,107.3 133.6,107.5 134,107.7 134.4,107.8 134.9,108 135.3,108.2 135.7,108.3 136.1,108.5\" />'\n",
       "\n",
       "<path stroke=\"green\" stroke-width=\"2\" d=\"M 136.1,108.5 138.8,109.5 141.5,110.3 144.3,111.1 147,111.7 149.8,112.3 152.7,112.7 155.5,113 158.3,113.2 161.2,113.2 164,113.2 166.9,113 169.7,112.7 172.6,112.3 175.4,111.8 178.1,111.2 180.9,110.5 183.6,109.6 186.3,108.7 188.9,107.6 191.5,106.4 194.1,105.1 196.6,103.7 199,102.3 201.4,100.7 203.7,99 205.9,97.2 208.1,95.4 210.2,93.4 212.2,91.4 214.1,89.3 215.4,87.7 216.4,85.9 217,83.8 217.2,81.8 216.9,79.7 216.1,77.7 215,75.9 213.6,74.4 211.8,73.3 209.9,72.5 207.8,72.1 205.7,72.2 203.7,72.7 201.8,73.6 200.2,74.9 198.8,76.5 197.9,78.3 197.3,80.4 197.1,82.4 197.4,84.5 198.1,86.5 199.2,88.3 200.7,89.8 202.4,90.9 204.4,91.7 206.4,92.1 208.5,92 210.6,91.5 212.5,90.6 214.1,89.3\" />'\n",
       "\n",
       "</svg>"
      ],
      "text/plain": [
       "<IPython.core.display.HTML object>"
      ]
     },
     "metadata": {},
     "output_type": "display_data"
    }
   ],
   "source": [
    "from jupyturtle import make_turtle, forward, left, set_color, hide\n",
    "import math\n",
    "\n",
    "def spiral_shell(turns, initial_radius, growth_factor, angle_step):\n",
    "    \"\"\"Draws a spiral by increasing the radius gradually.\"\"\"\n",
    "    radius = initial_radius\n",
    "    for _ in range(turns):\n",
    "        arc(radius, angle_step)  # Draw a small arc segment\n",
    "        radius += growth_factor  # Increase radius to create the spiral effect\n",
    "\n",
    "def snail():\n",
    "    make_turtle(delay=0.001)\n",
    "    hide()\n",
    "    \n",
    "    # Shell spiral (more realistic)\n",
    "    set_color(\"brown\")\n",
    "    spiral_shell(turns=35, initial_radius=5, growth_factor=1, angle_step=20)\n",
    "    \n",
    "    # Snail's body\n",
    "    set_color(\"green\")\n",
    "    arc(radius=70, angle=70)  # Body curve\n",
    "    \n",
    "    # Snail's head\n",
    "    circle(radius=10)  # Small circle for the head\n",
    "\n",
    "# Run the snail function\n",
    "snail()\n"
   ]
  },
  {
   "cell_type": "code",
   "execution_count": 29,
   "id": "7eecadc3",
   "metadata": {},
   "outputs": [
    {
     "data": {
      "text/html": [
       "<svg width=\"300\" height=\"150\" style=\"fill:none; stroke-linecap:round;\">\n",
       "    <rect width=\"100%\" height=\"100%\" fill=\"#F3F3F7\" />\n",
       "\n",
       "\n",
       "<path stroke=\"#663399\" stroke-width=\"2\" d=\"M 150,75 152.6,75 155.2,74.9 157.8,74.6 160.4,74.2 163,73.6 165.5,73 168,72.1 170.4,71.2 172.8,70.1 175.2,69 177.4,67.6 179.6,66.2 181.8,64.7 183.8,63 185.7,61.3 187.6,59.4 189.3,57.5 191,55.5 192.5,53.3 193.9,51.1 195.3,48.9 196.4,46.5 197.5,44.1 198.4,41.7 199.3,39.2 199.9,36.7 200.5,34.1 200.9,31.5 201.2,28.9 201.3,26.3 198.7,26.3 196.1,26.5 193.5,26.7 190.9,27.1 188.3,27.7 185.8,28.4 183.3,29.2 180.9,30.1 178.5,31.2 176.1,32.4 173.9,33.7 171.7,35.1 169.5,36.6 167.5,38.3 165.6,40 163.7,41.9 162,43.8 160.3,45.9 158.8,48 157.4,50.2 156,52.4 154.9,54.8 153.8,57.2 152.9,59.6 152,62.1 151.4,64.6 150.8,67.2 150.4,69.8 150.1,72.4 150,75\" />'\n",
       "\n",
       "<g transform=\"rotate(-90.0,150.0,75.0) translate(150.0, 75.0)\">\n",
       "    <circle stroke=\"#63A375\" stroke-width=\"2\" fill=\"transparent\" r=\"5.5\" cx=\"0\" cy=\"0\"/>\n",
       "    <polygon points=\"0,12 2,9 -2,9\" style=\"fill:#63A375;stroke:#63A375;stroke-width:2\"/>\n",
       "</g>\n",
       "\n",
       "</svg>"
      ],
      "text/plain": [
       "<IPython.core.display.HTML object>"
      ]
     },
     "metadata": {},
     "output_type": "display_data"
    }
   ],
   "source": [
    "def polyline(n, length, angle):\n",
    "    for i in range(n):\n",
    "        forward(length)\n",
    "        left(angle)\n",
    "\n",
    "def arc(radius, angle):\n",
    "    arc_length = 2 * math.pi * radius * angle / 360\n",
    "    n = 30\n",
    "    length = arc_length / n\n",
    "    step_angle = angle / n\n",
    "    polyline(n, length, step_angle)\n",
    "\n",
    "def circle(radius):\n",
    "    arc(radius, 360)\n",
    "\n",
    "def petal(radius, angle):\n",
    "    for i in range(2):\n",
    "        arc(radius, angle)\n",
    "        left(180 - angle)\n",
    "\n",
    "make_turtle(delay = 0.02)\n",
    "petal(50, 90)"
   ]
  },
  {
   "cell_type": "code",
   "execution_count": 36,
   "id": "0ca46438",
   "metadata": {},
   "outputs": [
    {
     "data": {
      "text/html": [
       "<svg width=\"300\" height=\"150\" style=\"fill:none; stroke-linecap:round;\">\n",
       "    <rect width=\"100%\" height=\"100%\" fill=\"#F3F3F7\" />\n",
       "\n",
       "\n",
       "<path stroke=\"#663399\" stroke-width=\"2\" d=\"M 150,75 152.6,75 155.2,74.9 157.8,74.6 160.4,74.2 163,73.6 165.5,73 168,72.1 170.4,71.2 172.8,70.1 175.2,69 177.4,67.6 179.6,66.2 181.8,64.7 183.8,63 185.7,61.3 187.6,59.4 189.3,57.5 191,55.5 192.5,53.3 193.9,51.1 195.3,48.9 196.4,46.5 197.5,44.1 198.4,41.7 199.3,39.2 199.9,36.7 200.5,34.1 200.9,31.5 201.2,28.9 201.3,26.3 198.7,26.3 196.1,26.5 193.5,26.7 190.9,27.1 188.3,27.7 185.8,28.4 183.3,29.2 180.9,30.1 178.5,31.2 176.1,32.4 173.9,33.7 171.7,35.1 169.5,36.6 167.5,38.3 165.6,40 163.7,41.9 162,43.8 160.3,45.9 158.8,48 157.4,50.2 156,52.4 154.9,54.8 153.8,57.2 152.9,59.6 152,62.1 151.4,64.6 150.8,67.2 150.4,69.8 150.1,72.4 150,75 152.1,73.5 154.2,71.8 156.1,70.1 157.9,68.2 159.7,66.3 161.3,64.2 162.9,62.1 164.3,59.9 165.6,57.6 166.8,55.3 167.9,52.9 168.8,50.5 169.6,48 170.3,45.5 170.8,42.9 171.3,40.3 171.5,37.7 171.7,35.1 171.7,32.5 171.5,29.9 171.3,27.3 170.8,24.7 170.3,22.1 169.6,19.6 168.8,17.1 167.9,14.7 166.8,12.3 165.6,9.9 164.3,7.7 162.9,5.5 160.8,7 158.7,8.7 156.8,10.4 154.9,12.3 153.2,14.2 151.5,16.2 150,18.4 148.6,20.5 147.3,22.8 146.1,25.1 145,27.5 144.1,30 143.3,32.5 142.6,35 142,37.6 141.6,40.1 141.4,42.8 141.2,45.4 141.2,48 141.4,50.6 141.6,53.2 142,55.8 142.6,58.4 143.3,60.9 144.1,63.4 145,65.8 146.1,68.2 147.3,70.5 148.6,72.8 150,75 150.8,72.5 151.5,70 152,67.4 152.4,64.8 152.7,62.2 152.9,59.6 152.9,57 152.7,54.4 152.4,51.8 152,49.2 151.5,46.6 150.8,44.1 150,41.6 149.1,39.2 148,36.8 146.8,34.4 145.5,32.2 144.1,30 142.5,27.9 140.9,25.8 139.1,23.9 137.3,22 135.3,20.3 133.3,18.6 131.2,17.1 129,15.7 126.7,14.4 124.4,13.2 122,12.1 119.6,11.2 118.7,13.7 118.1,16.2 117.5,18.7 117.1,21.3 116.8,23.9 116.7,26.6 116.7,29.2 116.8,31.8 117.1,34.4 117.5,37 118.1,39.5 118.7,42.1 119.6,44.6 120.5,47 121.6,49.4 122.7,51.7 124.1,54 125.5,56.2 127,58.3 128.7,60.3 130.4,62.3 132.3,64.1 134.2,65.9 136.3,67.5 138.4,69.1 140.6,70.5 142.8,71.8 145.2,73 147.6,74.1 150,75 149.2,72.5 148.3,70.1 147.2,67.7 146,65.3 144.7,63.1 143.3,60.9 141.7,58.8 140.1,56.7 138.3,54.8 136.5,52.9 134.5,51.2 132.5,49.5 130.4,48 128.2,46.6 125.9,45.3 123.6,44.1 121.2,43 118.7,42.1 116.3,41.3 113.7,40.6 111.2,40 108.6,39.6 106,39.4 103.4,39.2 100.7,39.2 98.1,39.4 95.5,39.6 92.9,40 90.4,40.6 87.9,41.3 88.7,43.7 89.6,46.2 90.7,48.6 91.9,50.9 93.2,53.2 94.6,55.4 96.1,57.5 97.8,59.5 99.5,61.5 101.4,63.3 103.3,65.1 105.4,66.7 107.5,68.3 109.7,69.7 111.9,71 114.3,72.2 116.7,73.3 119.1,74.2 121.6,75 124.1,75.7 126.7,76.2 129.3,76.6 131.9,76.9 134.5,77 137.1,77 139.7,76.9 142.3,76.6 144.9,76.2 147.5,75.7 150,75 147.9,73.5 145.7,72 143.4,70.7 141.1,69.5 138.7,68.5 136.3,67.5 133.8,66.7 131.2,66 128.7,65.5 126.1,65.1 123.5,64.8 120.9,64.7 118.2,64.7 115.6,64.8 113,65.1 110.4,65.5 107.9,66 105.4,66.7 102.9,67.5 100.4,68.5 98,69.5 95.7,70.7 93.4,72 91.2,73.5 89.1,75 87.1,76.6 85.1,78.4 83.3,80.3 81.5,82.2 79.9,84.2 82,85.8 84.2,87.2 86.5,88.5 88.8,89.7 91.2,90.8 93.6,91.7 96.1,92.5 98.7,93.2 101.2,93.7 103.8,94.1 106.4,94.4 109,94.5 111.6,94.5 114.3,94.4 116.9,94.1 119.4,93.7 122,93.2 124.5,92.5 127,91.7 129.5,90.8 131.9,89.7 134.2,88.5 136.5,87.2 138.7,85.8 140.8,84.2 142.8,82.6 144.7,80.8 146.6,79 148.4,77 150,75 147.4,75 144.8,75.1 142.2,75.4 139.6,75.8 137,76.4 134.5,77 132,77.9 129.6,78.8 127.2,79.9 124.8,81 122.6,82.4 120.4,83.8 118.2,85.3 116.2,87 114.3,88.7 112.4,90.6 110.7,92.5 109,94.5 107.5,96.7 106.1,98.9 104.7,101.1 103.6,103.5 102.5,105.9 101.6,108.3 100.7,110.8 100.1,113.3 99.5,115.9 99.1,118.5 98.8,121.1 98.7,123.7 101.3,123.7 103.9,123.5 106.5,123.3 109.1,122.9 111.7,122.3 114.2,121.6 116.7,120.8 119.1,119.9 121.5,118.8 123.9,117.6 126.1,116.3 128.3,114.9 130.5,113.4 132.5,111.7 134.4,110 136.3,108.1 138,106.2 139.7,104.1 141.2,102 142.6,99.8 144,97.6 145.1,95.2 146.2,92.8 147.1,90.4 148,87.9 148.6,85.4 149.2,82.8 149.6,80.2 149.9,77.6 150,75 147.9,76.5 145.8,78.2 143.9,79.9 142.1,81.8 140.3,83.7 138.7,85.8 137.1,87.9 135.7,90.1 134.4,92.4 133.2,94.7 132.1,97.1 131.2,99.5 130.4,102 129.7,104.5 129.2,107.1 128.7,109.7 128.5,112.3 128.3,114.9 128.3,117.5 128.5,120.1 128.7,122.7 129.2,125.3 129.7,127.9 130.4,130.4 131.2,132.9 132.1,135.3 133.2,137.7 134.4,140.1 135.7,142.3 137.1,144.5 139.2,143 141.3,141.3 143.2,139.6 145.1,137.7 146.8,135.8 148.5,133.8 150,131.6 151.4,129.5 152.7,127.2 153.9,124.9 155,122.5 155.9,120 156.7,117.5 157.4,115 158,112.4 158.4,109.9 158.6,107.2 158.8,104.6 158.8,102 158.6,99.4 158.4,96.8 158,94.2 157.4,91.6 156.7,89.1 155.9,86.6 155,84.2 153.9,81.8 152.7,79.5 151.4,77.2 150,75 149.2,77.5 148.5,80 148,82.6 147.6,85.2 147.3,87.8 147.1,90.4 147.1,93 147.3,95.6 147.6,98.2 148,100.8 148.5,103.4 149.2,105.9 150,108.4 150.9,110.8 152,113.2 153.2,115.6 154.5,117.8 155.9,120 157.5,122.1 159.1,124.2 160.9,126.1 162.7,128 164.7,129.7 166.7,131.4 168.8,132.9 171,134.3 173.3,135.6 175.6,136.8 178,137.9 180.4,138.8 181.3,136.3 181.9,133.8 182.5,131.3 182.9,128.7 183.2,126.1 183.3,123.4 183.3,120.8 183.2,118.2 182.9,115.6 182.5,113 181.9,110.5 181.3,107.9 180.4,105.4 179.5,103 178.4,100.6 177.3,98.3 175.9,96 174.5,93.8 173,91.7 171.3,89.7 169.6,87.7 167.7,85.9 165.8,84.1 163.7,82.5 161.6,80.9 159.4,79.5 157.2,78.2 154.8,77 152.4,75.9 150,75 150.8,77.5 151.7,79.9 152.8,82.3 154,84.7 155.3,86.9 156.7,89.1 158.3,91.2 159.9,93.3 161.7,95.2 163.5,97.1 165.5,98.8 167.5,100.5 169.6,102 171.8,103.4 174.1,104.7 176.4,105.9 178.8,107 181.3,107.9 183.7,108.7 186.3,109.4 188.8,110 191.4,110.4 194,110.6 196.6,110.8 199.3,110.8 201.9,110.6 204.5,110.4 207.1,110 209.6,109.4 212.1,108.7 211.3,106.3 210.4,103.8 209.3,101.4 208.1,99.1 206.8,96.8 205.4,94.6 203.9,92.5 202.2,90.5 200.5,88.5 198.6,86.7 196.7,84.9 194.6,83.3 192.5,81.7 190.3,80.3 188.1,79 185.7,77.8 183.3,76.7 180.9,75.8 178.4,75 175.9,74.3 173.3,73.8 170.7,73.4 168.1,73.1 165.5,73 162.9,73 160.3,73.1 157.7,73.4 155.1,73.8 152.5,74.3 150,75 152.1,76.5 154.3,78 156.6,79.3 158.9,80.5 161.3,81.5 163.7,82.5 166.2,83.3 168.8,84 171.3,84.5 173.9,84.9 176.5,85.2 179.1,85.3 181.8,85.3 184.4,85.2 187,84.9 189.6,84.5 192.1,84 194.6,83.3 197.1,82.5 199.6,81.5 202,80.5 204.3,79.3 206.6,78 208.8,76.5 210.9,75 212.9,73.4 214.9,71.6 216.7,69.7 218.5,67.8 220.1,65.8 218,64.2 215.8,62.8 213.5,61.5 211.2,60.3 208.8,59.2 206.4,58.3 203.9,57.5 201.3,56.8 198.8,56.3 196.2,55.9 193.6,55.6 191,55.5 188.4,55.5 185.7,55.6 183.1,55.9 180.6,56.3 178,56.8 175.5,57.5 173,58.3 170.5,59.2 168.1,60.3 165.8,61.5 163.5,62.8 161.3,64.2 159.2,65.8 157.2,67.4 155.3,69.2 153.4,71 151.6,73 150,75\" />'\n",
       "\n",
       "</svg>"
      ],
      "text/plain": [
       "<IPython.core.display.HTML object>"
      ]
     },
     "metadata": {},
     "output_type": "display_data"
    }
   ],
   "source": [
    "def flower(n, radius, angle):\n",
    "    for i in range(n):\n",
    "        petal(radius, angle)\n",
    "        left(360 / n)\n",
    "\n",
    "make_turtle(delay=0.0002, animate=True)\n",
    "hide()\n",
    "flower(10, 50, 90)\n",
    "draw()"
   ]
  },
  {
   "cell_type": "code",
   "execution_count": 32,
   "id": "6df8bc46",
   "metadata": {},
   "outputs": [
    {
     "data": {
      "text/html": [
       "<svg width=\"300\" height=\"150\" style=\"fill:none; stroke-linecap:round;\">\n",
       "    <rect width=\"100%\" height=\"100%\" fill=\"#F3F3F7\" />\n",
       "\n",
       "\n",
       "<path stroke=\"blue\" stroke-width=\"2\" d=\"M 150,75 151.7,75 153.5,74.9 155.2,74.8 157,74.6 158.7,74.4 160.4,74.1 162.1,73.7 163.8,73.3 165.5,72.8 167.2,72.3 168.8,71.7 170.4,71 172,70.3 173.6,69.6 175.1,68.7 176.6,67.9 178.1,66.9 179.6,66 181,64.9 182.3,63.9 183.7,62.7 185,61.6 186.2,60.4 187.4,59.1 188.6,57.8 189.7,56.5 190.8,55.1 191.8,53.7 192.8,52.2 193.7,50.8 192,50.8 190.2,50.8 188.5,50.9 186.8,51.1 185,51.4 183.3,51.7 181.6,52 179.9,52.5 178.2,52.9 176.6,53.5 174.9,54.1 173.3,54.7 171.7,55.4 170.2,56.2 168.6,57 167.1,57.9 165.6,58.8 164.2,59.8 162.8,60.8 161.4,61.9 160.1,63 158.8,64.2 157.5,65.4 156.3,66.7 155.1,67.9 154,69.3 152.9,70.7 151.9,72.1 150.9,73.5 150,75\" />'\n",
       "\n",
       "<path stroke=\"lightblue\" stroke-width=\"2\" d=\"M 150,75 151.7,74.6 153.4,74.2 155.1,73.7 156.7,73.2 158.4,72.6 160,71.9 161.6,71.2 163.2,70.5 164.7,69.6 166.2,68.8 167.7,67.9 169.1,66.9 170.6,65.8 171.9,64.8 173.3,63.7 174.6,62.5 175.8,61.3 177,60 178.2,58.7 179.3,57.4 180.4,56 181.4,54.6 182.4,53.1 183.3,51.7 184.2,50.2 185,48.6 185.8,47 186.5,45.5 187.1,43.8 187.7,42.2 186,42.6 184.3,43 182.7,43.5 181,44 179.4,44.6 177.7,45.3 176.1,46 174.6,46.7 173,47.5 171.5,48.4 170,49.3 168.6,50.3 167.2,51.3 165.8,52.4 164.5,53.5 163.2,54.7 161.9,55.9 160.7,57.2 159.5,58.5 158.4,59.8 157.3,61.2 156.3,62.6 155.3,64 154.4,65.5 153.5,67 152.7,68.6 152,70.1 151.3,71.7 150.6,73.4 150,75\" />'\n",
       "\n",
       "<path stroke=\"black\" stroke-width=\"2\" d=\"M 150,75 151.6,74.3 153.2,73.5 154.7,72.7 156.2,71.8 157.7,70.9 159.1,69.9 160.6,68.9 161.9,67.8 163.3,66.7 164.6,65.5 165.8,64.3 167,63.1 168.2,61.8 169.3,60.4 170.4,59.1 171.4,57.7 172.4,56.2 173.3,54.7 174.2,53.2 175,51.7 175.8,50.1 176.5,48.5 177.1,46.9 177.7,45.3 178.3,43.6 178.8,41.9 179.2,40.2 179.5,38.5 179.8,36.8 180.1,35.1 178.5,35.8 176.9,36.5 175.4,37.4 173.9,38.2 172.4,39.2 170.9,40.1 169.5,41.2 168.2,42.2 166.8,43.4 165.5,44.5 164.3,45.7 163.1,47 161.9,48.3 160.8,49.6 159.7,51 158.7,52.4 157.7,53.9 156.8,55.3 155.9,56.9 155.1,58.4 154.3,60 153.6,61.6 152.9,63.2 152.4,64.8 151.8,66.5 151.3,68.2 150.9,69.8 150.5,71.6 150.2,73.3 150,75\" />'\n",
       "\n",
       "<path stroke=\"skyblue\" stroke-width=\"2\" d=\"M 150,75 151.4,74 152.8,72.9 154.1,71.8 155.4,70.6 156.7,69.4 157.9,68.1 159.1,66.8 160.2,65.5 161.3,64.1 162.3,62.7 163.3,61.3 164.2,59.8 165.1,58.3 165.9,56.7 166.6,55.2 167.3,53.6 168,52 168.6,50.3 169.1,48.7 169.6,47 170,45.3 170.4,43.6 170.7,41.9 170.9,40.1 171.1,38.4 171.3,36.7 171.3,34.9 171.3,33.2 171.3,31.4 171.1,29.7 169.7,30.7 168.3,31.8 167,32.9 165.7,34.1 164.5,35.3 163.2,36.5 162.1,37.8 161,39.2 159.9,40.5 158.9,42 157.9,43.4 157,44.9 156.1,46.4 155.3,47.9 154.5,49.5 153.8,51.1 153.1,52.7 152.5,54.4 152,56 151.5,57.7 151.1,59.4 150.7,61.1 150.4,62.8 150.2,64.5 150,66.3 149.9,68 149.8,69.8 149.8,71.5 149.9,73.3 150,75\" />'\n",
       "\n",
       "<path stroke=\"navy\" stroke-width=\"2\" d=\"M 150,75 151.2,73.7 152.3,72.4 153.4,71 154.4,69.6 155.4,68.1 156.3,66.7 157.2,65.1 158,63.6 158.7,62 159.5,60.4 160.1,58.8 160.7,57.2 161.2,55.5 161.7,53.8 162.2,52.1 162.5,50.4 162.8,48.7 163.1,47 163.2,45.3 163.4,43.5 163.4,41.8 163.4,40 163.4,38.3 163.2,36.5 163.1,34.8 162.8,33.1 162.5,31.4 162.2,29.7 161.7,28 161.2,26.3 160.1,27.6 159,28.9 157.9,30.3 156.9,31.7 155.9,33.1 155,34.6 154.1,36.1 153.3,37.7 152.5,39.2 151.8,40.8 151.1,42.5 150.5,44.1 150,45.8 149.5,47.4 149.1,49.1 148.7,50.8 148.4,52.6 148.2,54.3 148,56 147.9,57.8 147.8,59.5 147.8,61.3 147.9,63 148,64.7 148.2,66.5 148.4,68.2 148.7,69.9 149.1,71.6 149.5,73.3 150,75\" />'\n",
       "\n",
       "<path stroke=\"indigo\" stroke-width=\"2\" d=\"M 150,75 150.9,73.5 151.7,71.9 152.5,70.4 153.2,68.8 153.8,67.2 154.4,65.5 155,63.9 155.4,62.2 155.9,60.5 156.2,58.8 156.5,57.1 156.8,55.3 157,53.6 157.1,51.9 157.1,50.1 157.1,48.4 157.1,46.6 157,44.9 156.8,43.2 156.5,41.4 156.2,39.7 155.9,38 155.4,36.3 155,34.6 154.4,33 153.8,31.3 153.2,29.7 152.5,28.1 151.7,26.5 150.9,25 150,26.5 149.2,28.1 148.4,29.6 147.7,31.2 147.1,32.8 146.5,34.5 145.9,36.1 145.4,37.8 145,39.5 144.6,41.2 144.3,42.9 144.1,44.7 143.9,46.4 143.8,48.1 143.7,49.9 143.7,51.6 143.8,53.4 143.9,55.1 144.1,56.9 144.3,58.6 144.6,60.3 145,62 145.4,63.7 145.9,65.4 146.5,67 147.1,68.7 147.7,70.3 148.4,71.9 149.2,73.5 150,75\" />'\n",
       "\n",
       "<path stroke=\"blue\" stroke-width=\"2\" d=\"M 150,75 150.5,73.3 151,71.7 151.4,70 151.8,68.3 152.1,66.5 152.4,64.8 152.5,63.1 152.7,61.3 152.7,59.6 152.7,57.8 152.7,56.1 152.5,54.4 152.4,52.6 152.1,50.9 151.8,49.2 151.4,47.5 151,45.8 150.5,44.1 150,42.4 149.4,40.8 148.7,39.2 148,37.6 147.3,36 146.5,34.5 145.6,33 144.7,31.5 143.7,30 142.7,28.6 141.6,27.3 140.5,25.9 139.9,27.6 139.4,29.3 139,30.9 138.7,32.7 138.4,34.4 138.1,36.1 137.9,37.8 137.8,39.6 137.7,41.3 137.7,43.1 137.8,44.8 137.9,46.6 138.1,48.3 138.4,50 138.7,51.7 139,53.4 139.4,55.1 139.9,56.8 140.5,58.5 141.1,60.1 141.7,61.7 142.4,63.3 143.2,64.9 144,66.4 144.9,67.9 145.8,69.4 146.8,70.9 147.8,72.3 148.9,73.7 150,75\" />'\n",
       "\n",
       "<path stroke=\"lightblue\" stroke-width=\"2\" d=\"M 150,75 150.2,73.3 150.3,71.5 150.4,69.8 150.4,68 150.3,66.3 150.2,64.5 150,62.8 149.8,61.1 149.5,59.4 149.1,57.7 148.7,56 148.2,54.3 147.6,52.6 147.1,51 146.4,49.4 145.7,47.8 144.9,46.2 144.1,44.7 143.2,43.2 142.3,41.7 141.3,40.2 140.3,38.8 139.2,37.4 138.1,36.1 136.9,34.8 135.7,33.5 134.5,32.3 133.2,31.2 131.8,30 130.5,29 130.3,30.7 130.2,32.4 130.1,34.2 130.1,35.9 130.2,37.7 130.3,39.4 130.5,41.2 130.7,42.9 131,44.6 131.4,46.3 131.8,48 132.3,49.7 132.8,51.3 133.4,53 134.1,54.6 134.8,56.2 135.5,57.8 136.4,59.3 137.2,60.8 138.2,62.3 139.1,63.7 140.2,65.2 141.2,66.5 142.4,67.9 143.5,69.2 144.7,70.4 146,71.6 147.3,72.8 148.6,73.9 150,75\" />'\n",
       "\n",
       "<path stroke=\"black\" stroke-width=\"2\" d=\"M 150,75 149.8,73.3 149.6,71.5 149.3,69.8 148.9,68.1 148.5,66.4 148,64.7 147.5,63.1 146.9,61.4 146.2,59.8 145.5,58.2 144.7,56.7 143.9,55.1 143,53.6 142.1,52.1 141.1,50.7 140.1,49.3 139,47.9 137.9,46.6 136.8,45.3 135.5,44 134.3,42.8 133,41.6 131.7,40.5 130.3,39.4 128.9,38.4 127.4,37.4 125.9,36.5 124.4,35.6 122.9,34.8 121.3,34 121.5,35.8 121.7,37.5 122,39.2 122.4,40.9 122.8,42.6 123.3,44.3 123.9,46 124.5,47.6 125.1,49.2 125.8,50.8 126.6,52.4 127.4,53.9 128.3,55.4 129.2,56.9 130.2,58.4 131.2,59.8 132.3,61.1 133.4,62.5 134.6,63.8 135.8,65 137,66.3 138.3,67.4 139.7,68.5 141,69.6 142.5,70.6 143.9,71.6 145.4,72.5 146.9,73.4 148.4,74.2 150,75\" />'\n",
       "\n",
       "<path stroke=\"skyblue\" stroke-width=\"2\" d=\"M 150,75 149.5,73.3 148.9,71.7 148.2,70.1 147.5,68.5 146.7,66.9 145.9,65.4 145,63.9 144.1,62.4 143.1,60.9 142.1,59.5 141,58.2 139.9,56.8 138.8,55.5 137.5,54.3 136.3,53 135,51.9 133.6,50.8 132.3,49.7 130.9,48.7 129.4,47.7 127.9,46.8 126.4,45.9 124.9,45.1 123.3,44.3 121.7,43.6 120.1,42.9 118.5,42.3 116.8,41.8 115.1,41.3 113.4,40.9 114,42.6 114.6,44.2 115.2,45.8 115.9,47.4 116.7,49 117.5,50.5 118.4,52 119.3,53.5 120.3,55 121.3,56.4 122.4,57.7 123.5,59.1 124.7,60.4 125.9,61.6 127.1,62.8 128.4,64 129.8,65.1 131.2,66.2 132.6,67.2 134,68.2 135.5,69.1 137,70 138.5,70.8 140.1,71.6 141.7,72.3 143.3,73 145,73.6 146.6,74.1 148.3,74.6 150,75\" />'\n",
       "\n",
       "<path stroke=\"navy\" stroke-width=\"2\" d=\"M 150,75 149.1,73.5 148.2,72 147.2,70.6 146.2,69.1 145.1,67.8 144,66.4 142.8,65.1 141.6,63.9 140.4,62.7 139.1,61.5 137.7,60.4 136.4,59.3 134.9,58.3 133.5,57.3 132,56.4 130.5,55.5 129,54.7 127.4,53.9 125.8,53.2 124.2,52.6 122.5,52 120.9,51.4 119.2,50.9 117.5,50.5 115.8,50.2 114.1,49.9 112.4,49.6 110.6,49.4 108.9,49.3 107.1,49.2 108,50.8 108.9,52.2 109.9,53.7 110.9,55.1 112,56.5 113.1,57.8 114.3,59.1 115.5,60.4 116.8,61.6 118.1,62.7 119.4,63.9 120.8,64.9 122.2,66 123.6,66.9 125.1,67.9 126.6,68.7 128.2,69.6 129.7,70.3 131.3,71 133,71.7 134.6,72.3 136.3,72.8 137.9,73.3 139.6,73.7 141.3,74.1 143.1,74.4 144.8,74.6 146.5,74.8 148.3,74.9 150,75\" />'\n",
       "\n",
       "<path stroke=\"indigo\" stroke-width=\"2\" d=\"M 150,75 148.8,73.7 147.6,72.4 146.4,71.2 145.1,70.1 143.7,68.9 142.4,67.9 140.9,66.8 139.5,65.9 138,64.9 136.5,64.1 135,63.3 133.4,62.5 131.8,61.8 130.2,61.1 128.5,60.5 126.9,60 125.2,59.5 123.5,59.1 121.8,58.7 120.1,58.4 118.4,58.2 116.6,58 114.9,57.9 113.1,57.8 111.4,57.8 109.6,57.9 107.9,58 106.2,58.2 104.4,58.4 102.7,58.7 103.9,60 105.1,61.3 106.4,62.5 107.7,63.7 109,64.8 110.4,65.8 111.8,66.9 113.2,67.9 114.7,68.8 116.2,69.6 117.8,70.5 119.3,71.2 120.9,71.9 122.5,72.6 124.2,73.2 125.8,73.7 127.5,74.2 129.2,74.6 130.9,75 132.6,75.3 134.4,75.5 136.1,75.7 137.8,75.9 139.6,75.9 141.3,75.9 143.1,75.9 144.8,75.7 146.6,75.5 148.3,75.3 150,75\" />'\n",
       "\n",
       "<path stroke=\"blue\" stroke-width=\"2\" d=\"M 150,75 148.6,74 147.1,73 145.7,72.1 144.1,71.2 142.6,70.4 141,69.6 139.4,68.9 137.8,68.3 136.2,67.7 134.5,67.1 132.8,66.6 131.2,66.2 129.4,65.8 127.7,65.5 126,65.3 124.3,65.1 122.5,65 120.8,64.9 119,64.9 117.3,65 115.5,65.1 113.8,65.3 112.1,65.5 110.4,65.8 108.7,66.2 107,66.6 105.3,67.1 103.6,67.7 102,68.3 100.4,68.9 101.8,69.9 103.2,70.9 104.7,71.8 106.2,72.7 107.8,73.5 109.3,74.3 110.9,75 112.5,75.7 114.2,76.3 115.8,76.8 117.5,77.3 119.2,77.7 120.9,78.1 122.6,78.4 124.4,78.6 126.1,78.8 127.8,78.9 129.6,79 131.3,79 133.1,78.9 134.8,78.8 136.6,78.6 138.3,78.4 140,78.1 141.7,77.7 143.4,77.3 145.1,76.8 146.7,76.3 148.4,75.7 150,75\" />'\n",
       "\n",
       "<path stroke=\"lightblue\" stroke-width=\"2\" d=\"M 150,75 148.4,74.3 146.8,73.6 145.1,73 143.5,72.5 141.8,72 140.1,71.6 138.4,71.2 136.7,70.9 135,70.7 133.2,70.5 131.5,70.4 129.7,70.3 128,70.3 126.3,70.4 124.5,70.5 122.8,70.7 121,70.9 119.3,71.2 117.6,71.6 115.9,72 114.2,72.5 112.6,73 110.9,73.6 109.3,74.3 107.7,75 106.2,75.8 104.6,76.6 103.1,77.5 101.6,78.4 100.2,79.4 101.8,80.1 103.4,80.7 105,81.3 106.7,81.9 108.4,82.3 110.1,82.8 111.8,83.1 113.5,83.4 115.2,83.7 117,83.9 118.7,84 120.4,84 122.2,84 123.9,84 125.7,83.9 127.4,83.7 129.1,83.4 130.9,83.1 132.6,82.8 134.3,82.3 135.9,81.9 137.6,81.3 139.2,80.7 140.9,80.1 142.5,79.4 144,78.6 145.6,77.8 147.1,76.9 148.6,76 150,75\" />'\n",
       "\n",
       "<path stroke=\"black\" stroke-width=\"2\" d=\"M 150,75 148.3,74.6 146.6,74.3 144.8,74.1 143.1,73.9 141.4,73.8 139.6,73.7 137.9,73.7 136.1,73.8 134.4,73.9 132.7,74.1 130.9,74.3 129.2,74.6 127.5,75 125.8,75.4 124.1,75.9 122.5,76.4 120.8,77 119.2,77.7 117.6,78.4 116.1,79.2 114.5,80 113,80.9 111.5,81.8 110.1,82.8 108.7,83.8 107.3,84.9 105.9,86 104.7,87.2 103.4,88.4 102.2,89.6 103.9,90 105.6,90.3 107.3,90.5 109.1,90.7 110.8,90.8 112.6,90.9 114.3,90.9 116,90.8 117.8,90.7 119.5,90.5 121.3,90.3 123,90 124.7,89.6 126.4,89.2 128,88.7 129.7,88.2 131.3,87.6 133,86.9 134.6,86.2 136.1,85.5 137.7,84.6 139.2,83.8 140.7,82.8 142.1,81.9 143.5,80.8 144.9,79.8 146.2,78.6 147.5,77.5 148.8,76.3 150,75\" />'\n",
       "\n",
       "<path stroke=\"skyblue\" stroke-width=\"2\" d=\"M 150,75 148.3,75 146.5,75.1 144.8,75.2 143,75.4 141.3,75.6 139.6,75.9 137.9,76.3 136.2,76.7 134.5,77.2 132.8,77.7 131.2,78.3 129.6,79 128,79.7 126.4,80.4 124.9,81.3 123.4,82.1 121.9,83.1 120.4,84 119,85.1 117.7,86.1 116.3,87.3 115,88.4 113.8,89.6 112.6,90.9 111.4,92.2 110.3,93.5 109.2,94.9 108.2,96.3 107.2,97.8 106.3,99.2 108,99.2 109.8,99.2 111.5,99.1 113.2,98.9 115,98.6 116.7,98.3 118.4,98 120.1,97.5 121.8,97.1 123.4,96.5 125.1,95.9 126.7,95.3 128.3,94.6 129.8,93.8 131.4,93 132.9,92.1 134.4,91.2 135.8,90.2 137.2,89.2 138.6,88.1 139.9,87 141.2,85.8 142.5,84.6 143.7,83.3 144.9,82.1 146,80.7 147.1,79.3 148.1,77.9 149.1,76.5 150,75\" />'\n",
       "\n",
       "<path stroke=\"navy\" stroke-width=\"2\" d=\"M 150,75 148.3,75.4 146.6,75.8 144.9,76.3 143.3,76.8 141.6,77.4 140,78.1 138.4,78.8 136.8,79.5 135.3,80.4 133.8,81.2 132.3,82.1 130.9,83.1 129.4,84.2 128.1,85.2 126.7,86.3 125.4,87.5 124.2,88.7 123,90 121.8,91.3 120.7,92.6 119.6,94 118.6,95.4 117.6,96.9 116.7,98.3 115.8,99.8 115,101.4 114.2,103 113.5,104.5 112.9,106.2 112.3,107.8 114,107.4 115.7,107 117.3,106.5 119,106 120.6,105.4 122.3,104.7 123.9,104 125.4,103.3 127,102.5 128.5,101.6 130,100.7 131.4,99.7 132.8,98.7 134.2,97.6 135.5,96.5 136.8,95.3 138.1,94.1 139.3,92.8 140.5,91.5 141.6,90.2 142.7,88.8 143.7,87.4 144.7,86 145.6,84.5 146.5,83 147.3,81.4 148,79.9 148.7,78.3 149.4,76.6 150,75\" />'\n",
       "\n",
       "<path stroke=\"indigo\" stroke-width=\"2\" d=\"M 150,75 148.4,75.7 146.8,76.5 145.3,77.3 143.8,78.2 142.3,79.1 140.9,80.1 139.4,81.1 138.1,82.2 136.7,83.3 135.4,84.5 134.2,85.7 133,86.9 131.8,88.2 130.7,89.6 129.6,90.9 128.6,92.3 127.6,93.8 126.7,95.3 125.8,96.8 125,98.3 124.2,99.9 123.5,101.5 122.9,103.1 122.3,104.7 121.7,106.4 121.2,108.1 120.8,109.8 120.5,111.5 120.2,113.2 119.9,114.9 121.5,114.2 123.1,113.5 124.6,112.6 126.1,111.8 127.6,110.8 129.1,109.9 130.5,108.8 131.8,107.8 133.2,106.6 134.5,105.5 135.7,104.3 136.9,103 138.1,101.7 139.2,100.4 140.3,99 141.3,97.6 142.3,96.1 143.2,94.7 144.1,93.1 144.9,91.6 145.7,90 146.4,88.4 147.1,86.8 147.6,85.2 148.2,83.5 148.7,81.8 149.1,80.2 149.5,78.4 149.8,76.7 150,75\" />'\n",
       "\n",
       "<path stroke=\"blue\" stroke-width=\"2\" d=\"M 150,75 148.6,76 147.2,77.1 145.9,78.2 144.6,79.4 143.3,80.6 142.1,81.9 140.9,83.2 139.8,84.5 138.7,85.9 137.7,87.3 136.7,88.7 135.8,90.2 134.9,91.7 134.1,93.3 133.4,94.8 132.7,96.4 132,98 131.4,99.7 130.9,101.3 130.4,103 130,104.7 129.6,106.4 129.3,108.1 129.1,109.9 128.9,111.6 128.7,113.3 128.7,115.1 128.7,116.8 128.7,118.6 128.9,120.3 130.3,119.3 131.7,118.2 133,117.1 134.3,115.9 135.5,114.7 136.8,113.5 137.9,112.2 139,110.8 140.1,109.5 141.1,108 142.1,106.6 143,105.1 143.9,103.6 144.7,102.1 145.5,100.5 146.2,98.9 146.9,97.3 147.5,95.6 148,94 148.5,92.3 148.9,90.6 149.3,88.9 149.6,87.2 149.8,85.5 150,83.7 150.1,82 150.2,80.2 150.2,78.5 150.1,76.7 150,75\" />'\n",
       "\n",
       "<path stroke=\"lightblue\" stroke-width=\"2\" d=\"M 150,75 148.8,76.3 147.7,77.6 146.6,79 145.6,80.4 144.6,81.9 143.7,83.3 142.8,84.9 142,86.4 141.3,88 140.5,89.6 139.9,91.2 139.3,92.8 138.8,94.5 138.3,96.2 137.8,97.9 137.5,99.6 137.2,101.3 136.9,103 136.8,104.7 136.6,106.5 136.6,108.2 136.6,110 136.6,111.7 136.8,113.5 136.9,115.2 137.2,116.9 137.5,118.6 137.8,120.3 138.3,122 138.8,123.7 139.9,122.4 141,121.1 142.1,119.7 143.1,118.3 144.1,116.9 145,115.4 145.9,113.9 146.7,112.3 147.5,110.8 148.2,109.2 148.9,107.5 149.5,105.9 150,104.2 150.5,102.6 150.9,100.9 151.3,99.2 151.6,97.4 151.8,95.7 152,94 152.1,92.2 152.2,90.5 152.2,88.7 152.1,87 152,85.3 151.8,83.5 151.6,81.8 151.3,80.1 150.9,78.4 150.5,76.7 150,75\" />'\n",
       "\n",
       "<path stroke=\"black\" stroke-width=\"2\" d=\"M 150,75 149.1,76.5 148.3,78.1 147.5,79.6 146.8,81.2 146.2,82.8 145.6,84.5 145,86.1 144.6,87.8 144.1,89.5 143.8,91.2 143.5,92.9 143.2,94.7 143,96.4 142.9,98.1 142.9,99.9 142.9,101.6 142.9,103.4 143,105.1 143.2,106.8 143.5,108.6 143.8,110.3 144.1,112 144.6,113.7 145,115.4 145.6,117 146.2,118.7 146.8,120.3 147.5,121.9 148.3,123.5 149.1,125 150,123.5 150.8,121.9 151.6,120.4 152.3,118.8 152.9,117.2 153.5,115.5 154.1,113.9 154.6,112.2 155,110.5 155.4,108.8 155.7,107.1 155.9,105.3 156.1,103.6 156.2,101.9 156.3,100.1 156.3,98.4 156.2,96.6 156.1,94.9 155.9,93.1 155.7,91.4 155.4,89.7 155,88 154.6,86.3 154.1,84.6 153.5,83 152.9,81.3 152.3,79.7 151.6,78.1 150.8,76.5 150,75\" />'\n",
       "\n",
       "<path stroke=\"skyblue\" stroke-width=\"2\" d=\"M 150,75 149.5,76.7 149,78.3 148.6,80 148.2,81.7 147.9,83.5 147.6,85.2 147.5,86.9 147.3,88.7 147.3,90.4 147.3,92.2 147.3,93.9 147.5,95.6 147.6,97.4 147.9,99.1 148.2,100.8 148.6,102.5 149,104.2 149.5,105.9 150,107.6 150.6,109.2 151.3,110.8 152,112.4 152.7,114 153.5,115.5 154.4,117 155.3,118.5 156.3,120 157.3,121.4 158.4,122.7 159.5,124.1 160.1,122.4 160.6,120.7 161,119.1 161.3,117.3 161.6,115.6 161.9,113.9 162.1,112.2 162.2,110.4 162.3,108.7 162.3,106.9 162.2,105.2 162.1,103.4 161.9,101.7 161.6,100 161.3,98.3 161,96.6 160.6,94.9 160.1,93.2 159.5,91.5 158.9,89.9 158.3,88.3 157.6,86.7 156.8,85.1 156,83.6 155.1,82.1 154.2,80.6 153.2,79.1 152.2,77.7 151.1,76.3 150,75\" />'\n",
       "\n",
       "<path stroke=\"navy\" stroke-width=\"2\" d=\"M 150,75 149.8,76.7 149.7,78.5 149.6,80.2 149.6,82 149.7,83.7 149.8,85.5 150,87.2 150.2,88.9 150.5,90.6 150.9,92.3 151.3,94 151.8,95.7 152.4,97.4 152.9,99 153.6,100.6 154.3,102.2 155.1,103.8 155.9,105.3 156.8,106.8 157.7,108.3 158.7,109.8 159.7,111.2 160.8,112.6 161.9,113.9 163.1,115.2 164.3,116.5 165.5,117.7 166.8,118.8 168.2,120 169.5,121 169.7,119.3 169.8,117.6 169.9,115.8 169.9,114.1 169.8,112.3 169.7,110.6 169.5,108.8 169.3,107.1 169,105.4 168.6,103.7 168.2,102 167.7,100.3 167.2,98.7 166.6,97 165.9,95.4 165.2,93.8 164.5,92.2 163.6,90.7 162.8,89.2 161.8,87.7 160.9,86.3 159.8,84.8 158.8,83.5 157.6,82.1 156.5,80.8 155.3,79.6 154,78.4 152.7,77.2 151.4,76.1 150,75\" />'\n",
       "\n",
       "<path stroke=\"indigo\" stroke-width=\"2\" d=\"M 150,75 150.2,76.7 150.4,78.5 150.7,80.2 151.1,81.9 151.5,83.6 152,85.3 152.5,86.9 153.1,88.6 153.8,90.2 154.5,91.8 155.3,93.3 156.1,94.9 157,96.4 157.9,97.9 158.9,99.3 159.9,100.7 161,102.1 162.1,103.4 163.2,104.7 164.5,106 165.7,107.2 167,108.4 168.3,109.5 169.7,110.6 171.1,111.6 172.6,112.6 174.1,113.5 175.6,114.4 177.1,115.2 178.7,116 178.5,114.2 178.3,112.5 178,110.8 177.6,109.1 177.2,107.4 176.7,105.7 176.1,104 175.5,102.4 174.9,100.8 174.2,99.2 173.4,97.6 172.6,96.1 171.7,94.6 170.8,93.1 169.8,91.6 168.8,90.2 167.7,88.9 166.6,87.5 165.4,86.2 164.2,85 163,83.7 161.7,82.6 160.3,81.5 159,80.4 157.5,79.4 156.1,78.4 154.6,77.5 153.1,76.6 151.6,75.8 150,75\" />'\n",
       "\n",
       "<path stroke=\"blue\" stroke-width=\"2\" d=\"M 150,75 150.5,76.7 151.1,78.3 151.8,79.9 152.5,81.5 153.3,83.1 154.1,84.6 155,86.1 155.9,87.6 156.9,89.1 157.9,90.5 159,91.8 160.1,93.2 161.2,94.5 162.5,95.7 163.7,97 165,98.1 166.4,99.2 167.7,100.3 169.1,101.3 170.6,102.3 172.1,103.2 173.6,104.1 175.1,104.9 176.7,105.7 178.3,106.4 179.9,107.1 181.5,107.7 183.2,108.2 184.9,108.7 186.6,109.1 186,107.4 185.4,105.8 184.8,104.2 184.1,102.6 183.3,101 182.5,99.5 181.6,98 180.7,96.5 179.7,95 178.7,93.6 177.6,92.3 176.5,90.9 175.3,89.6 174.1,88.4 172.9,87.2 171.6,86 170.2,84.9 168.8,83.8 167.4,82.8 166,81.8 164.5,80.9 163,80 161.5,79.2 159.9,78.4 158.3,77.7 156.7,77 155,76.4 153.4,75.9 151.7,75.4 150,75\" />'\n",
       "\n",
       "<path stroke=\"lightblue\" stroke-width=\"2\" d=\"M 150,75 150.9,76.5 151.8,78 152.8,79.4 153.8,80.9 154.9,82.2 156,83.6 157.2,84.9 158.4,86.1 159.6,87.3 160.9,88.5 162.3,89.6 163.6,90.7 165.1,91.7 166.5,92.7 168,93.6 169.5,94.5 171,95.3 172.6,96.1 174.2,96.8 175.8,97.4 177.5,98 179.1,98.6 180.8,99.1 182.5,99.5 184.2,99.8 185.9,100.1 187.6,100.4 189.4,100.6 191.1,100.7 192.9,100.8 192,99.2 191.1,97.8 190.1,96.3 189.1,94.9 188,93.5 186.9,92.2 185.7,90.9 184.5,89.6 183.2,88.4 181.9,87.3 180.6,86.1 179.2,85.1 177.8,84 176.4,83.1 174.9,82.1 173.4,81.3 171.8,80.4 170.3,79.7 168.7,79 167,78.3 165.4,77.7 163.7,77.2 162.1,76.7 160.4,76.3 158.7,75.9 156.9,75.6 155.2,75.4 153.5,75.2 151.7,75.1 150,75\" />'\n",
       "\n",
       "<path stroke=\"black\" stroke-width=\"2\" d=\"M 150,75 151.2,76.3 152.4,77.6 153.6,78.8 154.9,79.9 156.3,81.1 157.6,82.1 159.1,83.2 160.5,84.1 162,85.1 163.5,85.9 165,86.7 166.6,87.5 168.2,88.2 169.8,88.9 171.5,89.5 173.1,90 174.8,90.5 176.5,90.9 178.2,91.3 179.9,91.6 181.6,91.8 183.4,92 185.1,92.1 186.9,92.2 188.6,92.2 190.4,92.1 192.1,92 193.8,91.8 195.6,91.6 197.3,91.3 196.1,90 194.9,88.7 193.6,87.5 192.3,86.3 191,85.2 189.6,84.2 188.2,83.1 186.8,82.1 185.3,81.2 183.8,80.4 182.2,79.5 180.7,78.8 179.1,78.1 177.5,77.4 175.8,76.8 174.2,76.3 172.5,75.8 170.8,75.4 169.1,75 167.4,74.7 165.6,74.5 163.9,74.3 162.2,74.1 160.4,74.1 158.7,74.1 156.9,74.1 155.2,74.3 153.4,74.5 151.7,74.7 150,75\" />'\n",
       "\n",
       "<path stroke=\"skyblue\" stroke-width=\"2\" d=\"M 150,75 151.4,76 152.9,77 154.3,77.9 155.9,78.8 157.4,79.6 159,80.4 160.6,81.1 162.2,81.7 163.8,82.3 165.5,82.9 167.2,83.4 168.8,83.8 170.6,84.2 172.3,84.5 174,84.7 175.7,84.9 177.5,85 179.2,85.1 181,85.1 182.7,85 184.5,84.9 186.2,84.7 187.9,84.5 189.6,84.2 191.3,83.8 193,83.4 194.7,82.9 196.4,82.3 198,81.7 199.6,81.1 198.2,80.1 196.8,79.1 195.3,78.2 193.8,77.3 192.2,76.5 190.7,75.7 189.1,75 187.5,74.3 185.8,73.7 184.2,73.2 182.5,72.7 180.8,72.3 179.1,71.9 177.4,71.6 175.6,71.4 173.9,71.2 172.2,71.1 170.4,71 168.7,71 166.9,71.1 165.2,71.2 163.4,71.4 161.7,71.6 160,71.9 158.3,72.3 156.6,72.7 154.9,73.2 153.3,73.7 151.6,74.3 150,75\" />'\n",
       "\n",
       "<path stroke=\"navy\" stroke-width=\"2\" d=\"M 150,75 151.6,75.7 153.2,76.4 154.9,77 156.5,77.5 158.2,78 159.9,78.4 161.6,78.8 163.3,79.1 165,79.3 166.8,79.5 168.5,79.6 170.3,79.7 172,79.7 173.7,79.6 175.5,79.5 177.2,79.3 179,79.1 180.7,78.8 182.4,78.4 184.1,78 185.8,77.5 187.4,77 189.1,76.4 190.7,75.7 192.3,75 193.8,74.2 195.4,73.4 196.9,72.5 198.4,71.6 199.8,70.6 198.2,69.9 196.6,69.3 195,68.7 193.3,68.1 191.6,67.7 189.9,67.2 188.2,66.9 186.5,66.6 184.8,66.3 183,66.1 181.3,66 179.6,66 177.8,66 176.1,66 174.3,66.1 172.6,66.3 170.9,66.6 169.1,66.9 167.4,67.2 165.7,67.7 164.1,68.1 162.4,68.7 160.8,69.3 159.1,69.9 157.5,70.6 156,71.4 154.4,72.2 152.9,73.1 151.4,74 150,75\" />'\n",
       "\n",
       "<path stroke=\"indigo\" stroke-width=\"2\" d=\"M 150,75 151.7,75.4 153.4,75.7 155.2,75.9 156.9,76.1 158.6,76.2 160.4,76.3 162.1,76.3 163.9,76.2 165.6,76.1 167.3,75.9 169.1,75.7 170.8,75.4 172.5,75 174.2,74.6 175.9,74.1 177.5,73.6 179.2,73 180.8,72.3 182.4,71.6 183.9,70.8 185.5,70 187,69.1 188.5,68.2 189.9,67.2 191.3,66.2 192.7,65.1 194.1,64 195.3,62.8 196.6,61.6 197.8,60.4 196.1,60 194.4,59.7 192.7,59.5 190.9,59.3 189.2,59.2 187.4,59.1 185.7,59.1 184,59.2 182.2,59.3 180.5,59.5 178.7,59.7 177,60 175.3,60.4 173.6,60.8 172,61.3 170.3,61.8 168.7,62.4 167,63.1 165.4,63.8 163.9,64.5 162.3,65.4 160.8,66.2 159.3,67.2 157.9,68.1 156.5,69.2 155.1,70.2 153.8,71.4 152.5,72.5 151.2,73.7 150,75\" />'\n",
       "\n",
       "<g transform=\"rotate(-90.0,150.0,75.0) translate(150.0, 75.0)\">\n",
       "    <circle stroke=\"#63A375\" stroke-width=\"2\" fill=\"transparent\" r=\"5.5\" cx=\"0\" cy=\"0\"/>\n",
       "    <polygon points=\"0,12 2,9 -2,9\" style=\"fill:#63A375;stroke:#63A375;stroke-width:2\"/>\n",
       "</g>\n",
       "\n",
       "</svg>"
      ],
      "text/plain": [
       "<IPython.core.display.HTML object>"
      ]
     },
     "metadata": {},
     "output_type": "display_data"
    }
   ],
   "source": [
    "colors = 'blue lightblue black skyblue navy indigo'.split()\n",
    "\n",
    "def color_petal(radius, angle, color):\n",
    "    set_color(color)\n",
    "    for i in range(2):\n",
    "        arc(radius, angle)\n",
    "        left(180 - angle)\n",
    "\n",
    "def color_flower(n, radius, angle):\n",
    "    for i in range(n):\n",
    "        color_petal(radius, angle, colors[i % len(colors)]) #cycle through colors\n",
    "        left(360 / n)\n",
    "        \n",
    "make_turtle(delay=0.0002)\n",
    "color_flower(30, 50, 60)"
   ]
  },
  {
   "cell_type": "code",
   "execution_count": null,
   "id": "3af05897",
   "metadata": {},
   "outputs": [],
   "source": []
  }
 ],
 "metadata": {
  "kernelspec": {
   "display_name": ".venv",
   "language": "python",
   "name": "python3"
  },
  "language_info": {
   "codemirror_mode": {
    "name": "ipython",
    "version": 3
   },
   "file_extension": ".py",
   "mimetype": "text/x-python",
   "name": "python",
   "nbconvert_exporter": "python",
   "pygments_lexer": "ipython3",
   "version": "3.13.5"
  }
 },
 "nbformat": 4,
 "nbformat_minor": 5
}
