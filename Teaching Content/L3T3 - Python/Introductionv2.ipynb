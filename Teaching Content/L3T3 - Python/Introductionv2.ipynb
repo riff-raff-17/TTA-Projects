{
 "cells": [
  {
   "cell_type": "markdown",
   "metadata": {},
   "source": [
    "# Introduction to Python and Computational Thinking\n",
    "\n",
    "* Basic Python syntax\n",
    "* Variables and Functions\n",
    "* Control flow"
   ]
  },
  {
   "cell_type": "markdown",
   "metadata": {},
   "source": [
    "### About Python\n",
    "\n",
    "#### A little history:\n",
    "Python is an interpreted high-level programming language for general-purpose programming. Created by Guido van Rossum and first released in 1991, Python has a design philosophy that emphasizes code readability, notably using significant whitespace.\n",
    "\n",
    "#### Some reasons to learn Python:\n",
    "* Straightforward syntax makes it beginner-friendly\n",
    "* Same code runs on multiple platforms\n",
    "* Extensive libraries: Python is very commonly used in applications ranging from physical sciences to finance to machine learning\n",
    "* Large community: abundant resources are available online\n",
    "* It really is EVERYWHERE\n",
    "\n",
    "#### Some cons that you may hear about Python:\n",
    "* (Potentially) Slower than compiled languages\n",
    "* Higher memory consumption\n",
    "* Some issues with multithreading"
   ]
  },
  {
   "cell_type": "markdown",
   "metadata": {},
   "source": [
    "![](image.png)\n",
    "Image taken from: https://statisticstimes.com/tech/top-computer-languages.php"
   ]
  },
  {
   "cell_type": "markdown",
   "metadata": {},
   "source": [
    "### Basic Python\n",
    "#### Python Syntax\n",
    "\n",
    "Python is designed so that there really isn't that much to learn in the basic language. Python code can be executed by writing directly in a code cell using Jupyter or by creating a python file on the server, using the .py file extension, and running it in the Command Line. For now, all our code will be run inside the notebook cells.\n",
    "\n",
    "#### Example of code cell below:"
   ]
  },
  {
   "cell_type": "code",
   "execution_count": null,
   "metadata": {},
   "outputs": [],
   "source": [
    "# The print function lets your program give you back an output\n",
    "# Programs do NOT have to output anything! If you want an output, you must explicitely say so\n",
    "\n",
    "print(\"Hello world\")"
   ]
  },
  {
   "cell_type": "markdown",
   "metadata": {},
   "source": [
    "Try printing out a description of yourself!"
   ]
  },
  {
   "cell_type": "code",
   "execution_count": null,
   "metadata": {},
   "outputs": [],
   "source": [
    "print(\"Hello, my name is ____\")\n",
    "print(\"I am __ years old\")\n",
    "print(\"I like to do ___\")"
   ]
  },
  {
   "cell_type": "markdown",
   "metadata": {},
   "source": [
    "\\\n",
    "\\\n",
    "\\\n",
    "\\\n",
    "\\\n",
    "\\\n",
    "\\\n",
    "\\\n",
    "\\\n",
    "You might notice this takes a few lines of code to do. Can we be more efficient?"
   ]
  },
  {
   "cell_type": "code",
   "execution_count": null,
   "metadata": {},
   "outputs": [],
   "source": [
    "# The newline command \\n allows the printing of new lines in the same line of code\n",
    "\n",
    "print(\"Hello, my name is ____ \\nI am __ years old \\nI like to do ___\")"
   ]
  },
  {
   "cell_type": "markdown",
   "metadata": {},
   "source": [
    "#### Comments\n",
    "Comments can be added directly to the code by starting the line with #:"
   ]
  },
  {
   "cell_type": "code",
   "execution_count": null,
   "metadata": {
    "scrolled": true
   },
   "outputs": [],
   "source": [
    "# This is a comment\n",
    "print(\"This is not a comment\")\n"
   ]
  },
  {
   "cell_type": "markdown",
   "metadata": {},
   "source": [
    "Longer comments can be sandwiched between triple double quotes:\n"
   ]
  },
  {
   "cell_type": "code",
   "execution_count": null,
   "metadata": {},
   "outputs": [],
   "source": [
    "\"\"\"\n",
    "print(\"01: This is a comment, does not print\")\n",
    "\"\"\"\n",
    "\n",
    "print(\"02: This prints\")"
   ]
  },
  {
   "cell_type": "markdown",
   "metadata": {},
   "source": [
    "### Variables\n",
    "\n",
    "Variables are used to store and manipulate information in a computer program. They can be thought of as containers that carry data and their sole purpose is to label and store data in memory. Variables have names chosen in a way to make the code more understandable to the reader.\n",
    "\n",
    "In Python, there is no command for declaring a variable. Instead, variables are initialized the moment a value is assigned to them."
   ]
  },
  {
   "cell_type": "code",
   "execution_count": null,
   "metadata": {},
   "outputs": [],
   "source": [
    "# Let us create several variables:\n",
    "var_1 = 5  # First variable\n",
    "var_2 = 7  # Second variable\n",
    "\n",
    "# Both variables are numbers, so let us perform an operation on them:\n",
    "var_3 = var_1 + var_2\n",
    "\n",
    "# Finally, we output the result:\n",
    "print(var_3)"
   ]
  },
  {
   "cell_type": "markdown",
   "metadata": {},
   "source": [
    "#### f-Strings: Easier String Formatting\n",
    "\n",
    "Sometimes we want to include variables or expressions inside strings. Instead of using + to concatenate, Python provides a convenient way called f-strings.\n",
    "\n",
    "An f-string is just a normal string with an f in front, and you can put variables or expressions inside curly braces {}."
   ]
  },
  {
   "cell_type": "markdown",
   "metadata": {},
   "source": [
    "Let's revisit our code from earlier using variables:"
   ]
  },
  {
   "cell_type": "code",
   "execution_count": null,
   "metadata": {},
   "outputs": [],
   "source": [
    "name = \n",
    "age = \n",
    "hobby = \n",
    "\n",
    "print(f\"Hello, my name is {name} \\nI am {age} years old \\nI like to do {hobby}\")"
   ]
  },
  {
   "cell_type": "markdown",
   "metadata": {},
   "source": [
    "\\\n",
    "\\\n",
    "\\\n",
    "\\\n",
    "\\\n",
    "\\\n",
    "\\\n",
    "And now, let's do the same thing but with ```input()```:"
   ]
  },
  {
   "cell_type": "code",
   "execution_count": null,
   "metadata": {},
   "outputs": [],
   "source": [
    "name = input(\"What is your name? >\")\n",
    "age = input(\"What is your age? >\")\n",
    "hobby = input(\"What is your hobby? >\")\n",
    "\n",
    "print(f\"Hello, my name is {name} \\nI am {age} years old \\nI like to do {hobby}\")"
   ]
  },
  {
   "cell_type": "markdown",
   "metadata": {},
   "source": [
    "\\\n",
    "\\\n",
    "\\\n",
    "\\\n",
    "\\\n",
    "\\\n",
    "\\\n",
    "\\\n",
    "Variables can have different *types*. In Python, there are five main type categories:\n",
    "\n",
    "* Number\n",
    "* String\n",
    "* Tuple\n",
    "* List\n",
    "* Dictionary\n",
    "\n",
    "Some of the categories can contain more than one type. For example, Number can be an integer or a floating point number or a boolean. We will learn more about them as we go along. The important point here is that when performing operations on variables, make sure these operations are defined for the particular type. That is, do not try to subtract an integer from a string."
   ]
  },
  {
   "cell_type": "code",
   "execution_count": null,
   "metadata": {},
   "outputs": [],
   "source": [
    "my_str = \"5\";         # Declare a string type variable\n",
    "my_int = 2;           # Declare an integer type variable\n",
    "\n",
    "res = my_str - my_int"
   ]
  },
  {
   "cell_type": "markdown",
   "metadata": {},
   "source": [
    "Numbers are further broken down into 3 categories:\n",
    "\n",
    "Integers ```Int```: Whole numbers (1, 2, 3)\n",
    "\n",
    "Floating Point ```Float```: Decimals (1.12, 3.00)\n",
    "\n",
    "Booleans ```Bool```: True/False or 1/0"
   ]
  },
  {
   "cell_type": "code",
   "execution_count": null,
   "metadata": {},
   "outputs": [],
   "source": [
    "var1 = 1\n",
    "var2 = 9.50\n",
    "var3 = True\n",
    "\n",
    "print(f\"This {var1} is a {type(var1)}\")\n",
    "print(f\"This {var2} is a {type(var2)}\")\n",
    "print(f\"This {var3} is a {type(var3)}\")"
   ]
  },
  {
   "cell_type": "markdown",
   "metadata": {},
   "source": [
    "The following is totally valid because Python treats the boolean True/False as 1/0:"
   ]
  },
  {
   "cell_type": "code",
   "execution_count": null,
   "metadata": {},
   "outputs": [],
   "source": [
    "my_bool = True;  # Declare a boolean\n",
    "my_float = 2.32; # Declare a float\n",
    "\n",
    "# Add the variables. \n",
    "# Here, Python will treat the boolean \n",
    "# as a float to complete the operation\n",
    "print(f\"The sum of my_bool and my_float is {str(my_bool + my_float)}\")\n",
    "\n",
    "# Similarly, if we try to multiply \n",
    "# the variables, the boolean is treated as 1.0\n",
    "print(f\"The product of my_bool and my_float is {str(my_bool * my_float)}\")"
   ]
  },
  {
   "cell_type": "markdown",
   "metadata": {},
   "source": [
    "### Arithmetic Operators\n",
    "\n",
    "These are used for basic math:"
   ]
  },
  {
   "cell_type": "code",
   "execution_count": null,
   "metadata": {},
   "outputs": [],
   "source": [
    "x = 10\n",
    "y = 3\n",
    "\n",
    "print(x + y)   # Addition - 13\n",
    "print(x - y)   # Subtraction - 7\n",
    "print(x * y)   # Multiplication - 30\n",
    "print(x / y)   # Division - 3.333...\n",
    "print(x // y)  # Floor division (no remainder) - 3\n",
    "print(x % y)   # Modulus (remainder) - 1\n",
    "print(x ** y)  # Exponentiation - 10^3 = 1000\n"
   ]
  },
  {
   "cell_type": "markdown",
   "metadata": {},
   "source": [
    "### Comparison Operators\n",
    "\n",
    "These compare values and return True or False:"
   ]
  },
  {
   "cell_type": "code",
   "execution_count": null,
   "metadata": {},
   "outputs": [],
   "source": [
    "a = 5\n",
    "b = 7\n",
    "\n",
    "print(a == b)   # Equal - False\n",
    "print(a != b)   # Not equal - True\n",
    "print(a > b)    # Greater than - False\n",
    "print(a < b)    # Less than - True\n",
    "print(a >= 5)   # Greater or equal - True\n",
    "print(b <= 7)   # Less or equal - True"
   ]
  },
  {
   "cell_type": "markdown",
   "metadata": {},
   "source": [
    "### Logical Operators\n",
    "\n",
    "These combine conditions:"
   ]
  },
  {
   "cell_type": "code",
   "execution_count": null,
   "metadata": {},
   "outputs": [],
   "source": [
    "x = 10\n",
    "print(x > 5 and x < 20)   # True (both are true)\n",
    "print(x > 15 or x == 10)  # True (at least one is true)\n",
    "print(not(x == 10))       # False (because x == 10 is True, so not makes it False)"
   ]
  },
  {
   "cell_type": "markdown",
   "metadata": {},
   "source": [
    "### Assignment Operators\n",
    "\n",
    "Used to assign values to variables. You can also combine assignment with arithmetic:"
   ]
  },
  {
   "cell_type": "code",
   "execution_count": null,
   "metadata": {},
   "outputs": [],
   "source": [
    "x = 5\n",
    "x += 3   # Same as x = x + 3 - 8\n",
    "x -= 2   # Same as x = x - 2 - 6\n",
    "x *= 4   # Same as x = x * 4 - 24\n",
    "x /= 6   # Same as x = x / 6 - 4.0"
   ]
  },
  {
   "cell_type": "markdown",
   "metadata": {},
   "source": [
    "### Try it yourself\n",
    "\n",
    "Write a small program that:\n",
    "\n",
    "- Takes two numbers,\n",
    "\n",
    "- Prints their sum, difference, product, and quotient,\n",
    "\n",
    "- Prints whether the first number is greater than the second."
   ]
  },
  {
   "cell_type": "markdown",
   "metadata": {},
   "source": [
    "#### You try!\n",
    "\n",
    "Math on strings? How does that work?"
   ]
  },
  {
   "cell_type": "code",
   "execution_count": null,
   "metadata": {},
   "outputs": [],
   "source": [
    "# Define two string variables. What algebraic operations can you do with them?\n",
    "\n",
    "my_str1 = \n",
    "my_str2 = \n",
    "\n",
    "print(my_str1 + my_str2) #string concatenation"
   ]
  },
  {
   "cell_type": "code",
   "execution_count": null,
   "metadata": {},
   "outputs": [],
   "source": [
    "# Define two variables: a string and a number. \n",
    "# What algebraic operations are allowed? Does it matter if the number is an integer or a float?\n",
    "\n",
    "my_str = \n",
    "my_num = \n",
    "\n",
    "print(my_num * my_str)"
   ]
  },
  {
   "cell_type": "markdown",
   "metadata": {},
   "source": [
    "## Lists in Python\n",
    "\n",
    "A **list** in Python is a collection of items stored in a single variable.  \n",
    "Lists are useful when you want to group related values together, such as a collection of numbers, strings, or even other lists.\n",
    "\n",
    "### Key features of lists:\n",
    "- Ordered: items are stored in a specific order.\n",
    "- Mutable: you can change, add, or remove elements after the list is created.\n",
    "- Can contain mixed data types (strings, numbers, booleans, etc.).\n",
    "\n",
    "### Creating a List\n",
    "Lists are written using square brackets `[ ]` with items separated by commas.\n"
   ]
  },
  {
   "cell_type": "code",
   "execution_count": null,
   "metadata": {},
   "outputs": [],
   "source": [
    "# Example: A list of numbers\n",
    "numbers = [10, 20, 30, 40]\n",
    "print(numbers)\n",
    "\n",
    "# Example: A list of strings\n",
    "fruits = [\"apple\", \"banana\", \"cherry\"]\n",
    "print(fruits)\n",
    "\n",
    "# Example: Mixed data types\n",
    "mixed = [1, \"hello\", True, 3.14]\n",
    "print(mixed)"
   ]
  },
  {
   "cell_type": "markdown",
   "metadata": {},
   "source": [
    "### Accessing Items\n",
    "We use **indexing** to access items.  \n",
    "Python uses *zero-based indexing*, so the first item has index `0`.\n"
   ]
  },
  {
   "cell_type": "code",
   "execution_count": null,
   "metadata": {},
   "outputs": [],
   "source": [
    "fruits = [\"apple\", \"banana\", \"cherry\"]\n",
    "\n",
    "print(fruits[0])  # first item\n",
    "print(fruits[1])  # second item\n",
    "print(fruits[-1]) # last item (negative index counts from the end)"
   ]
  },
  {
   "cell_type": "markdown",
   "metadata": {},
   "source": [
    "### Changing Items\n",
    "Since lists are mutable, we can replace an item at a specific index.\n"
   ]
  },
  {
   "cell_type": "code",
   "execution_count": 1,
   "metadata": {},
   "outputs": [
    {
     "name": "stdout",
     "output_type": "stream",
     "text": [
      "['apple', 'blueberry', 'cherry']\n"
     ]
    }
   ],
   "source": [
    "fruits = [\"apple\", \"banana\", \"cherry\"]\n",
    "fruits[1] = \"blueberry\"  # replace \"banana\" with \"blueberry\"\n",
    "print(fruits)\n"
   ]
  },
  {
   "cell_type": "markdown",
   "metadata": {},
   "source": [
    "### Adding Items\n",
    "We can add items using:\n",
    "- `append()` -> adds to the end\n",
    "- `insert()` -> adds at a specific index"
   ]
  },
  {
   "cell_type": "code",
   "execution_count": 2,
   "metadata": {},
   "outputs": [
    {
     "name": "stdout",
     "output_type": "stream",
     "text": [
      "['apple', 'banana', 'cherry', 'orange']\n",
      "['apple', 'kiwi', 'banana', 'cherry', 'orange']\n"
     ]
    }
   ],
   "source": [
    "fruits = [\"apple\", \"banana\", \"cherry\"]\n",
    "fruits.append(\"orange\")\n",
    "print(fruits)\n",
    "\n",
    "fruits.insert(1, \"kiwi\")  # insert at index 1\n",
    "print(fruits)\n"
   ]
  },
  {
   "cell_type": "markdown",
   "metadata": {},
   "source": [
    "### Removing Items\n",
    "There are several ways to remove items:\n",
    "- `remove(value)` → removes by value\n",
    "- `pop(index)` → removes by index (default last item)\n",
    "- `del` → deletes by index\n"
   ]
  },
  {
   "cell_type": "code",
   "execution_count": 3,
   "metadata": {},
   "outputs": [
    {
     "name": "stdout",
     "output_type": "stream",
     "text": [
      "['apple', 'cherry', 'orange']\n",
      "['apple', 'orange']\n",
      "['orange']\n"
     ]
    }
   ],
   "source": [
    "fruits = [\"apple\", \"banana\", \"cherry\", \"orange\"]\n",
    "\n",
    "fruits.remove(\"banana\")\n",
    "print(fruits)\n",
    "\n",
    "fruits.pop(1)  # removes \"cherry\"\n",
    "print(fruits)\n",
    "\n",
    "del fruits[0]  # removes \"apple\"\n",
    "print(fruits)\n"
   ]
  },
  {
   "cell_type": "markdown",
   "metadata": {},
   "source": [
    "### Useful Functions\n",
    "Some built-in functions for lists:\n",
    "- `len()` → number of items\n",
    "- `sorted()` → returns a sorted copy\n",
    "- `sum()` → adds up numbers in a list\n"
   ]
  },
  {
   "cell_type": "code",
   "execution_count": null,
   "metadata": {},
   "outputs": [
    {
     "name": "stdout",
     "output_type": "stream",
     "text": [
      "4\n",
      "[2, 3, 5, 8]\n",
      "18\n"
     ]
    }
   ],
   "source": [
    "numbers = [5, 3, 8, 2]\n",
    "\n",
    "print(len(numbers))      # number of items\n",
    "print(sorted(numbers))   # sorted list\n",
    "print(sum(numbers))      # total sum"
   ]
  },
  {
   "cell_type": "markdown",
   "metadata": {},
   "source": [
    "## Practice: Working with Lists\n",
    "\n",
    "Try solving these exercises on your own. Run the code cell below each question and write your answer there.\n",
    "\n",
    "1. **Create a List**  \n",
    "   - Make a list called `animals` that contains at least 4 animals. Print the list.\n",
    "\n",
    "2. **Accessing Items**  \n",
    "   - Print the first animal in your list.  \n",
    "   - Print the last animal using a negative index.\n",
    "\n",
    "3. **Changing Items**  \n",
    "   - Replace the second animal in your list with a different animal. Print the updated list.\n",
    "\n",
    "4. **Adding & Removing**  \n",
    "   - Add a new animal to the end of the list.  \n",
    "   - Remove one animal of your choice.  \n",
    "   - Print the final list.\n",
    "\n",
    "5. **f String**  \n",
    "   - Write an f string that prints your favorite animal with the sentence:  \n",
    "     `\"I like [animal]!\"`\n",
    "   - e.g. ```animals = [\"dog\", \"cat\"]```\n",
    "\n",
    "   - Output: \"I like dog!\"\n",
    "\n",
    "6. **Numbers Practice**  \n",
    "   - Create a list of 5 numbers.  \n",
    "   - Print the length of the list.  \n",
    "   - Print the sum of the numbers.  \n",
    "   - Print the list sorted in ascending order.\n"
   ]
  },
  {
   "cell_type": "markdown",
   "metadata": {},
   "source": [
    "### Functions\n",
    "\n",
    "Functions are operations that take some input and return some output. They are a block of organized, reusable code that is used to perform a single action. \n",
    "They are very useful because they allow you to build your code in a modular way: you can reuse the same lines without having to re-write them!\n",
    "\n",
    "Python provides many built-in functions, such as :\n",
    "\n",
    "\n",
    "```\n",
    "print()\n",
    "return()\n",
    "min()\n",
    "max()\n",
    "pow()\n",
    "round()\n",
    "sum()\n",
    "len()\n",
    "\n",
    "```\n",
    "but you can create your own functions, following python syntax for functions:\n",
    "\n",
    "\n",
    "```\n",
    "def function_name(parameter1, parameter2):\n",
    "   function_suite\n",
    "   return([expression])\n",
    "```\n",
    "\n",
    "The following is an example of a function that sums two numbers:"
   ]
  },
  {
   "cell_type": "code",
   "execution_count": null,
   "metadata": {},
   "outputs": [],
   "source": [
    "def my_sum(par1, par2):\n",
    "    result = par1 + par2\n",
    "    return result\n",
    "\n",
    "print(my_sum(3, 5))"
   ]
  },
  {
   "cell_type": "markdown",
   "metadata": {},
   "source": [
    "#### Indentation\n",
    "In most programming languages, indentation is used to improve the code readability. In Python, on the other hand, indentation is required to indicate blocks of code. For example,"
   ]
  },
  {
   "cell_type": "code",
   "execution_count": null,
   "metadata": {},
   "outputs": [],
   "source": [
    "def my_sum(par1, par2):\n",
    "    result = par1 + par2\n",
    "    return result"
   ]
  },
  {
   "cell_type": "markdown",
   "metadata": {},
   "source": [
    "Removing the indentation results in an error:"
   ]
  },
  {
   "cell_type": "code",
   "execution_count": null,
   "metadata": {},
   "outputs": [],
   "source": [
    "def my_sum(par1, par2):\n",
    "result = par1 + par2\n",
    "return result"
   ]
  },
  {
   "cell_type": "markdown",
   "metadata": {},
   "source": [
    "#### You try!"
   ]
  },
  {
   "cell_type": "code",
   "execution_count": null,
   "metadata": {},
   "outputs": [],
   "source": [
    "# Write a function that takes one parameter and triples it\n",
    "def tripler(par):\n",
    "    result = \n",
    "    \n",
    "    return result\n",
    "\n",
    "print(tripler(5))"
   ]
  },
  {
   "cell_type": "code",
   "execution_count": null,
   "metadata": {},
   "outputs": [],
   "source": [
    "# Write a function that takes in 3 parameters adds the first and the second and then it multiplies by the third\n",
    "\n",
    "def sum_mult(par1, par2, par3):\n",
    "    result = \n",
    "    \n",
    "    return result\n",
    "\n",
    "print(sum_mult(1,2,3))"
   ]
  },
  {
   "cell_type": "code",
   "execution_count": null,
   "metadata": {},
   "outputs": [],
   "source": [
    "# Write a function that takes in 2 parameters, an INT and a STRING, and repeats the string int times\n",
    "\n",
    "\n",
    "def repeater(int1, str1):\n",
    "    result = \n",
    "    \n",
    "    return result\n",
    "\n",
    "print(repeater(10, 'Rafa'))"
   ]
  },
  {
   "cell_type": "markdown",
   "metadata": {},
   "source": [
    "### IF Statements\n",
    "\n",
    "If-statements are used to make sure that blocks of code are executed only if certain conditions are met:"
   ]
  },
  {
   "cell_type": "code",
   "execution_count": null,
   "metadata": {},
   "outputs": [],
   "source": [
    "a = 200\n",
    "b = 33\n",
    "if b > a: # first condition to be met\n",
    "    print(\"b is greater than a\")\n",
    "elif a == b: # If the previous condition is not true, try this condition\n",
    "    print(\"a and b are equal\")\n",
    "else: # if none of the previous conditions are met, do this\n",
    "    print(\"a is greater than b\")"
   ]
  },
  {
   "cell_type": "markdown",
   "metadata": {},
   "source": [
    "#### You try!"
   ]
  },
  {
   "cell_type": "code",
   "execution_count": null,
   "metadata": {},
   "outputs": [],
   "source": [
    "# Write a function that takes one parameter. \n",
    "# If the parameter is greater than 10, double it. Otherwise, return it unchanged.\n",
    "\n",
    "def doubler(num):\n",
    "    if :\n",
    "        result = \n",
    "    else: \n",
    "        result = \n",
    "    return result\n",
    "\n",
    "print(doubler(20))"
   ]
  },
  {
   "cell_type": "code",
   "execution_count": null,
   "metadata": {},
   "outputs": [],
   "source": [
    "# Write a function that takes one parameter (age). \n",
    "# If the age is over 18, they can watch Deadpool and Wolverine\n",
    "# If the age is under 18, they cannot watch Deadpool and Wolverine\n",
    "# What if we add another movie that is 16+?\n",
    "\n"
   ]
  },
  {
   "cell_type": "markdown",
   "metadata": {},
   "source": [
    "### Loops\n",
    "\n",
    "#### FOR Loops\n",
    "\n",
    "A FOR loop is used for iterating over a sequence. The range function is useful to generate a list of numbers from a starting point to an end point, following a specified increment. "
   ]
  },
  {
   "cell_type": "code",
   "execution_count": null,
   "metadata": {},
   "outputs": [],
   "source": [
    "# range(start, end, increment (default = 1))\n",
    "for i in range(10):\n",
    "    print(i)"
   ]
  },
  {
   "cell_type": "code",
   "execution_count": null,
   "metadata": {},
   "outputs": [],
   "source": [
    "# range(start, end, increment (default = 1))\n",
    "for i in range(2, 30, 3):\n",
    "    print(i)"
   ]
  },
  {
   "cell_type": "markdown",
   "metadata": {},
   "source": [
    "#### You try!\n",
    "Add a code cell below and modify the code we just saw to print all the EVEN numbers from 4 to 20 (INCLUDED!)."
   ]
  },
  {
   "cell_type": "code",
   "execution_count": null,
   "metadata": {},
   "outputs": [],
   "source": [
    "for i in range( ):\n",
    "    print(i)"
   ]
  },
  {
   "cell_type": "code",
   "execution_count": null,
   "metadata": {},
   "outputs": [],
   "source": [
    "# Early bird pricing! If you are one of the first 10 customers, you get a prize\n",
    "# If 20 customers come, write a for loop that prints out whether they get the prize or not\n",
    "# Hint: you might need some other code... maybe something that checks IF you are in the first 10\n",
    "\n",
    "for i in range(21):\n"
   ]
  },
  {
   "cell_type": "markdown",
   "metadata": {},
   "source": [
    "For loops can also be used to go through lists and dictionaries!"
   ]
  },
  {
   "cell_type": "code",
   "execution_count": null,
   "metadata": {},
   "outputs": [],
   "source": [
    "fruit_list = ['apple', 'banana', 'grape']\n",
    "\n",
    "for i in fruit_list:\n",
    "    print(i)"
   ]
  },
  {
   "cell_type": "code",
   "execution_count": null,
   "metadata": {},
   "outputs": [],
   "source": [
    "fruit_dictionary = {'apple':'good', 'banana':'bad', 'grape':'mid'}\n",
    "\n",
    "for i in fruit_dictionary:\n",
    "    print(i)\n",
    "    \n",
    "for i in fruit_dictionary:\n",
    "    print(fruit_dictionary[i])"
   ]
  },
  {
   "cell_type": "code",
   "execution_count": null,
   "metadata": {},
   "outputs": [],
   "source": [
    "for i in fruit_dictionary:\n",
    "    print(f\"{i} is {fruit_dictionary[i]}\")"
   ]
  },
  {
   "cell_type": "code",
   "execution_count": null,
   "metadata": {},
   "outputs": [],
   "source": [
    "# Grading system. If your score is above 80, you get an A. If your score is 50 or above, you pass\n",
    "# Below 50 fails.\n",
    "\n",
    "grades = [10, 50, 100, 97, 84]\n",
    "\n",
    "for i in grades:\n",
    "    \n",
    "    \n",
    "    \n",
    "    "
   ]
  },
  {
   "cell_type": "code",
   "execution_count": null,
   "metadata": {},
   "outputs": [],
   "source": [
    "# If the movie is good, print {movies} is good! Otherwise, print {movies} is bad\n",
    "\n",
    "movies = {\"The Terminator\" : \"good\", \"Morbius\" : 'bad', 'Moana' : 'good'}\n",
    "\n",
    "for i in movies:\n",
    "    if :\n",
    "        print(f'{i} is a __ movie!')\n",
    "    else:\n",
    "        print(f\"{i} is a ___ movie!\")\n",
    "        "
   ]
  },
  {
   "cell_type": "code",
   "execution_count": null,
   "metadata": {},
   "outputs": [],
   "source": [
    "for i in movies:\n",
    "    print(f'{i} is a {movies[i]} movie!')"
   ]
  },
  {
   "cell_type": "markdown",
   "metadata": {},
   "source": [
    "#### While Loops\n",
    "\n",
    "A while loop keeps running as long as a condition is True.\n",
    "\n",
    "Be careful: if the condition never becomes False, your loop will run forever!"
   ]
  },
  {
   "cell_type": "code",
   "execution_count": null,
   "metadata": {},
   "outputs": [],
   "source": [
    "count = 1\n",
    "\n",
    "while count <= 5:\n",
    "    print(\"Count is:\", count)\n",
    "    count += 1   # increase count by 1 each time\n"
   ]
  },
  {
   "cell_type": "code",
   "execution_count": null,
   "metadata": {},
   "outputs": [],
   "source": [
    "x = 1\n",
    "while True:   # This would normally run forever\n",
    "    print(\"x is\", x)\n",
    "    if x == 3:   # Stop loop when x reaches 3\n",
    "        break\n",
    "    x += 1\n"
   ]
  },
  {
   "cell_type": "markdown",
   "metadata": {},
   "source": [
    "Use ```continue``` to skip an iteration"
   ]
  },
  {
   "cell_type": "code",
   "execution_count": null,
   "metadata": {},
   "outputs": [],
   "source": [
    "n = 0\n",
    "while n < 5:\n",
    "    n += 1\n",
    "    if n == 3:\n",
    "        continue   # Skip printing 3\n",
    "    print(n)"
   ]
  },
  {
   "cell_type": "code",
   "execution_count": null,
   "metadata": {},
   "outputs": [],
   "source": [
    "secret = 7\n",
    "guess = 0\n",
    "\n",
    "while guess != secret:\n",
    "    guess = int(input(\"Guess a number between 1 and 10: \"))\n",
    "    if guess < secret:\n",
    "        print(\"Too low!\")\n",
    "    elif guess > secret:\n",
    "        print(\"Too high!\")\n",
    "\n",
    "print(\"You got it!\")\n"
   ]
  },
  {
   "cell_type": "markdown",
   "metadata": {},
   "source": [
    "### Practice Problems\n",
    "\n",
    "Write a program using a while loop to print numbers from 10 down to 1.\n",
    "\n",
    "Ask the user to enter numbers until they type 0. Then print the sum of all numbers entered.\n",
    "\n",
    "Write a guessing game where the computer keeps asking until the user guesses your favorite color."
   ]
  },
  {
   "cell_type": "markdown",
   "metadata": {},
   "source": [
    "Python Practice Coding Questions\n",
    "\n",
    "1. Hello World\n",
    "\n",
    "Print the string \"hello\" on the first line and \"world\" on the second line.\n",
    "\n",
    "2. Comments\n",
    "\n",
    "Write a short Python program that includes one single-line comment and one multi-line comment.\n",
    "\n",
    "3. Variables\n",
    "\n",
    "Create a variable called name and assign it your name as a string. Print a sentence introducing yourself using this variable.\n",
    "\n",
    "4. Numbers\n",
    "\n",
    "Store the numbers 8 and 5 in two variables. Print their sum, difference, product, and quotient.\n",
    "\n",
    "5. String Formatting\n",
    "\n",
    "Create two variables: city and year. Assign them a city name and a year. Print a sentence like:\n",
    "“I visited Paris in 2022.”\n",
    "\n",
    "6. If Statement\n",
    "\n",
    "Write code that checks if a variable x is greater than 10. If true, print \"x is large!\". Otherwise, print \"x is small!\".\n",
    "\n",
    "7. For Loop\n",
    "\n",
    "Use a for loop to print the numbers from 1 to 5, each on a separate line.\n",
    "\n",
    "8. While Loop\n",
    "\n",
    "Write a while loop that prints the numbers from 5 down to 1.\n",
    "\n",
    "9. Function\n",
    "\n",
    "Define a function called greet that takes one argument, name, and prints:\n",
    "“Hello, [name]!”\n",
    "\n",
    "Call the function at least twice with different names.\n",
    "\n",
    "10. List Practice\n",
    "\n",
    "Create a list of three of your favorite foods. Write code that prints each food on its own line using a loop."
   ]
  }
 ],
 "metadata": {
  "kernelspec": {
   "display_name": "TTA",
   "language": "python",
   "name": "python3"
  },
  "language_info": {
   "codemirror_mode": {
    "name": "ipython",
    "version": 3
   },
   "file_extension": ".py",
   "mimetype": "text/x-python",
   "name": "python",
   "nbconvert_exporter": "python",
   "pygments_lexer": "ipython3",
   "version": "3.12.9"
  }
 },
 "nbformat": 4,
 "nbformat_minor": 4
}
