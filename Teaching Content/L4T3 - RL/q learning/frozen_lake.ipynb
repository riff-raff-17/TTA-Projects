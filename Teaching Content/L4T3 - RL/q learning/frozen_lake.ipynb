{
 "cells": [
  {
   "cell_type": "markdown",
   "id": "f65761de",
   "metadata": {},
   "source": [
    "# Q-Learning on FrozenLake (Gymnasium)\n",
    "We will use the FrozenLake-v1 environment from Gymnasium and solve it with Q-learning.\n"
   ]
  },
  {
   "cell_type": "markdown",
   "id": "63972c46",
   "metadata": {},
   "source": [
    "## Imports and Helpers\n",
    "We import the libraries, set a random seed, and make a helper for moving averages.\n"
   ]
  },
  {
   "cell_type": "code",
   "execution_count": 3,
   "id": "d02c4590",
   "metadata": {},
   "outputs": [],
   "source": [
    "import numpy as np\n",
    "import gymnasium as gym\n",
    "from collections import deque\n",
    "import matplotlib.pyplot as plt\n",
    "\n",
    "# For reproducibility\n",
    "SEED = 0\n",
    "np.random.seed(0)\n",
    "\n",
    "def moving_average(x, window=100):\n",
    "    if len(x) < window:\n",
    "        return np.array(x, dtype=float)\n",
    "    cumsum = np.cumsum(np.insert(x, 0, 0))\n",
    "    return (cumsum[window:] - cumsum[:-window]) / float(window)\n",
    "\n",
    "# Map FrozenLake actions to arrows for pretty policies\n",
    "# You can write these on a mac with CMD + OPTION + SPACE\n",
    "# IDK how on windows\n",
    "ARROWS = {0: \"←\", 1: \"↓\", 2: \"→\", 3: \"↑\"}  # Left, Down, Right, Up "
   ]
  },
  {
   "cell_type": "markdown",
   "id": "18918ca9",
   "metadata": {},
   "source": [
    "## Environment\n",
    "We use the classic **4x4 FrozenLake** environment.  \n",
    "- Start = top left  \n",
    "- Goal = bottom right  \n",
    "- Holes = fall in, episode ends  \n",
    "- Slippery ice makes actions stochastic\n"
   ]
  },
  {
   "cell_type": "code",
   "execution_count": 4,
   "id": "cfee62c8",
   "metadata": {},
   "outputs": [
    {
     "data": {
      "text/plain": [
       "(np.int64(16), np.int64(4))"
      ]
     },
     "execution_count": 4,
     "metadata": {},
     "output_type": "execute_result"
    }
   ],
   "source": [
    "# Classic 4x4 FrozenLake (slippery by default). Rewards: +1 for reaching goal, 0 otherwise.\n",
    "# During training we don't need rendering; it's faster.\n",
    "env = gym.make(\"FrozenLake-v1\", map_name=\"4x4\", is_slippery=True)\n",
    "n_states = env.observation_space.n\n",
    "n_actions = env.action_space.n\n",
    "\n",
    "n_states, n_actions\n"
   ]
  },
  {
   "cell_type": "markdown",
   "id": "386cc2c8",
   "metadata": {},
   "source": [
    "## Q-table and Hyperparameters\n",
    "- **Q-table**: stores values for each state-action pair  \n",
    "- **α (alpha)**: learning rate  \n",
    "- **γ (gamma)**: discount factor  \n",
    "- **ε (epsilon)**: exploration rate\n"
   ]
  },
  {
   "cell_type": "code",
   "execution_count": null,
   "id": "98759698",
   "metadata": {},
   "outputs": [],
   "source": [
    "# For slippery=False\n",
    "Q = np.zeros((n_states, n_actions))\n",
    "\n",
    "# Hyperparameters (good starting points for FrozenLake)\n",
    "# Check out optimal parameters at sb3 github\n",
    "alpha = 0.8 # learning rate\n",
    "gamma = 0.95 # discount factor\n",
    "\n",
    "epsilon = 1.0 # start fully exploring\n",
    "epsilon_min = 0.01  # minimal exploration\n",
    "epsilon_decay = 0.995\n",
    "\n",
    "episodes = 10_000\n",
    "max_steps_per_episode = 100\n",
    "\n",
    "# Tracking\n",
    "episode_rewards = []\n",
    "episode_success = [] # 1 if reached goal, else 0\n",
    "smoothed_success = []\n"
   ]
  },
  {
   "cell_type": "code",
   "execution_count": 24,
   "id": "1fa522eb",
   "metadata": {},
   "outputs": [],
   "source": [
    "#For slippery=True\n",
    "Q = np.zeros((n_states, n_actions))\n",
    "\n",
    "# Hyperparameters (good starting points for FrozenLake)\n",
    "# Check out optimal parameters at sb3 github\n",
    "alpha = 0.2 # learning rate\n",
    "gamma = 0.99 # discount factor\n",
    "\n",
    "epsilon = 1.0 # start fully exploring\n",
    "epsilon_min = 0.05  # minimal exploration\n",
    "target_fraction = 0.95\n",
    "epsilon_decay = (epsilon_min/epsilon) ** (1/(episodes*target_fraction))\n",
    "\n",
    "episodes = 60_000\n",
    "max_steps_per_episode = 100\n",
    "\n",
    "# Tracking\n",
    "episode_rewards = []\n",
    "episode_success = [] # 1 if reached goal, else 0\n",
    "smoothed_success = []"
   ]
  },
  {
   "cell_type": "markdown",
   "id": "55a0508e",
   "metadata": {},
   "source": [
    "## Epsilon-Greedy Strategy\n",
    "At each step:\n",
    "- With probability ε: pick a random action (explore)  \n",
    "- With probability 1-ε: pick the best-known action (exploit)\n"
   ]
  },
  {
   "cell_type": "code",
   "execution_count": 25,
   "id": "857b6ca0",
   "metadata": {},
   "outputs": [],
   "source": [
    "def epsilon_greedy_action(state, epsilon):\n",
    "    if np.random.rand() < epsilon:\n",
    "        return env.action_space.sample()   # explore\n",
    "    else:\n",
    "        return int(np.argmax(Q[state]))    # exploit"
   ]
  },
  {
   "cell_type": "markdown",
   "id": "6aaedd29",
   "metadata": {},
   "source": [
    "## Training with Q-learning\n",
    "For each episode:\n",
    "1. Start at the beginning  \n",
    "2. Choose actions with ε-greedy  \n",
    "3. Update the Q-table using the Q-learning rule  \n",
    "4. Decay ε over time  \n",
    "\n",
    "We repeat for many episodes so the agent learns a good policy.\n"
   ]
  },
  {
   "cell_type": "code",
   "execution_count": 26,
   "id": "b6450bc5",
   "metadata": {},
   "outputs": [
    {
     "data": {
      "text/plain": [
       "(16, (16, 4))"
      ]
     },
     "execution_count": 26,
     "metadata": {},
     "output_type": "execute_result"
    }
   ],
   "source": [
    "for ep in range(episodes):\n",
    "    state, info = env.reset()\n",
    "    total_reward = 0\n",
    "\n",
    "    for t in range(max_steps_per_episode):\n",
    "        action = epsilon_greedy_action(state, epsilon)\n",
    "\n",
    "        next_state, reward, terminated, truncated, info = env.step(action)\n",
    "        done = terminated or truncated\n",
    "\n",
    "        # Q-learning update\n",
    "        best_next = np.max(Q[next_state])\n",
    "        td_target = reward + gamma * best_next\n",
    "        td_error  = td_target - Q[state, action]\n",
    "        Q[state, action] += alpha * td_error\n",
    "\n",
    "        state = next_state\n",
    "        total_reward += reward\n",
    "        if done:\n",
    "            break\n",
    "\n",
    "    # Bookkeeping\n",
    "    episode_rewards.append(total_reward)\n",
    "    episode_success.append(1 if total_reward > 0 else 0)\n",
    "\n",
    "    # Decay ε\n",
    "    epsilon = max(epsilon_min, epsilon * epsilon_decay)\n",
    "\n",
    "# Compute moving average success (window=100)\n",
    "smoothed_success = moving_average(episode_success, window=100)\n",
    "len(Q), Q.shape\n"
   ]
  },
  {
   "cell_type": "markdown",
   "id": "a0309e5d",
   "metadata": {},
   "source": [
    "## Learning Curve\n",
    "We plot the moving average of success rate across episodes.  \n",
    "This shows if the agent is improving at reaching the goal.\n"
   ]
  },
  {
   "cell_type": "code",
   "execution_count": 27,
   "id": "c381631a",
   "metadata": {},
   "outputs": [
    {
     "data": {
      "image/png": "[encoded data removed]",
      "text/plain": [
       "<Figure size 600x400 with 1 Axes>"
      ]
     },
     "metadata": {},
     "output_type": "display_data"
    }
   ],
   "source": [
    "plt.figure(figsize=(6,4))\n",
    "plt.plot(smoothed_success)\n",
    "plt.title(\"FrozenLake: Moving Average Success Rate (window=100)\")\n",
    "plt.xlabel(\"Episode\")\n",
    "plt.ylabel(\"Success Rate\")\n",
    "plt.grid(True)\n",
    "plt.show()\n"
   ]
  },
  {
   "cell_type": "markdown",
   "id": "c52aea6d",
   "metadata": {},
   "source": [
    "## Greedy Policy\n",
    "After training, we take the **best action** from each state (highest Q-value).  \n",
    "We can display it as arrows on the grid.\n"
   ]
  },
  {
   "cell_type": "code",
   "execution_count": 29,
   "id": "332ffcbd",
   "metadata": {},
   "outputs": [
    {
     "data": {
      "text/plain": [
       "array([['←', '↑', '↑', '↑'],\n",
       "       ['←', '←', '←', '←'],\n",
       "       ['↑', '↓', '←', '←'],\n",
       "       ['←', '→', '↓', '←']], dtype='<U1')"
      ]
     },
     "execution_count": 29,
     "metadata": {},
     "output_type": "execute_result"
    }
   ],
   "source": [
    "greedy_policy = np.argmax(Q, axis=1)\n",
    "\n",
    "def render_policy(policy):\n",
    "    # 4x4 grid indices: 0..15\n",
    "    grid = []\n",
    "    for s in range(n_states):\n",
    "        a = policy[s]\n",
    "        grid.append(ARROWS[a])\n",
    "    return np.array(grid).reshape(4,4)\n",
    "\n",
    "render_policy(greedy_policy)\n"
   ]
  },
  {
   "cell_type": "markdown",
   "id": "97b89b13",
   "metadata": {},
   "source": [
    "## Evaluate Policy\n",
    "We run the greedy policy without exploration to measure its success rate.\n"
   ]
  },
  {
   "cell_type": "code",
   "execution_count": 30,
   "id": "8b370bf3",
   "metadata": {},
   "outputs": [
    {
     "data": {
      "text/plain": [
       "0.714"
      ]
     },
     "execution_count": 30,
     "metadata": {},
     "output_type": "execute_result"
    }
   ],
   "source": [
    "def evaluate_policy(env, policy, episodes=100, max_steps=100):\n",
    "    wins = 0\n",
    "    for _ in range(episodes):\n",
    "        s, _ = env.reset()\n",
    "        for _ in range(max_steps):\n",
    "            a = int(policy[s])\n",
    "            s, r, term, trunc, _ = env.step(a)\n",
    "            if term or trunc:\n",
    "                if r > 0:\n",
    "                    wins += 1\n",
    "                break\n",
    "    return wins / episodes\n",
    "\n",
    "eval_env = gym.make(\"FrozenLake-v1\", map_name=\"4x4\", is_slippery=True)\n",
    "success_rate = evaluate_policy(eval_env, greedy_policy, episodes=500)\n",
    "success_rate\n"
   ]
  },
  {
   "cell_type": "markdown",
   "id": "f0a96fd9",
   "metadata": {},
   "source": [
    "## Watch an Episode\n",
    "We let the trained agent play one episode and print the text rendering of the grid as it moves.\n"
   ]
  },
  {
   "cell_type": "code",
   "execution_count": null,
   "id": "5046eb5e",
   "metadata": {},
   "outputs": [
    {
     "name": "stderr",
     "output_type": "stream",
     "text": [
      "/Users/rafa/Desktop/GitHub/TTA-Projects/Teaching Content/L4T3 - RL/q learning/.venv/lib/python3.13/site-packages/gymnasium/wrappers/rendering.py:293: UserWarning: \u001b[33mWARN: Overwriting existing videos at /Users/rafa/Desktop/GitHub/TTA-Projects/Teaching Content/L4T3 - RL/q learning/videos folder (try specifying a different `video_folder` for the `RecordVideo` wrapper if this is not desired)\u001b[0m\n",
      "  logger.warn(\n"
     ]
    },
    {
     "name": "stdout",
     "output_type": "stream",
     "text": [
      "Recorded episode 1 | total_reward=1\n"
     ]
    }
   ],
   "source": [
    "# Alternative video recording without Pygame\n",
    "from gymnasium.wrappers import RecordVideo\n",
    "from IPython.display import Video, display\n",
    "from pathlib import Path\n",
    "\n",
    "# Wrap an env for video recording. Must use render_mode=\"rgb_array\" for RecordVideo.\n",
    "video_dir = Path(\"videos\")\n",
    "video_dir.mkdir(exist_ok=True)\n",
    "\n",
    "env_video = gym.make(\n",
    "    \"FrozenLake-v1\",\n",
    "    map_name=\"4x4\",\n",
    "    is_slippery=True,\n",
    "    render_mode=\"rgb_array\"\n",
    ")\n",
    "env_video = RecordVideo(\n",
    "    env_video,\n",
    "    video_folder=str(video_dir),\n",
    "    episode_trigger=lambda ep_id: True,   # record every episode we run here\n",
    "    name_prefix=\"frozenlake\"\n",
    ")\n",
    "\n",
    "# Play one greedy episode with the learned policy and record it.\n",
    "# If success is rare, try a few times; stop at the first recorded episode.\n",
    "max_episodes_to_try = 5\n",
    "for attempt in range(max_episodes_to_try):\n",
    "    state, _ = env_video.reset()\n",
    "    done = False\n",
    "    total_reward = 0\n",
    "\n",
    "    # Use the greedy policy learned earlier (from Q-table)\n",
    "    steps = 0\n",
    "    while not done and steps < 200:\n",
    "        action = int(greedy_policy[state])  # exploit only\n",
    "        state, reward, terminated, truncated, _ = env_video.step(action)\n",
    "        done = terminated or truncated\n",
    "        total_reward += reward\n",
    "        steps += 1\n",
    "\n",
    "    # We recorded the whole episode automatically.\n",
    "    # If you want to insist on a success, you could continue the loop when total_reward == 0.\n",
    "    print(f\"Recorded episode {attempt+1} | total_reward={total_reward}\")\n",
    "    break  # remove this break if you want to try multiple recordings\n",
    "\n",
    "env_video.close()\n"
   ]
  },
  {
   "cell_type": "code",
   "execution_count": 33,
   "id": "05c8636b",
   "metadata": {},
   "outputs": [
    {
     "data": {
      "text/html": [
       "<video controls  width=\"480\" >\n",
       " <source src=\"data:video/mp4;base64,AAAAIGZ0eXBpc29tAAACAGlzb21pc28yYXZjMW1wNDEAAAAIZnJlZQAAk9htZGF0AAACrQYF//+p3EXpvebZSLeWLNgg2SPu73gyNjQgLSBjb3JlIDE2NCByMzE5MCA3ZWQ3NTNiIC0gSC4yNjQvTVBFRy00IEFWQyBjb2RlYyAtIENvcHlsZWZ0IDIwMDMtMjAyNCAtIGh0dHA6Ly93d3cudmlkZW9sYW4ub3JnL3gyNjQuaHRtbCAtIG9wdGlvbnM6IGNhYmFjPTEgcmVmPTMgZGVibG9jaz0xOjA6MCBhbmFseXNlPTB4MzoweDExMyBtZT1oZXggc3VibWU9NyBwc3k9MSBwc3lfcmQ9MS4wMDowLjAwIG1peGVkX3JlZj0xIG1lX3JhbmdlPTE2IGNocm9tYV9tZT0xIHRyZWxsaXM9MSA4eDhkY3Q9MSBjcW09MCBkZWFkem9uZT0yMSwxMSBmYXN0X3Bza2lwPTEgY2hyb21hX3FwX29mZnNldD0tMiB0aHJlYWRzPTggbG9va2FoZWFkX3RocmVhZHM9MSBzbGljZWRfdGhyZWFkcz0wIG5yPTAgZGVjaW1hdGU9MSBpbnRlcmxhY2VkPTAgYmx1cmF5X2NvbXBhdD0wIGNvbnN0cmFpbmVkX2ludHJhPTAgYmZyYW1lcz0zIGJfcHlyYW1pZD0yIGJfYWRhcHQ9MSBiX2JpYXM9MCBkaXJlY3Q9MSB3ZWlnaHRiPTEgb3Blbl9nb3A9MCB3ZWlnaHRwPTIga2V5aW50PTI1MCBrZXlpbnRfbWluPTQgc2NlbmVjdXQ9NDAgaW50cmFfcmVmcmVzaD0wIHJjX2xvb2thaGVhZD00MCByYz1jcmYgbWJ0cmVlPTEgY3JmPTIzLjAgcWNvbXA9MC42MCBxcG1pbj0wIHFwbWF4PTY5IHFwc3RlcD00IGlwX3JhdGlvPTEuNDAgYXE9MToxLjAwAIAAAGIhZYiEACv/o3ea/+otwRbQiN94HUneKLXUN33UYDNrae6n9ziSh10B+yfgaAerwAAkvicupg3NitC92ijg/c9eN481JMBwW7Hu5tLeTM5csAlY6ytadZPVTYcdvSm3Ovh9iT2642ACSaSKaKXyLOR3L8kFCAKVuWhNzpIAefm6qp8QYqrk+fB6owzO+0DN/xglGBGzNdBECGAkp3OBpKj5UMyqMpOd+uWhs0tbRUdQUZ6BJXZMw9tfe/SNlq6v0ZaGS9W9HpX5j1SsYm3X0r+OUR2Qgc3evfENM8PJ8VajHgs2zbx/xMSJounXRO8lCvdA2tk7vmqYk+4C0vXVg4EZZalMZtqLTiqU87/SU7p3nBYgq0mVnCuxPtZyJz2hI1pLsIIjLqkTVSsgr3F72IYoG+voM8GT+B+V+ejb/LhinnLdzQPeIJ55TjPcv/Pvg5fcbzr6EOfrpidEd1tPlPn/womMSSs5nPDQaPWYwMLCZH6XUR+f3NEi/7LFOjK0UoNHFyGVt3SHEmm8XS38F2VE5/nZ6o6/h8x2ok/PEP4wQ3sJou1yF8EQ6uVo1E0Oykr5IB00QhDhri+Z1uJoFZZZ3qclPuOZXu4t5J4Mi9p24AP6/YCB3CFHfOQYjph12Wnndh8C9Pcs4bSk5d+ai/I9MQ3+GmdsBVUjHfxJ8TfimJgsbM4CAQ+3hN/+wAe+dFEWUP35aztNhHxLl37IlQXPmqEhX5+75oRU5Y8AtdJLlbnpqzjHIPr19sM8WCLECkLCqirway8SzfqoemmvmiROR7GQ6W919YAeBobQKaiPq1ctPXndQGX6QqHPi0tbJtYM/vmCHJ3r+yrpjM+7QlyXGJ3oomx9z1Gu6ECIpK0oJN94KWo8ppIKtkNSfOXTPhNyCoP+FGN0sPQVxwVCFn1yuCSeXX2sdYn7VcNA9BpV40i0sSQ87K5h7saR1fRqWbYPs1fsxiSt28J47WefL+g4jtC/sUAXfzgWIiqZ7h6RPtKffwPsDWNQYq2gM4jsvLuyeIV6Zjt2yXoguB6goaLFWmKauuEsIaVwZgUlHXL0/SMJTroalK0HyyvnXiRK8p3PrsbFcE3kcqkhsrVXcSrv7aFLg215BxmoDG+ohTbEdsvqyXJ5s/pwB4gFw4ppJ7EpCTPfvi7iP52yITyivqDD0F2nTarRnKI8ZmBmtUmsaO19w8PtXbf8Q5J9mFpEcTREG5W56as4opBNBK4UrP0YUGyll8Xkos/tzVyzRUGLTEakh5KW2sOaARTL18KzueRiIWtbfi4XQ4/uuhH1Wqp9yAm1g9JzEYLw8U4ayrD7wt2N+B+sGhJHbPtkLl34TKgxS3tIUYY9bsKgrUQ1J85dJ3IxWAhq3MMGbviETyOBm7Boyv2/6sfjwkrqJIgw+GFs+flGCswgw3FQ64B0QVepUbmNDGe+C8UE1qsEB3OX4m+ttDB1YY7LCaVueuXrYKgzt4+5rqfnNT2KtoDOI2EDgVHy2yKxXb3j4nItpg0MuzWnu3eEpCmWjKx4avRMu2UvTlJW67UEkTZXhN89mZ6p33X2csnJts0GG8COmDk5ZJtOkp9iJeLRsqMXuEH5C73sr8MdlqxlUQwMquy2UIK5z+T0TGlEQub+T+eJzw4ofJzlWsWl45lQToAuXyVNrQPEuRBI7ZhWcfyg7RzkMBikfPlbnpqzg0S1fErhStD+VmBSK2z8lvV31O+L/pAJoZs1JDyUttXj669t1c4D9RPuIha1nDw7Z3j8iVPq4n5g1B/DW7Q+p1WjFB4B+cS9eelVjuBaqC5bX8rIH69HlRTTH629t2DMVsO7fo/4RL3aTyD46NoFo04/o3zrFPbWeOQzcNPdWykFssFHMs+6xMxi0XWJbcZjkzVj+lgN/FFDhd6FLDuZwPKMMAgwuCZMOzDZG/+E2vCZpcKA4c6eeO+5CNJ1qoBNxLR4MJi8l6u9b2d8azJ0HdkvDGNnzhkQ0I754IYeJctfmriK+0MF0Ukd1mCnY2xeCdptDDIUomeVbXDEHPBRno6bEEzvHyh/ffZLfv6hfinFSBKPcJPGmPKMPICBO47l9ot3KR/VSlMMbtxGuHPxBjG4ngb1eoGFzpNgEpw8eKlbDsqcK2nLTYJjOzpTFUIZMFZ7GblI23R0HwNjRLQTDjc7ehZn5L8NEWSBSgyJ2fDqvpcReO7IghmWyMRObyDHe5+7YkTNp14uOjyNEFa7Fav0T0b8xHq9M92zKSgjVJECqPvIzfPY6HY2czewzvYcfBsE5KzANZywHKDRQ/3mGmQVEAGZKTF9HLoAWKJjknW+8DcglGXZbb2rhkBtW/cKT6LzeY/iZMHXEaEC6T/cNb3bK74+57i74rMtHTexMdNDRJR9GrUzL2WvyI2c0M1JJIrgqz1PSLrORFK7bW7r2cg8CfiwbooCHtmfWRTtHtaMnzODW8zaVqVO+XQAg1sevVfZk1ESYaSoWnUVQZeLN9NfUuCMC2rFXk6cvRNJGsMgp8hgwyW9Bu2CL/m652KT0HZiQmU4PMODRtBDSDrxC0ke2bRd0iLbMamLDX2q/9JNHkKOzryWQEpmYea2zQ5qoRTq7PQxhVrO4bs2jHh+9Rzd8Zf3HPEa4OhUs/x/eeMMcVGnC0AhgxEsVOWDgrmESU93TbJ98tdAfAvAilEkcyQ2iHsszCUKDkyH5lHHo5C2ve93wmPejJXV5d1KPYm3YaEl/jbflYgog70a3fNLFRnvBn98nNa4uqqqRTi+X88NzdULr/EE3TfULNkO7bpGL7gduvyj5LXCIH1q1rVC3URV5jEKZcGrA7T7CveqTJnUO6wF6VYcqlTk5cNd4zhfTlhlCseF3C8oYdxdpUgx6cgHlx4KNf70mGApgrZgsNxDplDoPfWtzWf1/nJHFQ3mkY6/PSgGRgdsfRSOVOHCzRIWVxkuhjW+euGeh8Qw+EOKsszolAmO/qGeN9Akgtymfy/YTPy2iLpVVZVsYXajnzVVWWix0++NyVlDfUqLe/VwqVgHjdr8McoB6Oudd6910arIA3GyCWDfFdTHuaPqCwE55AN6naYUb7++8300tUlB516GPk1Mu+CKVYwbUibq9XX3JC9s9fprWGSl7NtpD3t2XzxkboLuIsz4OIySpiuHeGvq5g+sAl1QTwIGKSsHmjdUxeO26BCeWgNEig5MiKUFG1/aCrx3Fod5KDXGxGOHQ9NGIuvFCRBnfSa8IhqwuGHZVc8cUsyz+JecsUmrXL6jmXTdbdPsp8QTdTv6zZDfMfTAfCWjyy7YKx5EhonptivbqMJYCEiUq3JV9toYL1Uq77ibMfOgfDZVkYC47SyGtCub8aK1qHXB2S2jNiLkX3IjEzkybrDA2sEBZMnG3Dtmf5AJ0j4JX0k4npYqQpgHPIcHxFueg8dN+9E1MC2oiTqGhhmJoL2qr1DRh1qtL3ru6h25xk+jrQqPvFZKwDU7Ez84deBm2bshyOTPYgRg+S5MUVxOmwy5ns/5/qE7DE8z6fillgBpRPvw/HQU0pmm2XrlkaZuJNd4PjQsLW59wRXq2T8ThXnItHHr7ppaX07CAOrKBAg0PHJooWwiRNgSfS1btWLofnpzGSmBHTiy6QsKkMKyGKY26ANOIzpIauHhTwlRSrSCbz4p98G4m3SaN1cratbpsJuyAz8LkRQOuigmeW5Oku943lmQ8xXe8Px8ydNmcLqsJr5RqH/+oIcRnLLaAe2bfTZuzh5mFQwBnv2WZnTj/vEE3WGxZshxaIyzKllLdUVKVY8iViSmkPhEysChVDnjURq8oR8rEQsTxMLymZBtcShGaMLp2WBzllSkd/2kHPxMsYZuBJfy2XjRpZooixtY1oVPA6e3O8t3cE9Fbr9vbg2FZfjD6tQ9wQkZ1cME+EDzWQYPaNPyBlXh7Xpe5QYVVpSMF2lUMMR7WFwRx3Z81ixB+DAP2fQUHfzl77ED2zD7j5aPmaYjCAnJDfKij+m2Zs9dwM2IWqM+oJTZOW32ZvHPxo11aJNEurCIqmcMdGAfw/Hx1Z0LPeAb23yUL9XYZ9z8VOoqKUi4duuXq/QTsPBfRlstFKFzt+b8b5FHTfCiO9f4E52GsChqaKHJ4yDk6hbxTJOPzBkzN4fVHl/U6SyXziTXK9Pq33jKOZ6YcsL0iDMlVRm5wItjXX2tdMhT/UoiebUBi/7uhJRZkt3/dsTgPKUpkYG4XhfW8v04sIdW/tud6Cm3ONjiYwgLBidtP2SXQiV7t4twnzCEfanssMDGkOtepVq1EqmoGYVwMrRA37N9DmmUGTHd52xYHOLSyUP5BCMLzV2ppFbty4BIxD00kUwYTlnPEfYGY2dRWnBAtcU1vT7bKexJKnD8MgTDtE9ZeWj0Hu6L6WK1a56HsHsu099+xzsPyAlxMJDzrEcA7gZeoQan3A8UtpKxIiGr4Nlv2S3I2oTSqOsHOgnIK36vLCcXjwZY5XbnCbGrmlSfMIEp1lWCQ3RAAcumJECLDUivnTN2q7BapSr9QxWvDqnypPmOEm5b2SVqW48J2tP6nhi4c8pAr5VGMQeNjmWqFaj1jNokDE0PYeW1Mh/3qc7Ky2AgkqDSeaDqseXmAqBicVlDawx21BnfzOEhixLcsP58dviYDuFrrsosJPbkRJh9kpz2fvj6pbqOY203/XrMLei8K0/70QgQQUTGJeXHYa4QXRATQhbR0I+vG/F2aqM+PHjcseByZTZH6zoMVqcTSG+FinlFu/1L2dYGixEyAoienmn0BM5rCNTqPBLRO27z34Y7hsnownahmXDZ7Nqh0jJN6CH9i/HB3LdvuxmvjYaStu0G97yp/KzBlW+becxlyTINHIzm/zZBOpdmvROvLXOUPBDMzxj+1X3khl7rbg+Dyr9lXsie81i6RYaEtboxAIB8hqG0HDNuDuQouEOkDVzIEe4crI0deYAHsgeStAIAV1C/U0oWX8ExZr9XFMqQOIBRUP7u7xgM0i31WZjGkcgwDFtniH8v1qLNESTKjO0JBSQFpcpwSwBAYWDM9wsDgNWNNwaL17VsTlU8ZHLMiThTS0gEVARNrTLhGPSXB1OxQEjvmj42Ac6ifE5re1DZcRV9LYE3/dNMazYO655W4JWUlhLq1NWFF9fERAq2eeuDRdZ8V3mw8yVEiAokKaG1qBsHnn64RRlqSqcX2KmAUYRNVCKzk4/pb+mImXplRKiljxRJ2IMwSCbd9/MOi0rF+I8XDN3xEZ7QLOOWIPAnTyIXVobkF0RTZyY+QNGzNYbSnX+8b2YyOn0bii0to1Uym/wKmc8CHoXrE8t7vF4bbAxMOq/3Fo6aUL+nVLFO1rmMzrQtPc6RHi14JDxhmgixZGM5OIMtp/kUEDUaoRSKQx4bZ2th97CjFjX1nUwilmVpiXyty6q36JdYqQcicIzmkXWHQ0KlT9GHyKk+ZWuNwduELYc4+LhYpbg4AS+bhnUVtvsZnJxpYZ4LNGEO1L9cWnTff+6ivHq66g56CGHYW7zimkM2gOU4J6g/BtmAs7UDNrIg3gMw86EX7LRHC12SToWeag74T+n5Uk0TuCXwWDUXu7Val63d9XFvVln59UYhBt38rOQKwFip6odQU4qL0auikGYgPMuM0SaqiEG+wiDt6CzURpDOe6T76O3qFA5ieET9VZyHW/VPOM08hhOpTfHp2uFbYHi3HPl/1vjWqnRc5mq15i9QbNHgNq2N4xsuPBSrhuqJX5TmjmL/ulCXOPmZDeML+HY5PHmlfQNRF0HKwB2MR0sTGRVwIztpEHpHpu5ES9UnPZywa6r1IWI6RfQY48ze/z9dAr+/v1DaPwmATtawXoKa61qUupLEp/5hnBxxE3eIBBXglW+aY95GMPWG53Nl1m9fYJ4gZ2tV01rrcLllxyTBU5huSvgDAsfIMvBj6yl4NzyYnAOJDPDn811iu9C1Wong29n/tvZZYOrPXboyVfRbb0SsEOzGf5LsyW3/cP8Vl0T+Vc/gmsheo7AluRnuL5XaExG68mFspM2VXsxQsP1YBNtGpwLByEKCv98EvijLLz5fKMGrcwS2CIizHktrn/toQ7k913wRIjH2JqyIIlunk45Jm8Sz0F8D/V78YyeE29RrBfCwtFzmwB8HbB/Ux91Ob/PX2o95pyjNaLKNT6nmi7C6e2OV8EGTDOgCZIfGz+oXqwzhwlUT8mp0qygSHF8piFbycwW8KofowV0BU8o1bVXetk3Ca8XEym5tG2dh5jHKNxdS7McOSoAicWq2U0z+S78UflAC4jh1ooH6oXdA2ZoNA9zORl2b7RiaAD30CQrTnLT9nX4KsOXXTwqzp0D3ozBSbZZyqD52uMnqSB9fHZl6A/AEwfWHJRKyUGLuPnkV3R2ud2pJexM98MeNSI1a7By1OCsCwnAAi7lYae7iXWywpRoKaUBhEALjAVUk7PE6nzDfiJ1qvQ6DXnkHcuNLBDHMnYFFy9TuOhq7i0cNuHJEB4Vp0Mlu7F8Weo6j7WJWSCwSimvfJH2LX3rPuVizT6gQbxE6tcMMn7jBlaT1+Psf/mixvz4jdjU1Ce3bxEU73JPEVweQ6WtwsT4UbdgAVDJ7C8hzTwGphT3BLsMXxHOlROM2+G7QoeY70AQLYDtCd30DGPEVBXrXGYDn0OXuh7EsSvQdM0yMA8Pku0XzuzTxCtKRzHBs21BWlHk1Glp5sb0N/dAE1gGv2EFeoSphi1SuaMpEsN+9rGPddIK7/R3W75OSOYYAuWBW4KGAen6kz/AZan+YrLBKBRBmYqGUY+476ILq3aDbMl1BpMdqZvUQXSlF9gGUrBP7Cdms+z3776OI7rpnV28HyRYC2ceRiMnSVavCtB/T4mUhuEOrAfbFkC2Gc1N1MhX31ufKlSqay+gGICc4f2yHJXop6GkFndSkAkKSaUYTn+sVX7P8t3i/q/9VxutyH37zDgzpWYB3LzAeQAw7TDB5ixfcyxE6H89jgl5WnEhQGkrB/Hr7AYgsAgql7GbjYdIDXuThZ8YWs9ndJkhiVRnYigj7SRepH5m2bAq7lg2lThnuMJNGao//saDeLhVmNe0m5fjDG8NPkhpEms+m/syWoTWAOb5h3tqZfhrhGljzqGpUCpy1VZAys2QiFWdlqcr5AJkVMz/p052K080H0BTjI8dZk8carCaWV0AOxASdI/O6AY8siZCKWfBKC4bp5uZBCS/+NuFuwiqaW21f12+xZtlGae/BRwCT+aCXpHXt1zQeq140w8UiL0YPrDkoue4vQhscKjdU3LFBLmWoigyqtYhPG7RYkODvg9cqBUi63fXPB6NZboNlftLiSbpyai75HHPYPFmJHo1Jo5ds3IkrM1M7sSKRra4+FmN4k3XQ1UMWuQd5XA3qXzedyWZUr9TbxOe1eosg3TUVjJSm4noKWfrOBQ6yELiBcSqil1lviPa9eXUdOh+Ty881Gs5IFiEju4jesaN02Qad91HJ+u0sePM5c+BbE1zxgXDF3v/UL5V7U2L6xNmLRBL7Jiyso5BSw280ohdntGWdupPDoUQJiHJvB/lYlpjPW+WatYaIAROJaCmYq/IDRjeA5IEUpopzKI62Xb4RDKEEnThYTj9CBTeKHXfLF3oKuJFPOl4t2ta+W4Y2bme9EX/UpcKOAhJj9neM7C9iydthyy5Sqk8ZdfUWhG2n//402U0pg6e7aeA04Gj0vEAEhUvHXzd/f3IFaWmzWmHjlQCkHmwPaTwUIG86DkyXgEV4lfbUAv/8laArSfZ0dP9bP+4FXV7CLJNIC2OTkZ0asWS7KDZdfRX+nPvG43Zswis6At1kOWt1plK0u7HYq1lQuolDB/HAVwZPsKLuuAJVQsgFVYETuqc30sq4RAjZ46IHl8YxDqWpI35XsRzgvlUKdZzduOuWENbritJWVhboSiT3Mw73zqBssDjeAe02H885JegUv6L7GEGG1JT8QLtsJDoVu2QaMOSWsIYwetImAywAXKu5743pxSeiwavnEkSBRIofResJe1cNmKp9kKo22IgR2E9mSvlpg3CiIrHFMGGM2pJzu3uh8/o7OnJVS320V73SGSxHpPpT9XG35YmmeoyL67gXvqgiAZHCohhRnk2JNPlAUnaC7owhvheKzybGRSE1B+uVs5ZxiVpAm+0AZVVKDRuCb7Q4TGqLCuiDwcSgPX/dgFcpzEg9UYl7IRxPnReuVG2qmvQSDGNHZKNtKhuEatn1dQVhjQClnuXB9bBTTvL/SScXRX9iIgYDc7Z/+xkOQqclpnz8bkeW8fx3n/WJqHyrPriRb0KN57f5OuV+W/YaOQM+JLvthQtwFenxFykUaitMwpD0IHXv7YHaGKjBaPFN/eGO7lhvlHUUBCPnZc/YJ08RdIdLXR3I2R0dJONr7SvM7p/EtN8uPCghDCGIS8xodJI1yXb9FaJGQGCIfc1YCHu2Qxku1E3z7YmbfsGw2uFip1NVF6+Ukq8OIqYalkp0l+W+qNtUNeAhBoVQgWZOIu6doroAQlaXJ6CKuHKGIluv0NQWf6QrFTDe8YTIaTw2Mls2TXf2d3mwc1F39g7eTFEwtA2NXqaLiWEUOjH2lt5KEA2b2EHX5a9WdUgj7A1oXTc9UVQ42GQKy541hjg02HSV6Ui7b2FXDfW453W4jVNaUk6PYAL5Q5lTIMKR8FUi6hvSxjmmGsbA7R4uLmX8AlYK0YOVippfpXj7OGBorhSSq15KSbaXmE9nruUWLC+RuqjyKvdsmj9N8qcWPuxPL3SPS5NFaDQDojZ94wNaHTTRcvHZs5IC59xV/RJe1y4mbn2Yes5u75pfAM+iLFNFxM5mnuRVfSDUWs5FkDvUSoqHwg22ZAmCnx3XDXwXXAKtscZl8ofF+gwsXegamg2LrcGhxs3RMjcL/xOo/ayb0gwe2T+OHWvCbLpJIjJetjA85ZIKMuu4YRR0i+UA3sZP9WJ0qLQ2JqO4ApQgMeg8iXl2jJQkSM8/dwapXB7aEc+6o6DFPjEXqYRbJ8GHjsMsW1undPvrj2Yka4Jkdgy3jVzrkluSo5C45zDLd+S/zUMiTW6Z/0JH3MAbF6jG+7u5ZU0C6RtAUudXuzSMsyMboL0wiVYCRJKKJgcMefXTn7yixLp1zFYBBmPAjoLVp8l6oa7wy0oikyXRTL37i2JkAjp/4Q2NXCfbBvj3ca/9YKvvka2ZTObz61o2Bvd2xcmJxBJqBCQiBcPHOFk2ElZnvZvqyOD78AwxFeIzD3/8p6HKWBznyOGhzsXQKqakbRj5SVo3PZJa2hywr+UHbFQvxYWE9R7qMpMbGrEf7XKEYpWoBzXbHRxSPTvmZ6y3ulhbVSJsGJkABn/Srse0HwD7rg4faUAanyAipNk47Z4jFN76yphPPCgBcDXEDsIWc+6xRHFbdOhSFNZyCQmnXF+6o1ltDpVTXISzpFjfxOozkAajhVD8v/GggdJHbDfvLXOeOw4u2BWY+4oNZUdGW6COsZcVNEQjpxOjfbEWZxqEUMlDZUYZ6oyxoXdjIxSxFZo5YLa23FI5QjVmhrXjdkkOcasUex8+JBfREtM5FfhSGyAR5n5sdvlfW7q5jwUtNJAaApIzYDrrl2hUrTRXrBWGg0mlOLX6byM+VAj0gpmdU/ssKSg8oZ8wC57Tp08dRfnzZhdwaaFwJOgUYVcPOD8mrGbcnJIi/5GQVlgF21wIyRHElJDnmlul584/Y2na1zdZ7ejBkBF6g7mdEc/A6Kg+/XH/pjtUlyvsuC1G91RQPkBg4p+xgO+SOX0CAXHWO4BFCcYB/7YM07eLFX43l3ec4LPE9JIapRkmY8fBVndXbcNcO3967Xsae773Dbxx+gYFRlbFj+UTAieNif36UTdsfEa+kNxt4SiknDBMnQO7WZze+v2oq7K59sWSulRr6noMnFFXyAMeHG8trpLIRQyA5Be/o8qV+XcGOW/bCDinpyAS8e8SyDPGS0Gdfuo8w2tbIkKGOvJu3uK4R84tPDqfv8ehz1MvKy0ap7uheE+c1Z/NzXkc0Z+BDgwU6W+oshSdD5JSoMfieLVY52QRD4sDbtNkCLjSTvZ9TAm1f610VxwknoDS0+ahM4UI66dL7WUzzavtOCNY3KM5ngi8ASlbnrkE1lL4qBlvLmJKW78HxN3neIIwro995X0Z30tYpBz1/7/E9LrLRslhAeddajdyNy+TDoQTIOAhXriEPsGortZ3LDTkao5HkfJMhmnjWoFWZeLYRHqJLLyO8HDKrc/0tQ0y/BGfBCNIKp42rh5QLkCLBKeulUiEWNvFzMfb9bTgvCOrlBT1sm25DDzBNASfaZN6tIf4aCNoEjhSDUM102cvibh1guP80Ci7uB2A/pqSEWpKjwVaHR8E+fiwC5lFIAUmNNbSNbSAnLMKY0fK36Wg0wFBV1P44KKo24BiOhAooEFOTZi2aF5vdmNSAwhD03g7qSwKwfYkfUsQbFktdgTpFjltgDUvPmnFN4AV33C213siGyVMALV+jy9t7QELp/E5KwbNrvg1z5ctPvo85sEttuinhUGYqAhoUaQESwx17X2VLsIl5Pmz7/o/i5hJ8b+2pJzU/JlgYq9cIQYr4/s7uFCbwHe/6h8GrITvC3K10sWoDt9FT29O8PLg1YIbp/PKf6wdF/Ix5quUs4eBUcRx+k3GZfqr4jryrnD78Sx+17MwQ6MhtQHvcS+HdxfjniHTKHS46hJIuspgV9RWeUi3A93LCrwovo/c2orAxoXfiEwtEW9vHUuRkF3SK0CfgtoqyzOkVrBaxLg4wBLxTwSnMnB/xf7skqy2vBqAj0X/g+thmJTqNDQobDgBq540nfjhEuU7H5iAWxLkpMLP/aRCIvmM2Mx1Jfr6P12cgtgEncaazrrGxqhd0S34rGuKYFdjl3Ac0fV+4ZiZ0c4+xQeGvI0BFQE/uTbzgPAo6986DVPorb7afOEsStLdAGnEZHpE571ivBJFognnvA0Dj57/BXwCcBg+yZl+RDex6LPHsjthJlrCyci6Zx0XIG4XtaaruqIV+oQsocdpCa+7h1us4W3i2rSFwkzjAXHiX8Lgg7YXBs4PSuMUCSQrLDRzNkTJUuAsiHPw+HlXBQaZtIPZwMOUytznrTkC6nhQV7d7nu209UFg6W/6OeTabi05nZEkH4iIm6QHxv3UqvsIR3XPvSpec5WWReI6zivUD3khsJ3wxE7byQ5TV3zqzoHLe1OASW67ajKjF/tvIDA2gTzASMug80qw4uNgYUvQnhHv0vKN/0auztHvitzvaREnvIC63So6qwLOy7xTFwX1nbZACK3bsyPxPFrzQH3qzkIols9PyLfQu+fGYnNBsr77zboxka5FJrCRZij7jNPNrAS4+wfU04vwj/g4xZfB0DdihVnTFkAlUjPJ6Rd/9j9xw/kDDvBqyeWBJZ941DrMtz9lBkAeTNb3dkQat/J2LFbhjqma+ZMpiYh3M93J7s4Mc5/VgMATjYjjqi1PzFayDK0uEaOLtE3il9eIcMyFkQ8T017zoH8rL6FwsHoAPx/h7ckb9jZVIqLIlPnu99monZiQRIVXYHOg3pvRiDCcGH2EqV09XQMGWCZVVjU07cBjvxQN7btP/4mjRhXJnuwffvDT+L0QScIiEzwWAXMoqxakxuBr/228Y5ZhUDnyt+loUNBQVdVBeR45enyndmoUovoRO1TpWfFUl7aL1KxOn6u5R6Ur4glyo0QvCk3Y9TUY9L+Im0Ltq39nllpoGMNwPACvD1Lmv+9+p8aLdcSxghGwNm15hkQtsyaPWIb/WhKnY7M8/DoLK9im7vHtIVIBW4UZ+l2YyMtn0fxcwlTRPazyeunlBNRLtcJQYr5Ds7uFDb3QCBWECbTwFV3X/W6WO8Dw8cmqTf+bMJm+vawRcInPTYoxc947c/Hq7p8sX9bj5/UlK7O38yh+T6cSnCMcs7Gb5Ifr2+IPbhxhNjU3OZdrHhqJVZoibTRir3HrLxwZHBIKG6uh6usABHN0scJLeXdjicH7KFhFVnK7AFlqELaln34asrItRPT5ovIvqTa0KVVFeFm5ey+UGFu18K2nRWle3SdCrWRTQ+XU8TD5ywZvMDeOOUuFL+9MHsh1eHPzLJwg82RzY/urYRCmfLczR4i8n/yuGdA3K7RpqXfRRZ2Uu/Tz0YZ6ig+HLVNXgaVeBmvRryu+jD8xdWLTfj126wW4k38+jqto7m3DHZ4GKdcXtvFQWC/UtTrX3M8T02NKat6jVF/G2OcOdoeGmQJQOxsW1+BZ5bSI4dIm5p0hL2xGQty6Nm6ebT9l6HMmJCro30v6rjAfrSUWYRtnvanIJMmLexXSczoIDRtcKXFqBWR4JvBZ4lgefUKiFZD4XdQKK26HBARyZQHSJNm1CmayIPbUfvc4aAmDoz+WT+gILP6GpvKZF7USoi/ZPDYLVgl6auf2W7eGS2CezlOY/OpDrkuMHIl2XNGsdxCldegIgILjCMSoUgc4iVhCpgO0cbY/cwjUdB4MZi39iXE/DfuRCy3dFOUfqJ9BspXP/PSTmvRmvMKRc0zYX4Q9BHVoX637rT5HK4JXGSqakeAXwcCHneFh7c/JulDfrr70IgM0UzmcFoQaiTdm293JIA5mUZGwT2BA8TFGm63hq8XXyHoWVzCWHUrEU2FgBhB8dvXnO2xktJE0WkVluaMkMonqX/xGEEdwOh45eyUDJDTwusm2ueZ2H40d6Ti1jEmISqdItSiEu+0UVxehL1gO/dN1BeXl1W8dxHGwux9Ii3OZ5zceH//Evvz1s7nBEkooBqWAFYPGWb1jNI46TAKS0clLS9ETDZvQ6noJqJWPpAzVqmEbaIn2tzjpBO/ugOMV1H4yzvHKlBM9iAvLBdqrI1ERfshoUsk6iRPwI6/ftfI3PxNJMJWKgUeFiAxXxtV5r0d0NoX6yfAt7pmHmwTX3dcPNF6DmmkDlhOww+/bkSB9icNsReZocJNf8arDPPENbADC56cLfykELZUoLQbYz9/GqZv+M16mrU6mb3t47ju2rXoNHF7YvOHPrc6hLe/HtXiqbOGEA6AmOF5QCn6SdMoP5AY7x5RDNAqFXksYyHxPw90P9RnpgEJxS3fFl8tgbWGKgje5X8E5Mx/GVIIsAO8O8mnq76FslAiRtGDH82MqbLE0wRfzxVdT1pxiPhxbVXGuyYAL9YeDyBzYM8brIdR8c+yCziEyMKchfr6Ib4BneDmhBnCz9gQ2fSabjaXOg9sMtvnQUUkeUv2wNFJ8iIQr/4bjZK+KOQ8JpXsQsdRm8/ekHMDRLIb2de/M9wT6YyK8IL12r1jjCrc6Alx0q6RymA1QHaP4M6v+sSFJS4olC7KvCZ8iEhQBhoupBF6obcNzRyZxJw7uIjBpkP5Rl9cNvImlyCJ+s755qC3C9x0wgIh6f+ixtYSc43/EABOL8jntQD8L2HzICp8hIU0hOuhtgRMZ537R7sQGKMGRVqhzZ86Hv1TsAoAzjj+Kg3m126sd77z55HeDEjjJAe6TGIKqJn9bwGAi8gBTTOXBfrPORvmgN++MUFHrl5bUxq+70u/q3lbGOx4Mlz3VAVIdt/PQC/T3WC9VZ8Db9Ik/ZeKux3B42Tn5sfSdH3vD2+12MZvK6eEXeQEXRN8dhcBgk3ayXdkNYN/3t9ofJyqmkOsJa6KUylO0SUDSCe1YDMC4jlX9qEdxkhWn2fNTGV36xsHYP21XXz4LSkyzLElrowJk49K3MARr5TEkFvVkDQ+MckrSgF1ncZSQEBauNMVX//cU+BzMIBAj1TeQTxnvzPQBf2KY4KSqaIETTRB0U1SG+pti41s8R33hBfq2n5xxGkVltof+kYWOMYw+rxu6wYQE6BrrySEgDWPY94sZj4eexTaH0dWq3BmuvgV7OGicurPGGocSpZjsWPmvILGnCldWV842z9j8xAHinTFaFf4wvdNMhooBoXAFYOSWb1jMGZyTAKS1PlLS9EG1Rh7tG8yJgw0tlAe4mEbEIn2vVEyBO/lWKZ91XLVfan5DeLJx4JWe32EM7IBKIP9jknUSMutQGxIff1jOL9BTbAVbPuLRGneLA8H12KUT9AwyMsD57HAnHwghhrIBTzgqL+xy0+D3luRIH2J4tDQ3mhwk1adfzDwkV+n9KF7ThTgRYtHK3CF5MdalVZqDpNYxoErW3rYVH1Ytd7dzzRxc/RXY8DwfxTkwY7rlBwkLYQDoCY4W5tPn6SdMqZ5AAarpQrg9ZrxyuA+Q+I0hIQmZlh0h/Jmfuu42ncFWLQ21sG1sXqaoNjlnzDg1r3Rh+MbSrWWBdDVbxbsXFNk/CL7U85k+wqj410uPizEOyFBhhc9Y8GjjQNv/jKog1KnjzUvXE22RF3jnX1odH9hxyOh5CWd1+KjQxnQY9TjACvjhOBQvHqfjK5LNo2M4lU71GuWM1m/ZBQ84Y6O95MgX1yU64ghi5WmyIsljwpyGSRzMeB8OYAToUXNsDi7Jwo/qoj/0b0wBJygMXdiHAZzi+SykTVvdwHuyjC3VQ2umXIqpNe5KOtvpZKcTkqTa5EETB3kn2yACLkSzbTag270nG7bSSPjLAQ53S6Xf4ss2w2pWxb1Zyw8+OclkPksXG8umqsFesCH30AWJe/FOqLTgGRT66KAYv4pzgjDUgk9C+RiMOlxnsM7J106ygfqRscOKT7urpohIINGlzKGV+BzBMI1KYLXPfC0x4b8BvugdHPKmKDRc/UaIWvGw4fngjxxLPkL8yobp4XfYJ4E1Hee3a7M01z6kXjZU5c9TTXaQI6FAONHIcUGL/+sNPAh+TOAiYoOyH5mNzAys+lF71gn/HnpOpBW7UcIndKs2uoYOZR1UjMlcZjl3i+SgHWPbtVlZsQd6d9EQl4HPu4HKHBtvzuoFzWN1PNmir6CRASdP17UNcA2sT3QLjbm/xZ3aTT6f0ky+ei4FAeOHVnltJiB/fn+clvcZv0vphg2Bp4XYIo8RGJacXl4vLt7G3VQdxS8hxKVkT5eYDjr7kYOeXcYJtkYbP5sHIzhVEb67v3x4LvHZZWv8L+9Q75BJuhJYGgZZ/ZW+KzvA8DMODerdYzuZDS7Zgb+Y9CBPcIdtpDykOhKgU8JFhhKeprIfX70xxK+AQyijcaHuGQG+kMzNtjnRUblqM9TeKXemZHHM95JoT4gHF7OSVN3XCbe7hrGzdUTGFKOVC5ALapuKm3LzT1rnNNn1zKpopwClY4fUlESelskD0rcvwX91iuFiXXBXf8a5wY0KwOY6dVzQa/080fAwH161UwH1H7FCDzVbhymLF8bhklqkmI6Im3FYzXqJyYcbciAz1X86o8K7uHNrx9bN2QPZu0sgc+oXH1/uCpuvtXGQtiAPYUt2mnD29KXrxdaZ3kBiQ+jYH6qPzPMbshVcA3d7y7H7KRuIItL+KUBzlv7BKAQuiTHJp4WUAyyGey6nYgze1aZUg/lTmcqOZ58eq0oaXkzw+MqTJfd/Nqx79w/n7M39imGitTY+lB227Y4uK7+CTLupEeguOA1MRV56JIaoIjO6DJV7KoZ8oDLqdtg69PnCOtdftVKoEeH9rqLRnGk8BwNJhtXh3Zj9Z14TQViLkRKpVbgQ//1yEkCPzMhKV9oqMsNFC+puQovMMvI0dNDfBrBWWQDX1mi4nKbWmoZ9u9qFTnt5StRZ9IXg3J6Fb97k9iwMiLW58shvSDPPQBdiu+P8T9gRz3+GRPtumPWU3Mu6z4aV8weyZJ/B+krSAogtEtrvgbXYKm/AmrDkoQ45KrMY/1efCz1EQUjQMa2WTZfD9/L64T8FXlb1kRjn9rl8AxuYcgG0XLIsndz7Zh0v9F2sQ1DrGqRaZDW0rWomB+fT/Se5qaO2aKJjeZPqmUEG03D2gm30qCaS6D8CrjekIzjN3zjkzCYwdFPmBB3VOw6l0Rcb5Huml9QR5cnP2D4OI6dUplYvedWFTnf6j6xWnQuOvVxkO6lZ2Je9NrmPif0CI4k8M7x0CW5+cctu0WNnRKT8FC+P+RXLnKBnhFdN7VPWGWMzA03Y8VFCFLoz7VHhcHgI22ScA1norjpmboYnA5IN6yYtZZEOrIbeRZJPjUGrV8WDZVDvb46FNniL6PePBfdSoYO/y1hv52HL4UIUf/Qwy0Y9JTxHvb1qmr1I4/kQF1b9VZsPAtMF8o7L49nXptFNIXm/ywOSTPJEbjCbQ3zYpPN/Ytrpk7Om5uHIVmGa16UcuvKAci4AvxY8opdwpFT5QNWA9YmzoU5k58lxCgRzOx8ouQPJlsP58lOiKk8E2SQtIAlB+bF7shgoZx9jUqlpPNnoD24YZFCX6AFmPCbnrBA0ROWF1U9CKv4Pz3rEVIdCUtHwW02BvfnpE+v3pjiUlmoDFG41Oz3RE6QzM22OdFDBpPnlJ+HLXy20xc0AYCykAnKVbpiY0hqkc1U72K8QeKwGjV8G+lRFyofkvmaE3337lrcWXeNExu7sXILtqObjKWhdhA/CZTD9OfEMBiOsH+NCsDmOk+40Gv9PNHwPPC9aqYD6k1CA2byN6P8XWHmgy83x8qfRmuRTGE96q63/tIoDVaTgPeKYlYB6nz7h//T0q3FTNJh4FVzQ+dZ8Heaw3k9/8T3PbrYnMzzrT+BJIBiRFseX3D6mee1SdvftXb4MAMptqavjqdpP6rQ8nAPBXaviRV+aPskbGpchuxyaIFfKFIpeRU5nKjmfgBU1KGl5M8Q3lkR+mygkM2xPZfuwFB9itlkHjnt0EQAM2sxLzd5uXgd6Nn22KcRQdoZ3W+GXonJNkMRMUff4onWlfz+CUYSuoINQLdHh0m3/FCCC6Mh3NBka2a0bzWdoG22x6VUDK7FmNkxKq+83W0487n2grBwYC8r2kPYKA3Y5QngJqeNO9TRBVqTDRqk5ZIgMrA967oMutKF9dwA7/8zY/6XexomZdLJJ7M6/Um24azQqVCqufCA/Tfdr4UwviHq50hDEQl3bUL46q9H0Z8xRisCejT0hZQBBqOUBc1hxaZwRP+/kD5lwIZcFOPSk/6H/2MX1lF1zmvnk7KBODrmiOryIKiDdE20fxFkjXXnVSij7kFdRUqn/L0h5T2KkuxNRMRWErTakSYHYWpBEzfzPM71V+/hVdGv5/eQ4/j3XljYVkJWsb3NsisTJU7FoUhEY5LeirwcHxI5PQcnExGDnsPLZv/9LWvsek1owI81uJNABIuZ/0dQ4XUwBI5qEU6BULo4mbW/qjKYfvvy40RQ9Z+QwCg2/FiV4kLYuJEoCzuzs3hZxULU2w2Xr/yBSa1gqYgV/8fJ6jexL6GsrBAiKlIk3DCtvV0mk6nOSDzyI4zbxS6uHK4/63bJehglXiLFV3r+QJKcveYWYACpkco+YlUZKoG8eqibkSPA9QeqVNjmNEZgAmG/MJgoNT+zcAexZJMK6l1qia85NpYVJE7iUxUFW64eftkmAvSC2FvC4IoCcGYhvnwZr3fEOkgj92d0PYHkq3eRo2lFHOHYWXwC7VEdnaEBTKPZa4f+uVLfg5itL2Wi5eOyAVsymd7tYi+83gwMhiYIB3Up3Wgy3/4udOQQ5rONhBdvHOHfBX/Arm0nbXpWs1SK+d3sPGDCxKZ+1/3t3+6mS0tIqvyscKqfSqo9k7sjd/IilSl0yepyj6o31P7XAlD5sqczi7qfgzLG6apq0iHsYep33J78OxWxZEzkl5F932Mj86fPT9KZQVLQhPnswYcso/jfv6NffOn5ypw+mZvmUSvfae95pZGuttamz3zYC7V6z99ZXfd+d2l9i2TLWoxE5NgT9/32Oj1cOVz7F14b4EABeyU+wxQRLGDBZ0b3mwlKiQdR4odvH1vUkHykt4/XSn9d60q1wiBVgqHJXyWMRtwkITaUoKXBmwE0HRmBVF9QcqQ7+S6+yukV9Wrx4i2IdZxCn5yhEbz0NjETGFHB4MngxfAmGvz1N91PwCakMnSpX5TcCMiHdghQ0yzIe5S7VLGJxSbFjTSy/a09SJBCLED+Ge8zs0F8ol4hjW/RtnQYlSsYXc/HAtKqOsrEW+ruFhQOxeNHbAytxx672Lr091C4Te36PqK6Gp3U4F6cqQrRGl2+l2gR/mU58q9SNcxJiPGIguQJTanOAZd41djKfeLtt9JZ87PbLNo9481zXFqlgIXEYF1HBmpkjTqNSlKoS7iPOZDd4MwBsrbUgqk0xTlIX5SAT6k+wOG06DAUiRx11Ihw+bp81u9P82OkrhjBM8ursTC8pj0xb8KrZs12zfXdJt/9597uhZP222ayyL4yFSk4GU+vh90MVFNkaH2iZhqRlUIDC1GH3AlKT1bpP6Dx0wl9pXmZz/sTnGwwFCdCDy6kEJtE3jCQQptgDhOyEKclM+KXs9cO1Mli/UTtZslKjD2WqK5XnJzzIu5G0NFvbbg4kb0ITKBpJABCr4h39Mr52pZd3N4/3aQspbBw6Z+XCJ6v4Q9viCjtbPNxyzM/JrFOARldOxl/yDTja6qt/1ApX5b9hF/tb4Rb7R2b8JH8M50kPwXCNhxQMU68+DLKvYNpPel+FfgYy5LReA0SyqayDgMdYv5yMjPD60p8W7NN4WmADrmJYeU9hQbYKncljIyCKRxWKzsW0XQ6yFndkC02pHZNE7DKeutzimUJzYzKLt+hDyUZo02kzkhaSWuh0SKMwbw6Poqxxm5NoywpvJQUhG0xIjyHOP2sZAU8COg4HegVxnffiE6g4QoX0SonJgqhXtovLFkMkUUW4Ae4r3fNgpeFr46CGwefW66slsAC2Oj1pUm3GTIghSbfj8+lOxV6G3z06BY9GnVnUhxn3Y9NSXGpINJTpOV/NWNCo4CASTh0jceP2T/zwBECi37UXixZdUJfZqdTKdbF0McTpBo9QFxnHLLD2VNHAVhDNKrLB/2FLgrDdVvyi6LdX+6EH4n51DDrFD5RzcttsypDtfA5AiHwtjGyNHDv3oeMFB6J+qHJIEJDVNnVLnllQHWLA8QadfJJ/fHJ1uNlSDOvTWCuclYaARWcvKnSIOZIFu5ufgFjozr0B81CeGKEjx5WyVze4u1aM9UhLAJIuW/WoYcyr4zVc/8mkXbYzualEMDX60/5wzewVMP96PleOyMTQLbLXah5QYt9jly066E+6cEL3Wz2VSpuupM7AKKHGcbJby3ED6e3XHL/PVAfC/gA+t7yptl5jj1GkVo6mCnGIQPoLPgeyOl4zN9Ze89IvUTjd1NPZI8D8HNeqn/Zac/sNT2XzB8bSM4ucUvUayY+q+c8Qi0cZq+mlqKPqijEVmfnTI7Zv0aJkx9drgtHLAXDBdC4AmI5vvTDjfMK28itIJCxsYltK0WYACCqTtEd8zXO/pEKKEGA1LUNpOSg023yimKZzuNhNg8WJ0A3RN04zrRbFHY5uSpxg8GKNS9x59mt3K7gqAxQsYAxV2d0/QNeXPZ/nUCZcppOhvLTs6rRJ4gR9Jf8umvseenAWWc8SvElCV1wPwEt+kzbyPHsDh5F6kgsR4R8cRYEFnjTr2nUV1eARlu1uWRYBQxs++dwNkHh5x3d12r82dpS81DLyT4MOUSuqzQZ0eiRc60iYfR5xZ/CBLK+Fm6zubLNm6LmYzQLYKHzeqlOhy+fbbcUY7OSJex7VBdkNb7ZF07K0qbUoUJ50/siHs3gbOwZ1v6KlGZDbFFrezZ4lPxtf+VDhVhkhm3/QDsJhULsyrKiXT8d0klotIX8Eyhgb1dBCbP3FgZ/jKQf5KwKITixg5PUrNUmds47SvdxsMAw7gkJ9HdirdG4ojtYWTly6sBCW5agZrmkWk/lLFSjziCOcF0QQxZ/dsi7A/ao5/3L9m+CtKDXtWXqIFYvvXFvO3FXXOMdmXIymGpnInyi+LmxyQyxoQUcV3ofQIrZK/QemJ4tMwn0kO0q9ajyA7y34Tq3T8EfxNtSEE1YVP0bja/9WzjKWmE1BSHQG6KxpgtMs9vfsowa6I57W0gTXozJEMft6FslGgskOnY+TxbBGYtl1dUEM5ItlleIJFqK6soZot63f3Rpl71fk6Xicf3/WdVWH/7vEqdukEID4IBY1pC2uWhowrMu8OfKBA95lfZvNQJLAkok5XanDAbLLVZFz+tXP2EbfiVdHRGxfE2dXWNSr2CAZuXrlgYUvJuyzJbrwfb4Fhf2dL14AsUOgH5Itc3CYrF6duFDzvFAp8XqYJqRbeGDHTZ1ChCOHTzGmGwW1ysLgB0PjLZgvzGVZPT47PbEEBVnnFsf4lh5AVHoGmT2NOhusdbNCAKAYVPjRQb58DC0rFHzRZWoNHRbCyPblgtEDEoktIZTo9xbla8szi2r1q8Z9TZAGE4ADLbuucF5MWCrYnylRq8+Etr51oQI5Ybm/JwrG7w5N7GRzHu9ijKPhWhGNZvDw7NbqeUg6jGkLC6RuerZSCqeOOfvYOfHlhQOaWJwflQAReWQKZBUUHtpIVYJBZRByGGB9gW6l4Fw5AcV4/PtO2GMv0jubUtIq4lrO0/431nPwOwH9KR+8NP4tVZk4REJZav3ubCQkFJjUpX/tt3ohTCobV1kn5RO1agq6m6FextQuipfB/jRcy1wb+W6hqa2vUas5nBvE/axZphsj8tDS0lezxmEtRjHP1/pH0l05/VpONtUqT6emLLDxZX2D9290R48e3OU6FqSpWiqFsCbYcmj0pZf1oHRWDZnmmdBZXsU3d461NGAVuGGkml5LhCtuBC3VvDWVPsiBwvSuJn4fq4BR4+zRwhh4UjbgQGUgTaeAqu6n+6SxOnVF2mhIkbY6ioXu4gRC9Kc9NijBbnvzG6AVwD5ZmT7xOnlTnVHjoEg+u3UE3kUjHwkHL/lBvVWe4bQ4M8mdn65vxxhe7aFK0St26KZf8W0yfWIbq6HoW6P3dlsTbQRWXVInB9PdYRaaWvM/E5Bx5lhpHw7JMSdyKoQEhcFXzL5taRZkW7Mt1Ly/1fuFEMs6pfshHmjEQj3Xb/6NSVk7GPxPsucaQBGAbK8JjZMFKqgS1paiNTr/UDBGmH+ymUL/zm3+MYxYlXwqo4sE+L0JdeV4i7VD9ryHIRNpscclmDP5oBY/W0bEEwPIiUeznu2sM4aFKi29kzRqQDWISU/e4dLaH4/BoDnkZot/zwRG3Kvkc+txOiZ2JUh6uh6SKdFLgMxyl9MVhyQpa2rBEFD31B8xZPiJPyYUm1CHjQtsVjpCtZ7xgH3iTnUMqcoLt242pO7HS3N6f2VJihlqHikDD9eWl6UZ9PWutB37SktHqxIX/4ZwSBSE2wl1Tu9WGuBK6Wh89hyh9YGoe1snJOp7NrA0chH82c4rxDL4MXw+Dcf0ansCQJcyiYKTM1+WJXHEDaXLomM/UUxAsUYchWrPKqC5g207VBvoSWzx3HuFQR1W+Pmhr7Pf680ai16i4EzhRV8Lu39PkQiFe+amTG8Y2Yfs5j+IvfYwpG1GG1aVFblQVQT5q2Eub5kMu7pcjA0xXn0FJYUCLCv5bW0EFo6U1fYr+X/xudhg0SNkO9JRR4PLf9wFtHoHMMjKekC1XfMLnMVcsWv0ONq/nPvgb76WarrPtiU11f0j+EPiu3m+IEfHihAWurYTJTrC/C74Al//d1Y4bFz8iO62dxC4ItDvxHKdBhILosOqWf94rSDQc/yC/Vp5xlUv1qeODDrzvBZhjQ3KjZnPydk6zfP2FzRdWoODl8UWKjZ7OM9EmotvJHvXIkJ3MlO5VjcrowiIOIb8uZyIQVjrTsC8TS2yl7XgB64QKlN7xB3/quWuWdozjzYW2GoZVq/6beEKjrDJDk+WSmsGKE+653JSOPZvWgUQMcdw9EV4JyqwXmVuIdp7Ye/itmZrBBOJrVsQqwYSbvWIXTwSMZcTlTBO7OkfzP2aHXkAPysutRlidggtrKA7YuYEkpO3xn5nNpcTJdgE38rk4K5uEXPOi7tJaEYdPwyJA+GIRyUhqXLVQL4eoYg+T9hwWzUiKfiDPyxF4WK5k4iM+9OmmSWwIdmEvhz0LsKL8tW96wWri1p7Jx/LmKr1td/R3AdcTHzdUJp6TIoqJDKAloz73OCqI6sBIXmbDi7N0gApWiInSO294XrdE45u3f5hhtzdlovjfrzGI82KMl9BJLRTIT/xoAtvLo94ObG6XgQfVFxGlLfH/FHlPo8m4m9RLeTY4U/bqW8qntpETXXNr9ZJALAN0YvYszxZmdcgUOoaQ76iJGFTewU6HAg3VdHB4lUW+R1c0EgFLkGSYZqM5dFw15DoqkY7n5XlxXRfQihM6q4YnS7yYyZhWlLpMgQ4xo1Rzrxulc2ww2Lj5ozG1lJlmWE/attcjT6hLdgrQ65sOt6w9KlyFb/CidJe8/xXnFil6dCPMH8XtXb85gBjOP619yVHDlvYWtmjaZL6L2hbFNZh2ijvfvqbYONbO6Xa8znrclpISec9DNV0jw0wWGy+B4eNEcE6WYKBrrZXzFFmnse8UyS7J/P/8f6HOxE/Mi/8SvZw0Tl1UWQcCiXQew/K6QMum8cKV1ZXzBW3rh8P58ki6fxr/nG8TfNv5OCP0AVg8R5vWMuowYYBSWVW1aXofesP/0nyFPmCiR8wZ1rvukUE+1iYmQJ35bhxiuIRHiaknOw/GPzZJWU8N5DOyAShxHedJ1Ec57pXfftfHwFC5qU2wFLhCwzRp3ivq+UZU6h4weeBaC3+RzJqtaTL+n6TA5ppA5SEl3MyysiQPsTToSFMBOqVrrkOBTYMxXRB/3PThKIzItGivCF5MIkS87NcEYzXpYNHeGOq3juIffFaM0cXXp3173XEQBPqSx7V4qjKA1AHQExwsip8/STpkhO+ody5y1UHrNdzzmjkrxGkJCEyvDtIfyZkzs8yy4G2DyRRS2VnaG94NPFT9EVhemVYN6+wExnMoKqZgm4Lw43nwwHQzoubNSqQ7BlKJaBCUlY016pkB0gVBIrV1wn6y5CsdEiG4mm6zr0c9laHQfDI2H9bjBkbdzlluGbLBuHJAnBHw1/VZFV4klcVyQ61cqU8D2qGg3EbJfSfGfFu0qMSH5q4iPbCfC5p9MOsUpzhP3BBkzaZ5ydARbQpVKxJdLcC5w/wKFi3vYTf/hWHHgA+pY6+h1Miqm1NJLhabP9XEMI12db7NxxnzFuNznt/eiYRYtIMQO4TWJSNhnwiOSHQh2H28hp9UKqEGPqwRtH6Yd71H7CPj7KXhzI938oEDMt4C7ZHpq5OZ1ZWBq/KYTAGij5C3edVHmjj9EQXIo3RpA3l15jHb+jzf3ljaE1P0/jNSGlkPqwZ1GXn4hCH0AyWYyNyjcddHKONKi6m8os60FEKIEt8Q/qDSmSMbNgIIuTjUbHEpWkTGKLvUPj1o6biJzcgEivJQNBhbFVs63hpIz127LAVS0hm2fpDo0xeLSZwzcYszME6NcydQKvy8o6iFwbbBBbdrW7GhBwp8G8EIcNIqE+tAfXBtDCoexjRgn8eLsfyyDTSfiArhFaV/1DbBPYh/Dpo+HSxQPJwA54epyjV3GSlLuRf0xpjnsdMHI1bRr/2ZTREM8Lbb58CFaGwEdvR7ZuTMic+wEMJtslAvK3FwmVPown1u50wm6ocKJNU7TiVkDAYHRJ3PLG8SbroZj3mq7Ab6CGOBBWQ7SQfmcX5IUT7cWgKBes+6XwGrRwQM+VbGIr7+FXl/NZ9f3U2NF5yiQSozNfJhGcDzYUSQZPLcvhsG+kyl17w6KoMv4Bu1Nz1NoQpgvzt3aeA1MJgbs4YTI44KoOzHjOgi0e2hVhzIWHroLgmbP0W6Iz/ueZHZ+GZWpRkDy6BAXqU7paYYdPeWBYJzF6+LYG83ZQtYg7bBW3+KJGvFI3nio0LsoKtvRPd2xfyfwIgBdyjvdQGDwKlMJ7G+csviIsXlLvAs0Ayfou/vfP6MR7AHk5skpvpT3wPECgKXuBNfnOuxFViEvUpP2I1H0TQLneZAyqAPbBYUXh6aPDBeNF3Y6d/IWfgYILOgvcCUXY3wWaB9sHjUqOeETjfLqta5zjaxNF81hJNDxMf7C3rnxvFWbvgkpPE8kb5Doldhlw/haYol0M7dGEEHdmkHPcM7bt8shEjbEclltXqLwK/1ao6HJuMWveZWS60Osgx++C0Wd6mst8R9tMLEgnR9CWX96317jUGf7DmCJiTNYGGxE2fqD6CU48eB16wPyLcReh0+yyBLvisvIbwOD3WIfLYRwUrXTPMMYy/zVT2EaARRub7HL+YQDSe1KwqnXwrRmHWuco4gATWVylkd/VkjgjjCvNX9/LrYfx6pxu0iFFxymRQl0tmy10hq8yO/fh6PFdKjuQkDY9jlLLZZglEiKC02bFzGB6NVJBP4LrwB590/tCjx10p6OgZSrnM+2fbMmSJjJg6Bhs4paqPEL1Euj6buuZAg1zI6W5iWvdKd4KlEiDg8JjSQikoh7vhNidr0TD//SR1ij8nV3Ju3QejHWwPIEAKsFJzICgS8VaWnmoPxCPiUQS1WIxoNKJXdY7akp+kUJydDXabX8rGbBOoPrx6u3w4aCVvkf2YWxZIjD6NgBo/ySf46QXbn5CkbT4yFF/ooEV7pRrm6aml5epIIhc2bPl+IsGPmO5hly2FSYF6xr99EYvYNS8JYYy61Fs/AAuh/3y6/Tu1yOJ+T/jH3pl78X/z3y4rEt0FYgr6Cejh1VPOBFkmeEgsJ8Ll2r03B2L9zL9nOkwrKBAE30wT0cFJ+yglDBtEPG/ZKS4bMPbBdfSwWKaHWganV8bfcN1lIfg0sxolivK4SaA0It4tiLAunQcgwHkr5EzyhLbCztqW3PBPUkd4iuTm5X9JKRv8rdHhVsqKCY3H8+UWy6wu57Ypqrm+qa4YaWr+I7gB8ey6RWmoFEXlLq6oa2xYwlheBov+wMxBlsNA3+uLQrjM+3X8aNk5CK8tkcphGcxxpd9FxHOjij0G833fDI0zEwcepXpv485ycdp0ZaCw8nTkTJNGClE05wDM+nDRSbuoi4UEtRFB3Hyc+4M8MC9VZ7LYsNsJIAdnmi0tMmxD571n+r76XhPp5qi0vhVf0/Rbe1vcEl2kywnetk6YayApCJ2UWbG6V0llj0YBuA5VWl8S1yB3OnLVnK57tEB+LWjGqjSR10AiOcwjyphVEkhBL/fQsxPyAQUJjjwASjJc4oJJZfOMLBBP5zXrwMDW98VB/MYAEye2f0wZI2bMq80Ai3LTd52+fsrDrXizKQHMkTyoIAp3tRi+dldgW1Vxexfx99pMd+iVp6iISunb4tCbVq/Xrl3Y136BVMLNzIeRhVlf0Cp+jQvxYoupkfV4pkRQRgJUjyiihpH5uVI+G+llnBmRUrmmhH8ESxKZgb80OHkkZCoxpsrFs3zK+WdspRIkSGVLbcTUlNHiveTZ1yu+c5Xz9oNIYp5gPE/kAwuvFTGfvfdswjWXKw5IzCmXijJH9Wsho4UJf9qcuF1alTLAGR13QLRQRzvxBhtLqsuOP/1ZVCApLIJdB9Z8SRb8Vi9tqnDGl9rJ5PlaBTcDA8uU81sizqv5g6gqbZuB+AHdFvfOq71kwn6gC41KuY2+ds50ueoAWTdQFA6OviJvAdJPpoc9YGabgY91woFgGzJDQaasYXsbEwaOi2pNG5z2FtoaZis+gW6INcqEYhyYu1SCqlj4j1nl+KBxT929/iXXgxioirJHpAN1xlZJM0JATCABCbXAma50ubZT9JjFAmuf2Lcpodc9TJ4Ff1oK99CRa1hPC34vWOe06kMMYB1pFT1wyT1FDBgDLdzxoXyiGB0eM1OyZ2p+hV8ufKPljDDitIiGnDirbrWhYEbNYXYiTWwbkeCIvTNhV3Y6iFB40SzFDPplZd0Sf5xFmvX+c3i+uB2Y0gC3D//lgiZtDqBSwQn7IzUBylY7cyG7KIFrU7Ml1YQ6eqggVi7QiziZ9MepVnkmJHpuwK3+gvycciRFSQu6SQyh3IqmEL9CFb1aZqrAVUnr3s5/5N01xBvPXKNLS4ySz1rzZOluvQxUJ5C9459ED9jjWzZiau0qGZYHIeTB4RBelnNmarWfwZBRoBYbdnWMVOJoEOBr29lOOm5crsKLM5KON6mIjCMvj6JPoei1uyUJfn0PUVuZSUfMLlwL3EyQl1N8qOvnODwCKbgF+m5i0kNYQRlmoXwZzpchGuANf7GWcq1kQHQ4uP9mcjAG0wp7XbX4zesFT+iddLvBxRX9137xcvHZ8npjxxK3FfxOsLtxM3/3kVS/t1B2RkzBfFdILFpY+EmsTjERgxBpFawf0PEL3e/jwLbeNq/ao7RIQC9xPdDcCoLfzoJYgAnluPAbaLha8cuQlWGhXCGxtY5m8Ok7hEqn/vnobWBFaywDOrqQaEASOahFNGl5uddZf8wlU+G2H78/htKnbZoJLeGmkKeZdaUQrbqd1ijQs4paAxR4XQTShEBpqW1Vvtpu3Q3e1fCgZU4pp3hRs6SW9++FNWRJ3rjiCKydfySihUhAoWJDPbK/MoUHgQFGuTnY8WI51QPzWZBKpG1Cg7g/U9qPnAnN+PwcFFDozOaoIIe9cYIjK1s9SYutBR+guZVWDLFMYUUqz79qVXrI868xK88D1MdzfJcMqS6ZSZ7lQMXrbbviDH3UVBlYgS4jkjdCpIh/2BArryrySeeJRRWfRlN3e2Oy15jeQ3zdfZWMJ2xa+PUBX9+M2N6cUjd2n4HGwVGWSh3oZ3xCqX5cDQmhFPFMUh6SpY4+P8iWKVtIirR/Pcpm4x/9vOyAdhN8gNbH3t0etKd+H4XINH9NpVyjy5A9P0vU2ghqyangIV9iXKRnEpHNuzaa8MJeS2ceRcEvdzlUAC0CxEcf5s9TEzqbGPMZMlNchmeV0wTsg2/PT7M4d0+q13EAkjgOaTxtW7ixlGTUWKKPCUaY75GUryyGBzBKendGm+AYi4rr8W5Agd8ln0d7i9SeRQK8Jjo5wCgeWIRWcXcmxAs3IREa61UU0gN+B2IwlNuC+tJE1vrVX1+ddQ6YowUjD14wbqmGgZ+SufQ19INGwZKjGFgymuF7vVgcPuKncJBWawo6bwhNAqhEHrO6eCScN0tn5/ElGD6N9aHK/DxyKTSjx1Djls7AdDccFenOx57ywNZmINzaoRTWIMxAnamgD6UQat9YkO8RAQvwkdk1b4eTyu80w0G7Wd/v9+TefZEg8ZUPzFbPkKZh/i5gDrLNXhG13wHPwsvVSRr7O6AUeIQpa2dyocufGUpOxNgniRC8Izdh+TEuh1DbdqBlGWnCvh703oyft0iJN1vf4yLiTK3X03//qaduaT1FRZ7btQBY9ZZRXJnuyLIRakqR5hbIREGnVYBcyjj+1go9tpGtpIQewggIPlb9LQ0QCgq6nKosApguyVVEBGi+bW5YU3ZaakfbkunHYN4nYSxKLTOI4LIBNFOe0GOwgZfX5dNB9vTCp0GtTLyOq4XrUGyXHKP6Q7sOYuO1WJ0sRVu9wDvQxr8Z5HrRc2CUT9FPCl+NKeDOpiQkLUhK9r7LAk2DRdF6ZlV73DMd1PsiCVqeUFOUP1dBYxX27g7uFDMBK+fwkCbTwFV3XAOlWHjAsuMABlVj4IpNqGBSfkVaxtr44cF0mgbeddfuJfyaeWJo/jLAX8RYUNXjb9Dzk83OLwM86ordIedCwyklAb5F98+HUso5IaESt5+DhhGsS6/T+paYdVaoUBvT30dpqg0v/XpwkkMotL30juLGSLz8sJJcSrYEJJkSX2jqe9K3/wW3/aOaA/tDsRlQrr6OYjacanfeyr/IqIMZzF0sPzeqiNk5GWlI5vp2k0Gs59O8a7YmD1KN0XQFd1DtfPQSTGGdpqoONjSfQ4KyT7mRZFOtAqV+9YK23ghU2yDAhKoxvxFUL6/NpgwEp7Ag4obsr8Khndwdi3RkYBhZZF0dy5SuIVMApKfimzG/jhqfB/tjtKLRCXLRD3B9O0EaUIxO4h+3LaYxL2WcnF5lwmJCQl5s7lc0AFbI4oOrFAvBhZUEw2GIW66TGEPv1TWHQSTKKNozR7phhFJqTKJh0nqCAJ5pPVoC9obJEFylSdmhdNd7H7RQ32ST2lPmwBnQq2CalPVHdOSxmSYpWanju/RpRDfFiNCgmP4NDJdy5WGcA0caD3XuH/LbatNpTtmKcgU4b2FbhFEdBowKNBi+vdQ1XOyJJ6FVcH7eBtHpBxsyw1nrES0n3uAMqQx4pGMpvMkPZc99cm5iaUvK8rzBgQlspIPhlf/4Th6ieLoEJQ9r+r4xFX1SkIVaN/LirG++l7HiHg2uPgO9zVpW1I88I3HLEjlLVg+nCsyKkjdL5Fgxb7GIQs/ffQ51576vTxTmpTW7Pvhn4NrZDX5CHxDJBEAlJol6NVsaHtBPbpsOg05VYpWEq2Gn7B9ULk+j4lTMwio9a8w0H8iogKMXKu3S0pK/qYn4rYTveI/hAMGnhdJhVYqDrULWhfyimjLrGMp9XOzNVcPMwqGAM9+yn67+zTCJSXlqUAyISuAkHa9KUzwjGqc9533yxMSkfUY+no/i6D94Gb5S9omakfrdwAZESyiPY5PQyEGsSyNX5OqdarT2Z9pH023Fmj1FY6yB3Vt1nDIFeeD+otIcXs0m4pn3C4jSRhjkZIuyyodP/tk+2xpZFi4nTfNyUoOGe73FILfMY4LaWRNqHyUQtA+q7a5p4Jf5GPPw21oEXmQ2g6Kv7nl4SEtND0NqJLhjNn/AVsMSaXyZyfRaSzZcTkM6ofdRT9Sqw9O777Ee+4tVjdnvEuhuJo2kM3LrO+HsAxjns9i7fi0zoQI1zvUvCl2WL/n2N+2OrsIAAz5gTKZddfeFhV3B39UKYOBzyDT6Bs57YTQQhR44iN2zvBTJ5sYMzjMoBCz1eIxcM4fYdAfHxCnyrL7i8ij6A6DrQwm/miVA0t487U7NnPCbD905174ph5xqzX0o4IZgXSPCaMf0vwYW/LWBm8gTIziGJwtYp4w4j99Y4Jml75KyFvJ2IQAxrpr+bPHZe/R0M3oERdpDNSmc0XXdM6ShBpz7IXMJCE6HJaMHnQWhTTS0MOXSrrUO59LzKa/f4/hyFcBapGpHSA5jd+YTScaknRg+JCP5yHVNgFHqdFgmmLSuFiXSinpN+69E0/NOmxJXVrY0YfBROyuKl1lE5whuaYA99aVWwFH4lCe7u+U47GoL6ASxOtQzoXY/EtoeIHQcIocvqUhng1BFLzbGVE9Ys1XZLoyYIhUHVKqT0zuL+6i4R01dWn5ufjR3X2yy6XyZ2z3aEYPisFLTVhuMFKuKtCjRr4kVSP2ofWm9sg0WiCePOjY1mJCz6I6TAWc+fkf7teaOA0BupYdiFFomtkuGy/AtifaoJMg9x2szxb/v/L4iNTSXWIyqlnTdi+hFTl2jx+nh53Vi2MJU4//xZCClZFZ9ibQnVaZx60PsZvuqlXe9+HCOK9b6RlTHCGxVTg80k3jnJ/O4R6jzJ4UjqPtgTCS0MN0tcO1R8IZgGRV4OSBDzCBLG71zUfiDRvvxXx9mjaWV1CrD2nyl9FSGrYk0AwYQCAc7skHoVnGmNSBxrqgrHoAMQbc1YjmoJHFHKHUvN0ClzGVmnlXs70EYPPYtmq61M7KW4CSFcSybGuXXctbVXHYhjsYoHAmGyEaLVxtvHkcPR6EXrbR9vDqknsvO2JwakldMQ5U7BJ3o9xYTWIdBTlWko35WPOF0pDluOz/mEt9d96D4b+W+zikMXzIep91e5eAUVCYBSgNklaq7/Ap7hFwSscuF2bj1ZoQiAZDuXiaw+Pd1p3boMRjoHEzT7bMxpaG0NqSOA4j/5+F55hEqpmd+0Rg3ygc7eTIXSPKAUrZ1AIhjYk6pVU/C7DPO7EADvcuenDKzfaFrcT+yVRY9Lzs2DkYzXqXKW9nbkYaEI5xbs77jgpZEKeLOZUs3b3dcoPHBbCAdATHELUYx9JOmZi8ch01KBiah2FY+oHJXifh7of669IuEJxTFeyDk3gbNQzyJT3Q5nfvLJ8khmFYIlluDleWcg+ygRL0NzeFpiEyOODMirWazJL8N98BJ46kPZ2iHfNng7TMG+Uaoavkx06j45+DMVREtI1ZEBrYiVYBnb/XNoA3TYL/ePgfKCsE/67zZBU40UFc0uiI0O+VkvDJfx7q/3vr7caeYRdKtR/KlQdwIsp4thYGNsJSGC/3uEpU7r5CORaSV+DJUyOvkNssRidRa3sKgsaR6cpP9qBrcj21yE6seQdyrjAo2FzZYekRRu7euqTKBmDBVyGu34CiwVV0bVl7Nmr2nymJp4jstIhDmRA9ktdMip1B/2KehSU1EdDKGrVV8/byxCPP29DcTMJxBffLC3503jmgkhDDSw1JwqI2VKcQpz2Ay1P1oS52HjIvfjETN6eOJmT747jANdL6rxM9sNhUDscofqkCFkTUMU/XByFYlolJ/YP3/+WrjQssrsUdv1h4MYj7KUXHvDLc0tvDuBCJRsx32T+83HfEFUuvlMYZX+msjiSK2WPn03gsV6koXY6vKyP9yOM6dyZwF90zdLNrJWGSbbmeKiH6U+R3e3cNfk9FOPhO82ZEMXHnMLOOFG9NnirYKsyNxLqZp30rfjiS/AfzLgUMp/0JXijY5puAN4tsD2KpHzsfe5MCbLTSbly5AaHcS3lzsNvp+1bscll+EWkO5yJbrW/gR3ZU4z3AEn3RkRQvA7W2LPmqIlPNIrkPNx9L3r4dBS07TJYH/Sxw1edNusYd0YncGe6F8aeWS4AzqCm62yLVCUJMP25tZtp4LotVlVcvuQLJFIPeGPtsMH+am/mzVORZjIy+YPN774i0p3bALx5edzh5hR5zONIt1Z1MG5RX9DDXAJhxHdqyo+38H5auR+mRIIzf9fB5s3CBBvzK3zZU9Uyj6uY0P6BSufOBBT1s3lIPlukCUvopOvbb58HcGfBTzgvXrEWiBp05dq3Kc65k8Ni8NEMM2YP0Dewa8y8PkVl3ssM1+udoev++Hqnh5FVWWzN1wBcdvPdmHxJyzlYOc9yBPE9MdI6BcoNYytT8A/INkOXscaV3HtAPRaYwW6NlKXlFZ8V9AdhCaVemWBOahzfQcw/c059YraFA0tkWH27yRUrZUzJ4ty2rNcx8oI+wIswzS70lEaFrUoUEIkl1NHpsDhyo2z88QT+HiaMaSDBuFRJaV1+3m1aD4lDF2XoMJhgWvKxOofw18F9OfN97lZ+H1dNvnUL1GliXn/XS8f8SA0U0qEjs2m7HUbcmMPmvMSuCNIlhTt1gWBNYj999F763Gt3cMiOaFMpSNhOT8TPceO97b04g9htVlVnIezw/zjVksS+mGjvAh260fRj/ZHII6bsDyNhGPTWqi1mzvzPgXJzp3lxsmzIE3jgVrih0KShbDcFvhDxAkg11tAbRUrctQhgVSF7PNiMj4XDojP6goybWcUNM18G8ltQsZLLuJ2qmf5eUJ9qJULgsehCao7uCRGK+5GpaWkayLayqUu9WHPI4QKulrBpzPNz2SHQyaTkEuuFShl4umkCMV7Kk2/mW/xwbqqSAbPVgJuDXjB+HWb3oztwDQb4H3YAWzpPKnbh+KN8VMVhMdMuN07rTRNME6RmIqAN6xB2kcs6yGuF/dQGLiAGhRh2KwdQiWbnuTRgi+F0kjab8fGSoSKZqanZjjkHy2yqx3mfWO4RnZ2NSE4dbqlYSWZTmNrY4BbvEOIUJk/N7qq/VrQVKj/LnSAamQy3a/VRu33ozH3uI68Q/v3l++6EAbJR5Gp5HVGWifONpJt0wSb066B3mdZRc5gdeVvEL8XeZTHD7/V1UpP5uOJlvSDu9FLe1GA5THa6WB547Nb83LHV/gDhQwBAnFWCP5PFZWR+g96ukoJ9x+/g1qZ9JIKjVbA6YFDwpAOSq3XNJAP6ye5Vs7E15lkoEhwM1FluANdAw3kkXKzVwi0tdtEwB5+ciyA8ol6FlBaGGNihgeXWmX1KImADbS68qKsnr8L6JCsjkMmKzKLSZWb6LulNsfI26wkHY3DTVM/X/uptbEyGJoS0oqSUDSMRbbhRqdRT9KPz5kIme+lMCbRW5xNyjcWczqscfC+5eRpZ7mxeQAFk+E/TlaEyTex5Adwa3uNVRUZjyZHJ3ch0MnnWyBw83TYFKkNC4H2kYyFROsLSaNVSAv1XAtmau4voc/CnBmvym67aIgCQ7LROYDBTb0bZuXEtX6KNjopKsrnmOBXiwbd8rNYFAOKo13OS+rgPte7503ls5XjBh5X74zIE4pVTWR+0QL8SLF9J7+6KwRhWW93BR03WVw+6cvIOlQ4VuyTWW1Ua7PT7/ti/uTgAlAM3+axo5UAQGJsZrTNVs9x4e1JtgEl+77EXiNVmGwk0vTPRQh36oKNQPLwECgPOtkJpvs4cBXovZoKCNTjC10K6m6SsI0HgXCStJR45i5bfsbX1PNUMvCNEZG0OxNy8obPqUeySOogvkfjYb5AzTNal2zuuepKujzvleOGXJ3tftShyR4zg7erZkOmrT5EkVWuz5VEEH8WtgU29Vc/7kzr1RumnF1c8tkdHPyzELVUauVR/Yc5//DAxIf7XfYLQjhjQBJsnZRyTdDwVWV1sCGmiVZFH3wd8L/6vssPe8hCH0AzfaCN7qQo9sHPmzAD/1+NPpiMIPo4CSpGmCxTBV1yLQg0/mEge8CMQartctbUiMW4zFNn2HqA4wSBjG6B44ONETpNOjzI5rqnxiTljwCXw07RA8jSRksFIXA4AXmYD+JgYASTcgYuW3UrPnIBMKr8+v5iqSZ+9Zv3cslRbE48h857xyl0n9DCD5fNUh3QHOcuG9cu+uFPTkBOSfJzSUcAPFGrGKL9kEsiQ1k00L/Xk5qlO/ekDnvUp8XDTOyiE4G3fO811Z+xSIJ2XdexAAv263KTbj7CCgtq9/DYMFQ8Nr7bxoO9jFdv+ZxaB5gFLTvp3vEm66GJDDHFuA502+oRebusLKzby6HUAL1OUvmeIL/0TYStVvTiJJbsLNKnCehAnjNytPspV6xyUNwOy8eltLroLHLDwflirghhMBZNlDhVLdcHzBbC7BPUzPtyxm+VhMlIuEfibwAOa1E6QmIa7jgdEH42BmhLgXTQU3HHqSjS/jgXqSgn/rkujWXYxJFVkHapFTSD91hojcuydxDKO2IO9Z2rS9iw8enjkegwzOvmAzPCM15Sr0KHN2WBP3jGHoV1HfAbqBN5X550myon5SigI8Y4jRiWWSDY6x5pHgFuGRkVWVpiDiSuNU2DGc4v7DvjuUaVUBJebS274HcZMLaWG/AMo/ZbrbMrOllQfjM9AWHkaAIAKyHWntuYPbJJfy1AJ46Nufu0xg/HWbjfye0MUzIC1r1x6M73vwBtGMUrIrPzA9TuOjKn7JMcgHbPAra/nTdT7m+irLoF+9rTtLsDAZ8momxA1oeTdvExOv6Ri+KPT3sa19SqoF96jxmCJtEREcfhu90UM28cwpPgOjwrxEXMlaI82LBGoVQ32fz2tsOXqm8fOEA9ilOtsFCmK7by+zx7r0XzCVH74EAAAOzQZokbEJ/1G73WPOJrjD/EGjOVZzC3CWy/6wDi644+E3LCQVOQIYm5zdLmuWOOkmvDA3SurjZcPOZJrUVPBxnIfvLVYG9Ik1DnHotAak9ZMIK+qBFwsEmMUBw6ZtiKMXe4Jnw+K7ypObjXhMJd3KVk5Gn9bXjLp4AF4RmadrqVMbBujmyA9l7iHZbMtDBZ8uKdeKxQJGDNxGT/PdjhWvvY7xi60qwx/GfoDMisulft7tMOZyDNoH74vv5YKuFIYM/WmgYwPXU+P5Fk9eTgp1/Bhk7n2v26QBYITo1y8ZS/8kr+1fKdgLoGzg5CEbacmqfiyFcxhU4zRP15fwd0SJrt+8ePwakItM/ETYjyfua2PSeCtpxaaNfxK9WoZfbDZvHMT3DCveV3b1BgC/1m0h3WjyTiyTH5wr9126sWzt0boVOYRHsgsMhvxMlNH4IBWCpb9DfWl1eroLu6aVXaMRtX5nJthN5PRg2JJmBqh7TVF9+7wMU/o0lVnDNYL/F1fr9jeZtD6TChF8BOTL++gi0lhOwgQVAshjQMiJKGA12RG/C8ub0kkl5YYy1OPetJjdWwTD3wenc+b52rY3g80JS7CY/siaiAzFnluSLPN39mL7fsmGALzfuTsAcLWJmsIX51d5tQYF4kxUyYErHKRmN485NVY0u/I6YieUErl5Ep+N52sMg1EVH0XlUQimQsvSoAciC12ARVH1uA5LVtPj5eAI20VERbXKQSY9SXnqvTO/iuCrTRPy0HR7p15x6aDWbupujw2fa4MBoyahBMoSSuAs+gRmnxFMkPpc6BkKwU4DHUxNtFB+PhaUrb0Bv2NjXZHJP0ljtr5/pxShb4bzOsLJJdpKYrq040HOCKC89cw41GfEbI2ekwt/Dwz7SB3LuYAvAkBxQWMyIL8GmzFgjIfv2pgigyjszMFf3xFiqPTt2wQ9NTVV4UjPyFSI5NtUBZ0SnwoGxll1GWkKmM9Zkc8+pcP3aCSjlGp+BbBZa0dQNsPkQ0OCVRp8NJxhm7KyDAvvip3Kprvufd1B22uXcSJKsfIvsFaysfsNwt+1dE8sCKZc+rc5JCgkQIr3iS/Iwl5GBY5wBxB3lx4c/zwikyz502tz3C3ddEJD3SazIEc0IqJptOmCoeAlfjPAs57MG6qXONdUYk9EgC0WV54C1D8KCEr4D6X8Ksoi3Aepx1UbRP/O8K95axlhh98xQnNfixA/r4l+efp4uw2lpoZViCoFNT7HkFvrfgly/wQi6RAykmnAAAAG/QZ5CeL/DyKV0jQS9qzI6hC3p47tYZvS/YQMqf+sAMxAGfGHqOapmNZN0Uspn7wZGGMd8Q/J1zMrJ3zDY5AHMjSVAGqPQsXwul3xOdysFVw9dX5GSlMCMrLU0Rl6vfGkrCb0vgj1Av4yWT8rlkpyoLarPqRoUvwlBRpY4Fv5fBHy/0l83u7LpptXyUFHntNZSYo+lucKQEfPX6FRVZTG9b/T3PSIPEwRgL8Tl1sA3ZqWQgfxSLBPtwHh3UmNTvSbf4K4vKP+FWipFIVOMpf6V0+E+EB4no5l5dGGdzbhZ7gkIM+ECX4a07S2hNNiVibZpDHFbJhejIoAlxH1vlj/MqEqffmTQBvjz3Zc4fKKGbBBQ2a54Uq8sWB4I9t8lyw+ExQQC0pn8/L8j4DLSKC9UqytkuNNF03r0ffMfb8Pik7Xy5SvFHnRF499gPrPkcSvnanhKHfpM4pL4rS6DGdOqy05Y1fOgMML/gGt7CVMQ8ylE77eYWGNSZzQmpHouh5O7zpd/S9svGsoVn+2HimRoL+dA0OGUeFRI2UstgzKykkhOm27DzzoUvQS4K4KOqI3Ql9KeXRbRIs2Hr0CQdJthAAABPgGeYXRX3CbGA9l7C9+vgRyRUWe3+fSWWvl4uQ9Yz2qUtwcm0yLKTQ3GG0HuC11JQav13P1nGjzkJZsp8H41P1cUykBlwenii77+csQvhmAm5JqbTJ2KRFYM6W/bgStB1hQcWZpmGelg7T+HRZ7nCHPziRjh4U6opQDOoCqqs8HWBQfXjhW+kamyh5LrgXE5i4/zRDyPkmH0PzIszO2Cb7U7Z3Xib/Pyf9YYw4ba/T+SxRJbDyw14172/b+f65T2FToC+OGnrK7mXUC0vK7fSelKERk+PDEat/XpFPBODsapI/dDbCPnwrW3OPNYw2lSa9+1uTxpfp4vj4Ze5jpDqyMnK3Q6PkvvhF/olmgh9kuOzxsQZbAk0zMm6PtBS1wGX2VxsziA1rTpGQB7dDnNOx8o3g8OJdi7dZRQnPNJgAAAABUBnmNqVwvPtvNKx7u1WltPx6Dl0icAAAG4QZpoSahBaJlMCE///fGcmRBhfzMt1IG2MLv4m3VkYxuURJLdTKYn2lEVvnervZ6uYO/nLw2E69ftUGXBkAxfkf/2GBLNRUtGw84K49f2VwOmZTn1vhgT0hTrqDiAR33EMXxtM8r8W/nybbrrujXUYPC6tkXXtuy7b/m0qSHq0t2fz/OmB+MEEwfn2ig863A1eFycO0rgkdGuyraexwzfkdUf68KS6pC0hbPtQrRkXK4qfn6V3JvPBSGuPnzFbp/OYH1V7VDapkh/2vyn/Pp/Du+58wi3G/4ywcLo4i/ixuCeZBy2qQXMpZmNI27IVVV3kWLUGuM3VoiTuLnMQc021WBPEv+90V6uFR8ArFrTJQW1TYzRsm2C5WOBQHImxhsUcYi4pHi7ojug6g+N4lo5obQs1n9/Q0paDRJAcnh7xQ46yG7tyOgtB3WUI8X2uVmijt9BYhNZ/lHt7IcsK0B3Zh1x56NF67jVWQX13z97uqJeh8m4r9Bih2yRRPcsnKILXGkUcSgmMCM+Hyo9gmRNjLZ4Cek/eYXIhPjdN4t1foAsDjP7Wvr+UaWLhPhzDb3BXTkcXjA2qg0AAAG3QZ6GRREt/wGXHTLH3xJrMiRf3H4T2SrhowEm2ZLv7e+TYRbHAqd4UPCN68kmBheEQneJTxOmKjJSs6kf3JIJdh+007BCee5dx54VWj7QO9bAJKf9sh3iSIMabd5tkGkZNAW3Z2ASkMPzXCuksvATZ6li8SMMTikV0LA5Vy+RT2uEMMQhdCPfKB505ov2DqWA1QLrE1uzDkLS/ByPaNQsIHARNWhDu4h6LKVhQ8qFSkqSsouGePD0j5m0XHZJPWmn/9oZZHjMCzED2CevFJ+4Tff1ChqLPK5iIrGerrB78nFy04nVYM5wVtLTzCEvrFyPjFjxl+QqZOBcqhsWMqwnB1mn1g6RxIYsvOz7qODKTHz3LSvgMHutmZFnmTb/406E9LPBTuCneMWLVrYUEsmLTsfIC8Q6hCUUPT+6GX87lc7RVPe1+IW6jnKGJKKXwncxNKQsSzFgjXup4+wBHw4y0RyspRV/HjhVzS/CYSciQhBSASej+o6THo+71jgmFJ4D42Ofr1oc668xyRYTbkABmcTxo58WpurnGSv0oU8oQjY/Jdfx0kCWTnwbIJGm/zwbgBtWKmH2XwAAAXEBnqV0VwJHrkPr7xM0TNxC8JWMCuECmCm/0xPblBijVwRS/+xplitD3eOgQS+re6yaEBtwwutfK5r8d5hzaSZZiMi0JilCjCFZ2BmM67OviuWcFc/qJM1GViPQhMndwkgV3e4Dd+KnstzRZBOu4JNhUEMM+g9rRmwu4ts1c0JK+1aX16zmxf21PamtFJz0xOgETJrByoEQSbo8hMwAhBC3TRP/q/8oNwxgUueQn8TuUptNtarKW+nACo1KIXQ3RgxLX6A79HLat8b3WolGjfCDBynSuZMHfYW6oSN03KUoargjDGt/A/hYdVNsDrJhjSW5Ux1CPh/AzWiczEIuxcRnJDdjeMpSbizLah88ToHGHWQS6fUsbGOjhZUhAkDPcQHsyPxeIpkrCr7VzTv6S0kZAOq0tDJZQ8bNQqJ1Dgd5W8hH3MULMZXojLT05C7VVHUKvsvkTpXttw4lnLX5V0yzOc7HRNufnxNswFtTaXb5LXkAAAFPAZ6nalcCFASDU9naiog4zincosXfwAcKyl7lS0zHdpN9mbv/SuKdtBzDeK0ircjYBxC2SQ9VJZhFONv5EL7T+KjRt8O4W53B0kRrvhNgNcG3Aqfp8DKswWUYMZUTv57I46io1i8Bkk6P3Qm451CPcKDwdFY6onPzps1JR7PlMIf/9zoK3NLuAqYt8YUYAn+6uDO2Ja/nHeH1H3iBiJRsV2+TqNjiUsQoGAnOlQwBo2n57Fz53HaA8N/rW+B3qMA6P0EBGpcwt8Laet+UELw1wqhfs4u4fuT/KKgyMWcBK2AUhcZlpOmIKkMmQPfA0U7hxsBoxWPOuZ2EVBxxz/T0Xuacq+JK3G1ocsGzw4+VDPdeczVBbgrv6f4Q+jAiEDa/LOCu7BGIghzZOkDcZ+g68VmnK1sCgKVdNCGmBhsvjSNhaC+Ia8rOWqxT+UuNE3gAAAFxQZqqSahBbJlMFEwn//3xAAHDSglv0PvBNmH5dOkAH4gTXzmZQheGS3l9LhKTNFvqseoIsfjB9ZiHs8voT5hj83I3Wgx95WM1Kq4iHQRiMUTuOefKNOEjDGdrVa/5Ps8a0f+GlM9b2ZpgMD3fNPEyZ6y9mTmDtn+nySzRo4nMciYnKLslDkYd+C7JqRA1MfsT+BY/0ELpV6H4xQI9JK/ypPKuAN8PhjrPHqCes+1sGmz9+1AZuNbPS1jTciHCXlbCmlLtSSYmt0I/D9DUQOdbVM7EtHcMXk3hnRo5B0QsSl3MVxBaG2YiD6pdN4pqunm/5KOFy4IknsdmeK9SK47UbBc9V1yZNaf2NVSHlHyEQsS+2vmdCRt2STLmmiyE8nAb/FVzbPyJ6/BoudxkSYWDvlycSfMOmqUggaCqnGHvZVCoYpp1p2axQjw/WtBsNa8NIVlrxPDVOV/O4DHuEUCp3ARsIJR+8IbxmQbRMMs92AWAAAABgwGeyWpXAGaJPRzna6yQv9GAkngqphuvwVNfI6tMjD/CViMytBP90pTdEcjfoBRe8cy6J7SE6Gt+l8xlj5754q0+/JS2N8Pk/8d/xMQzSufXwT6av2+rwXrXRGws9hWoYWF4oPp/9VidCPnQXwWyQY7JUOIcrnNSYCn6SswgofBbCGBXPGFtaANULC8tBJEOoprNCRA3Nz+lBOkGEFqs+Hk2HQYww2cXIvP8PPzdPdsm9r2nyNgmFvniVn1JrpB8Y3/s3z/L7gWr64N2WbijQoAjTd4tcEIzijyXVedblR8ZBDijJlnYKQA3hNRKNZCC+FdV+0pf9w5B1xSs9ADWie8iAcbt4U8YZLFT+e2mZrQplh5ExD/MaRuFf9UAvQWYOghxFOx1D7Gdi6u7Q46Sm0YJm8Qxm7x68/4BqUCKKikYayj8rAawKzc1bEFQ2icXioxe92AnRraX8pXb8xZEmCbUS2rFJXGS96ANljbNkMwmT0Kh8+Z3RIAJMpN1Ftm5+f4O4wAAACtBmsxJ4QpSZTBSwj/94QAdncP5nCiGnBUsRCHDKbq34bhSbmmrjRoAODggAAACIQGe62pXAgTs9OskL/RgJJ4KqYbr8FTXyOrTIw/wc3MR/ulKbojkb9AKL3jmXRPaQnQ1v0vmMsfPfPFWn35KWxvh8n/jv+JiGaVz6+CfTV/Iu80grAJmFwEWjXCwvFB9P/qsToR86C+C2SDHZKhxDlc5okAUvSVmEFD4LYQwK54wtrQBqhYXloJIh1FNZoSIG5uf0oJ0gwgtVrfD/IBEBuH/dyLzDzkajhcfWgdez0iixEm3rutYajD0Ewt9/+M4XdheG13+PXPYIMawOyAALb2J5CMDWBpUEr+mrgxBCe4AXpUcBFOpKcDU0dFJuAchhn4Jy+DgK5M5RAGD27oeLElipwulmM1q2m98geh/ljJgBP+0kLFMy70YIkJKWVoYBimKzhbHkX2jBM3iK6+c++/3EMKgF9Q4SM2TtZ4ksK+xFnBzUNonGeKcxDfbyViItaziTL08no+F2gqNh8rjI21v2LYtC94KwLt1Mpc9QS2gh3c/pzauew/oWOH2pVpHpJsCFj6BcwHtjId+JYj2/64yk58gFlcyWTD6sa1ANz2J4MXEhQDsgArbG2DO1VKGI38jLrj1RgEdMVDSHOJRkGSlG+cIeBd7SaOlZ6qryYvHZhyvYJoAR+un8rGRCF61TJG28RN6beg6Io5CTxbwMyS1Y1990I7dNiJPGEtazl1TuH/iTwYEl7WxtBV5yoi8t/AwYn14QteYo4PsRMcu+kSAAAADP0Ga8EnhDomUwIR//eEAD9bykCp6WPzXHqoiVp+ZexjhEuIFT4MXM49l0Zmz7iy++k8quzzhIF6sKhSCcxnqH+yCkz8bl+jGqEAwYKVx27a83E+/+pyGxMU7c05HiuGr/CJ25mf9lm28EDUAxlRi2wthReH4C0IoHA7M21HwhdzHtOr+nag6N5RatDua20WHi/KPWGxwMm3MwjOINwOTuyoNp8g14Gyi60Y0Q5nhhNecizCST3zXIYUN4/26NohwsYMVEK6tNN9qDXfTiys68xEA7bXlg/tq0e1qN6JMb+mAA0C4om8keyh1Zfryizb+t/U1O4pCVo2VoEguovUKW1AYjsUuwcEntJ9MRhiNganZoKWyQEPCYEoo8xABwvmxpTzS2SUqh4/aUbI8r1h38ckjxeGns2MJ/g1xo9rSEK7xq+XZSv0g2R2tkBYKn3FpEXWV9H9az+WwYaBtL1unVdHxJ9Oyaem6cF+XMEr6Nh5U6VVyd8XotyYLeU/50uTrfMso8jqpeUEuhcttH0ACUTugbDRznEOWJZwZ0lEGbZJSJkuZet+FnRz+eeHzZ3ioaprV7TdaLD5PQieDdD3ybGUBJF7bikXqft5iPO2CdVgEpdjB0TsUCBVc4pNVvo6l+MzIpSuX/MxZssXZgEWVvb6CE7bOeUB5fJ2JHVxFvq+K1xKEF9+o3j0VC8EXPLdnSUJzHETpQf229VzLUtynQnrA2woioT9jnpqcZ0rZIt2F5m2s/TIKZ9JJvwmZpbzRcBGeBaO4lxZOZGc3eT+NMyq8yEB3NEdNJi9eUsVim1MChPlQIESprfmKa4z1iZrSwbFeEFZES3FqavL6/bq0E36lHwYhag6PLv9eKmKusG1v3ajvxwPHDi+QQ9GJOXnSH+FnoEwxhvvUOf4/IKRdaJ5WXF4hPIxaP2DuvPtFIEe3fKdGf/wV/LruNONyKZjY/Gk1+e3E7aUjDL9wrUrwdaZ/IzBLwHk40Xr8rRXECfdkcfIEEj5ZfYs4h26gksJqolVj1H+XJaL440JV3btt+PKI6eq0dEo09Opl6zaLDAXxKNnXG7vSaL8l8rnouDe8ZwXavje1zI4B+2mvNBgddQAAAbZBnw5FFT3/AZiXr+BT1SazIkX9x+E9kq4UMBJtmS7+3vk2CoPvRyvIjVW6KrylXf6VcoIRp9qQdzkApnjhe7cGFZiiQTf/dNGbn87L5/E7/2HobC6nreeCoW2cRMAPHi0BldPSQMeJlYJ0YguhJB8AeAMCUl6BSH6tZmhiun0VzeC834SdnSdvxTr8h69HRNINVXytvOLMcf6dLp8hrVp09RNSHWEs5QggkjJwE5Xs+iR7L+I28LgQgceBeEnmhbjvBk2qJvFRWe25EyhjCk7sIt326SrsqiVVY/2SS8vfYHPziX27AqP3VhJXB3IZcWqW9WRJn/esosuZtuv6WUkgNtZHpjz23g6P0YCw0sfQCCK6iuN65LTjrWRPX6WEdsV/C/eM6yP1UMN+ye+bUZqPG/7xM+tOHVKRFtHJnCfZ3jtLIlUAF0OVw0y8M1NO4TEJwWTS1MrDcZheTStQ5boXkMNDkQNDcRvWaCF5vDI2TfXh5UWvHORVG/4Wlk79dWc90nK/6dKI/ruHLOmoIR49/0eZBNFh297K+US2pp7LT5ZoBNu2K8hFuuSmCC6opbxobU69UUEAAAGOAZ8tdFcCCDue9zbr9fAkngqphuvwVNfI6tMjD/Bz0t/iNM3uN+6UpuiORv0AoveOZdE9pCdDW/S+Yyx8988VaffkpbG+Hyf+O/4mIZpXPr4J9NX8i7zSCsAmYXARaNcLC8UH0/+qxOhHzoL4LZIMdkqHEOVzmiQCEHiswgofBbCGBXPGFtaANULC8tBJEOoprNCRA3Nz+lBOkGEFqtb4f5AIgNw/7uReYecjUcLj60Dr2ekUWIk29d1rDUYegmFvv/xnC7sLw2uWZWpYpHPvaDayXEa65mNGtzogmgLFBK/pq4MQQnuAF6VHARTqSnA1NHRSbgHIYZ+Ccvg4CuTOUQBg9u6HixJYqcLpZjNatpvfIHof5YyYAT/uuE6mZd6MESElLK0MAxTFZwtjyL7RgmbxFdfOfff7iGFQC+ocJGbJ2s8SWFfYizg5qG0TjPFOYhvt5KxEWtZxJl6eT0fC7QVGw+Vxkba37FsWhe8FYd4WpKoKf0UjsJbQQ8DPZRauew/oeUO1njvUo8tW0j0AAAGcAZ8valcCRxIjYW4qIM8GKw4dujHBg7Y2P7QDwnIC9wrglekK4jvNQbs7NPv7m4UACm6dxuEmNynLfpymHCKlbtmZvLlB++x6E8hlOfo/+v89CJKNcxYm7buZdThj7gEBZyIOqNCMmQVUN4IxVNnDYpBT9u6zj/6GXiqbr6IX5RBAQM9mOdqQ4nUZDRH8G7TA0GMQTk1F3k2aN0L/x7jDV6oB1gD0h56/2zJGlwglr681UtljKhf+Bpzpe9amkOHOcBUnauOP3tXNtZhymF2ElolK3J7B0ntm3l1nbzo3r8sfQWJIRNevMRWLpgzqF0FIz1aULyCXyQAw9KAH+dUEhrJXArw22WY653eIQ4e9obQVJKr55xVWZfutOWtDYHYH1tgR0E3WXHF8+QohTNakq8gY3iFnkA89t0fE0bQ/FlB2Jx7OV7yjAmD+IwU0tQNV3gsNyN+A0BSoMSOu+masGrARt+N9PaepZVGUkopdtN801udnhTGj7rHxhvmbVPIMSmgHbkHVSzUsC5I4yhFYDaURZU/yulZeia0nXAAAAgdBmzRJqEFomUwI/8xidLrOyfr1avBvfWe0meanAlel//+sEpWJGVrpUlGDXisvE+lKRZdgwXP5MFOXfANxcFM32DEFkUw9qCzmccgkF2j0iYrrsKwVlOTqf5KdY2NhZW5Xy6LsRyC597YZUE6qykWH9CvcHEmbz0SBg43WrZ/g/Ms2odtQZ0JRBrWOx0v/+qHWNklvyO37ImScFsO/2dQdaihgl5ZU03rPr80K28iaoN/saIe2UcUHPmA3KqfqqSKDFUVa4OgKBeHRE3nIbPaLtDjC9H84Z5R+mA7snx9UvSNRaZACrQVqGo67pyxLTlu+f0pDFh/RgjOn5qQxe8aVzCx38XqF0rizXJmlxEC0SlmR75ONOeXFGQvEEUPg2kqHEQpcjeE9/QISg9a4EiZwnpRvZv/Ok8ujvDkrg3ig/fTcRLChHw3fvZyq15vZJH+uoMXgrNuNzD3OihnItbxg87thW2L79FXsv401inujfhvqYv6wQ3AcVNOCLp36c+Bpz3V5ifL9xcRKR129I4nA2HE6bZpb4P34Jt0TAQeAmtY+j8tqvHnABhTyxz1Da3imVdDPzKodVBLik+MdPFz7FM1mujAPDrUlQG5msVNZYZisdnUoVAL0GtNBcJt40jzeRvrF3sAoPEiP9d8q4KYuokr3rRM4VfJp/mIRImSTvVS+5UUD9YAAAAATQZ9SRREt/8PIpXSvJBuB0v87SQAAAbIBn3F0V9GDUT+WzLiogzwYrDh26PNwzGiCMKvn+9HaJt/vmLPzF7uU1rG41GH+K/CXCO5jUeqgPC+krEcXNIXTkENpfKux+ivE6BpP+f0IlIuW0/FYPq+l2zxoYbRni6zVgFgBoPxz/nYq6beAZz2nLTsfbGjUOjvxAGftJczt/FGVOx172hLfqhS9plc8WsaYi3EknGZCVxLKax/WaYNQFTZpqDEHZG+S9FkNHhQ3Xva+mBr0tEftmc8vaOAWQr0+/NtR+HHBl0xbUXFwbCkE5rSjc4HKbAgry02HaftxymdWTGlileeETvOYdQrjpJi9K7CMJn+YfGJtUJrtQJE21J6Ldij9YEKs0v2cyxm/fUS7AaGPP4sce7H0YCLAe9XAsmfzBtk9iIfJ5EVVfOXYoLZJ75DHG8FsGswKEgczVVKOJ13QKc1dCUQPyjeOWUlS8eDn5DNmR5Tq9fNGOacAqLl5zGubAgyv6xM9GZZa6gvbiRlH2/9zLFAE7QqqaYj6+OOTzj4bg1+vRWCk3ktqgjKEkLuH+atj990E0rnDWOk54y16Rvx76/5iOaxeL5DrgAAAAYwBn3NqV9L5x1bSEWlMEgzwYrDh26PM9NtjY/tAPCcgKOFcEnkyMi5tQg9s7q01S+7Sb9ynLfnAlsIqbjcs4jirGB+/LTyHfgxhzmHlrwlopT8MyXIU0OcGhZ8kLQgDRr2qbZ/GXpdRGU2cNQkFP33yYlBzXuVuX0AvyiqfRerMea39OnUZLRH18+mSfOUNVjpohMDHQvJlrI0YetgjO3PNaXAD5pEdOqNIQ6prg5orKI4/694OviYVuU2+x7apOwcIl3RW++fvKiOS6mUpe854h0nt/G354siqlS2KETXsAc6bboM6hdBZM9WlC8gh/NiflSgB/nVA8z+WbntvgLeMudpiEOHnaG0GSSq+ecQT1Yx2LbLMM7HLoLLx23FdNCbT4zCHtZtXEH9Ntz3pM9AdUj5ycDrgOIU5EGMKJ3lGBMH8OGqClGFxUPhFAQmA0BQIMSOu+nasGrARt96FPZmGdoYL72b+J0C6qZqC6pkLV1z36uYQlNAO3IMe2mrDBqOQWVEuFzjBWSDRq4AAAAHTQZt4SahBbJlMCN/KiiyHSrA0z29GTvssLbck9m9tDOxVicHtOgr4VdM//eHE0oCqLqFaC4plI5Py0wAqnMT0JgiX5TijKWwYKxsmrykU3xzsQuwzRCwlRyhNUsNqDwFX5Gw0bpGFqyFRWiZB6Vkg776uT1m4W9R/sr1Dodpb/z+aj4hXVMMvinm/W3H+0gdnVdUFOqlNie3VLFjr5I5MEQnvoXzs+GxDeJN+lurYa5JErqYadN1UqvHZF0uwSI8haf6Ub+NNFJDN9HGTtWSnaAhPiN5Q8MURnXKsLCfjxoZqd8QeCvWQNH9b636Myt1oZZM/bBvduaTMTeCSaPCXGHMrl8n82IEMjwEaPbm6BOcFHYqUFx3sRzisThDaur4xHc93zO39EHadUWRr3rib5baLc90jWoldzH/jpyR89rx3taihxtO7M5pdAwEpUtYa1NBoWYbNr9IWWAmg0D+yurlMDrtOoc3YyETGoidi+S/ThiwVelm/odvjfXlAeZEMhDXW3H8lCHAX+5uzCX9DPHT/y6c71F0QLV+0JC/s9+ySoWMKTp4EwsNKJPalBQ+E7usYdJf3lm0ZN8kXg/Tl679WAexeKnUMWD6Y1eAKKL/vGWEAAAARQZ+WRRUt/8j0iXptX2a9xRcAAAAIAZ+1dFcAFtEAAAAPAZ+3alfS+gLy+/Tm8bc5AAAAEUGbukmoQWyZTBRMb/pYAATMAAAADwGf2WpX0vnHVtHcm7OyLwAAAclBm91J4QpSZTAi//pYAoMom1BnHy3fYQjnQtYYmUeQWbMvWccstjis0JN/QbwYXQmwxGs61y3j9D7WVLrh/2w5PE6eJQFqs1pGkThAQprnvaQn6FRMzhtk1xXAMWAR8/9KDcUlRL7Z3/UQYIfCghaMgax9XliyPFoNXYxkHqwo8l3J8+nK8KdLk7o1lm7O847otG6xhsoTYeF/jA7DUaWeyj68m/8tCJ14SjGfU3/0BL/YXkH5/vkXbFDawYtjzemx1egfhqRkb+ueUKlc/0fviNTfebvap26fOeSmLuFItS4/zUjtqlVJIqjk4FyuzvbJq8TN1HlgcSwQ6jtR+PK6Ep3rA9Tgz4dXqCAZ/yQnsLpF6BTLGg5lsR5d46HMiQIcahg17HwxeIGKvTSPTtz6xNntzjZB0Rg4AOyntLI3vtouvdcRFKooMXP2gfygPmva8ymrQX3Lv7B9bFoQSwpN/Wwh73DqREY0fqPZJBg7VmlndmrlBG1iYPDaWoavp6jNrGSBMyWQqsXfuNYX86KVwBy1GmBXQyl7d0fgeA1bdjNMiOriEDikqJ/IXWAm/YibCbJSQCmCraG2B5ieySezB2Qer1TWTYfgAAABlkGf+0U0Tf8IDxCJvbyYYwr/x27VmR1CFstyKe8vB+ss9Ykf9oAYmpCpDt8bGhZBexPXebkZElcfN94WcBHez7gMXs+xqDMjRUgGsCz4GY1+N4hI1fQX4fAkK8q9DJllGBOLo6pxP4QEyVWhRS4kfHAhAkZ4D1I0KafJ1s3LMGfh2rvSTBvGEHod2PpD+vcwpjf9INqDYksIdIGFZHdAGOzhenTJCrRiiPa7/GWAHSQHrEJ6gIH5IGjdwOEqD1Sm2DfQu9+jIL4Yyg1L6udIEhQ7NIYkbTZ1k4LpAYv3PurjOkl0b8EJFvo2P7y79J8nv/bA1V7ICzkYqwjCeQ/k5TEEFMaUkp2o7gvDHkezJG9LOSim5mhClWEJsTx8g17WjKLx6Ate2muCHIc0DaSC/G7CKY4EABOd38Gk+VcvEaw04XYUdRGeAhs717mCSKfUnbGW5SYDV4E8G+RS5K4MzVdT2g/YYmnSh36ZrDYmxc6iazQrV8vCdfjktgXFfeyDK2Ulr3XXeUUi2L8flXZriMiCg7PcHEEAAAFqAZ4calcHrdZWcLo/xrea4rscbXsA/Xk2POreQ7fP/R2Ky01YUr/TwxDJKeJm1tqfK6agV0PIGEcWKoDNqpd8XS143Xe6hQzgMUiPS13zLDStNg10hqJM1GXrhDIkGRkJT33e4Zd+KnskSEqROu4I5igjCZw6NBK1Mg6kt2ByiIunn+FJHBEPb0Z6EO9KpkZiIp5ny+7ASligj0+qNwyVpjbiJVqDVpQi4oBoCcmox40MANeak1OBbu/Dp8aE6pL5nDFf6h57xEuVHojMEe8iq3g7308oqpB6xcDDcNHL3SYmYhOZq1LfRTDp6IhAdkcTOMvjQUmpUG/kU3nIhDhRLdze+EaoY14JGH1FYo58SAvPba3lpe+xDsBeVeRE//qi8sgcC0qGJotmUTkllTgB18VxYKSQ8jF0ZGmQ9ncKUWirdQcCLW9pQlgXiMXVwR+t3n3yqaDGxgV+c/JP1eqY+LWHS4JZj5JE1jMAAAHLQZoASahBaJlMCf/kQANLoelVn9yaimd4sNLZFR6C6/uThvTVLtxPxDlpxhGS1XzYjz4S6WZ7FV5SsKXTCkIP8dqQjVZopnjhmM7TmHdtDI7wtrqyz+dl8/+eTqYEXE/y9bzprOoAFO6QyQkcYU+TZu5mgpK1PhqyE3fgEVzSilH7JwnaYymeK7lFChJsiJ39jAJAO6CXzpkfnX0nogTueIFZTLKVFpG7EyxumKUyDhZbmyiex+xVc51mpV2/Zjh/E5vZQpiy6wJBnASXhMFEzZwdlEJl2+6apqS/LT8hxjTflRiIZL7/XCsJ7OkOPPJlX3sBkgmD6w1Nx52KvZx1EZPpS/zAGMBlZ1fOoRFiZbr6DKEfQGAEUmu92VW3XET31ByNo4Zmj7Krje3MxQvBIKSQfUiHhHXY/kOsiqmL4q3P47GOoOoQga2uI5bnO36JafUCuhEfcStnpg+D17z4qsaRYkcNC4I5ygF2PrKWJwe0zi4G2S/Ft3RsOI4ok0lknY5aPkRYapjkE6NwtXT9iHyZ50CO44ZM0A09VVo/KQ1dFwBpzJi2Ty6xhvZSqj95fTtbjj8oG644sIsdi48dnveF0Jhgow65pg3MAAAAG0GePkURLf8Fo6754E1kCFqLLbbqIDVJsVakDAAAATMBnl9qVwIN3WP3Nuv18CSeCqmG6/BU18jq0yMP8HNvuf7pSm6I5G/QCi945l0T2kJ0Nb9L5jLHz3zxVp9+Slsb4fJ/47/iYhmlc+vgn01fyLvNIKwCZhcBFo1wsLxQfT/6rE6EfOgvgtkgx2SocQ5XOa869+8pG7zYrc07SL43zW9OxSAXdMlMzXwkucCEbeFkPTj+ZJk/xne+DSRpVjuARkouMtuwePaI6ADPd8GQig9l3sUYTavl0AJpbCmQpFxKS+VmhUEN4zaYnejyFGBdZcSFVd2NXM/qH8S9UxiZKa7YgL94nE6g5tcbiG/y+ENE4AX5z9WqSOH2/g6AT0sgeeWgMILsnQSZ+jm+tXlU9ZSvwjD1dvMZEOQxRCQvvjUcLp7lZdDG4N4mq2d2oBCvCe6xAAAB4EGaQ0moQWyZTAr/AAAjbAwGd4AxMEgyxf8ss76iMTp4VkB8lzbnI1trw/5AKJDiDuMINk/Ffph8fFDhQXvFW/qH3jvXs9Sz90N4z2wOQ7vxI9QdFxjMriCT69Rer+MBIAKpkpY+tB+0GJTOw9ruTdCTiULJb+kgrNXsX+LGOmoognvMfrFEV7D4FM8dussLGZdYLiuO8qoXlDAvJh68tPAH0Ff8IoS9DGR7dSsUfS9vPIYTLiyebLKJW1NRbb2fgKbr9LTPBSgs6uXEBbBLswwnK79wGmOIx7G8nFwlA79xc3FZHr2r7jd4g2fxprCfCp+bgmLtjj4KedZVHDIYBYq47SPbEhRPpLUwGTmf5sDEkByqCv8dvF8VwIBX3MuiBnH+Q6Dmh0BHE4wJh7T4zwm7fcbOrX+zv4hGDoeJxtgrX8VZnwLgqyrIPmhNF68FyF/aup5f5FATjm7QEW68IU112Jrg8kB9NhatS/T/aM7wYzx5XFTr4q2fYXgUaC97pDERWqnp0X97mXqAjrZexoXycmIR+6CTZ5MAFK7B6ZrpG6StyBwIHr1HkSw/sBPyCsVAF7g15IQhC3coUDmZ8uziDASQrMrJcRnFoJc+Mo32rN0s04ErWZC3Swyw6Iv8cAAAAX1BnmFFFS3/BaOu6ok7gShn1JyR8Xurrf9xgSzEVgpkfcFccT7AGnjcCEovuqDayD4HKz3Z1/VwIABTYZjDZU2xKPZIGdZPoRprPgZ/gpHlognyEuo9jVH4MIuz5qpA+7gGtnTLJnnnisB82p7v/xMuWQXrRIOkHjSzhMcN6Q7BNRvRyoAEE2KpR4wni/d7HC4cFLVQl+P0BDMakEyoYMhL2QgXe7TZ2F5dJXhZWWNQ5R8ZlBlYtx3gmCgTxHUx3HAc9eE/jakSoe1gAOal2hoFAQLawsZ+VpI22zueNI4mACK5hROkllGadNnM0+RDircwJTAw2G8Mao11aedQCRNvpapT5bC2/xZdZIc+wmEBmGNZc8p7wLtpG7XDHtjyGXI25IlqeetzTBa3weoB2sG8EzNCB7jxkQ9WD9vjXLygfrVnXtOFlcbymRsv3GGb46EzP2xf/qW9vK2cVsuVqzgJi8AOcHWDkmPMijrZvamIDRHlqTRWLBq3voLcCyEAAAFpAZ6CalcA28qYmER0kHkhelwD/Gkm6tkni97MyRIC/54dRVAp+NwB7TB/qt+3DUzJ5i58RshKb+Y4MZKNgi+pZK1kBI+a8XGQp8NFnLJbOjHl7OxV2zUysWwFMqQMxXOtVih7wbLGjlHgv6RHvbyddFA6onbA8M+TmB5y2Hlr4b+KDIUl4Q6QTlDs3y0dTMO8bNsDCegFNa65TgNlIWgILNymJwd4azDF8QvyBzb7YClsoPm7ylwTHU39puzahUrzL2k8h+8fPtaS8I90CA4DG5oPQF60Yzhd0aSVledMmUDbI6RCbCzdIJ3/IoRggwKLx5m5TY1dN7cKdRtOwT1/bp5rDO2RjQvJRE0ECa4mW5BfIDg0Iek6K88FJMjDZvtFjrZgI5y2SZyomKEhGDEg5YFqkGFFOHRaSqeivngNn54+/JeNqanDtRFMDtBZTcCiA4upgK8Mo9EXjLK68kXTHxe/rXC/8DOG2AAABMFtb292AAAAbG12aGQAAAAAAAAAAAAAAAAAAAPoAAAjKAABAAABAAAAAAAAAAAAAAAAAQAAAAAAAAAAAAAAAAAAAAEAAAAAAAAAAAAAAAAAAEAAAAAAAAAAAAAAAAAAAAAAAAAAAAAAAAAAAAAAAAACAAAD7HRyYWsAAABcdGtoZAAAAAMAAAAAAAAAAAAAAAEAAAAAAAAjKAAAAAAAAAAAAAAAAAAAAAAAAQAAAAAAAAAAAAAAAAAAAAEAAAAAAAAAAAAAAAAAAEAAAAABAAAAAQAAAAAAACRlZHRzAAAAHGVsc3QAAAAAAAAAAQAAIygAACAAAAEAAAAAA2RtZGlhAAAAIG1kaGQAAAAAAAAAAAAAAAAAAEAAAAJAAFXEAAAAAAAtaGRscgAAAAAAAAAAdmlkZQAAAAAAAAAAAAAAAFZpZGVvSGFuZGxlcgAAAAMPbWluZgAAABR2bWhkAAAAAQAAAAAAAAAAAAAAJGRpbmYAAAAcZHJlZgAAAAAAAAABAAAADHVybCAAAAABAAACz3N0YmwAAACvc3RzZAAAAAAAAAABAAAAn2F2YzEAAAAAAAAAAQAAAAAAAAAAAAAAAAAAAAABAAEAAEgAAABIAAAAAAAAAAEVTGF2YzYxLjE5LjEwMCBsaWJ4MjY0AAAAAAAAAAAAAAAY//8AAAA1YXZjQwFkAAz/4QAYZ2QADKzZQQCGhAAAAwAEAAADACA8UKZYAQAGaOvjyyLA/fj4AAAAABRidHJ0AAAAAAAAg2MAAINjAAAAGHN0dHMAAAAAAAAAAQAAACQAABAAAAAAFHN0c3MAAAAAAAAAAQAAAAEAAAEYY3R0cwAAAAAAAAAhAAAAAQAAIAAAAAABAABQAAAAAAEAACAAAAAAAQAAAAAAAAABAAAQAAAAAAEAAFAAAAAAAQAAIAAAAAABAAAAAAAAAAEAABAAAAAAAQAAMAAAAAABAAAQAAAAAAEAADAAAAAAAQAAEAAAAAABAABQAAAAAAEAACAAAAAAAQAAAAAAAAABAAAQAAAAAAEAAFAAAAAAAQAAIAAAAAABAAAAAAAAAAEAABAAAAAAAQAAUAAAAAABAAAgAAAAAAEAAAAAAAAAAQAAEAAAAAABAAAwAAAAAAEAABAAAAAAAQAAQAAAAAACAAAQAAAAAAEAAEAAAAAAAgAAEAAAAAABAABAAAAAAAIAABAAAAAAHHN0c2MAAAAAAAAAAQAAAAEAAAAkAAAAAQAAAKRzdHN6AAAAAAAAAAAAAAAkAABk1gAAA7cAAAHDAAABQgAAABkAAAG8AAABuwAAAXUAAAFTAAABdQAAAYcAAAAvAAACJQAAA0MAAAG6AAABkgAAAaAAAAILAAAAFwAAAbYAAAGQAAAB1wAAABUAAAAMAAAAEwAAABUAAAATAAABzQAAAZoAAAFuAAABzwAAAB8AAAE3AAAB5AAAAYEAAAFtAAAAFHN0Y28AAAAAAAAAAQAAADAAAABhdWR0YQAAAFltZXRhAAAAAAAAACFoZGxyAAAAAAAAAABtZGlyYXBwbAAAAAAAAAAAAAAAACxpbHN0AAAAJKl0b28AAAAcZGF0YQAAAAEAAAAATGF2ZjYxLjcuMTAw\" type=\"video/mp4\">\n",
       " Your browser does not support the video tag.\n",
       " </video>"
      ],
      "text/plain": [
       "<IPython.core.display.Video object>"
      ]
     },
     "metadata": {},
     "output_type": "display_data"
    }
   ],
   "source": [
    "# Find and display the most recent video\n",
    "latest_video = sorted(Path(\"videos\").glob(\"*.mp4\"))[-1]\n",
    "display(Video(str(latest_video), embed=True, width=480))\n"
   ]
  },
  {
   "cell_type": "code",
   "execution_count": null,
   "id": "8983241b",
   "metadata": {},
   "outputs": [
    {
     "name": "stdout",
     "output_type": "stream",
     "text": [
      "Greedy rollout return: 1.0 | success=True\n"
     ]
    },
    {
     "data": {
      "image/gif": "[encoded data removed]",
      "text/plain": [
       "<IPython.core.display.Image object>"
      ]
     },
     "metadata": {},
     "output_type": "display_data"
    },
    {
     "ename": "",
     "evalue": "",
     "output_type": "error",
     "traceback": [
      "\u001b[1;31mThe Kernel crashed while executing code in the current cell or a previous cell. \n",
      "\u001b[1;31mPlease review the code in the cell(s) to identify a possible cause of the failure. \n",
      "\u001b[1;31mClick <a href='https://aka.ms/vscodeJupyterKernelCrash'>here</a> for more info. \n",
      "\u001b[1;31mView Jupyter <a href='command:jupyter.viewOutput'>log</a> for further details."
     ]
    }
   ],
   "source": [
    "# Greedy rollout GIF that insists on success (retries a few times)\n",
    "import imageio.v2 as imageio\n",
    "from IPython.display import Image, display\n",
    "import numpy as np\n",
    "\n",
    "# check if Q-table and seed are set already\n",
    "assert 'Q' in globals(), \"Q-table not found. Train the agent first.\"\n",
    "assert 'SEED' in globals(), \"SEED not found. Ensure the setup cell was run.\"\n",
    "\n",
    "def record_greedy_gif_win(Q, max_steps=200, seed=SEED, path=\"frozenlake_greedy.gif\", fps=4,\n",
    "                          map_name=\"4x4\", is_slippery=True, max_attempts=5):\n",
    "    env = gym.make(\"FrozenLake-v1\", map_name=map_name, is_slippery=is_slippery, render_mode=\"rgb_array\")\n",
    "\n",
    "    saved_frames = None\n",
    "    saved_reward = 0.0\n",
    "    success = False\n",
    "\n",
    "    for attempt in range(max_attempts):\n",
    "        state, _ = env.reset(seed=seed + attempt)  # vary seed per attempt\n",
    "        frames = []\n",
    "        total_reward = 0.0\n",
    "\n",
    "        for _ in range(max_steps):\n",
    "            frames.append(env.render())  # capture before action for smoother playback\n",
    "            action = int(np.argmax(Q[state]))\n",
    "            state, reward, terminated, truncated, _ = env.step(action)\n",
    "            total_reward += reward\n",
    "            if terminated or truncated:\n",
    "                frames.append(env.render())\n",
    "                break\n",
    "\n",
    "        # Keep the first successful run; otherwise keep the latest attempt\n",
    "        if total_reward > 0:\n",
    "            saved_frames = frames\n",
    "            saved_reward = total_reward\n",
    "            success = True\n",
    "            break\n",
    "        elif saved_frames is None:\n",
    "            saved_frames = frames\n",
    "            saved_reward = total_reward\n",
    "\n",
    "    env.close()\n",
    "    imageio.mimsave(path, saved_frames, fps=fps)\n",
    "    return path, saved_reward, success\n",
    "\n",
    "gif_path, ret, ok = record_greedy_gif_win(Q, max_attempts=5, map_name=\"4x4\", is_slippery=True)\n",
    "print(f\"Greedy rollout return: {ret} | success={ok}\")\n",
    "display(Image(filename=gif_path))\n"
   ]
  },
  {
   "cell_type": "markdown",
   "id": "4bdaeb2f",
   "metadata": {},
   "source": [
    "## Notes\n",
    "- FrozenLake is **slippery**, so even a good policy doesn’t win 100% of the time.  \n",
    "- More training episodes or different hyperparameters can improve results.  \n",
    "- Setting `is_slippery=False` makes the task easier and deterministic.\n"
   ]
  },
  {
   "cell_type": "markdown",
   "id": "b7d3e432",
   "metadata": {},
   "source": [
    "## Q-table\n",
    "We can display the learned Q-values as a table to see what the agent learned.\n"
   ]
  },
  {
   "cell_type": "code",
   "execution_count": 17,
   "id": "5ce96f20",
   "metadata": {},
   "outputs": [
    {
     "data": {
      "text/html": [
       "<div>\n",
       "<style scoped>\n",
       "    .dataframe tbody tr th:only-of-type {\n",
       "        vertical-align: middle;\n",
       "    }\n",
       "\n",
       "    .dataframe tbody tr th {\n",
       "        vertical-align: top;\n",
       "    }\n",
       "\n",
       "    .dataframe thead th {\n",
       "        text-align: right;\n",
       "    }\n",
       "</style>\n",
       "<table border=\"1\" class=\"dataframe\">\n",
       "  <thead>\n",
       "    <tr style=\"text-align: right;\">\n",
       "      <th></th>\n",
       "      <th>Left(0)</th>\n",
       "      <th>Down(1)</th>\n",
       "      <th>Right(2)</th>\n",
       "      <th>Up(3)</th>\n",
       "    </tr>\n",
       "    <tr>\n",
       "      <th>State</th>\n",
       "      <th></th>\n",
       "      <th></th>\n",
       "      <th></th>\n",
       "      <th></th>\n",
       "    </tr>\n",
       "  </thead>\n",
       "  <tbody>\n",
       "    <tr>\n",
       "      <th>0</th>\n",
       "      <td>0.735</td>\n",
       "      <td>0.774</td>\n",
       "      <td>0.698</td>\n",
       "      <td>0.735</td>\n",
       "    </tr>\n",
       "    <tr>\n",
       "      <th>1</th>\n",
       "      <td>0.735</td>\n",
       "      <td>0.000</td>\n",
       "      <td>0.663</td>\n",
       "      <td>0.698</td>\n",
       "    </tr>\n",
       "    <tr>\n",
       "      <th>2</th>\n",
       "      <td>0.698</td>\n",
       "      <td>0.000</td>\n",
       "      <td>0.334</td>\n",
       "      <td>0.531</td>\n",
       "    </tr>\n",
       "    <tr>\n",
       "      <th>3</th>\n",
       "      <td>0.617</td>\n",
       "      <td>0.000</td>\n",
       "      <td>0.334</td>\n",
       "      <td>0.000</td>\n",
       "    </tr>\n",
       "    <tr>\n",
       "      <th>4</th>\n",
       "      <td>0.774</td>\n",
       "      <td>0.815</td>\n",
       "      <td>0.000</td>\n",
       "      <td>0.735</td>\n",
       "    </tr>\n",
       "    <tr>\n",
       "      <th>5</th>\n",
       "      <td>0.000</td>\n",
       "      <td>0.000</td>\n",
       "      <td>0.000</td>\n",
       "      <td>0.000</td>\n",
       "    </tr>\n",
       "    <tr>\n",
       "      <th>6</th>\n",
       "      <td>0.000</td>\n",
       "      <td>0.902</td>\n",
       "      <td>0.000</td>\n",
       "      <td>0.658</td>\n",
       "    </tr>\n",
       "    <tr>\n",
       "      <th>7</th>\n",
       "      <td>0.000</td>\n",
       "      <td>0.000</td>\n",
       "      <td>0.000</td>\n",
       "      <td>0.000</td>\n",
       "    </tr>\n",
       "    <tr>\n",
       "      <th>8</th>\n",
       "      <td>0.815</td>\n",
       "      <td>0.000</td>\n",
       "      <td>0.857</td>\n",
       "      <td>0.774</td>\n",
       "    </tr>\n",
       "    <tr>\n",
       "      <th>9</th>\n",
       "      <td>0.815</td>\n",
       "      <td>0.902</td>\n",
       "      <td>0.902</td>\n",
       "      <td>0.000</td>\n",
       "    </tr>\n",
       "    <tr>\n",
       "      <th>10</th>\n",
       "      <td>0.857</td>\n",
       "      <td>0.950</td>\n",
       "      <td>0.000</td>\n",
       "      <td>0.857</td>\n",
       "    </tr>\n",
       "    <tr>\n",
       "      <th>11</th>\n",
       "      <td>0.000</td>\n",
       "      <td>0.000</td>\n",
       "      <td>0.000</td>\n",
       "      <td>0.000</td>\n",
       "    </tr>\n",
       "    <tr>\n",
       "      <th>12</th>\n",
       "      <td>0.000</td>\n",
       "      <td>0.000</td>\n",
       "      <td>0.000</td>\n",
       "      <td>0.000</td>\n",
       "    </tr>\n",
       "    <tr>\n",
       "      <th>13</th>\n",
       "      <td>0.000</td>\n",
       "      <td>0.902</td>\n",
       "      <td>0.950</td>\n",
       "      <td>0.857</td>\n",
       "    </tr>\n",
       "    <tr>\n",
       "      <th>14</th>\n",
       "      <td>0.902</td>\n",
       "      <td>0.950</td>\n",
       "      <td>1.000</td>\n",
       "      <td>0.902</td>\n",
       "    </tr>\n",
       "    <tr>\n",
       "      <th>15</th>\n",
       "      <td>0.000</td>\n",
       "      <td>0.000</td>\n",
       "      <td>0.000</td>\n",
       "      <td>0.000</td>\n",
       "    </tr>\n",
       "  </tbody>\n",
       "</table>\n",
       "</div>"
      ],
      "text/plain": [
       "       Left(0)  Down(1)  Right(2)  Up(3)\n",
       "State                                   \n",
       "0        0.735    0.774     0.698  0.735\n",
       "1        0.735    0.000     0.663  0.698\n",
       "2        0.698    0.000     0.334  0.531\n",
       "3        0.617    0.000     0.334  0.000\n",
       "4        0.774    0.815     0.000  0.735\n",
       "5        0.000    0.000     0.000  0.000\n",
       "6        0.000    0.902     0.000  0.658\n",
       "7        0.000    0.000     0.000  0.000\n",
       "8        0.815    0.000     0.857  0.774\n",
       "9        0.815    0.902     0.902  0.000\n",
       "10       0.857    0.950     0.000  0.857\n",
       "11       0.000    0.000     0.000  0.000\n",
       "12       0.000    0.000     0.000  0.000\n",
       "13       0.000    0.902     0.950  0.857\n",
       "14       0.902    0.950     1.000  0.902\n",
       "15       0.000    0.000     0.000  0.000"
      ]
     },
     "execution_count": 17,
     "metadata": {},
     "output_type": "execute_result"
    }
   ],
   "source": [
    "import pandas as pd\n",
    "df = pd.DataFrame(Q, columns=[\"Left(0)\",\"Down(1)\",\"Right(2)\",\"Up(3)\"])\n",
    "df.index.name = \"State\"\n",
    "df.round(3)\n"
   ]
  },
  {
   "cell_type": "markdown",
   "id": "4c3be990",
   "metadata": {},
   "source": [
    "## Visualize Policy\n",
    "We show the arrows (best actions) in a 4x4 grid format.\n"
   ]
  },
  {
   "cell_type": "code",
   "execution_count": null,
   "id": "de3d7e58",
   "metadata": {},
   "outputs": [
    {
     "name": "stdout",
     "output_type": "stream",
     "text": [
      "↓ ← ← ←\n",
      "↓ ← ↓ ←\n",
      "→ ↓ ↓ ←\n",
      "← → → ←\n"
     ]
    }
   ],
   "source": [
    "# Print arrows in a 4x4 grid\n",
    "grid_arrows = render_policy(greedy_policy)\n",
    "for row in grid_arrows:\n",
    "    print(\" \".join(row))"
   ]
  }
 ],
 "metadata": {
  "kernelspec": {
   "display_name": ".venv",
   "language": "python",
   "name": "python3"
  },
  "language_info": {
   "codemirror_mode": {
    "name": "ipython",
    "version": 3
   },
   "file_extension": ".py",
   "mimetype": "text/x-python",
   "name": "python",
   "nbconvert_exporter": "python",
   "pygments_lexer": "ipython3",
   "version": "3.13.5"
  }
 },
 "nbformat": 4,
 "nbformat_minor": 5
}
