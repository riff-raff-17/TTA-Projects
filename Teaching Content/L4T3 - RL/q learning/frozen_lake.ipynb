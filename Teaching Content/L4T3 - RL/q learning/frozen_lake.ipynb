{
 "cells": [
  {
   "cell_type": "markdown",
   "id": "f65761de",
   "metadata": {},
   "source": [
    "# Q-Learning on FrozenLake (Gymnasium)\n",
    "We will use the FrozenLake-v1 environment from Gymnasium and solve it with Q-learning.\n"
   ]
  },
  {
   "cell_type": "markdown",
   "id": "63972c46",
   "metadata": {},
   "source": [
    "## Imports and Helpers\n",
    "We import the libraries, set a random seed, and make a helper for moving averages.\n"
   ]
  },
  {
   "cell_type": "code",
   "execution_count": 2,
   "id": "d02c4590",
   "metadata": {},
   "outputs": [],
   "source": [
    "import numpy as np\n",
    "import gymnasium as gym\n",
    "from collections import deque\n",
    "import matplotlib.pyplot as plt\n",
    "\n",
    "# For reproducibility\n",
    "np.random.seed(0)\n",
    "\n",
    "def moving_average(x, window=100):\n",
    "    if len(x) < window:\n",
    "        return np.array(x, dtype=float)\n",
    "    cumsum = np.cumsum(np.insert(x, 0, 0))\n",
    "    return (cumsum[window:] - cumsum[:-window]) / float(window)\n",
    "\n",
    "# Map FrozenLake actions to arrows for pretty policies\n",
    "# You can write these on a mac with CMD + OPTION + SPACE\n",
    "# IDK how on windows\n",
    "ARROWS = {0: \"←\", 1: \"↓\", 2: \"→\", 3: \"↑\"}  # Left, Down, Right, Up "
   ]
  },
  {
   "cell_type": "markdown",
   "id": "18918ca9",
   "metadata": {},
   "source": [
    "## Environment\n",
    "We use the classic **4x4 FrozenLake** environment.  \n",
    "- Start = top left  \n",
    "- Goal = bottom right  \n",
    "- Holes = fall in, episode ends  \n",
    "- Slippery ice makes actions stochastic\n"
   ]
  },
  {
   "cell_type": "code",
   "execution_count": null,
   "id": "cfee62c8",
   "metadata": {},
   "outputs": [
    {
     "data": {
      "text/plain": [
       "(np.int64(16), np.int64(4))"
      ]
     },
     "execution_count": 3,
     "metadata": {},
     "output_type": "execute_result"
    }
   ],
   "source": [
    "# Classic 4x4 FrozenLake (slippery by default). Rewards: +1 for reaching goal, 0 otherwise.\n",
    "# During training we don't need rendering; it's faster.\n",
    "env = gym.make(\"FrozenLake-v1\", map_name=\"4x4\", is_slippery=True)\n",
    "n_states = env.observation_space.n\n",
    "n_actions = env.action_space.n\n",
    "\n",
    "n_states, n_actions\n"
   ]
  },
  {
   "cell_type": "markdown",
   "id": "386cc2c8",
   "metadata": {},
   "source": [
    "## Q-table and Hyperparameters\n",
    "- **Q-table**: stores values for each state-action pair  \n",
    "- **α (alpha)**: learning rate  \n",
    "- **γ (gamma)**: discount factor  \n",
    "- **ε (epsilon)**: exploration rate\n"
   ]
  },
  {
   "cell_type": "code",
   "execution_count": 4,
   "id": "98759698",
   "metadata": {},
   "outputs": [],
   "source": [
    "Q = np.zeros((n_states, n_actions))\n",
    "\n",
    "# Hyperparameters (good starting points for FrozenLake)\n",
    "# Check out optimal parameters at sb3 github\n",
    "alpha = 0.8         # learning rate\n",
    "gamma = 0.95        # discount factor\n",
    "\n",
    "epsilon = 1.0       # start fully exploring\n",
    "epsilon_min = 0.01  # minimal exploration\n",
    "epsilon_decay = 0.995\n",
    "\n",
    "episodes = 10_000\n",
    "max_steps_per_episode = 100\n",
    "\n",
    "# Tracking\n",
    "episode_rewards = []\n",
    "episode_success = [] # 1 if reached goal, else 0\n",
    "smoothed_success = []\n"
   ]
  },
  {
   "cell_type": "markdown",
   "id": "55a0508e",
   "metadata": {},
   "source": [
    "## Epsilon-Greedy Strategy\n",
    "At each step:\n",
    "- With probability ε: pick a random action (explore)  \n",
    "- With probability 1-ε: pick the best-known action (exploit)\n"
   ]
  },
  {
   "cell_type": "code",
   "execution_count": 5,
   "id": "857b6ca0",
   "metadata": {},
   "outputs": [],
   "source": [
    "def epsilon_greedy_action(state, epsilon):\n",
    "    if np.random.rand() < epsilon:\n",
    "        return env.action_space.sample()   # explore\n",
    "    else:\n",
    "        return int(np.argmax(Q[state]))    # exploit"
   ]
  },
  {
   "cell_type": "markdown",
   "id": "6aaedd29",
   "metadata": {},
   "source": [
    "## Training with Q-learning\n",
    "For each episode:\n",
    "1. Start at the beginning  \n",
    "2. Choose actions with ε-greedy  \n",
    "3. Update the Q-table using the Q-learning rule  \n",
    "4. Decay ε over time  \n",
    "\n",
    "We repeat for many episodes so the agent learns a good policy.\n"
   ]
  },
  {
   "cell_type": "code",
   "execution_count": 6,
   "id": "b6450bc5",
   "metadata": {},
   "outputs": [
    {
     "data": {
      "text/plain": [
       "(16, (16, 4))"
      ]
     },
     "execution_count": 6,
     "metadata": {},
     "output_type": "execute_result"
    }
   ],
   "source": [
    "for ep in range(episodes):\n",
    "    state, info = env.reset()\n",
    "    total_reward = 0\n",
    "\n",
    "    for t in range(max_steps_per_episode):\n",
    "        action = epsilon_greedy_action(state, epsilon)\n",
    "\n",
    "        next_state, reward, terminated, truncated, info = env.step(action)\n",
    "        done = terminated or truncated\n",
    "\n",
    "        # Q-learning update\n",
    "        best_next = np.max(Q[next_state])\n",
    "        td_target = reward + gamma * best_next\n",
    "        td_error  = td_target - Q[state, action]\n",
    "        Q[state, action] += alpha * td_error\n",
    "\n",
    "        state = next_state\n",
    "        total_reward += reward\n",
    "        if done:\n",
    "            break\n",
    "\n",
    "    # Bookkeeping\n",
    "    episode_rewards.append(total_reward)\n",
    "    episode_success.append(1 if total_reward > 0 else 0)\n",
    "\n",
    "    # Decay ε\n",
    "    epsilon = max(epsilon_min, epsilon * epsilon_decay)\n",
    "\n",
    "# Compute moving average success (window=100)\n",
    "smoothed_success = moving_average(episode_success, window=100)\n",
    "len(Q), Q.shape\n"
   ]
  },
  {
   "cell_type": "markdown",
   "id": "a0309e5d",
   "metadata": {},
   "source": [
    "## Learning Curve\n",
    "We plot the moving average of success rate across episodes.  \n",
    "This shows if the agent is improving at reaching the goal.\n"
   ]
  },
  {
   "cell_type": "code",
   "execution_count": 7,
   "id": "c381631a",
   "metadata": {},
   "outputs": [
    {
     "data": {
      "image/png": "[encoded data removed]",
      "text/plain": [
       "<Figure size 600x400 with 1 Axes>"
      ]
     },
     "metadata": {},
     "output_type": "display_data"
    }
   ],
   "source": [
    "plt.figure(figsize=(6,4))\n",
    "plt.plot(smoothed_success)\n",
    "plt.title(\"FrozenLake: Moving Average Success Rate (window=100)\")\n",
    "plt.xlabel(\"Episode\")\n",
    "plt.ylabel(\"Success Rate\")\n",
    "plt.grid(True)\n",
    "plt.show()\n"
   ]
  },
  {
   "cell_type": "markdown",
   "id": "c52aea6d",
   "metadata": {},
   "source": [
    "## Greedy Policy\n",
    "After training, we take the **best action** from each state (highest Q-value).  \n",
    "We can display it as arrows on the grid.\n"
   ]
  },
  {
   "cell_type": "code",
   "execution_count": 19,
   "id": "332ffcbd",
   "metadata": {},
   "outputs": [
    {
     "data": {
      "text/plain": [
       "array([['↓', '←', '←', '←'],\n",
       "       ['↓', '←', '↓', '←'],\n",
       "       ['→', '↓', '↓', '←'],\n",
       "       ['←', '→', '→', '←']], dtype='<U1')"
      ]
     },
     "execution_count": 19,
     "metadata": {},
     "output_type": "execute_result"
    }
   ],
   "source": [
    "greedy_policy = np.argmax(Q, axis=1)\n",
    "\n",
    "def render_policy(policy):\n",
    "    # 4x4 grid indices: 0..15\n",
    "    grid = []\n",
    "    for s in range(n_states):\n",
    "        a = policy[s]\n",
    "        grid.append(ARROWS[a])\n",
    "    return np.array(grid).reshape(4,4)\n",
    "\n",
    "render_policy(greedy_policy)\n"
   ]
  },
  {
   "cell_type": "markdown",
   "id": "97b89b13",
   "metadata": {},
   "source": [
    "## Evaluate Policy\n",
    "We run the greedy policy without exploration to measure its success rate.\n"
   ]
  },
  {
   "cell_type": "code",
   "execution_count": null,
   "id": "8b370bf3",
   "metadata": {},
   "outputs": [
    {
     "data": {
      "text/plain": [
       "1.0"
      ]
     },
     "execution_count": 22,
     "metadata": {},
     "output_type": "execute_result"
    }
   ],
   "source": [
    "def evaluate_policy(env, policy, episodes=100, max_steps=100):\n",
    "    wins = 0\n",
    "    for _ in range(episodes):\n",
    "        s, _ = env.reset()\n",
    "        for _ in range(max_steps):\n",
    "            a = int(policy[s])\n",
    "            s, r, term, trunc, _ = env.step(a)\n",
    "            if term or trunc:\n",
    "                if r > 0:\n",
    "                    wins += 1\n",
    "                break\n",
    "    return wins / episodes\n",
    "\n",
    "eval_env = gym.make(\"FrozenLake-v1\", map_name=\"4x4\", is_slippery=True)\n",
    "success_rate = evaluate_policy(eval_env, greedy_policy, episodes=500)\n",
    "success_rate\n"
   ]
  },
  {
   "cell_type": "markdown",
   "id": "f0a96fd9",
   "metadata": {},
   "source": [
    "## Watch an Episode\n",
    "We let the trained agent play one episode and print the text rendering of the grid as it moves.\n"
   ]
  },
  {
   "cell_type": "code",
   "execution_count": null,
   "id": "6387939c",
   "metadata": {},
   "outputs": [
    {
     "name": "stderr",
     "output_type": "stream",
     "text": [
      "2025-09-25 18:49:18.222 Python[29948:18390633] ApplePersistenceIgnoreState: Existing state will not be touched. New state will be written to /var/folders/vf/pyld0zvx04942drv3gzc5nww0000gn/T/org.python.python.savedState\n"
     ]
    },
    {
     "name": "stdout",
     "output_type": "stream",
     "text": [
      "Episode finished. Total reward: 0\n"
     ]
    },
    {
     "ename": "",
     "evalue": "",
     "output_type": "error",
     "traceback": [
      "\u001b[1;31mThe Kernel crashed while executing code in the current cell or a previous cell. \n",
      "\u001b[1;31mPlease review the code in the cell(s) to identify a possible cause of the failure. \n",
      "\u001b[1;31mClick <a href='https://aka.ms/vscodeJupyterKernelCrash'>here</a> for more info. \n",
      "\u001b[1;31mView Jupyter <a href='command:jupyter.viewOutput'>log</a> for further details."
     ]
    }
   ],
   "source": [
    "# Watch one episode with real graphics\n",
    "watch_env = gym.make(\"FrozenLake-v1\", map_name=\"4x4\", is_slippery=True, render_mode=\"human\")\n",
    "\n",
    "state, _ = watch_env.reset()\n",
    "done = False\n",
    "total_reward = 0\n",
    "\n",
    "while not done:\n",
    "    action = int(greedy_policy[state])\n",
    "    state, reward, terminated, truncated, _ = watch_env.step(action)\n",
    "    done = terminated or truncated\n",
    "    total_reward += reward\n",
    "\n",
    "watch_env.close()\n",
    "print(\"Episode finished. Total reward:\", total_reward)\n"
   ]
  },
  {
   "cell_type": "code",
   "execution_count": null,
   "id": "5046eb5e",
   "metadata": {},
   "outputs": [
    {
     "ename": "NameError",
     "evalue": "name 'gym' is not defined",
     "output_type": "error",
     "traceback": [
      "\u001b[31m---------------------------------------------------------------------------\u001b[39m",
      "\u001b[31mNameError\u001b[39m                                 Traceback (most recent call last)",
      "\u001b[36mCell\u001b[39m\u001b[36m \u001b[39m\u001b[32mIn[2]\u001b[39m\u001b[32m, line 10\u001b[39m\n\u001b[32m      7\u001b[39m video_dir = Path(\u001b[33m\"\u001b[39m\u001b[33mvideos\u001b[39m\u001b[33m\"\u001b[39m)\n\u001b[32m      8\u001b[39m video_dir.mkdir(exist_ok=\u001b[38;5;28;01mTrue\u001b[39;00m)\n\u001b[32m---> \u001b[39m\u001b[32m10\u001b[39m env_video = \u001b[43mgym\u001b[49m.make(\n\u001b[32m     11\u001b[39m     \u001b[33m\"\u001b[39m\u001b[33mFrozenLake-v1\u001b[39m\u001b[33m\"\u001b[39m,\n\u001b[32m     12\u001b[39m     map_name=\u001b[33m\"\u001b[39m\u001b[33m4x4\u001b[39m\u001b[33m\"\u001b[39m,\n\u001b[32m     13\u001b[39m     is_slippery=\u001b[38;5;28;01mFalse\u001b[39;00m,\n\u001b[32m     14\u001b[39m     render_mode=\u001b[33m\"\u001b[39m\u001b[33mrgb_array\u001b[39m\u001b[33m\"\u001b[39m\n\u001b[32m     15\u001b[39m )\n\u001b[32m     16\u001b[39m env_video = RecordVideo(\n\u001b[32m     17\u001b[39m     env_video,\n\u001b[32m     18\u001b[39m     video_folder=\u001b[38;5;28mstr\u001b[39m(video_dir),\n\u001b[32m     19\u001b[39m     episode_trigger=\u001b[38;5;28;01mlambda\u001b[39;00m ep_id: \u001b[38;5;28;01mTrue\u001b[39;00m,   \u001b[38;5;66;03m# record every episode we run here\u001b[39;00m\n\u001b[32m     20\u001b[39m     name_prefix=\u001b[33m\"\u001b[39m\u001b[33mfrozenlake\u001b[39m\u001b[33m\"\u001b[39m\n\u001b[32m     21\u001b[39m )\n\u001b[32m     23\u001b[39m \u001b[38;5;66;03m# Play one greedy episode with the learned policy and record it.\u001b[39;00m\n\u001b[32m     24\u001b[39m \u001b[38;5;66;03m# If success is rare, try a few times; stop at the first recorded episode.\u001b[39;00m\n",
      "\u001b[31mNameError\u001b[39m: name 'gym' is not defined"
     ]
    }
   ],
   "source": [
    "# Alternative video recording without Pygame\n",
    "from gymnasium.wrappers import RecordVideo\n",
    "from IPython.display import Video, display\n",
    "from pathlib import Path\n",
    "\n",
    "# Wrap an env for video recording. Must use render_mode=\"rgb_array\" for RecordVideo.\n",
    "video_dir = Path(\"videos\")\n",
    "video_dir.mkdir(exist_ok=True)\n",
    "\n",
    "env_video = gym.make(\n",
    "    \"FrozenLake-v1\",\n",
    "    map_name=\"4x4\",\n",
    "    is_slippery=True,\n",
    "    render_mode=\"rgb_array\"\n",
    ")\n",
    "env_video = RecordVideo(\n",
    "    env_video,\n",
    "    video_folder=str(video_dir),\n",
    "    episode_trigger=lambda ep_id: True,   # record every episode we run here\n",
    "    name_prefix=\"frozenlake\"\n",
    ")\n",
    "\n",
    "# Play one greedy episode with the learned policy and record it.\n",
    "# If success is rare, try a few times; stop at the first recorded episode.\n",
    "max_episodes_to_try = 5\n",
    "for attempt in range(max_episodes_to_try):\n",
    "    state, _ = env_video.reset()\n",
    "    done = False\n",
    "    total_reward = 0\n",
    "\n",
    "    # Use the greedy policy learned earlier (from Q-table)\n",
    "    steps = 0\n",
    "    while not done and steps < 200:\n",
    "        action = int(greedy_policy[state])  # exploit only\n",
    "        state, reward, terminated, truncated, _ = env_video.step(action)\n",
    "        done = terminated or truncated\n",
    "        total_reward += reward\n",
    "        steps += 1\n",
    "\n",
    "    # We recorded the whole episode automatically.\n",
    "    # If you want to insist on a success, you could continue the loop when total_reward == 0.\n",
    "    print(f\"Recorded episode {attempt+1} | total_reward={total_reward}\")\n",
    "    break  # remove this break if you want to try multiple recordings\n",
    "\n",
    "env_video.close()\n"
   ]
  },
  {
   "cell_type": "code",
   "execution_count": 16,
   "id": "05c8636b",
   "metadata": {},
   "outputs": [
    {
     "data": {
      "text/html": [
       "<video controls  width=\"480\" >\n",
       " <source src=\"data:video/mp4;base64,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\" type=\"video/mp4\">\n",
       " Your browser does not support the video tag.\n",
       " </video>"
      ],
      "text/plain": [
       "<IPython.core.display.Video object>"
      ]
     },
     "metadata": {},
     "output_type": "display_data"
    }
   ],
   "source": [
    "# Find and display the most recent video\n",
    "latest_video = sorted(Path(\"videos\").glob(\"*.mp4\"))[-1]\n",
    "display(Video(str(latest_video), embed=True, width=480))\n"
   ]
  },
  {
   "cell_type": "markdown",
   "id": "4bdaeb2f",
   "metadata": {},
   "source": [
    "## Notes\n",
    "- FrozenLake is **slippery**, so even a good policy doesn’t win 100% of the time.  \n",
    "- More training episodes or different hyperparameters can improve results.  \n",
    "- Setting `is_slippery=False` makes the task easier and deterministic.\n"
   ]
  },
  {
   "cell_type": "markdown",
   "id": "b7d3e432",
   "metadata": {},
   "source": [
    "## Q-table\n",
    "We can display the learned Q-values as a table to see what the agent learned.\n"
   ]
  },
  {
   "cell_type": "code",
   "execution_count": 17,
   "id": "5ce96f20",
   "metadata": {},
   "outputs": [
    {
     "data": {
      "text/html": [
       "<div>\n",
       "<style scoped>\n",
       "    .dataframe tbody tr th:only-of-type {\n",
       "        vertical-align: middle;\n",
       "    }\n",
       "\n",
       "    .dataframe tbody tr th {\n",
       "        vertical-align: top;\n",
       "    }\n",
       "\n",
       "    .dataframe thead th {\n",
       "        text-align: right;\n",
       "    }\n",
       "</style>\n",
       "<table border=\"1\" class=\"dataframe\">\n",
       "  <thead>\n",
       "    <tr style=\"text-align: right;\">\n",
       "      <th></th>\n",
       "      <th>Left(0)</th>\n",
       "      <th>Down(1)</th>\n",
       "      <th>Right(2)</th>\n",
       "      <th>Up(3)</th>\n",
       "    </tr>\n",
       "    <tr>\n",
       "      <th>State</th>\n",
       "      <th></th>\n",
       "      <th></th>\n",
       "      <th></th>\n",
       "      <th></th>\n",
       "    </tr>\n",
       "  </thead>\n",
       "  <tbody>\n",
       "    <tr>\n",
       "      <th>0</th>\n",
       "      <td>0.735</td>\n",
       "      <td>0.774</td>\n",
       "      <td>0.698</td>\n",
       "      <td>0.735</td>\n",
       "    </tr>\n",
       "    <tr>\n",
       "      <th>1</th>\n",
       "      <td>0.735</td>\n",
       "      <td>0.000</td>\n",
       "      <td>0.663</td>\n",
       "      <td>0.698</td>\n",
       "    </tr>\n",
       "    <tr>\n",
       "      <th>2</th>\n",
       "      <td>0.698</td>\n",
       "      <td>0.000</td>\n",
       "      <td>0.334</td>\n",
       "      <td>0.531</td>\n",
       "    </tr>\n",
       "    <tr>\n",
       "      <th>3</th>\n",
       "      <td>0.617</td>\n",
       "      <td>0.000</td>\n",
       "      <td>0.334</td>\n",
       "      <td>0.000</td>\n",
       "    </tr>\n",
       "    <tr>\n",
       "      <th>4</th>\n",
       "      <td>0.774</td>\n",
       "      <td>0.815</td>\n",
       "      <td>0.000</td>\n",
       "      <td>0.735</td>\n",
       "    </tr>\n",
       "    <tr>\n",
       "      <th>5</th>\n",
       "      <td>0.000</td>\n",
       "      <td>0.000</td>\n",
       "      <td>0.000</td>\n",
       "      <td>0.000</td>\n",
       "    </tr>\n",
       "    <tr>\n",
       "      <th>6</th>\n",
       "      <td>0.000</td>\n",
       "      <td>0.902</td>\n",
       "      <td>0.000</td>\n",
       "      <td>0.658</td>\n",
       "    </tr>\n",
       "    <tr>\n",
       "      <th>7</th>\n",
       "      <td>0.000</td>\n",
       "      <td>0.000</td>\n",
       "      <td>0.000</td>\n",
       "      <td>0.000</td>\n",
       "    </tr>\n",
       "    <tr>\n",
       "      <th>8</th>\n",
       "      <td>0.815</td>\n",
       "      <td>0.000</td>\n",
       "      <td>0.857</td>\n",
       "      <td>0.774</td>\n",
       "    </tr>\n",
       "    <tr>\n",
       "      <th>9</th>\n",
       "      <td>0.815</td>\n",
       "      <td>0.902</td>\n",
       "      <td>0.902</td>\n",
       "      <td>0.000</td>\n",
       "    </tr>\n",
       "    <tr>\n",
       "      <th>10</th>\n",
       "      <td>0.857</td>\n",
       "      <td>0.950</td>\n",
       "      <td>0.000</td>\n",
       "      <td>0.857</td>\n",
       "    </tr>\n",
       "    <tr>\n",
       "      <th>11</th>\n",
       "      <td>0.000</td>\n",
       "      <td>0.000</td>\n",
       "      <td>0.000</td>\n",
       "      <td>0.000</td>\n",
       "    </tr>\n",
       "    <tr>\n",
       "      <th>12</th>\n",
       "      <td>0.000</td>\n",
       "      <td>0.000</td>\n",
       "      <td>0.000</td>\n",
       "      <td>0.000</td>\n",
       "    </tr>\n",
       "    <tr>\n",
       "      <th>13</th>\n",
       "      <td>0.000</td>\n",
       "      <td>0.902</td>\n",
       "      <td>0.950</td>\n",
       "      <td>0.857</td>\n",
       "    </tr>\n",
       "    <tr>\n",
       "      <th>14</th>\n",
       "      <td>0.902</td>\n",
       "      <td>0.950</td>\n",
       "      <td>1.000</td>\n",
       "      <td>0.902</td>\n",
       "    </tr>\n",
       "    <tr>\n",
       "      <th>15</th>\n",
       "      <td>0.000</td>\n",
       "      <td>0.000</td>\n",
       "      <td>0.000</td>\n",
       "      <td>0.000</td>\n",
       "    </tr>\n",
       "  </tbody>\n",
       "</table>\n",
       "</div>"
      ],
      "text/plain": [
       "       Left(0)  Down(1)  Right(2)  Up(3)\n",
       "State                                   \n",
       "0        0.735    0.774     0.698  0.735\n",
       "1        0.735    0.000     0.663  0.698\n",
       "2        0.698    0.000     0.334  0.531\n",
       "3        0.617    0.000     0.334  0.000\n",
       "4        0.774    0.815     0.000  0.735\n",
       "5        0.000    0.000     0.000  0.000\n",
       "6        0.000    0.902     0.000  0.658\n",
       "7        0.000    0.000     0.000  0.000\n",
       "8        0.815    0.000     0.857  0.774\n",
       "9        0.815    0.902     0.902  0.000\n",
       "10       0.857    0.950     0.000  0.857\n",
       "11       0.000    0.000     0.000  0.000\n",
       "12       0.000    0.000     0.000  0.000\n",
       "13       0.000    0.902     0.950  0.857\n",
       "14       0.902    0.950     1.000  0.902\n",
       "15       0.000    0.000     0.000  0.000"
      ]
     },
     "execution_count": 17,
     "metadata": {},
     "output_type": "execute_result"
    }
   ],
   "source": [
    "import pandas as pd\n",
    "df = pd.DataFrame(Q, columns=[\"Left(0)\",\"Down(1)\",\"Right(2)\",\"Up(3)\"])\n",
    "df.index.name = \"State\"\n",
    "df.round(3)\n"
   ]
  },
  {
   "cell_type": "markdown",
   "id": "4c3be990",
   "metadata": {},
   "source": [
    "## Visualize Policy\n",
    "We show the arrows (best actions) in a 4x4 grid format.\n"
   ]
  },
  {
   "cell_type": "code",
   "execution_count": 18,
   "id": "de3d7e58",
   "metadata": {},
   "outputs": [
    {
     "name": "stdout",
     "output_type": "stream",
     "text": [
      "↓ ← ← ←\n",
      "↓ ← ↓ ←\n",
      "→ ↓ ↓ ←\n",
      "← → → ←\n"
     ]
    }
   ],
   "source": [
    "# Print arrows in a 4x4 grid\n",
    "grid_arrows = render_policy(greedy_policy)\n",
    "for row in grid_arrows:\n",
    "    print(\" \".join(row))\n"
   ]
  }
 ],
 "metadata": {
  "kernelspec": {
   "display_name": ".venv",
   "language": "python",
   "name": "python3"
  },
  "language_info": {
   "codemirror_mode": {
    "name": "ipython",
    "version": 3
   },
   "file_extension": ".py",
   "mimetype": "text/x-python",
   "name": "python",
   "nbconvert_exporter": "python",
   "pygments_lexer": "ipython3",
   "version": "3.13.5"
  }
 },
 "nbformat": 4,
 "nbformat_minor": 5
}
