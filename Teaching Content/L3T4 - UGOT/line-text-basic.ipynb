{
 "cells": [
  {
   "cell_type": "code",
   "execution_count": 23,
   "id": "bf13c4fc",
   "metadata": {},
   "outputs": [
    {
     "name": "stdout",
     "output_type": "stream",
     "text": [
      "192.168.1.235:50051\n"
     ]
    }
   ],
   "source": [
    "from ugot import ugot\n",
    "got = ugot.UGOT()\n",
    "import time\n",
    "got.initialize('192.168.1.235')"
   ]
  },
  {
   "cell_type": "code",
   "execution_count": 25,
   "id": "e211c718",
   "metadata": {},
   "outputs": [
    {
     "name": "stdout",
     "output_type": "stream",
     "text": [
      "STOP"
     ]
    }
   ],
   "source": [
    "\n",
    "got.load_models(['line_recognition', 'word_recognition'])\n",
    "got.set_track_recognition_line(0)\n",
    "got.transform_adaption_control(False)\n",
    "time.sleep(0.5)\n",
    "got.transform_restory()\n",
    "\n",
    "speed = 20\n",
    "\n",
    "while True:\n",
    "    try:\n",
    "        info = got.get_single_track_total_info()\n",
    "        distance = got.read_distance_data(21)\n",
    "        offset = int(0.18 * info[0])\n",
    "\n",
    "        if distance < 30:\n",
    "            word = got.get_words_result()\n",
    "            print(f'\\r{word}', end='')\n",
    "            if word == \"STOP\":\n",
    "                got.transform_stop()\n",
    "                break\n",
    "        else:\n",
    "            if offset > 5:\n",
    "                got.transform_move_turn(0, speed, 2, offset)\n",
    "            elif offset < 5:\n",
    "                got.transform_move_turn(0, speed, 3, -offset)\n",
    "            else:\n",
    "                got.transform_move_speed(0, speed)\n",
    "    except KeyboardInterrupt:\n",
    "        got.transform_stop()\n",
    "        break\n",
    "    "
   ]
  },
  {
   "cell_type": "code",
   "execution_count": null,
   "id": "bfc6e316",
   "metadata": {},
   "outputs": [],
   "source": []
  },
  {
   "cell_type": "code",
   "execution_count": null,
   "id": "82aba7a3",
   "metadata": {},
   "outputs": [],
   "source": []
  },
  {
   "cell_type": "code",
   "execution_count": null,
   "id": "3157a4b3",
   "metadata": {},
   "outputs": [],
   "source": []
  }
 ],
 "metadata": {
  "kernelspec": {
   "display_name": "TTA",
   "language": "python",
   "name": "python3"
  },
  "language_info": {
   "codemirror_mode": {
    "name": "ipython",
    "version": 3
   },
   "file_extension": ".py",
   "mimetype": "text/x-python",
   "name": "python",
   "nbconvert_exporter": "python",
   "pygments_lexer": "ipython3",
   "version": "3.12.9"
  }
 },
 "nbformat": 4,
 "nbformat_minor": 5
}
