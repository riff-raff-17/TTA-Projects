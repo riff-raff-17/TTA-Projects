{
 "cells": [
  {
   "cell_type": "code",
   "execution_count": 1,
   "id": "e0361543",
   "metadata": {},
   "outputs": [
    {
     "name": "stdout",
     "output_type": "stream",
     "text": [
      "pygame 2.5.2 (SDL 2.28.3, Python 3.11.7)\n",
      "Hello from the pygame community. https://www.pygame.org/contribute.html\n"
     ]
    }
   ],
   "source": [
    "import pygame\n",
    "\n",
    "# Initialize Pygame\n",
    "pygame.init()\n",
    "\n",
    "# Set up the screen\n",
    "screen = pygame.display.set_mode((800, 600))\n",
    "pygame.display.set_caption(\"Hello, Pygame!\")\n",
    "\n",
    "# Colors\n",
    "WHITE = (255, 255, 255)\n",
    "RED = (255, 0, 0)\n",
    "\n",
    "# Game loop\n",
    "running = True\n",
    "while running:\n",
    "    for event in pygame.event.get():\n",
    "        if event.type == pygame.QUIT:\n",
    "            running = False\n",
    "    \n",
    "    # Fill screen with white\n",
    "    screen.fill(WHITE)\n",
    "    \n",
    "    # Draw shapes\n",
    "    pygame.draw.rect(screen, RED, (100, 100, 200, 100))\n",
    "    pygame.draw.circle(screen, (0, 0, 255), (400, 300), 50)\n",
    "\n",
    "    # Update display\n",
    "    pygame.display.flip()\n",
    "\n",
    "quit()\n"
   ]
  }
 ],
 "metadata": {
  "kernelspec": {
   "display_name": "Python 3 (ipykernel)",
   "language": "python",
   "name": "python3"
  },
  "language_info": {
   "codemirror_mode": {
    "name": "ipython",
    "version": 3
   },
   "file_extension": ".py",
   "mimetype": "text/x-python",
   "name": "python",
   "nbconvert_exporter": "python",
   "pygments_lexer": "ipython3",
   "version": "3.11.7"
  }
 },
 "nbformat": 4,
 "nbformat_minor": 5
}
