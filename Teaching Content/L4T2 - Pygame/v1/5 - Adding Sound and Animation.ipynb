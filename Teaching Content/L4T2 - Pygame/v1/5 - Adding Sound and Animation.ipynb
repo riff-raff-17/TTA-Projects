{
 "cells": [
  {
   "cell_type": "code",
   "execution_count": 1,
   "id": "d4e81dab",
   "metadata": {},
   "outputs": [
    {
     "name": "stdout",
     "output_type": "stream",
     "text": [
      "pygame 2.5.2 (SDL 2.28.3, Python 3.11.7)\n",
      "Hello from the pygame community. https://www.pygame.org/contribute.html\n"
     ]
    },
    {
     "ename": "error",
     "evalue": "No file 'background_music.mp3' found in working directory '/Users/rafa/Desktop/Work/L4T1'.",
     "output_type": "error",
     "traceback": [
      "\u001b[0;31m---------------------------------------------------------------------------\u001b[0m",
      "\u001b[0;31merror\u001b[0m                                     Traceback (most recent call last)",
      "Cell \u001b[0;32mIn[1], line 8\u001b[0m\n\u001b[1;32m      5\u001b[0m screen \u001b[38;5;241m=\u001b[39m pygame\u001b[38;5;241m.\u001b[39mdisplay\u001b[38;5;241m.\u001b[39mset_mode((\u001b[38;5;241m800\u001b[39m, \u001b[38;5;241m600\u001b[39m))\n\u001b[1;32m      6\u001b[0m pygame\u001b[38;5;241m.\u001b[39mdisplay\u001b[38;5;241m.\u001b[39mset_caption(\u001b[38;5;124m\"\u001b[39m\u001b[38;5;124mAnimation and Sound\u001b[39m\u001b[38;5;124m\"\u001b[39m)\n\u001b[0;32m----> 8\u001b[0m pygame\u001b[38;5;241m.\u001b[39mmixer\u001b[38;5;241m.\u001b[39mmusic\u001b[38;5;241m.\u001b[39mload(\u001b[38;5;124m\"\u001b[39m\u001b[38;5;124mbackground_music.mp3\u001b[39m\u001b[38;5;124m\"\u001b[39m)\n\u001b[1;32m      9\u001b[0m pygame\u001b[38;5;241m.\u001b[39mmixer\u001b[38;5;241m.\u001b[39mmusic\u001b[38;5;241m.\u001b[39mplay(\u001b[38;5;241m-\u001b[39m\u001b[38;5;241m1\u001b[39m)  \u001b[38;5;66;03m# Loop the music\u001b[39;00m\n\u001b[1;32m     11\u001b[0m player_sprites \u001b[38;5;241m=\u001b[39m [pygame\u001b[38;5;241m.\u001b[39mimage\u001b[38;5;241m.\u001b[39mload(\u001b[38;5;124mf\u001b[39m\u001b[38;5;124m\"\u001b[39m\u001b[38;5;124mSprites/sprite\u001b[39m\u001b[38;5;132;01m{\u001b[39;00mi\u001b[38;5;132;01m}\u001b[39;00m\u001b[38;5;124m.png\u001b[39m\u001b[38;5;124m\"\u001b[39m) \u001b[38;5;28;01mfor\u001b[39;00m i \u001b[38;5;129;01min\u001b[39;00m \u001b[38;5;28mrange\u001b[39m(\u001b[38;5;241m1\u001b[39m, \u001b[38;5;241m21\u001b[39m)]\n",
      "\u001b[0;31merror\u001b[0m: No file 'background_music.mp3' found in working directory '/Users/rafa/Desktop/Work/L4T1'."
     ]
    }
   ],
   "source": [
    "import pygame\n",
    "\n",
    "pygame.init()\n",
    "\n",
    "screen = pygame.display.set_mode((800, 600))\n",
    "pygame.display.set_caption(\"Animation and Sound\")\n",
    "\n",
    "pygame.mixer.music.load(\"background_music.mp3\")\n",
    "pygame.mixer.music.play(-1)  # Loop the music\n",
    "\n",
    "player_sprites = [pygame.image.load(f\"Sprites/sprite{i}.png\") for i in range(1, 21)]\n",
    "player_index = 0\n",
    "player_x, player_y = 100, 100\n",
    "clock = pygame.time.Clock()\n",
    "\n",
    "running = True\n",
    "while running:\n",
    "    for event in pygame.event.get():\n",
    "        if event.type == pygame.QUIT:\n",
    "            running = False\n",
    "\n",
    "    # Animate sprite\n",
    "    player_index += 0.1\n",
    "    if player_index >= len(player_sprites):\n",
    "        player_index = 0\n",
    "\n",
    "    screen.fill((255, 255, 255))\n",
    "    screen.blit(player_sprites[int(player_index)], (player_x, player_y))\n",
    "    pygame.display.flip()\n",
    "    clock.tick(60)\n",
    "\n",
    "quit()\n"
   ]
  },
  {
   "cell_type": "code",
   "execution_count": null,
   "id": "5f6d93f8",
   "metadata": {},
   "outputs": [],
   "source": [
    "import pygame\n",
    "\n",
    "pygame.init()\n",
    "\n",
    "screen = pygame.display.set_mode((800, 600))\n",
    "pygame.display.set_caption(\"Animation and Sound\")\n",
    "\n",
    "pygame.mixer.music.load(\"background_music.mp3\")\n",
    "pygame.mixer.music.play(-1)  # Loop the music\n",
    "\n",
    "player_sprites = [pygame.image.load(f\"sprite{i}.png\") for i in range(1, 21)]\n",
    "player_index = 0\n",
    "player_x, player_y = 100, 100\n",
    "player_speed = 5\n",
    "\n",
    "clock = pygame.time.Clock()\n",
    "\n",
    "running = True\n",
    "while running:\n",
    "    for event in pygame.event.get():\n",
    "        if event.type == pygame.QUIT:\n",
    "            running = False\n",
    "\n",
    "    # Handle movement\n",
    "    keys = pygame.key.get_pressed()\n",
    "    if keys[pygame.K_LEFT] and player_x > 0:\n",
    "        player_x -= player_speed\n",
    "    if keys[pygame.K_RIGHT] and player_x < 800 - player_sprites[0].get_width():\n",
    "        player_x += player_speed\n",
    "    if keys[pygame.K_UP] and player_y > 0:\n",
    "        player_y -= player_speed\n",
    "    if keys[pygame.K_DOWN] and player_y < 600 - player_sprites[0].get_height():\n",
    "        player_y += player_speed\n",
    "\n",
    "    # Animate sprite\n",
    "    player_index += 0.1\n",
    "    if player_index >= len(player_sprites):\n",
    "        player_index = 0\n",
    "\n",
    "    screen.fill((255, 255, 255))\n",
    "    screen.blit(player_sprites[int(player_index)], (player_x, player_y))\n",
    "    pygame.display.flip()\n",
    "    clock.tick(60)\n",
    "\n",
    "quit()\n"
   ]
  }
 ],
 "metadata": {
  "kernelspec": {
   "display_name": "Python 3 (ipykernel)",
   "language": "python",
   "name": "python3"
  },
  "language_info": {
   "codemirror_mode": {
    "name": "ipython",
    "version": 3
   },
   "file_extension": ".py",
   "mimetype": "text/x-python",
   "name": "python",
   "nbconvert_exporter": "python",
   "pygments_lexer": "ipython3",
   "version": "3.11.7"
  }
 },
 "nbformat": 4,
 "nbformat_minor": 5
}
