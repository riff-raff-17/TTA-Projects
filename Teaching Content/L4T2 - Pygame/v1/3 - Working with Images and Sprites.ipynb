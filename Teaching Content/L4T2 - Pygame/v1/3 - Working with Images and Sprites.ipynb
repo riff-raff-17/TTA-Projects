{
 "cells": [
  {
   "cell_type": "code",
   "execution_count": 1,
   "id": "a10bc1c0",
   "metadata": {},
   "outputs": [
    {
     "name": "stdout",
     "output_type": "stream",
     "text": [
      "pygame 2.5.2 (SDL 2.28.3, Python 3.11.7)\n",
      "Hello from the pygame community. https://www.pygame.org/contribute.html\n"
     ]
    }
   ],
   "source": [
    "import pygame\n",
    "\n",
    "pygame.init()\n",
    "\n",
    "screen = pygame.display.set_mode((800, 600))\n",
    "pygame.display.set_caption(\"Sprites Example\")\n",
    "\n",
    "speed = 5\n",
    "\n",
    "#tickrate\n",
    "clock = pygame.time.Clock()\n",
    "\n",
    "# Load images\n",
    "player_img = pygame.image.load(\"zelda.png\")  # Use any image\n",
    "player_img = pygame.transform.scale(player_img, (50, 50))  # Resize\n",
    "enemy_img = pygame.image.load(\"ganon.png\")\n",
    "enemy_img = pygame.transform.scale(enemy_img, (100, 100))\n",
    "\n",
    "# Load background image\n",
    "background_img = pygame.image.load(\"white.png\")\n",
    "background_img = pygame.transform.scale(background_img, (800, 600))\n",
    "\n",
    "player_pos = [100, 100]\n",
    "enemy_pos = [300, 300]\n",
    "\n",
    "running = True\n",
    "while running:\n",
    "    for event in pygame.event.get():\n",
    "        if event.type == pygame.QUIT:\n",
    "            running = False\n",
    "\n",
    "    keys = pygame.key.get_pressed()\n",
    "    if keys[pygame.K_LEFT]:\n",
    "        player_pos[0] -= speed\n",
    "    if keys[pygame.K_RIGHT]:\n",
    "        player_pos[0] += speed\n",
    "    if keys[pygame.K_UP]:\n",
    "        player_pos[1] -= speed\n",
    "    if keys[pygame.K_DOWN]:\n",
    "        player_pos[1] += speed\n",
    "\n",
    "    # Collision detection\n",
    "    player_rect = pygame.Rect(*player_pos, 50, 50)\n",
    "    enemy_rect = pygame.Rect(*enemy_pos, 100, 100)\n",
    "    collision = player_rect.colliderect(enemy_rect)\n",
    "    \n",
    "\n",
    "    # Draw background image\n",
    "    screen.blit(background_img, (0, 0))\n",
    "    screen.blit(player_img, player_pos)\n",
    "    screen.blit(enemy_img, enemy_pos)\n",
    "    \n",
    "    pygame.draw.rect(screen, (0, 255, 0), player_rect, 3)\n",
    "    pygame.draw.rect(screen, (0, 255, 0), enemy_rect, 3)\n",
    "    \n",
    "    if collision:\n",
    "        pygame.draw.rect(screen, (255, 0, 0), player_rect, 3)\n",
    "\n",
    "    pygame.display.flip()\n",
    "    clock.tick(60)\n",
    "\n",
    "quit()\n"
   ]
  }
 ],
 "metadata": {
  "kernelspec": {
   "display_name": "Python 3 (ipykernel)",
   "language": "python",
   "name": "python3"
  },
  "language_info": {
   "codemirror_mode": {
    "name": "ipython",
    "version": 3
   },
   "file_extension": ".py",
   "mimetype": "text/x-python",
   "name": "python",
   "nbconvert_exporter": "python",
   "pygments_lexer": "ipython3",
   "version": "3.11.7"
  }
 },
 "nbformat": 4,
 "nbformat_minor": 5
}
