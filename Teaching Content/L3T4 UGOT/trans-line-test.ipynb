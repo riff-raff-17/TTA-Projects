{
 "cells": [
  {
   "cell_type": "code",
   "execution_count": 1,
   "metadata": {},
   "outputs": [
    {
     "name": "stdout",
     "output_type": "stream",
     "text": [
      "192.168.1.235:50051\n"
     ]
    }
   ],
   "source": [
    "from ugot import ugot\n",
    "import time\n",
    "got = ugot.UGOT()\n",
    "got.initialize('192.168.1.235')"
   ]
  },
  {
   "cell_type": "code",
   "execution_count": null,
   "metadata": {},
   "outputs": [],
   "source": [
    "got.load_models(['line_recognition'])\n",
    "\n",
    "got.set_track_recognition_line(0)\n",
    "\n",
    "while True:\n",
    "    line = got.get_single_track_total_info()\n",
    "    offset = int(0.18*line[0])\n",
    "    print(f\"\\r{offset}      \", end = '')\n",
    "    time.sleep(0.5)"
   ]
  },
  {
   "cell_type": "code",
   "execution_count": 9,
   "metadata": {},
   "outputs": [],
   "source": [
    "got.load_models(['line_recognition'])\n",
    "\n",
    "got.set_track_recognition_line(0)\n",
    "\n",
    "while True:\n",
    "    try:\n",
    "        line = got.get_single_track_total_info()\n",
    "        offset = int(0.18*line[0])\n",
    "        if offset > 5:\n",
    "            got.transform_move_turn(direction=0, speed=20, turn=2, turn_speed=int(offset))\n",
    "        elif offset < -5:\n",
    "            got.transform_move_turn(direction=0, speed=20, turn=3, turn_speed=int(offset))\n",
    "        else:\n",
    "            got.transform_move_speed(direction=0, speed=20)\n",
    "    except:\n",
    "        got.transform_stop()\n",
    "        break"
   ]
  }
 ],
 "metadata": {
  "kernelspec": {
   "display_name": "TTA",
   "language": "python",
   "name": "python3"
  },
  "language_info": {
   "codemirror_mode": {
    "name": "ipython",
    "version": 3
   },
   "file_extension": ".py",
   "mimetype": "text/x-python",
   "name": "python",
   "nbconvert_exporter": "python",
   "pygments_lexer": "ipython3",
   "version": "3.11.11"
  }
 },
 "nbformat": 4,
 "nbformat_minor": 2
}
