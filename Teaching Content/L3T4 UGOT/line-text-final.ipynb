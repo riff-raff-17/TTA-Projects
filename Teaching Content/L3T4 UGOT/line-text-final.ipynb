{
 "cells": [
  {
   "cell_type": "markdown",
   "metadata": {},
   "source": [
    "## Final Project Idea\n",
    "\n",
    "Use the AIMS grid and have the Mecanum Wheel vehicle:\n",
    "- Follow the line\n",
    "- Use the IR sensor to stop when it sees the sign\n",
    "- Read the sign with text recognition"
   ]
  },
  {
   "cell_type": "code",
   "execution_count": 10,
   "metadata": {},
   "outputs": [
    {
     "name": "stdout",
     "output_type": "stream",
     "text": [
      "192.168.1.109:50051\n"
     ]
    }
   ],
   "source": [
    "from ugot import ugot\n",
    "got = ugot.UGOT()\n",
    "got.initialize('192.168.1.109')\n"
   ]
  },
  {
   "cell_type": "markdown",
   "metadata": {},
   "source": [
    "### Mecanum wheels"
   ]
  },
  {
   "cell_type": "code",
   "execution_count": null,
   "metadata": {},
   "outputs": [
    {
     "name": "stdout",
     "output_type": "stream",
     "text": [
      "[288, 1, 0, 0], Stop, 17.9                         "
     ]
    }
   ],
   "source": [
    "got.load_models(['line_recognition', 'word_recognition'])\n",
    "got.set_track_recognition_line(0)\n",
    "\n",
    "while True:\n",
    "    try:\n",
    "        a = got.get_single_track_total_info()\n",
    "        word = got.get_words_result()\n",
    "        distance = got.read_distance_data(21)\n",
    "        angle = int(0.18 * a[0])\n",
    "        print(f'\\r{a}, {word}, {distance}           ', end='')\n",
    "        if distance < 20:\n",
    "            if word == 'Right':\n",
    "                got.mecanum_turn_speed_times(turn=3, speed=45, times=90, unit=2)\n",
    "            elif word == 'Left':\n",
    "                got.mecanum_turn_speed_times(turn=2, speed=45, times=90, unit=2)\n",
    "            elif word == 'Stop':\n",
    "                break\n",
    "        else:\n",
    "            got.mecanum_move_xyz(x_speed=0, y_speed=10, z_speed=angle)\n",
    "    except KeyboardInterrupt:\n",
    "        break\n",
    "\n",
    "got.mecanum_stop()"
   ]
  },
  {
   "cell_type": "code",
   "execution_count": null,
   "metadata": {},
   "outputs": [
    {
     "name": "stdout",
     "output_type": "stream",
     "text": [
      "[288, 1, 0, 0], Stop, 17.9                         "
     ]
    }
   ],
   "source": [
    "got.load_models(['line_recognition', 'word_recognition'])\n",
    "got.set_track_recognition_line(0)\n",
    "\n",
    "while True:\n",
    "    try:\n",
    "        a = got.get_single_track_total_info()\n",
    "        word = got.get_words_result()\n",
    "        distance = got.read_distance_data(21)\n",
    "        angle = int(0.18 * a[0])\n",
    "        print(f'\\r{a}, {word}, {distance}           ', end='')\n",
    "        if distance < 20:\n",
    "            if word == 'Right':\n",
    "                got.mecanum_turn_speed_times(turn=3, speed=45, times=90, unit=2)\n",
    "            elif word == 'Left':\n",
    "                got.mecanum_turn_speed_times(turn=2, speed=45, times=90, unit=2)\n",
    "            elif word == 'Stop':\n",
    "                break\n",
    "        else:\n",
    "            got.mecanum_move_xyz(x_speed=0, y_speed=10, z_speed=angle)\n",
    "    except KeyboardInterrupt:\n",
    "        break\n",
    "\n",
    "got.mecanum_stop()"
   ]
  },
  {
   "cell_type": "code",
   "execution_count": null,
   "metadata": {},
   "outputs": [],
   "source": []
  },
  {
   "cell_type": "markdown",
   "metadata": {},
   "source": [
    "### Spider robot"
   ]
  },
  {
   "cell_type": "code",
   "execution_count": 18,
   "metadata": {},
   "outputs": [
    {
     "name": "stdout",
     "output_type": "stream",
     "text": [
      "[2, 1, 0, 0], , -1             "
     ]
    }
   ],
   "source": [
    "got.load_models(['line_recognition', 'word_recognition'])\n",
    "got.set_track_recognition_line(0)\n",
    "\n",
    "while True:\n",
    "    try:\n",
    "        a = got.get_single_track_total_info()\n",
    "        word = got.get_words_result()\n",
    "        distance = got.read_distance_data(21)\n",
    "        angle = int(0.18 * a[0])\n",
    "        print(f'\\r{a}, {word}, {distance}           ', end='')\n",
    "        if distance < 25:\n",
    "            if word == 'Right':\n",
    "                got.spider_turn_speed_times(turn=3, speed=30, times=80, unit=2)\n",
    "            elif word == 'Left':\n",
    "                got.spider_turn_speed_times(turn=2, speed=30, times=80, unit=2)\n",
    "            elif word == 'Stop':\n",
    "                break\n",
    "        else:\n",
    "            if angle > 5:\n",
    "                got.spider_move_turn(direction=0, speed=10, turn=2, turn_speed=angle)\n",
    "            elif angle < 5:\n",
    "                got.spider_move_turn(direction=0, speed=10, turn=3, turn_speed=abs(angle))\n",
    "            else:\n",
    "                got.spider_move_speed(direction=0, speed=10)\n",
    "    except KeyboardInterrupt:\n",
    "        break\n",
    "\n",
    "got.spider_stop()"
   ]
  },
  {
   "cell_type": "code",
   "execution_count": 26,
   "metadata": {},
   "outputs": [
    {
     "name": "stdout",
     "output_type": "stream",
     "text": [
      "[-1, 0, 0, 0],              "
     ]
    }
   ],
   "source": [
    "got.load_models(['line_recognition', 'word_recognition'])\n",
    "got.set_track_recognition_line(0)\n",
    "\n",
    "while True:\n",
    "    try:\n",
    "        a = got.get_single_track_total_info()\n",
    "        word = got.get_words_result()\n",
    "        angle = int(0.18 * a[0])\n",
    "        print(f'\\r{a}, {word}           ', end='')\n",
    "        if angle > 10:\n",
    "            got.spider_move_turn(direction=0, speed=10, turn=2, turn_speed=abs(angle))\n",
    "        elif angle < 10:\n",
    "            got.spider_move_turn(direction=0, speed=10, turn=3, turn_speed=abs(angle))\n",
    "        else:\n",
    "            got.spider_move_speed(direction=0, speed=10)\n",
    "    except KeyboardInterrupt:\n",
    "        break\n",
    "\n",
    "got.spider_stop()"
   ]
  },
  {
   "cell_type": "code",
   "execution_count": 20,
   "metadata": {},
   "outputs": [],
   "source": [
    "got.spider_restory()\n",
    "\n",
    "got.spider_stop()"
   ]
  }
 ],
 "metadata": {
  "kernelspec": {
   "display_name": "TTA",
   "language": "python",
   "name": "python3"
  },
  "language_info": {
   "codemirror_mode": {
    "name": "ipython",
    "version": 3
   },
   "file_extension": ".py",
   "mimetype": "text/x-python",
   "name": "python",
   "nbconvert_exporter": "python",
   "pygments_lexer": "ipython3",
   "version": "3.12.9"
  }
 },
 "nbformat": 4,
 "nbformat_minor": 2
}
