{
 "cells": [
  {
   "cell_type": "code",
   "execution_count": 16,
   "id": "c3854446",
   "metadata": {},
   "outputs": [
    {
     "name": "stdout",
     "output_type": "stream",
     "text": [
      "Welcome to the Movie Review Sentiment Bot!\n",
      "Type a movie name to get its sentiment (or 'exit' to quit).\n",
      "Overall sentiment for 'Titanic': Positive :) (0.42)\n",
      "Overall sentiment for 'Titanic': Positive :) (0.42)\n",
      "Overall sentiment for 'Avengers': Positive :) (0.68)\n",
      "Goodbye!\n"
     ]
    }
   ],
   "source": [
    "import pandas as pd\n",
    "from textblob import TextBlob\n",
    "\n",
    "def load_reviews(file_path):\n",
    "    \"\"\"Load movie reviews from CSV.\"\"\"\n",
    "    try:\n",
    "        df = pd.read_csv(file_path)\n",
    "        return df\n",
    "    except FileNotFoundError:\n",
    "        print(\"Error: CSV file not found.\")\n",
    "        return None\n",
    "\n",
    "def get_movie_sentiment(df, movie_name):\n",
    "    \"\"\"Calculate average sentiment for a given movie.\"\"\"\n",
    "    movie_reviews = df[df['movie'].str.lower() == movie_name.lower()]\n",
    "    \n",
    "    if movie_reviews.empty:\n",
    "        return f\"No reviews found for '{movie_name}'.\"\n",
    "    \n",
    "    sentiment_scores = [TextBlob(review).sentiment.polarity for review in movie_reviews['review']]\n",
    "    avg_sentiment = sum(sentiment_scores) / len(sentiment_scores)\n",
    "    \n",
    "    if avg_sentiment > 0:\n",
    "        sentiment_text = \"Positive :)\"\n",
    "    elif avg_sentiment < 0:\n",
    "        sentiment_text = \"Negative :(\"\n",
    "    else:\n",
    "        sentiment_text = \"Neutral ._.\"\n",
    "    \n",
    "    return f\"Overall sentiment for '{movie_name}': {sentiment_text} ({avg_sentiment:.2f})\"\n",
    "\n",
    "def chatbot():\n",
    "    print(\"Welcome to the Movie Review Sentiment Bot!\")\n",
    "    print(\"Type a movie name to get its sentiment (or 'exit' to quit).\")\n",
    "\n",
    "    df = load_reviews(\"movies.csv\")\n",
    "    if df is None:\n",
    "        return\n",
    "    \n",
    "    while True:\n",
    "        user_input = input(\"\\nEnter movie name: \")\n",
    "        if user_input.lower() == \"exit\":\n",
    "            print(\"Goodbye!\")\n",
    "            break\n",
    "        \n",
    "        sentiment_result = get_movie_sentiment(df, user_input)\n",
    "        print(sentiment_result)\n",
    "\n",
    "chatbot()\n"
   ]
  },
  {
   "cell_type": "code",
   "execution_count": 17,
   "id": "3794e37c",
   "metadata": {},
   "outputs": [
    {
     "name": "stdout",
     "output_type": "stream",
     "text": [
      "Welcome to the Movie Review Sentiment Bot!\n",
      "Type a movie name to get its sentiment (or 'exit' to quit).\n",
      "Overall sentiment for 'Titanic': Positive :) (0.89)\n",
      "Overall sentiment for 'Avengers': Neutral ._. (0.45)\n",
      "Overall sentiment for 'Test': Negative :( (0.27)\n",
      "Goodbye!\n"
     ]
    }
   ],
   "source": [
    "import pandas as pd\n",
    "from textblob import TextBlob\n",
    "from textblob.sentiments import NaiveBayesAnalyzer\n",
    "\n",
    "def load_reviews(file_path):\n",
    "    \"\"\"Load movie reviews from CSV.\"\"\"\n",
    "    try:\n",
    "        df = pd.read_csv(file_path)\n",
    "        return df\n",
    "    except FileNotFoundError:\n",
    "        print(\"Error: CSV file not found.\")\n",
    "        return None\n",
    "\n",
    "def get_movie_sentiment(df, movie_name):\n",
    "    \"\"\"Calculate average sentiment for a given movie.\"\"\"\n",
    "    movie_reviews = df[df['movie'].str.lower() == movie_name.lower()]\n",
    "    \n",
    "    if movie_reviews.empty:\n",
    "        return f\"No reviews found for '{movie_name}'.\"\n",
    "    \n",
    "    sentiment_scores = [TextBlob(review, analyzer=NaiveBayesAnalyzer()).sentiment.p_pos for review in movie_reviews['review']]\n",
    "    avg_sentiment = sum(sentiment_scores) / len(sentiment_scores)\n",
    "    \n",
    "    if avg_sentiment > 0.6:\n",
    "        sentiment_text = \"Positive :)\"\n",
    "    elif avg_sentiment < 0.4:\n",
    "        sentiment_text = \"Negative :(\"\n",
    "    else:\n",
    "        sentiment_text = \"Neutral ._.\"\n",
    "    \n",
    "    return f\"Overall sentiment for '{movie_name}': {sentiment_text} ({avg_sentiment:.2f})\"\n",
    "\n",
    "def chatbot():\n",
    "    print(\"Welcome to the Movie Review Sentiment Bot!\")\n",
    "    print(\"Type a movie name to get its sentiment (or 'exit' to quit).\")\n",
    "\n",
    "    df = load_reviews(\"movies.csv\")\n",
    "    if df is None:\n",
    "        return\n",
    "    \n",
    "    while True:\n",
    "        user_input = input(\"\\nEnter movie name: \")\n",
    "        if user_input.lower() == \"exit\":\n",
    "            print(\"Goodbye!\")\n",
    "            break\n",
    "        \n",
    "        sentiment_result = get_movie_sentiment(df, user_input)\n",
    "        print(sentiment_result)\n",
    "\n",
    "chatbot()\n"
   ]
  }
 ],
 "metadata": {
  "kernelspec": {
   "display_name": "TTA",
   "language": "python",
   "name": "python3"
  },
  "language_info": {
   "codemirror_mode": {
    "name": "ipython",
    "version": 3
   },
   "file_extension": ".py",
   "mimetype": "text/x-python",
   "name": "python",
   "nbconvert_exporter": "python",
   "pygments_lexer": "ipython3",
   "version": "3.12.9"
  }
 },
 "nbformat": 4,
 "nbformat_minor": 5
}
