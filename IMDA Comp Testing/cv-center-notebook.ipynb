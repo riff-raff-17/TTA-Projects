{
 "cells": [
  {
   "cell_type": "code",
   "execution_count": null,
   "id": "2c8f48e6",
   "metadata": {},
   "outputs": [],
   "source": [
    "from ugot import ugot\n",
    "import cv2\n",
    "\n",
    "got = ugot.UGOT()\n"
   ]
  },
  {
   "cell_type": "code",
   "execution_count": null,
   "id": "a80c889e",
   "metadata": {},
   "outputs": [],
   "source": [
    "got.initialize('192.168.1.189')\n",
    "got.open_camera()\n",
    "got.load_models(['apriltag_qrcode'])\n",
    "got.mechanical_joint_control(0, 0, -20, 500)\n",
    "got.mechanical_clamp_release()\n",
    "\n",
    "while True:\n",
    "    qr_info = got.get_apriltag_total_info()\n",
    "    if qr_info:\n",
    "        for tag in qr_info:\n",
    "            qrcode, cx, cy, h, w, a, distance5, *rest = tag\n",
    "\n",
    "        if distance5 < 0.22:\n",
    "            break\n",
    "\n",
    "        if cx > 340:\n",
    "            got.mecanum_move_xyz(10, 10, 0)\n",
    "        elif cx < 300: \n",
    "            got.mecanum_move_xyz(-10, 10, 0)\n",
    "        else:\n",
    "            got.mecanum_move_xyz(0, 10, 0)\n",
    "        \n",
    "    else:\n",
    "        got.mecanum_stop()\n",
    "\n",
    "\n",
    "got.mecanum_stop()\n",
    "got.mechanical_clamp_close()\n",
    "cv2.destroyAllWindows()\n",
    "got.play_audio_tts(\"Finished\", 0, True)\n",
    "got.mechanical_clamp_release()"
   ]
  }
 ],
 "metadata": {
  "kernelspec": {
   "display_name": "TTA",
   "language": "python",
   "name": "python3"
  },
  "language_info": {
   "name": "python",
   "version": "3.12.9"
  }
 },
 "nbformat": 4,
 "nbformat_minor": 5
}
