{
 "cells": [
  {
   "cell_type": "code",
   "execution_count": null,
   "id": "3ac346be",
   "metadata": {},
   "outputs": [],
   "source": [
    "#Basic setup\n",
    "from ugot import ugot\n",
    "got=ugot.UGOT()\n",
    "got.initialize('192.168.1.108')"
   ]
  },
  {
   "cell_type": "code",
   "execution_count": null,
   "id": "5d80d7de",
   "metadata": {},
   "outputs": [],
   "source": [
    "#Straight movement\n",
    "got.mecanum_translate_speed_times(angle=0,speed=30,times=70,unit=1)\n",
    "\n",
    "#Turning movement\n",
    "got.mecanum_turn_speed_times(turn=3,speed=45,times=180,unit=2)\n",
    "\n",
    "#Load models\n",
    "got.load_models(['apriltag_qrcode'])\n",
    "\n",
    "#Release the object\n",
    "got.mechanical_clamp_release()\n",
    "\n",
    "#Close the clamp\n",
    "got.mechanical_clamp_close()\n",
    "\n",
    "#Get the apriltag info\n",
    "got.get_apriltag_total_info()\n",
    "\n",
    "#Play a tone\n",
    "got.play_tone(tone=\"C5\",beat=4,wait=True)\n",
    "\n",
    "#More advanced__________________________________________________________\n",
    "#Movement without duration\n",
    "got.mecanum_translate_speed(angle=90,speed=20)\n",
    "\n",
    "#Stop the robot\n",
    "got.mecanum_stop()"
   ]
  }
 ],
 "metadata": {
  "kernelspec": {
   "display_name": "TTA",
   "language": "python",
   "name": "python3"
  },
  "language_info": {
   "codemirror_mode": {
    "name": "ipython",
    "version": 3
   },
   "file_extension": ".py",
   "mimetype": "text/x-python",
   "name": "python",
   "nbconvert_exporter": "python",
   "pygments_lexer": "ipython3",
   "version": "3.11.11"
  }
 },
 "nbformat": 4,
 "nbformat_minor": 5
}
