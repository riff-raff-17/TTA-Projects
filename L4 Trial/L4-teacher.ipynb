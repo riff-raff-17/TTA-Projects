{
 "cells": [
  {
   "cell_type": "code",
   "execution_count": null,
   "id": "3ac346be",
   "metadata": {},
   "outputs": [],
   "source": [
    "#Basic setup\n",
    "from ugot import ugot\n",
    "got=ugot.UGOT()\n",
    "got.initialize('192.168.1.108')"
   ]
  },
  {
   "cell_type": "code",
   "execution_count": null,
   "id": "b0cf0dc6",
   "metadata": {},
   "outputs": [],
   "source": [
    "#Drive in a straight line\n",
    "got.mecanum_translate_speed_times(angle=0,speed=30,times=70,unit=1)\n",
    "got.mecanum_turn_speed_times(turn=3,speed=45,times=180,unit=2)\n",
    "got.mecanum_translate_speed_times(angle=0,speed=30,times=70,unit=1)\n",
    "got.mecanum_turn_speed_times(turn=3,speed=45,times=180,unit=2)"
   ]
  },
  {
   "cell_type": "code",
   "execution_count": null,
   "id": "0e4faacd",
   "metadata": {},
   "outputs": [],
   "source": [
    "#Drive in a square v1.1\n",
    "got.mecanum_translate_speed_times(angle=0,speed=30,times=70,unit=1)\n",
    "got.mecanum_turn_speed_times(turn=3,speed=45,times=90,unit=2)\n",
    "got.mecanum_translate_speed_times(angle=0,speed=30,times=70,unit=1)\n",
    "got.mecanum_turn_speed_times(turn=3,speed=45,times=90,unit=2)\n",
    "got.mecanum_translate_speed_times(angle=0,speed=30,times=70,unit=1)\n",
    "got.mecanum_turn_speed_times(turn=3,speed=45,times=90,unit=2)\n",
    "got.mecanum_translate_speed_times(angle=0,speed=30,times=70,unit=1)\n",
    "got.mecanum_turn_speed_times(turn=3,speed=45,times=90,unit=2)"
   ]
  },
  {
   "cell_type": "code",
   "execution_count": null,
   "id": "2f438639",
   "metadata": {},
   "outputs": [],
   "source": [
    "#Drive in a square v1.2\n",
    "for i in range(4):\n",
    "    got.mecanum_translate_speed_times(angle=0,speed=30,times=70,unit=1)\n",
    "    got.mecanum_turn_speed_times(turn=3,speed=45,times=90,unit=2)"
   ]
  },
  {
   "cell_type": "code",
   "execution_count": null,
   "id": "fe1e945d",
   "metadata": {},
   "outputs": [],
   "source": [
    "#Drive in a square v2\n",
    "got.mecanum_translate_speed_times(angle=0,speed=30,times=70,unit=1)\n",
    "got.mecanum_translate_speed_times(angle=90,speed=30,times=70,unit=1)\n",
    "got.mecanum_translate_speed_times(angle=180,speed=30,times=70,unit=1)\n",
    "got.mecanum_translate_speed_times(angle=-90,speed=30,times=70,unit=1)"
   ]
  },
  {
   "cell_type": "code",
   "execution_count": null,
   "id": "560f4aae",
   "metadata": {},
   "outputs": [],
   "source": [
    "import time\n",
    "\n",
    "scanned=False\n",
    "\n",
    "#Load the models and pick up the object\n",
    "got.load_models(['apriltag_qrcode'])\n",
    "got.mechanical_clamp_release()\n",
    "time.sleep(1)\n",
    "got.mechanical_clamp_close()\n",
    "time.sleep(1)\n",
    "\n",
    "#Drive to the apriltag\n",
    "got.mecanum_translate_speed_times(angle=0,speed=40,times=100,unit=1)\n",
    "got.mecanum_turn_speed_times(turn=2,speed=45,times=90,unit=2)\n",
    "while not scanned:\n",
    "    results=got.get_apriltag_total_info()\n",
    "    if results:\n",
    "        scanned=True\n",
    "        got.play_tone(tone=\"C5\",beat=4,wait=True)\n"
   ]
  },
  {
   "cell_type": "code",
   "execution_count": null,
   "id": "04f3aa6f",
   "metadata": {},
   "outputs": [],
   "source": [
    "#Slightly more advanced version\n",
    "#This scans for the apriltag and then drives to it\n",
    "scanned=False\n",
    "\n",
    "while not scanned:\n",
    "    results=got.get_apriltag_total_info()\n",
    "    got.mecanum_translate_speed(angle=90,speed=20)\n",
    "    if results:\n",
    "        got.mecanum_stop()\n",
    "        scanned=True\n",
    "        got.mechanical_clamp_release()\n",
    "        got.play_tone(tone=\"C5\",beat=4,wait=True)"
   ]
  },
  {
   "cell_type": "code",
   "execution_count": null,
   "id": "5d80d7de",
   "metadata": {},
   "outputs": [],
   "source": [
    "#Straight movement\n",
    "got.mecanum_translate_speed_times(angle=0,speed=30,times=70,unit=1)\n",
    "\n",
    "#Turning movement\n",
    "got.mecanum_turn_speed_times(turn=3,speed=45,times=180,unit=2)\n",
    "\n",
    "#Load models\n",
    "got.load_models(['apriltag_qrcode'])\n",
    "\n",
    "#Release the object\n",
    "got.mechanical_clamp_release()\n",
    "\n",
    "#Close the clamp\n",
    "got.mechanical_clamp_close()\n",
    "\n",
    "#Get the apriltag info\n",
    "got.get_apriltag_total_info()\n",
    "\n",
    "#Play a tone\n",
    "got.play_tone(tone=\"C5\",beat=4,wait=True)\n",
    "\n",
    "#More advanced__________________________________________________________\n",
    "#Movement without duration\n",
    "got.mecanum_translate_speed(angle=90,speed=20)\n",
    "\n",
    "#Stop the robot\n",
    "got.mecanum_stop()"
   ]
  }
 ],
 "metadata": {
  "kernelspec": {
   "display_name": "TTA",
   "language": "python",
   "name": "python3"
  },
  "language_info": {
   "codemirror_mode": {
    "name": "ipython",
    "version": 3
   },
   "file_extension": ".py",
   "mimetype": "text/x-python",
   "name": "python",
   "nbconvert_exporter": "python",
   "pygments_lexer": "ipython3",
   "version": "3.11.11"
  }
 },
 "nbformat": 4,
 "nbformat_minor": 5
}
