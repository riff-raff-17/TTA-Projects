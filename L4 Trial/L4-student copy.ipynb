{
 "cells": [
  {
   "cell_type": "code",
   "execution_count": 2,
   "id": "3ac346be",
   "metadata": {},
   "outputs": [
    {
     "name": "stdout",
     "output_type": "stream",
     "text": [
      "192.168.1.129:50051\n"
     ]
    }
   ],
   "source": [
    "#Basic setup\n",
    "from ugot import ugot\n",
    "got=ugot.UGOT()\n",
    "got.initialize('192.168.1.129')"
   ]
  },
  {
   "cell_type": "code",
   "execution_count": null,
   "id": "5d80d7de",
   "metadata": {},
   "outputs": [],
   "source": [
    "#Straight movement\n",
    "got.mecanum_translate_speed_times(angle=0,speed=30,times=70,unit=1)\n",
    "\n",
    "#Turning movement\n",
    "got.mecanum_turn_speed_times(turn=3,speed=45,times=180,unit=2)\n",
    "\n",
    "#Load models\n",
    "got.load_models(['apriltag_qrcode'])\n",
    "\n",
    "#Release the object\n",
    "got.mechanical_clamp_release()\n",
    "\n",
    "#Close the clamp\n",
    "got.mechanical_clamp_close()\n",
    "\n",
    "#Get the apriltag info\n",
    "got.get_apriltag_total_info()\n",
    "\n",
    "#Play a tone\n",
    "got.play_tone(tone=\"C5\",beat=4,wait=True)\n",
    "\n",
    "#More advanced__________________________________________________________\n",
    "#Movement without duration\n",
    "got.mecanum_translate_speed(angle=90,speed=20)\n",
    "\n",
    "#Stop the robot\n",
    "got.mecanum_stop()"
   ]
  },
  {
   "cell_type": "code",
   "execution_count": 1,
   "id": "8bacf686",
   "metadata": {},
   "outputs": [
    {
     "name": "stdout",
     "output_type": "stream",
     "text": [
      "Hello\n",
      "Hello\n",
      "Hello\n",
      "Hello\n"
     ]
    }
   ],
   "source": [
    "for i in range(4):\n",
    "    print(\"Hello\")"
   ]
  },
  {
   "cell_type": "code",
   "execution_count": null,
   "id": "9120583f",
   "metadata": {},
   "outputs": [],
   "source": [
    "got.mecanum_translate_speed_times(angle=90,speed=30,times=70,unit=1)\n",
    "# turn = 2 for left, turn = 3 for right\n",
    "got.mecanum_turn_speed_times(turn=3,speed=45,times=180,unit=2)\n",
    "\n",
    "for i in range(4):\n",
    "    got.mecanum_translate_speed_times(angle=0,speed=30,times=50,unit=1)\n",
    "    got.mecanum_turn_speed_times(turn=3,speed=45,times=90,unit=2)"
   ]
  },
  {
   "cell_type": "code",
   "execution_count": null,
   "id": "bd0dd895",
   "metadata": {},
   "outputs": [],
   "source": [
    "got.load_models(['apriltag_qrcode'])\n",
    "\n",
    "text = \"I AM A ROBOT\"\n",
    "\n",
    "got.play_audio_tts(text, voice_type=0, wait=False)\n",
    "\n",
    "while True:\n",
    "    # does something\n",
    "    results = got.get_apriltag_total_info()\n",
    "    if results:\n",
    "        if results[0][0] == 1:\n",
    "            #got.play_audio_tts(\"I see a 1\", voice_type=0, wait=True)\n",
    "            got.mecanum_translate_speed(angle=0,speed=20)\n",
    "        elif results[0][0] == 2:\n",
    "            #got.play_audio_tts(\"I see a 2\", voice_type=0, wait=True)\n",
    "            got.mecanum_turn_speed(turn=2,speed=45)\n",
    "        elif results[0][0] == 3:\n",
    "            #got.play_audio_tts(\"I see a 3\", voice_type=0, wait=True)\n",
    "            got.mecanum_turn_speed(turn=3,speed=45)\n",
    "    else:\n",
    "        got.mecanum_stop()"
   ]
  }
 ],
 "metadata": {
  "kernelspec": {
   "display_name": "TTA",
   "language": "python",
   "name": "python3"
  },
  "language_info": {
   "codemirror_mode": {
    "name": "ipython",
    "version": 3
   },
   "file_extension": ".py",
   "mimetype": "text/x-python",
   "name": "python",
   "nbconvert_exporter": "python",
   "pygments_lexer": "ipython3",
   "version": "3.12.9"
  }
 },
 "nbformat": 4,
 "nbformat_minor": 5
}
