{
 "cells": [
  {
   "cell_type": "code",
   "execution_count": 1,
   "id": "44a8cbef",
   "metadata": {},
   "outputs": [],
   "source": [
    "from textblob import TextBlob\n",
    "from textblob import Word\n",
    "import re"
   ]
  },
  {
   "cell_type": "code",
   "execution_count": 3,
   "id": "7ddc01d6",
   "metadata": {},
   "outputs": [
    {
     "name": "stdout",
     "output_type": "stream",
     "text": [
      "192.168.1.198:50051\n"
     ]
    }
   ],
   "source": [
    "from ugot import ugot\n",
    "got = ugot.UGOT()\n",
    "got.initialize('192.168.1.198')\n"
   ]
  },
  {
   "cell_type": "code",
   "execution_count": 4,
   "id": "740cee60",
   "metadata": {},
   "outputs": [
    {
     "data": {
      "text/plain": [
       "'forward 10'"
      ]
     },
     "execution_count": 4,
     "metadata": {},
     "output_type": "execute_result"
    }
   ],
   "source": [
    "def error_check(text):\n",
    "        # Create a TextBlob for the input\n",
    "        blob = TextBlob(text)\n",
    "        \n",
    "        # Correct the input\n",
    "        corrected_input = blob.correct()\n",
    "        \n",
    "        # Check if correction is needed\n",
    "        if str(blob) != str(corrected_input):\n",
    "            print(f\"Did you mean: '{corrected_input}'?\")\n",
    "            confirmation = input(\"Please type 'yes' if correct, or 'no' to keep your original text: \").strip().lower()\n",
    "            \n",
    "            if confirmation == \"yes\":\n",
    "                print(\"Fixing...\")\n",
    "                return corrected_input\n",
    "            else:\n",
    "                print(\"No problem, I'll keep your original input.\")\n",
    "                return text\n",
    "        else:\n",
    "            print(\"No errors detected...\")\n",
    "            return text\n",
    "\n",
    "# Run the chatbot\n",
    "\n",
    "(\"forward 10\")\n"
   ]
  },
  {
   "cell_type": "markdown",
   "id": "64021b41",
   "metadata": {},
   "source": [
    "\n",
    "Meaning of Each Component:\n",
    "\n",
    "^ — Anchors the match to the start of the string.\n",
    "\n",
    "(?:...) — A non-capturing group, used to group the inner pattern without saving the match for backreferencing.\n",
    "\n",
    "\\s* — Matches any amount of whitespace (including none).\n",
    "\n",
    "(forward|backward|left|right) — A group of valid directions, case-sensitive.\n",
    "\n",
    "\\d+ — Matches one or more digits (i.e. a number).\n",
    "\n",
    "\\s* — Again, allows optional whitespace after the number.\n",
    "\n",
    "+ — Applies to the non-capturing group, meaning the whole pattern can repeat one or more times.\n",
    "\n",
    "$ — Anchors the match to the end of the string.\n",
    "    "
   ]
  },
  {
   "cell_type": "code",
   "execution_count": 5,
   "id": "efcbd2ff",
   "metadata": {},
   "outputs": [
    {
     "name": "stdout",
     "output_type": "stream",
     "text": [
      "Welcome to the Chained Command Validator!\n",
      "Valid commands are: forward, backward, left, right, followed by a distance (e.g., 'forward 10').\n",
      "You can chain multiple commands (e.g., 'forward 10 backward 5 left 20').\n",
      "Type 'exit' to quit.\n",
      "'forward 10' is valid.\n",
      "Goodbye!\n"
     ]
    }
   ],
   "source": [
    "def validate_chained_commands(commands):\n",
    "    # Define the regex pattern\n",
    "    pattern = r\"^(?:\\s*(forward|backward|left|right) \\d+\\s*)+$\"\n",
    "    \n",
    "    # Match the entire input string against the pattern\n",
    "    if re.match(pattern, commands):\n",
    "        print(f\"'{commands}' is valid.\")\n",
    "        return True\n",
    "    else:\n",
    "        print(f\"'{commands}' is not valid.\")\n",
    "        return False\n",
    "\n",
    "def command_validator():\n",
    "    print(\"Welcome to the Chained Command Validator!\")\n",
    "    print(\"Valid commands are: forward, backward, left, right, followed by a distance (e.g., 'forward 10').\")\n",
    "    print(\"You can chain multiple commands (e.g., 'forward 10 backward 5 left 20').\")\n",
    "    print(\"Type 'exit' to quit.\")\n",
    "\n",
    "    while True:\n",
    "        # Get user input\n",
    "        user_input = input(\"\\nEnter your commands: \").strip().lower()\n",
    "        if user_input == \"exit\":\n",
    "            print(\"Goodbye!\")\n",
    "            break\n",
    "\n",
    "        # Validate the chained commands\n",
    "        validate_chained_commands(user_input)\n",
    "\n",
    "# Run the command validator\n",
    "command_validator()\n"
   ]
  },
  {
   "cell_type": "code",
   "execution_count": 11,
   "id": "c7b7e586",
   "metadata": {},
   "outputs": [],
   "source": [
    "def line_follow():\n",
    "    while True:\n",
    "        try:\n",
    "            line_info = got.get_single_track_total_info()\n",
    "            offset = int(0.18 * line_info[0])\n",
    "            line_type = line_info[1] # returns 1 if straight, 0 if wireless\n",
    "            if line_type == 1:\n",
    "                got.mecanum_move_xyz(x_speed=0, y_speed=15, z_speed=offset)\n",
    "            else:\n",
    "                got.mecanum_stop()\n",
    "        except KeyboardInterrupt:\n",
    "            got.mecanum_stop()\n",
    "            break"
   ]
  },
  {
   "cell_type": "code",
   "execution_count": 14,
   "id": "49f83fd5",
   "metadata": {},
   "outputs": [
    {
     "name": "stdout",
     "output_type": "stream",
     "text": [
      "Welcome to the UGOT Command Center! Type 'exit' to quit. Type 'help' for a list of commands.\n",
      "What are your orders?\n",
      "No errors detected...\n",
      "'forward 10 left 90' is valid.\n",
      "What are your orders?\n",
      "No errors detected...\n",
      "Exiting robot...\n"
     ]
    }
   ],
   "source": [
    "def ugot_regex():\n",
    "    got.load_models(['line_recognition'])\n",
    "    got.set_track_recognition_line(0)\n",
    "\n",
    "    commanding = True\n",
    "    \n",
    "    command_list = ['forward', 'backward', 'left', 'right', 'follow line']\n",
    "    \n",
    "    print(\"Welcome to the UGOT Command Center! Type 'exit' to quit. Type 'help' for a list of commands.\")\n",
    "    \n",
    "    while commanding:\n",
    "        print(\"What are your orders?\")\n",
    "        command = input(\"> \")\n",
    "        command = command.lower()\n",
    "        \n",
    "        command = str(error_check(command))\n",
    "        \n",
    "        if command == 'exit':\n",
    "            commanding = False\n",
    "            print(\"Exiting robot...\")\n",
    "        \n",
    "        elif command == 'follow line':\n",
    "            print(\"Running...\")\n",
    "            line_follow()\n",
    "\n",
    "        elif command == 'help':\n",
    "            print(\"Here are the available commands:\")\n",
    "            for j in command_list:\n",
    "                print(f\"- {j}\")\n",
    "        \n",
    "        elif validate_chained_commands(command):\n",
    "            command = command.split(' ')\n",
    "            for i, values in enumerate(command):\n",
    "                if values == 'forward':\n",
    "                    got.mecanum_move_speed_times(0, 20, int(command[i+1]), 1)\n",
    "\n",
    "                if values == 'backward':\n",
    "                    got.mecanum_move_speed_times(1, 20, int(command[i+1]), 1)\n",
    "\n",
    "                if values == 'left':\n",
    "                    got.mecanum_turn_speed_times(2, 30, int(command[i+1]), 2)\n",
    "\n",
    "                if values == 'right':\n",
    "                    got.mecanum_turn_speed_times(3, 30, int(command[i+1]), 2)\n",
    "\n",
    "                    \n",
    "        else:\n",
    "            print(\"I do not understand that command\")\n",
    "\n",
    "ugot_regex()\n",
    "        "
   ]
  }
 ],
 "metadata": {
  "kernelspec": {
   "display_name": "TTA",
   "language": "python",
   "name": "python3"
  },
  "language_info": {
   "codemirror_mode": {
    "name": "ipython",
    "version": 3
   },
   "file_extension": ".py",
   "mimetype": "text/x-python",
   "name": "python",
   "nbconvert_exporter": "python",
   "pygments_lexer": "ipython3",
   "version": "3.12.9"
  }
 },
 "nbformat": 4,
 "nbformat_minor": 5
}
