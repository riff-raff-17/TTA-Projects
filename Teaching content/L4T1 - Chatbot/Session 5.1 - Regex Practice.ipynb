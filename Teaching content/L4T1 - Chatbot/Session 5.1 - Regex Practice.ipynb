{
 "cells": [
  {
   "cell_type": "code",
   "execution_count": null,
   "id": "3346a23a",
   "metadata": {},
   "outputs": [],
   "source": [
    "import re\n",
    "\n",
    "def regex_practice():\n",
    "    print(\"Welcome to Regex Practice!\")\n",
    "    print(\"Try to match patterns in the given strings using regular expressions.\")\n",
    "    print(\"Type 'exit' anytime to quit.\\n\")\n",
    "\n",
    "    challenges = [\n",
    "        {\"description\": \"Find all numbers in the string\", \"text\": \"The prices are 10, 20, and 35 dollars.\"},\n",
    "        {\"description\": \"Match all words with 4 letters\", \"text\": \"This test will find only four word size ones.\"},\n",
    "        {\"description\": \"Match all capitalized words\", \"text\": \"John and Mary went to New York on Monday.\"},\n",
    "        {\"description\": \"Match all words ending with 's'\", \"text\": \"The birds are flying over the trees and clouds.\"},\n",
    "        {\"description\": \"Find all words with 5 or more letters\", \"text\": \"This challenge is easy and fun to solve.\"}]\n",
    "\n",
    "    for i, challenge in enumerate(challenges, 1):\n",
    "        print(f\"Challenge {i}: {challenge['description']}\")\n",
    "        print(f\"Text: {challenge['text']}\")\n",
    "\n",
    "        while True:\n",
    "            user_regex = input(\"Enter your regex (or type 'skip' to go to the next challenge): \").strip()\n",
    "            if user_regex.lower() == \"exit\":\n",
    "                print(\"Exiting... Goodbye!\")\n",
    "                return\n",
    "            if user_regex.lower() == \"skip\":\n",
    "                print(\"Skipping to the next challenge...\\n\")\n",
    "                break\n",
    "\n",
    "            try:\n",
    "                matches = re.findall(user_regex, challenge[\"text\"])\n",
    "                print(f\"Matches found: {matches}\" if matches else \"No matches found. Try again.\")\n",
    "            except re.error as e:\n",
    "                print(f\"Invalid regex: {e}. Try again.\")\n",
    "\n",
    "    print(\"\\nYou completed all challenges! Feel free to restart and try again.\")\n",
    "\n",
    "# Run the regex practice program\n",
    "regex_practice()\n"
   ]
  },
  {
   "cell_type": "markdown",
   "id": "5d24c5ba",
   "metadata": {},
   "source": [
    "### Answers\n",
    "\n",
    "1. \\d+\n",
    "2. \\b\\w{4}\\b\n",
    "3. \\b[A-Z][a-z]*\\b\n",
    "4. \\b\\w+s\\b\n",
    "5. \\b\\w{5,}\\b"
   ]
  }
 ],
 "metadata": {
  "kernelspec": {
   "display_name": "Python 3 (ipykernel)",
   "language": "python",
   "name": "python3"
  },
  "language_info": {
   "codemirror_mode": {
    "name": "ipython",
    "version": 3
   },
   "file_extension": ".py",
   "mimetype": "text/x-python",
   "name": "python",
   "nbconvert_exporter": "python",
   "pygments_lexer": "ipython3",
   "version": "3.11.7"
  }
 },
 "nbformat": 4,
 "nbformat_minor": 5
}
