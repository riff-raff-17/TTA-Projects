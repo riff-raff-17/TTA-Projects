{
 "cells": [
  {
   "cell_type": "markdown",
   "id": "f88628a2",
   "metadata": {},
   "source": [
    "You'll need to install textblob in anaconda first\n",
    "\n",
    "Open a terminal and run\n",
    "    ```pip install textblob```\n",
    "    in the base environment\n",
    "    \n",
    "    \n",
    "    "
   ]
  },
  {
   "cell_type": "code",
   "execution_count": 3,
   "id": "6cefec5d",
   "metadata": {},
   "outputs": [],
   "source": [
    "from textblob import TextBlob\n",
    "from textblob import Word"
   ]
  },
  {
   "cell_type": "markdown",
   "id": "c8cfe19e",
   "metadata": {},
   "source": [
    "### Creating a textblob"
   ]
  },
  {
   "cell_type": "code",
   "execution_count": 35,
   "id": "e0213cb5",
   "metadata": {},
   "outputs": [
    {
     "data": {
      "text/plain": [
       "TextBlob(\"I love using Python! I'm very good at programming.\")"
      ]
     },
     "execution_count": 35,
     "metadata": {},
     "output_type": "execute_result"
    }
   ],
   "source": [
    "text = \"I love using Python! I'm very good at programming.\"\n",
    "\n",
    "blob = TextBlob(text)\n",
    "\n",
    "blob"
   ]
  },
  {
   "cell_type": "markdown",
   "id": "1a61cc50",
   "metadata": {},
   "source": [
    "### Tokenizing text"
   ]
  },
  {
   "cell_type": "code",
   "execution_count": 5,
   "id": "d66dfc28",
   "metadata": {},
   "outputs": [
    {
     "data": {
      "text/plain": [
       "[Sentence(\"I love using Python!\"), Sentence(\"I'm very good at programming.\")]"
      ]
     },
     "execution_count": 5,
     "metadata": {},
     "output_type": "execute_result"
    }
   ],
   "source": [
    "blob.sentences"
   ]
  },
  {
   "cell_type": "code",
   "execution_count": 6,
   "id": "20d4c33b",
   "metadata": {},
   "outputs": [
    {
     "data": {
      "text/plain": [
       "WordList(['I', 'love', 'using', 'Python', 'I', \"'m\", 'very', 'good', 'at', 'programming'])"
      ]
     },
     "execution_count": 6,
     "metadata": {},
     "output_type": "execute_result"
    }
   ],
   "source": [
    "blob.words"
   ]
  },
  {
   "cell_type": "markdown",
   "id": "4dbc898a",
   "metadata": {},
   "source": [
    "### Parts-of-speech (POS) tagging \n",
    "\n",
    "NN—a singular noun or mass noun\n",
    "\n",
    "PR-a pronoun\n",
    "\n",
    "VB—a verb\n",
    "\n",
    "RB-an adverb\n",
    "\n",
    "DT—a determiner\n",
    "\n",
    "JJ—an adjective\n",
    "\n",
    "NNP—a proper singular noun\n",
    "\n",
    "IN—a subordinating conjunction or preposition"
   ]
  },
  {
   "cell_type": "code",
   "execution_count": 8,
   "id": "149cbcab",
   "metadata": {},
   "outputs": [
    {
     "data": {
      "text/plain": [
       "[('I', 'PRP'),\n",
       " ('love', 'VBP'),\n",
       " ('using', 'VBG'),\n",
       " ('Python', 'NNP'),\n",
       " ('I', 'PRP'),\n",
       " (\"'m\", 'VBP'),\n",
       " ('very', 'RB'),\n",
       " ('good', 'JJ'),\n",
       " ('at', 'IN'),\n",
       " ('programming', 'VBG')]"
      ]
     },
     "execution_count": 8,
     "metadata": {},
     "output_type": "execute_result"
    }
   ],
   "source": [
    "blob.tags"
   ]
  },
  {
   "cell_type": "markdown",
   "id": "545be95b",
   "metadata": {},
   "source": [
    "I can extract nouns only to get an idea of what the sentence is about. Search engines do this!"
   ]
  },
  {
   "cell_type": "code",
   "execution_count": 9,
   "id": "b688942c",
   "metadata": {},
   "outputs": [
    {
     "data": {
      "text/plain": [
       "WordList(['python'])"
      ]
     },
     "execution_count": 9,
     "metadata": {},
     "output_type": "execute_result"
    }
   ],
   "source": [
    "blob.noun_phrases"
   ]
  },
  {
   "cell_type": "markdown",
   "id": "3253b244",
   "metadata": {},
   "source": [
    "### Sentiment analysis\n",
    "\n",
    "__Polarity__ is how positive or negative the statement is. -1.0 is max negative, and 1.0 is max positive.\n",
    "\n",
    "__Subjectivity__ is how factually true a statement is. 0.0 is a fact, and 1.0 is an opinion."
   ]
  },
  {
   "cell_type": "code",
   "execution_count": 10,
   "id": "d782db1b",
   "metadata": {},
   "outputs": [
    {
     "data": {
      "text/plain": [
       "Sentiment(polarity=0.7675, subjectivity=0.6900000000000001)"
      ]
     },
     "execution_count": 10,
     "metadata": {},
     "output_type": "execute_result"
    }
   ],
   "source": [
    "blob.sentiment"
   ]
  },
  {
   "cell_type": "code",
   "execution_count": 30,
   "id": "c4e81a30",
   "metadata": {},
   "outputs": [
    {
     "name": "stdout",
     "output_type": "stream",
     "text": [
      "Sentiment(polarity=0.0, subjectivity=0.0)\n",
      "Sentiment(polarity=0.35, subjectivity=0.65)\n",
      "Sentiment(polarity=1.0, subjectivity=1.0)\n"
     ]
    }
   ],
   "source": [
    "# A fact\n",
    "blob1 = TextBlob(\"I am a robot\")\n",
    "\n",
    "#A (positive) opinion and a fact\n",
    "blob2 = TextBlob(\"I am a cool robot\")\n",
    "\n",
    "#A (very positive) opinion\n",
    "blob3 = TextBlob(\"I am awesome\")\n",
    "\n",
    "print(blob1.sentiment)\n",
    "print(blob2.sentiment)\n",
    "print(blob3.sentiment)"
   ]
  },
  {
   "cell_type": "code",
   "execution_count": null,
   "id": "8f8fc194",
   "metadata": {},
   "outputs": [],
   "source": [
    "def mood_chatbot():\n",
    "    print(\"Hi! I'm your friendly chatbot :)\")\n",
    "    print(\"How are you feeling today?\")\n",
    "    \n",
    "    # Get user input\n",
    "    user_response = input(\"You: \")\n",
    "    \n",
    "    # Analyze sentiment using TextBlob\n",
    "    blob = TextBlob(user_response)\n",
    "    sentiment = blob.sentiment.polarity\n",
    "    \n",
    "    # Evaluate the sentiment and respond accordingly\n",
    "    if sentiment > 0.5:\n",
    "        print(\"Chatbot: That's great to hear! You seem really happy today!\")\n",
    "    elif sentiment > 0:\n",
    "        print(\"Chatbot: Sounds like you're doing pretty well!\")\n",
    "    elif sentiment == 0:\n",
    "        print(\"Chatbot: Hmm, I can't quite tell how you're feeling. Neutral, maybe?\")\n",
    "    else:\n",
    "        print(\"Chatbot: Oh no! It seems like you're feeling a bit down. I'm here if you want to talk.\")\n",
    "\n",
    "    print(\"Chatbot: Thanks for sharing! Have a great day!\")\n",
    "\n",
    "# Run the chatbot\n",
    "mood_chatbot()\n"
   ]
  },
  {
   "cell_type": "markdown",
   "id": "edc8fe25",
   "metadata": {},
   "source": [
    "### Sentiment analysis but complicated\n",
    "\n",
    "The TextBlob library also comes with a __NaiveBayesAnalyzer__, which was trained on a database of movie reviews."
   ]
  },
  {
   "cell_type": "code",
   "execution_count": 34,
   "id": "bf6bc6e2",
   "metadata": {},
   "outputs": [],
   "source": [
    "from textblob.sentiments import NaiveBayesAnalyzer"
   ]
  },
  {
   "cell_type": "markdown",
   "id": "01a34090",
   "metadata": {},
   "source": [
    "The overall sentiment is classified as positive (classification='pos'). The\n",
    "Sentiment object’s p_pos indicates that the TextBlob is 78.51% positive, and its p_neg\n",
    "indicates that the TextBlob is 21.49% negative.\n",
    "\n",
    "Note that these are different values from the analyzer we used before. Which one is better?"
   ]
  },
  {
   "cell_type": "code",
   "execution_count": 38,
   "id": "288417df",
   "metadata": {},
   "outputs": [
    {
     "data": {
      "text/plain": [
       "Sentiment(classification='pos', p_pos=0.7851296677189578, p_neg=0.21487033228104202)"
      ]
     },
     "execution_count": 38,
     "metadata": {},
     "output_type": "execute_result"
    }
   ],
   "source": [
    "blob = TextBlob(text, analyzer=NaiveBayesAnalyzer())\n",
    "\n",
    "blob.sentiment"
   ]
  },
  {
   "cell_type": "code",
   "execution_count": 40,
   "id": "ca7b9b4b",
   "metadata": {},
   "outputs": [
    {
     "name": "stdout",
     "output_type": "stream",
     "text": [
      "Hi! I'm your friendly chatbot :)\n",
      "How are you feeling today?\n",
      "You: good\n",
      "Chatbot: That's great to hear! You seem really happy today!\n",
      "Chatbot: Thanks for sharing! Have a great day!\n"
     ]
    }
   ],
   "source": [
    "def mood_chatbot_bayes():\n",
    "    print(\"Hi! I'm your friendly chatbot :)\")\n",
    "    print(\"How are you feeling today?\")\n",
    "    \n",
    "    # Get user input\n",
    "    user_response = input(\"You: \")\n",
    "    \n",
    "    # Analyze sentiment using TextBlob\n",
    "    blob = TextBlob(user_response, analyzer=NaiveBayesAnalyzer())\n",
    "    sentiment = blob.sentiment.p_pos\n",
    "    \n",
    "    # Evaluate the sentiment and respond accordingly\n",
    "    if sentiment > 0.5:\n",
    "        print(\"Chatbot: That's great to hear! You seem really happy today!\")\n",
    "    elif sentiment > 0:\n",
    "        print(\"Chatbot: Sounds like you're doing pretty well!\")\n",
    "    elif sentiment == 0:\n",
    "        print(\"Chatbot: Hmm, I can't quite tell how you're feeling. Neutral, maybe?\")\n",
    "    else:\n",
    "        print(\"Chatbot: Oh no! It seems like you're feeling a bit down. I'm here if you want to talk.\")\n",
    "\n",
    "    print(\"Chatbot: Thanks for sharing! Have a great day!\")\n",
    "\n",
    "# Run the chatbot\n",
    "mood_chatbot_bayes()\n"
   ]
  },
  {
   "cell_type": "markdown",
   "id": "62dac601",
   "metadata": {},
   "source": [
    "### Spell checking and correction"
   ]
  },
  {
   "cell_type": "code",
   "execution_count": 42,
   "id": "79ebf576",
   "metadata": {},
   "outputs": [
    {
     "data": {
      "text/plain": [
       "[('they', 0.57), ('their', 0.43)]"
      ]
     },
     "execution_count": 42,
     "metadata": {},
     "output_type": "execute_result"
    }
   ],
   "source": [
    "%precision 2\n",
    "\n",
    "word = Word('theyr')\n",
    "\n",
    "word.spellcheck()"
   ]
  },
  {
   "cell_type": "code",
   "execution_count": 43,
   "id": "1b6520c0",
   "metadata": {},
   "outputs": [
    {
     "data": {
      "text/plain": [
       "'they'"
      ]
     },
     "execution_count": 43,
     "metadata": {},
     "output_type": "execute_result"
    }
   ],
   "source": [
    "#This just chooses the word with the highest value as 'correct'\n",
    "#In this case it'll be 'they'\n",
    "word.correct() "
   ]
  },
  {
   "cell_type": "code",
   "execution_count": 44,
   "id": "b9be60b8",
   "metadata": {},
   "outputs": [
    {
     "data": {
      "text/plain": [
       "TextBlob(\"The sentence has misspelled words.\")"
      ]
     },
     "execution_count": 44,
     "metadata": {},
     "output_type": "execute_result"
    }
   ],
   "source": [
    "#Can do with whole sentences also\n",
    "sentence = TextBlob('Ths sentense has missplled wrds.')\n",
    "\n",
    "sentence.correct()"
   ]
  },
  {
   "cell_type": "code",
   "execution_count": 46,
   "id": "8d94213a",
   "metadata": {},
   "outputs": [
    {
     "name": "stdout",
     "output_type": "stream",
     "text": [
      "Hi! I'm your chatbot. Let's chat!\n",
      "If I notice any spelling mistakes, I'll suggest corrections.\n",
      "Type 'exit' anytime to end the chat.\n",
      "\n",
      "You: forward 10\n",
      "Chatbot: Looks good! No errors detected.\n",
      "Chatbot: Thanks for sharing! What else is on your mind?\n",
      "\n",
      "You: forwrd 10\n",
      "Chatbot: Did you mean: 'forward 10'?\n",
      "Please type 'yes' if correct, or 'no' to keep your original text: yes\n",
      "Chatbot: Great! Let's continue.\n",
      "Chatbot: Thanks for sharing! What else is on your mind?\n",
      "\n",
      "You: exit\n",
      "Chatbot: Goodbye! Have a great day!\n"
     ]
    }
   ],
   "source": [
    "def error_checking_chatbot():\n",
    "    print(\"Hi! I'm your chatbot. Let's chat!\")\n",
    "    print(\"If I notice any spelling mistakes, I'll suggest corrections.\")\n",
    "    print(\"Type 'exit' anytime to end the chat.\\n\")\n",
    "    \n",
    "    while True:\n",
    "        user_input = input(\"You: \")\n",
    "        \n",
    "        # Exit condition\n",
    "        if user_input.lower() == \"exit\":\n",
    "            print(\"Chatbot: Goodbye! Have a great day!\")\n",
    "            break\n",
    "        \n",
    "        # Create a TextBlob for the input\n",
    "        blob = TextBlob(user_input)\n",
    "        \n",
    "        # Correct the input\n",
    "        corrected_input = blob.correct()\n",
    "        \n",
    "        # Check if correction is needed\n",
    "        if str(blob) != str(corrected_input):\n",
    "            print(f\"Chatbot: Did you mean: '{corrected_input}'?\")\n",
    "            confirmation = input(\"Please type 'yes' if correct, or 'no' to keep your original text: \").strip().lower()\n",
    "            \n",
    "            if confirmation == \"yes\":\n",
    "                print(\"Chatbot: Great! Let's continue.\")\n",
    "            else:\n",
    "                print(\"Chatbot: No problem, I'll keep your original input.\")\n",
    "        else:\n",
    "            print(\"Chatbot: Looks good! No errors detected.\")\n",
    "        \n",
    "        print(\"Chatbot: Thanks for sharing! What else is on your mind?\\n\")\n",
    "\n",
    "# Run the chatbot\n",
    "error_checking_chatbot()\n"
   ]
  }
 ],
 "metadata": {
  "kernelspec": {
   "display_name": "Python 3 (ipykernel)",
   "language": "python",
   "name": "python3"
  },
  "language_info": {
   "codemirror_mode": {
    "name": "ipython",
    "version": 3
   },
   "file_extension": ".py",
   "mimetype": "text/x-python",
   "name": "python",
   "nbconvert_exporter": "python",
   "pygments_lexer": "ipython3",
   "version": "3.11.7"
  }
 },
 "nbformat": 4,
 "nbformat_minor": 5
}
