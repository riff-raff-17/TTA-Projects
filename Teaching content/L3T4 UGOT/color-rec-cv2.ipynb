{
 "cells": [
  {
   "cell_type": "markdown",
   "metadata": {},
   "source": [
    "## Color Recognition with OpenCV\n",
    "\n",
    "Use the color recognition model from the UGOT to scan for colors and display in cv2 window.\n",
    "\n",
    "Might be hard for the students to download and install all the packages."
   ]
  },
  {
   "cell_type": "code",
   "execution_count": null,
   "metadata": {},
   "outputs": [],
   "source": [
    "from ugot import ugot\n",
    "import time\n",
    "import cv2\n",
    "import numpy as np\n",
    "from IPython.display import display, clear_output\n",
    "from PIL import Image\n",
    "got = ugot.UGOT()\n",
    "got.initialize('192.168.1.201')"
   ]
  },
  {
   "cell_type": "code",
   "execution_count": null,
   "metadata": {},
   "outputs": [],
   "source": [
    "got.load_models(['color_recognition'])\n",
    "\n",
    "while True:\n",
    "    print(f\"\\r'-------:' {got.get_color_total_info()}     \", end =\"\")\n",
    "    time.sleep(0.5)"
   ]
  },
  {
   "cell_type": "code",
   "execution_count": null,
   "metadata": {},
   "outputs": [],
   "source": [
    "got.load_models(['color_recognition'])\n",
    "got.open_camera()\n",
    "\n",
    "try: \n",
    "    while True:\n",
    "        frame = got.read_camera_data()\n",
    "\n",
    "        # If no camera, breaks the program\n",
    "        if frame is None:\n",
    "            break\n",
    "\n",
    "        # Turns it into a numpy array\n",
    "        nparr = np.frombuffer(frame, np.uint8)\n",
    "        data = cv2.imdecode(nparr,cv2.IMREAD_COLOR)\n",
    "\n",
    "        if data is None:\n",
    "            break\n",
    "\n",
    "        # Flip image \n",
    "        frame = cv2.flip(data, 1)\n",
    "\n",
    "        cv2.putText(frame, \n",
    "            str(got.get_color_total_info()), \n",
    "            (50, 50),               # Position (x, y)\n",
    "            cv2.FONT_HERSHEY_SIMPLEX, \n",
    "            1,                      # Font scale\n",
    "            (255, 255, 255),        # Color (white)\n",
    "            2,                      # Thickness\n",
    "            cv2.LINE_AA)\n",
    "\n",
    "        # Display in Jupyter notebook\n",
    "        frameRGB = cv2.cvtColor(frame, cv2.COLOR_BGR2RGB) \n",
    "        img = Image.fromarray(frameRGB)\n",
    "        clear_output(wait=True)  # Clears previous output\n",
    "        display(img)\n",
    "\n",
    "except KeyboardInterrupt:\n",
    "    cv2.destroyAllWindows()\n"
   ]
  },
  {
   "cell_type": "code",
   "execution_count": null,
   "metadata": {},
   "outputs": [],
   "source": []
  }
 ],
 "metadata": {
  "kernelspec": {
   "display_name": "TTA",
   "language": "python",
   "name": "python3"
  },
  "language_info": {
   "codemirror_mode": {
    "name": "ipython",
    "version": 3
   },
   "file_extension": ".py",
   "mimetype": "text/x-python",
   "name": "python",
   "nbconvert_exporter": "python",
   "pygments_lexer": "ipython3",
   "version": "3.11.11"
  }
 },
 "nbformat": 4,
 "nbformat_minor": 2
}
