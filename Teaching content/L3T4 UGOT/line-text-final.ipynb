{
 "cells": [
  {
   "cell_type": "markdown",
   "metadata": {},
   "source": [
    "## Final Project Idea\n",
    "\n",
    "Use the AIMS grid and have the Mecanum Wheel vehicle:\n",
    "- Follow the line\n",
    "- Use the IR sensor to stop when it sees the sign\n",
    "- Read the sign with text recognition"
   ]
  },
  {
   "cell_type": "code",
   "execution_count": null,
   "metadata": {},
   "outputs": [
    {
     "name": "stdout",
     "output_type": "stream",
     "text": [
      "192.168.1.235:50051\n"
     ]
    }
   ],
   "source": [
    "from ugot import ugot\n",
    "got = ugot.UGOT()\n",
    "got.initialize('192.168.1.235')\n"
   ]
  },
  {
   "cell_type": "code",
   "execution_count": null,
   "metadata": {},
   "outputs": [
    {
     "name": "stdout",
     "output_type": "stream",
     "text": [
      "[288, 1, 0, 0], Stop, 17.9                         "
     ]
    }
   ],
   "source": [
    "got.load_models(['line_recognition', 'word_recognition'])\n",
    "got.set_track_recognition_line(0)\n",
    "\n",
    "while True:\n",
    "    try:\n",
    "        a = got.get_single_track_total_info()\n",
    "        word = got.get_words_result()\n",
    "        distance = got.read_distance_data(21)\n",
    "        angle = int(0.18 * a[0])\n",
    "        print(f'\\r{a}, {word}, {distance}           ', end='')\n",
    "        if distance < 20:\n",
    "            if word == 'Right':\n",
    "                got.mecanum_turn_speed_times(turn=3, speed=45, times=90, unit=2)\n",
    "            elif word == 'Left':\n",
    "                got.mecanum_turn_speed_times(turn=2, speed=45, times=90, unit=2)\n",
    "            elif word == 'Stop':\n",
    "                break\n",
    "        else:\n",
    "            got.mecanum_move_xyz(x_speed=0, y_speed=10, z_speed=angle)\n",
    "    except KeyboardInterrupt:\n",
    "        break\n",
    "\n",
    "got.mecanum_stop()"
   ]
  },
  {
   "cell_type": "code",
   "execution_count": null,
   "metadata": {},
   "outputs": [
    {
     "name": "stdout",
     "output_type": "stream",
     "text": [
      "[288, 1, 0, 0], Stop, 17.9                         "
     ]
    }
   ],
   "source": [
    "got.load_models(['line_recognition', 'word_recognition'])\n",
    "got.set_track_recognition_line(0)\n",
    "\n",
    "while True:\n",
    "    try:\n",
    "        a = got.get_single_track_total_info()\n",
    "        word = got.get_words_result()\n",
    "        distance = got.read_distance_data(21)\n",
    "        angle = int(0.18 * a[0])\n",
    "        print(f'\\r{a}, {word}, {distance}           ', end='')\n",
    "        if distance < 20:\n",
    "            if word == 'Right':\n",
    "                got.mecanum_turn_speed_times(turn=3, speed=45, times=90, unit=2)\n",
    "            elif word == 'Left':\n",
    "                got.mecanum_turn_speed_times(turn=2, speed=45, times=90, unit=2)\n",
    "            elif word == 'Stop':\n",
    "                break\n",
    "        else:\n",
    "            got.mecanum_move_xyz(x_speed=0, y_speed=10, z_speed=angle)\n",
    "    except KeyboardInterrupt:\n",
    "        break\n",
    "\n",
    "got.mecanum_stop()"
   ]
  }
 ],
 "metadata": {
  "kernelspec": {
   "display_name": "TTA",
   "language": "python",
   "name": "python3"
  },
  "language_info": {
   "codemirror_mode": {
    "name": "ipython",
    "version": 3
   },
   "file_extension": ".py",
   "mimetype": "text/x-python",
   "name": "python",
   "nbconvert_exporter": "python",
   "pygments_lexer": "ipython3",
   "version": "3.11.11"
  }
 },
 "nbformat": 4,
 "nbformat_minor": 2
}
