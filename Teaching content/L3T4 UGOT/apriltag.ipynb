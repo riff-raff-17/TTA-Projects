{
 "cells": [
  {
   "cell_type": "code",
   "execution_count": null,
   "id": "50842c6f",
   "metadata": {},
   "outputs": [],
   "source": [
    "from ugot import ugot\n",
    "import time\n",
    "got = ugot.UGOT()\n",
    "got.initialize('192.168.1.214')"
   ]
  },
  {
   "cell_type": "code",
   "execution_count": null,
   "id": "efc03e76",
   "metadata": {},
   "outputs": [],
   "source": [
    "'''Checking distance and center of apriltag'''\n",
    "\n",
    "got.load_models(['apriltag_qrcode'])\n",
    "\n",
    "while True:\n",
    "    try:\n",
    "        qr_info = got.get_apriltag_total_info()\n",
    "\n",
    "        if qr_info:\n",
    "            id = qr_info[0][0]\n",
    "            center_x = qr_info[0][1]\n",
    "            distance5 = qr_info[0][6]\n",
    "        else:\n",
    "            id = None\n",
    "            center_x = None\n",
    "            distance5 = None\n",
    "\n",
    "        print(f'\\rid: {id} | Distance: {distance5} | CenterX: {center_x}         ', end='')\n",
    "        time.sleep(0.5)\n",
    "    except KeyboardInterrupt:\n",
    "        print('\\nStopping')\n",
    "        break\n",
    "\n"
   ]
  },
  {
   "cell_type": "code",
   "execution_count": null,
   "id": "838b3d0d",
   "metadata": {},
   "outputs": [],
   "source": []
  }
 ],
 "metadata": {
  "kernelspec": {
   "display_name": "TTA",
   "language": "python",
   "name": "python3"
  },
  "language_info": {
   "codemirror_mode": {
    "name": "ipython",
    "version": 3
   },
   "file_extension": ".py",
   "mimetype": "text/x-python",
   "name": "python",
   "nbconvert_exporter": "python",
   "pygments_lexer": "ipython3",
   "version": "3.12.9"
  }
 },
 "nbformat": 4,
 "nbformat_minor": 5
}
