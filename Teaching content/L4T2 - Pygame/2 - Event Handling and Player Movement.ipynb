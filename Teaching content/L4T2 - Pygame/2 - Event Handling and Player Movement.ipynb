{
 "cells": [
  {
   "cell_type": "code",
   "execution_count": 1,
   "id": "0291a664",
   "metadata": {},
   "outputs": [
    {
     "name": "stdout",
     "output_type": "stream",
     "text": [
      "pygame 2.5.2 (SDL 2.28.3, Python 3.11.7)\n",
      "Hello from the pygame community. https://www.pygame.org/contribute.html\n"
     ]
    }
   ],
   "source": [
    "import pygame\n",
    "\n",
    "pygame.init()\n",
    "\n",
    "screen = pygame.display.set_mode((800, 600))\n",
    "pygame.display.set_caption(\"Player Movement\")\n",
    "\n",
    "WHITE = (255, 255, 255)\n",
    "BLUE = (0, 0, 255)\n",
    "x, y = 100, 100\n",
    "speed = 1\n",
    "\n",
    "running = True\n",
    "while running:\n",
    "    for event in pygame.event.get():\n",
    "        if event.type == pygame.QUIT:\n",
    "            running = False\n",
    "    \n",
    "    keys = pygame.key.get_pressed()\n",
    "    if keys[pygame.K_LEFT]:\n",
    "        x -= speed\n",
    "    if keys[pygame.K_RIGHT]:\n",
    "        x += speed\n",
    "    if keys[pygame.K_UP]:\n",
    "        y -= speed\n",
    "    if keys[pygame.K_DOWN]:\n",
    "        y += speed\n",
    "        \n",
    "\n",
    "\n",
    "    screen.fill(WHITE)\n",
    "    pygame.draw.rect(screen, BLUE, (x, y, 50, 50))\n",
    "    pygame.display.flip()\n",
    "\n",
    "quit()\n"
   ]
  },
  {
   "cell_type": "code",
   "execution_count": 1,
   "id": "82dcef5d",
   "metadata": {},
   "outputs": [
    {
     "name": "stdout",
     "output_type": "stream",
     "text": [
      "pygame 2.5.2 (SDL 2.28.3, Python 3.11.7)\n",
      "Hello from the pygame community. https://www.pygame.org/contribute.html\n"
     ]
    }
   ],
   "source": [
    "import pygame\n",
    "\n",
    "pygame.init()\n",
    "\n",
    "screen = pygame.display.set_mode((800, 600))\n",
    "pygame.display.set_caption(\"Player Movement\")\n",
    "\n",
    "WHITE = (255, 255, 255)\n",
    "BLUE = (0, 0, 255)\n",
    "x, y = 100, 100\n",
    "speed = 5\n",
    "\n",
    "#tickrate\n",
    "clock = pygame.time.Clock()\n",
    "\n",
    "running = True\n",
    "while running:\n",
    "    for event in pygame.event.get():\n",
    "        if event.type == pygame.QUIT:\n",
    "            running = False\n",
    "    \n",
    "    keys = pygame.key.get_pressed()\n",
    "    if keys[pygame.K_LEFT]:\n",
    "        x -= speed\n",
    "    if keys[pygame.K_RIGHT]:\n",
    "        x += speed\n",
    "    if keys[pygame.K_UP]:\n",
    "        y -= speed\n",
    "    if keys[pygame.K_DOWN]:\n",
    "        y += speed\n",
    "        \n",
    "    # Wrap around the edges of the screen\n",
    "    if x < 0:\n",
    "        x = 800\n",
    "    elif x > 800:\n",
    "        x = 0\n",
    "\n",
    "    if y < 0:\n",
    "        y = 600\n",
    "    elif y > 600:\n",
    "        y = 0\n",
    "\n",
    "    screen.fill(WHITE)\n",
    "    pygame.draw.rect(screen, BLUE, (x, y, 50, 50))\n",
    "    pygame.display.flip()\n",
    "    \n",
    "    #60 fps\n",
    "    clock.tick(60)\n",
    "\n",
    "quit()\n"
   ]
  }
 ],
 "metadata": {
  "kernelspec": {
   "display_name": "Python 3 (ipykernel)",
   "language": "python",
   "name": "python3"
  },
  "language_info": {
   "codemirror_mode": {
    "name": "ipython",
    "version": 3
   },
   "file_extension": ".py",
   "mimetype": "text/x-python",
   "name": "python",
   "nbconvert_exporter": "python",
   "pygments_lexer": "ipython3",
   "version": "3.11.7"
  }
 },
 "nbformat": 4,
 "nbformat_minor": 5
}
